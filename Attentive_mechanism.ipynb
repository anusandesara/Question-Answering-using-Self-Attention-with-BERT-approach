{
  "nbformat": 4,
  "nbformat_minor": 0,
  "metadata": {
    "kernelspec": {
      "display_name": "Python 3",
      "language": "python",
      "name": "python3"
    },
    "language_info": {
      "codemirror_mode": {
        "name": "ipython",
        "version": 3
      },
      "file_extension": ".py",
      "mimetype": "text/x-python",
      "name": "python",
      "nbconvert_exporter": "python",
      "pygments_lexer": "ipython3",
      "version": "3.7.3"
    },
    "colab": {
      "name": "Attentive mechanism.ipynb",
      "provenance": [],
      "collapsed_sections": []
    }
  },
  "cells": [
    {
      "cell_type": "markdown",
      "metadata": {
        "id": "SiGzJkRH1bdZ"
      },
      "source": [
        "**Problem Statement**:\n",
        "-------------------------\n",
        "\n",
        "Predicting the right answer for the given question and context."
      ]
    },
    {
      "cell_type": "code",
      "metadata": {
        "id": "VNKVPOE81bdZ",
        "outputId": "1ca7d712-8071-4ff8-a5b9-327e89fab149"
      },
      "source": [
        "# importing all necessary files\n",
        "import warnings\n",
        "warnings.filterwarnings(\"ignore\")\n",
        "import pandas as pd\n",
        "import numpy as np\n",
        "from textblob import TextBlob\n",
        "import matplotlib.pyplot as plt\n",
        "%matplotlib inline\n",
        "import seaborn as sns\n",
        "from tqdm import tqdm\n",
        "import json\n",
        "import re\n",
        "import nltk\n",
        "import csv\n",
        "\n",
        "\n",
        "from langdetect import detect\n",
        "from pickle import dump,load\n",
        "\n",
        "import tensorflow as tf\n",
        "import sys\n",
        "import datetime\n",
        "import os\n",
        "import six\n",
        "\n",
        "from collections import Counter\n",
        "import string\n",
        "import re\n",
        "import sys"
      ],
      "execution_count": null,
      "outputs": [
        {
          "output_type": "stream",
          "text": [
            "WARNING: Logging before flag parsing goes to stderr.\n",
            "W0824 19:10:22.356319 17008 __init__.py:690] \n",
            "\n",
            "  TensorFlow's `tf-nightly` package will soon be updated to TensorFlow 2.0.\n",
            "\n",
            "  Please upgrade your code to TensorFlow 2.0:\n",
            "    * https://www.tensorflow.org/beta/guide/migration_guide\n",
            "\n",
            "  Or install the latest stable TensorFlow 1.X release:\n",
            "    * `pip install -U \"tensorflow==1.*\"`\n",
            "\n",
            "  Otherwise your code may be broken by the change.\n",
            "\n",
            "  \n"
          ],
          "name": "stderr"
        }
      ]
    },
    {
      "cell_type": "markdown",
      "metadata": {
        "id": "5FkOphOc1bda"
      },
      "source": [
        "## 1. Preprocessing"
      ]
    },
    {
      "cell_type": "code",
      "metadata": {
        "id": "9cNffbOY1bdb"
      },
      "source": [
        "train = pd.read_json(\"SQuAD/train-v1.1.json\")\n",
        "dev = pd.read_json(\"SQuAD/dev-v1.1.json\")\n",
        "\n",
        "print(train.shape)\n",
        "print(dev.shape)"
      ],
      "execution_count": null,
      "outputs": []
    },
    {
      "cell_type": "code",
      "metadata": {
        "scrolled": false,
        "id": "mrvDDyli1bdb",
        "outputId": "6fb1ef7b-c447-468d-90ee-af4fcdbf1cb6"
      },
      "source": [
        "dev.head()"
      ],
      "execution_count": null,
      "outputs": [
        {
          "output_type": "execute_result",
          "data": {
            "text/html": [
              "<div>\n",
              "<style scoped>\n",
              "    .dataframe tbody tr th:only-of-type {\n",
              "        vertical-align: middle;\n",
              "    }\n",
              "\n",
              "    .dataframe tbody tr th {\n",
              "        vertical-align: top;\n",
              "    }\n",
              "\n",
              "    .dataframe thead th {\n",
              "        text-align: right;\n",
              "    }\n",
              "</style>\n",
              "<table border=\"1\" class=\"dataframe\">\n",
              "  <thead>\n",
              "    <tr style=\"text-align: right;\">\n",
              "      <th></th>\n",
              "      <th>data</th>\n",
              "      <th>version</th>\n",
              "    </tr>\n",
              "  </thead>\n",
              "  <tbody>\n",
              "    <tr>\n",
              "      <th>0</th>\n",
              "      <td>{'title': 'Super_Bowl_50', 'paragraphs': [{'co...</td>\n",
              "      <td>1.1</td>\n",
              "    </tr>\n",
              "    <tr>\n",
              "      <th>1</th>\n",
              "      <td>{'title': 'Warsaw', 'paragraphs': [{'context':...</td>\n",
              "      <td>1.1</td>\n",
              "    </tr>\n",
              "    <tr>\n",
              "      <th>2</th>\n",
              "      <td>{'title': 'Normans', 'paragraphs': [{'context'...</td>\n",
              "      <td>1.1</td>\n",
              "    </tr>\n",
              "    <tr>\n",
              "      <th>3</th>\n",
              "      <td>{'title': 'Nikola_Tesla', 'paragraphs': [{'con...</td>\n",
              "      <td>1.1</td>\n",
              "    </tr>\n",
              "    <tr>\n",
              "      <th>4</th>\n",
              "      <td>{'title': 'Computational_complexity_theory', '...</td>\n",
              "      <td>1.1</td>\n",
              "    </tr>\n",
              "  </tbody>\n",
              "</table>\n",
              "</div>"
            ],
            "text/plain": [
              "                                                data  version\n",
              "0  {'title': 'Super_Bowl_50', 'paragraphs': [{'co...      1.1\n",
              "1  {'title': 'Warsaw', 'paragraphs': [{'context':...      1.1\n",
              "2  {'title': 'Normans', 'paragraphs': [{'context'...      1.1\n",
              "3  {'title': 'Nikola_Tesla', 'paragraphs': [{'con...      1.1\n",
              "4  {'title': 'Computational_complexity_theory', '...      1.1"
            ]
          },
          "metadata": {
            "tags": []
          },
          "execution_count": 4
        }
      ]
    },
    {
      "cell_type": "code",
      "metadata": {
        "scrolled": true,
        "id": "FsmS5M-G1bdb"
      },
      "source": [
        "# getting train data and dev data into csv file\n",
        "\n",
        "contexts = []\n",
        "questions = []\n",
        "answers_text = []\n",
        "answers_start = []\n",
        "title = []\n",
        "for i in range(train.shape[0]):\n",
        "    topic = train.iloc[i,0]['paragraphs']\n",
        "    title_ = train.iloc[i,0]['title']\n",
        "    for sub_para in topic:\n",
        "        for q_a in sub_para['qas']:\n",
        "            questions.append(q_a['question'])\n",
        "            if len(q_a['answers'])>0 :\n",
        "                answers_start.append(q_a['answers'][0]['answer_start']) \n",
        "                answers_text.append(q_a['answers'][0]['text'])\n",
        "            else:\n",
        "                answers_start.append(None)\n",
        "                answers_text.append(None)\n",
        "            contexts.append(sub_para['context'])\n",
        "            title.append(title_)\n",
        "            \n",
        "# test data\n",
        "\n",
        "test_contexts = []\n",
        "test_questions = []\n",
        "test_answers_text = []\n",
        "test_answers_start = []\n",
        "test_title = []\n",
        "for i in range(dev.shape[0]):\n",
        "    topic = dev.iloc[i,0]['paragraphs']\n",
        "    title_ = dev.iloc[i,0]['title']\n",
        "    for sub_para in topic:\n",
        "        for q_a in sub_para['qas']:\n",
        "            test_questions.append(q_a['question'])\n",
        "            if len(q_a['answers'])>0 :\n",
        "                test_answers_start.append(q_a['answers'][0]['answer_start']) \n",
        "                test_answers_text.append(q_a['answers'][0]['text'])\n",
        "            else:\n",
        "                test_answers_start.append(None)\n",
        "                test_answers_text.append(None)\n",
        "            test_contexts.append(sub_para['context'])\n",
        "            test_title.append(title_)"
      ],
      "execution_count": null,
      "outputs": []
    },
    {
      "cell_type": "code",
      "metadata": {
        "id": "EWY34h7R1bdb",
        "outputId": "3472757e-6156-42ee-8508-cece1a9db634"
      },
      "source": [
        "train = pd.DataFrame({\"context\":contexts, \"question\": questions, \"answer_start\": answers_start, \"text\": answers_text,'title':title})\n",
        "train.dropna(inplace=True)\n",
        "\n",
        "train.info()"
      ],
      "execution_count": null,
      "outputs": [
        {
          "output_type": "stream",
          "text": [
            "<class 'pandas.core.frame.DataFrame'>\n",
            "Int64Index: 87599 entries, 0 to 87598\n",
            "Data columns (total 5 columns):\n",
            "context         87599 non-null object\n",
            "question        87599 non-null object\n",
            "answer_start    87599 non-null int64\n",
            "text            87599 non-null object\n",
            "title           87599 non-null object\n",
            "dtypes: int64(1), object(4)\n",
            "memory usage: 4.0+ MB\n"
          ],
          "name": "stdout"
        }
      ]
    },
    {
      "cell_type": "code",
      "metadata": {
        "scrolled": true,
        "id": "3azNL7Sg1bdc",
        "outputId": "95e7c9e0-0204-4cc6-cee3-e8b04c4746a2"
      },
      "source": [
        "dev = pd.DataFrame({\"context\":test_contexts, \"question\": test_questions, \"answer_start\": test_answers_start, \"text\": test_answers_text,'title':test_title})\n",
        "dev.dropna(inplace=True)\n",
        "dev.info()"
      ],
      "execution_count": null,
      "outputs": [
        {
          "output_type": "stream",
          "text": [
            "<class 'pandas.core.frame.DataFrame'>\n",
            "Int64Index: 10570 entries, 0 to 10569\n",
            "Data columns (total 5 columns):\n",
            "context         10570 non-null object\n",
            "question        10570 non-null object\n",
            "answer_start    10570 non-null int64\n",
            "text            10570 non-null object\n",
            "title           10570 non-null object\n",
            "dtypes: int64(1), object(4)\n",
            "memory usage: 495.5+ KB\n"
          ],
          "name": "stdout"
        }
      ]
    },
    {
      "cell_type": "code",
      "metadata": {
        "id": "iMpoluac1bdc",
        "outputId": "109e4820-6d08-44a7-c571-e74f5d491ce9"
      },
      "source": [
        "train.head()"
      ],
      "execution_count": null,
      "outputs": [
        {
          "output_type": "execute_result",
          "data": {
            "text/html": [
              "<div>\n",
              "<style scoped>\n",
              "    .dataframe tbody tr th:only-of-type {\n",
              "        vertical-align: middle;\n",
              "    }\n",
              "\n",
              "    .dataframe tbody tr th {\n",
              "        vertical-align: top;\n",
              "    }\n",
              "\n",
              "    .dataframe thead th {\n",
              "        text-align: right;\n",
              "    }\n",
              "</style>\n",
              "<table border=\"1\" class=\"dataframe\">\n",
              "  <thead>\n",
              "    <tr style=\"text-align: right;\">\n",
              "      <th></th>\n",
              "      <th>context</th>\n",
              "      <th>question</th>\n",
              "      <th>answer_start</th>\n",
              "      <th>text</th>\n",
              "      <th>title</th>\n",
              "    </tr>\n",
              "  </thead>\n",
              "  <tbody>\n",
              "    <tr>\n",
              "      <th>0</th>\n",
              "      <td>Architecturally, the school has a Catholic cha...</td>\n",
              "      <td>To whom did the Virgin Mary allegedly appear i...</td>\n",
              "      <td>515</td>\n",
              "      <td>Saint Bernadette Soubirous</td>\n",
              "      <td>University_of_Notre_Dame</td>\n",
              "    </tr>\n",
              "    <tr>\n",
              "      <th>1</th>\n",
              "      <td>Architecturally, the school has a Catholic cha...</td>\n",
              "      <td>What is in front of the Notre Dame Main Building?</td>\n",
              "      <td>188</td>\n",
              "      <td>a copper statue of Christ</td>\n",
              "      <td>University_of_Notre_Dame</td>\n",
              "    </tr>\n",
              "    <tr>\n",
              "      <th>2</th>\n",
              "      <td>Architecturally, the school has a Catholic cha...</td>\n",
              "      <td>The Basilica of the Sacred heart at Notre Dame...</td>\n",
              "      <td>279</td>\n",
              "      <td>the Main Building</td>\n",
              "      <td>University_of_Notre_Dame</td>\n",
              "    </tr>\n",
              "    <tr>\n",
              "      <th>3</th>\n",
              "      <td>Architecturally, the school has a Catholic cha...</td>\n",
              "      <td>What is the Grotto at Notre Dame?</td>\n",
              "      <td>381</td>\n",
              "      <td>a Marian place of prayer and reflection</td>\n",
              "      <td>University_of_Notre_Dame</td>\n",
              "    </tr>\n",
              "    <tr>\n",
              "      <th>4</th>\n",
              "      <td>Architecturally, the school has a Catholic cha...</td>\n",
              "      <td>What sits on top of the Main Building at Notre...</td>\n",
              "      <td>92</td>\n",
              "      <td>a golden statue of the Virgin Mary</td>\n",
              "      <td>University_of_Notre_Dame</td>\n",
              "    </tr>\n",
              "  </tbody>\n",
              "</table>\n",
              "</div>"
            ],
            "text/plain": [
              "                                             context  \\\n",
              "0  Architecturally, the school has a Catholic cha...   \n",
              "1  Architecturally, the school has a Catholic cha...   \n",
              "2  Architecturally, the school has a Catholic cha...   \n",
              "3  Architecturally, the school has a Catholic cha...   \n",
              "4  Architecturally, the school has a Catholic cha...   \n",
              "\n",
              "                                            question  answer_start  \\\n",
              "0  To whom did the Virgin Mary allegedly appear i...           515   \n",
              "1  What is in front of the Notre Dame Main Building?           188   \n",
              "2  The Basilica of the Sacred heart at Notre Dame...           279   \n",
              "3                  What is the Grotto at Notre Dame?           381   \n",
              "4  What sits on top of the Main Building at Notre...            92   \n",
              "\n",
              "                                      text                     title  \n",
              "0               Saint Bernadette Soubirous  University_of_Notre_Dame  \n",
              "1                a copper statue of Christ  University_of_Notre_Dame  \n",
              "2                        the Main Building  University_of_Notre_Dame  \n",
              "3  a Marian place of prayer and reflection  University_of_Notre_Dame  \n",
              "4       a golden statue of the Virgin Mary  University_of_Notre_Dame  "
            ]
          },
          "metadata": {
            "tags": []
          },
          "execution_count": 10
        }
      ]
    },
    {
      "cell_type": "markdown",
      "metadata": {
        "id": "Nedu52Ky1bdd"
      },
      "source": [
        "## 2. Data Preprocessing"
      ]
    },
    {
      "cell_type": "markdown",
      "metadata": {
        "id": "uBkRdWm61bdd"
      },
      "source": [
        "### 2.1 Text data cleaning"
      ]
    },
    {
      "cell_type": "code",
      "metadata": {
        "id": "xKMmhpAp1bdd"
      },
      "source": [
        "def decontracted(phrase):\n",
        "    \"\"\"\n",
        "    This function remooves punctuation from given sentence.\n",
        "    \"\"\"\n",
        "    # specific\n",
        "    phrase = re.sub(r\"won't\", \"will not\", phrase)\n",
        "    phrase = re.sub(r\"can\\'t\", \"can not\", phrase)\n",
        "\n",
        "    # general\n",
        "    phrase = re.sub(r\"n\\'t\", \" not\", phrase)\n",
        "    phrase = re.sub(r\"\\'re\", \" are\", phrase)\n",
        "    phrase = re.sub(r\"\\'s\", \" is\", phrase)\n",
        "    phrase = re.sub(r\"\\'d\", \" would\", phrase)\n",
        "    phrase = re.sub(r\"\\'ll\", \" will\", phrase)\n",
        "    phrase = re.sub(r\"\\'t\", \" not\", phrase)\n",
        "    phrase = re.sub(r\"\\'ve\", \" have\", phrase)\n",
        "    phrase = re.sub(r\"\\'m\", \" am\", phrase)\n",
        "    \n",
        "    # string operation\n",
        "    phrase = phrase.replace('\\\\r', ' ')\n",
        "    phrase = phrase.replace('\\\\\"', ' ')\n",
        "    phrase = phrase.replace('\\\\n', ' ')\n",
        "\n",
        "    phrase = re.sub('[^A-Za-z0-9]+', ' ', phrase.lower())\n",
        "    \n",
        "    return phrase\n",
        "\n",
        "\n",
        "def tokenize(sentence):\n",
        "    \"\"\"\n",
        "    Returns tokenised words.\n",
        "    \"\"\"\n",
        "    return nltk.word_tokenize(sentence)\n",
        "\n",
        "def answer_span(context,ans):\n",
        "    \"\"\"\n",
        "    This funtion returns anwer span start index and end index.\n",
        "    \"\"\"\n",
        "    ans_token = tokenize(ans)\n",
        "    con_token = tokenize(context)\n",
        "    ans_len = len(ans_token)\n",
        "    \n",
        "    if ans_len!=0 and ans_token[0] in con_token:\n",
        "    \n",
        "        indices = [i for i, x in enumerate(con_token) if x == ans_token[0]]\n",
        "        try:\n",
        "\n",
        "            if(len(indices)>1):\n",
        "                start = [i for i in indices if (con_token[i:i+ans_len] == ans_token) ]\n",
        "                end = start[0] + ans_len - 1\n",
        "                return start[0],end\n",
        "\n",
        "            else:\n",
        "                start = con_token.index(ans_token[0])\n",
        "                end = start + ans_len - 1\n",
        "                return start,end\n",
        "        except:\n",
        "            return -1,-1\n",
        "    else:\n",
        "        return -1,-1\n"
      ],
      "execution_count": null,
      "outputs": []
    },
    {
      "cell_type": "markdown",
      "metadata": {
        "id": "Io0YVRs71bdd"
      },
      "source": [
        "1. Context"
      ]
    },
    {
      "cell_type": "code",
      "metadata": {
        "id": "7oz1I_5B1bdd",
        "outputId": "190de6bc-e47e-4560-88b7-8a028d940d7e"
      },
      "source": [
        "# for train data\n",
        "\n",
        "from tqdm import tqdm\n",
        "preprocessed_context = []\n",
        "# tqdm is for printing the status bar\n",
        "for sentance in tqdm(train[\"context\"].values):\n",
        "    sent = decontracted(sentance)\n",
        "    preprocessed_context.append(sent.strip())\n",
        "    \n",
        "train[\"clean_context\"] = preprocessed_context\n",
        "        \n",
        "# for dev data\n",
        "from tqdm import tqdm\n",
        "dev_preprocessed_context = []\n",
        "# tqdm is for printing the status bar\n",
        "for sentance in tqdm(dev[\"context\"].values):\n",
        "    sent = decontracted(sentance)\n",
        "    dev_preprocessed_context.append(sent.strip())\n",
        "    \n",
        "dev[\"clean_context\"] = dev_preprocessed_context"
      ],
      "execution_count": null,
      "outputs": [
        {
          "output_type": "stream",
          "text": [
            "100%|█████████████████████████████████████████████████████████████████████████| 87599/87599 [00:07<00:00, 12266.31it/s]\n",
            "100%|█████████████████████████████████████████████████████████████████████████| 10570/10570 [00:00<00:00, 11661.38it/s]\n"
          ],
          "name": "stderr"
        }
      ]
    },
    {
      "cell_type": "code",
      "metadata": {
        "id": "2O_A8ZGB1bdd",
        "outputId": "f453aa16-6639-4f79-a07e-8533abf6e5f5"
      },
      "source": [
        "preprocessed_context[0]"
      ],
      "execution_count": null,
      "outputs": [
        {
          "output_type": "execute_result",
          "data": {
            "text/plain": [
              "'architecturally the school has a catholic character atop the main building is gold dome is a golden statue of the virgin mary immediately in front of the main building and facing it is a copper statue of christ with arms upraised with the legend venite ad me omnes next to the main building is the basilica of the sacred heart immediately behind the basilica is the grotto a marian place of prayer and reflection it is a replica of the grotto at lourdes france where the virgin mary reputedly appeared to saint bernadette soubirous in 1858 at the end of the main drive and in a direct line that connects through 3 statues and the gold dome is a simple modern stone statue of mary'"
            ]
          },
          "metadata": {
            "tags": []
          },
          "execution_count": 13
        }
      ]
    },
    {
      "cell_type": "markdown",
      "metadata": {
        "id": "ZGWZRVGu1bde"
      },
      "source": [
        "2. Qustions"
      ]
    },
    {
      "cell_type": "code",
      "metadata": {
        "id": "-ogdUhWC1bde",
        "outputId": "d48355c2-b4d2-401f-f996-41fb18819714"
      },
      "source": [
        "# for train data\n",
        "\n",
        "from tqdm import tqdm\n",
        "preprocessed_question = []\n",
        "# tqdm is for printing the status bar\n",
        "for sentance in tqdm(train[\"question\"].values):\n",
        "    sent = decontracted(sentance)\n",
        "    preprocessed_question.append(sent.strip())\n",
        "    \n",
        "train[\"clean_question\"] = preprocessed_question\n",
        "\n",
        "\n",
        "# for dev data\n",
        "    \n",
        "from tqdm import tqdm\n",
        "dev_preprocessed_question = []\n",
        "# tqdm is for printing the status bar\n",
        "for sentance in tqdm(dev[\"question\"].values):\n",
        "    sent = decontracted(sentance)\n",
        "    dev_preprocessed_question.append(sent.strip())\n",
        "\n",
        "dev[\"clean_question\"] = dev_preprocessed_question"
      ],
      "execution_count": null,
      "outputs": [
        {
          "output_type": "stream",
          "text": [
            "100%|█████████████████████████████████████████████████████████████████████████| 87599/87599 [00:01<00:00, 53002.99it/s]\n",
            "100%|█████████████████████████████████████████████████████████████████████████| 10570/10570 [00:00<00:00, 56982.19it/s]\n"
          ],
          "name": "stderr"
        }
      ]
    },
    {
      "cell_type": "code",
      "metadata": {
        "id": "S5LYakku1bdf",
        "outputId": "700fe9ba-3ce8-494f-a395-fb474c888d98"
      },
      "source": [
        "preprocessed_question[:5]"
      ],
      "execution_count": null,
      "outputs": [
        {
          "output_type": "execute_result",
          "data": {
            "text/plain": [
              "['to whom did the virgin mary allegedly appear in 1858 in lourdes france',\n",
              " 'what is in front of the notre dame main building',\n",
              " 'the basilica of the sacred heart at notre dame is beside to which structure',\n",
              " 'what is the grotto at notre dame',\n",
              " 'what sits on top of the main building at notre dame']"
            ]
          },
          "metadata": {
            "tags": []
          },
          "execution_count": 15
        }
      ]
    },
    {
      "cell_type": "markdown",
      "metadata": {
        "id": "8_hc01id1bdf"
      },
      "source": [
        "3. Answers"
      ]
    },
    {
      "cell_type": "code",
      "metadata": {
        "id": "HS3HbkQI1bdf",
        "outputId": "a1bb730c-c49d-4184-b338-6695e00ecacd"
      },
      "source": [
        "# for train data\n",
        "    \n",
        "preprocessed_answer = []\n",
        "# tqdm is for printing the status bar\n",
        "for sentance in tqdm(train[\"text\"].values):\n",
        "    sent = decontracted(sentance)\n",
        "    preprocessed_answer.append(sent.strip())\n",
        "    \n",
        "    \n",
        "train[\"clean_answer\"] = preprocessed_answer\n",
        "\n",
        "# for dev data\n",
        "    \n",
        "dev_preprocessed_answer = []\n",
        "# tqdm is for printing the status bar\n",
        "for sentance in tqdm(dev[\"text\"].values):\n",
        "    sent = decontracted(sentance)\n",
        "    dev_preprocessed_answer.append(sent.strip())\n",
        "    \n",
        "dev[\"clean_answer\"] = dev_preprocessed_answer"
      ],
      "execution_count": null,
      "outputs": [
        {
          "output_type": "stream",
          "text": [
            "100%|█████████████████████████████████████████████████████████████████████████| 87599/87599 [00:01<00:00, 65264.39it/s]\n",
            "100%|█████████████████████████████████████████████████████████████████████████| 10570/10570 [00:00<00:00, 64279.64it/s]\n"
          ],
          "name": "stderr"
        }
      ]
    },
    {
      "cell_type": "markdown",
      "metadata": {
        "id": "O6_VctrW1bdf"
      },
      "source": [
        "### 2.2 Language Detection"
      ]
    },
    {
      "cell_type": "markdown",
      "metadata": {
        "id": "MAP4OZMR1bdf"
      },
      "source": [
        "The language of the message is iden-tified and non-English messages are discarded."
      ]
    },
    {
      "cell_type": "code",
      "metadata": {
        "id": "Os_JSlgA1bdg"
      },
      "source": [
        "# function for language detction\n",
        "\n",
        "def get_language(string):\n",
        "    \n",
        "    \"\"\"\n",
        "    This function returns the language of string. Uses Textblob which internally uses google API. \n",
        "    \n",
        "    This creates problem when you have to check for too many values.\n",
        "    \n",
        "    You will get --> 'HTTPError: HTTP Error 429: Too Many Requests'\n",
        "    \n",
        "    @return - language\n",
        "    \n",
        "    \"\"\"\n",
        "    return TextBlob(string).detect_language()\n",
        "\n",
        "\n",
        "def language(string):\n",
        "    \"\"\"\n",
        "    Not as accurate as TextBlob but gets our work done.\n",
        "    \n",
        "    @return - language\n",
        "    \n",
        "    \"\"\"\n",
        "    return detect(string)"
      ],
      "execution_count": null,
      "outputs": []
    },
    {
      "cell_type": "code",
      "metadata": {
        "id": "DvLh_Q_d1bdg",
        "outputId": "03720c09-4774-44ee-8251-91ea1befae30"
      },
      "source": [
        "# for train data\n",
        "\n",
        "train[\"language\"] = train[\"clean_context\"].apply(language)\n",
        "print(np.unique(train[\"language\"]))\n",
        "\n",
        "# for dev data\n",
        "\n",
        "dev[\"language\"] = dev[\"clean_context\"].apply(language)\n",
        "print(np.unique(dev[\"language\"]))"
      ],
      "execution_count": null,
      "outputs": [
        {
          "output_type": "stream",
          "text": [
            "['en' 'it' 'pt']\n",
            "['en']\n"
          ],
          "name": "stdout"
        }
      ]
    },
    {
      "cell_type": "code",
      "metadata": {
        "id": "eESnYPMM1bdg",
        "outputId": "032acc0c-cb24-4985-d436-70bdee21132c"
      },
      "source": [
        "train = train[train[\"language\"] == 'en']\n",
        "print(train.shape)\n",
        "\n",
        "dev = dev[dev[\"language\"] == 'en']\n",
        "print(dev.shape)"
      ],
      "execution_count": null,
      "outputs": [
        {
          "output_type": "stream",
          "text": [
            "(87595, 9)\n",
            "(10570, 9)\n"
          ],
          "name": "stdout"
        }
      ]
    },
    {
      "cell_type": "code",
      "metadata": {
        "id": "zTRBePy11bdh",
        "outputId": "d862aec9-bac8-4e11-86f6-d3f16e1c34ad"
      },
      "source": [
        "train.info()"
      ],
      "execution_count": null,
      "outputs": [
        {
          "output_type": "stream",
          "text": [
            "<class 'pandas.core.frame.DataFrame'>\n",
            "Int64Index: 87388 entries, 0 to 87598\n",
            "Data columns (total 11 columns):\n",
            "context           87388 non-null object\n",
            "question          87388 non-null object\n",
            "answer_start      87388 non-null int64\n",
            "text              87388 non-null object\n",
            "title             87388 non-null object\n",
            "clean_context     87388 non-null object\n",
            "clean_question    87388 non-null object\n",
            "clean_answer      87388 non-null object\n",
            "language          87388 non-null object\n",
            "ans_span          87388 non-null object\n",
            "exact             87388 non-null int64\n",
            "dtypes: int64(2), object(9)\n",
            "memory usage: 8.0+ MB\n"
          ],
          "name": "stdout"
        }
      ]
    },
    {
      "cell_type": "markdown",
      "metadata": {
        "id": "75b6RIRS1bdh"
      },
      "source": [
        "### 2.3 Calculating ans span for given ans and context"
      ]
    },
    {
      "cell_type": "code",
      "metadata": {
        "id": "BIY4W-Mv1bdh",
        "outputId": "1ce38fe4-f830-4d7e-a2ce-04beb6666a1c"
      },
      "source": [
        "ans_span = []\n",
        "for i in range(len(train)):\n",
        "    s,e = answer_span(train[\"clean_context\"].iloc[i],train[\"clean_answer\"].iloc[i])\n",
        "    ans_span.append((s,e))\n",
        "    \n",
        "print(\"number of answer not matching context :- \",ans_span.count((-1,-1)))\n",
        "\n",
        "train[\"ans_span\"] = ans_span"
      ],
      "execution_count": null,
      "outputs": [
        {
          "output_type": "stream",
          "text": [
            "number of answer not matching context :-  0\n"
          ],
          "name": "stdout"
        }
      ]
    },
    {
      "cell_type": "code",
      "metadata": {
        "id": "xm9kTQgW1bdh",
        "outputId": "166bb677-6e6f-4a5a-e2b1-8c9a402f0010"
      },
      "source": [
        "ans_span = []\n",
        "for i in range(len(dev)):\n",
        "    s,e = answer_span(dev[\"clean_context\"].iloc[i],dev[\"clean_answer\"].iloc[i])\n",
        "    ans_span.append((s,e))\n",
        "    \n",
        "print(\"number of answer not matching context :- \",ans_span.count((-1,-1)))\n",
        "\n",
        "dev[\"ans_span\"] = ans_span"
      ],
      "execution_count": null,
      "outputs": [
        {
          "output_type": "stream",
          "text": [
            "number of answer not matching context :-  0\n"
          ],
          "name": "stdout"
        }
      ]
    },
    {
      "cell_type": "code",
      "metadata": {
        "id": "H6tghYku1bdi",
        "outputId": "792447e8-0d77-4d09-b4b1-3f6594a227e1"
      },
      "source": [
        "print(train.shape)\n",
        "print(dev.shape)"
      ],
      "execution_count": null,
      "outputs": [
        {
          "output_type": "stream",
          "text": [
            "(87388, 11)\n",
            "(10548, 11)\n"
          ],
          "name": "stdout"
        }
      ]
    },
    {
      "cell_type": "code",
      "metadata": {
        "id": "747K0R851bdi"
      },
      "source": [
        "train = train[train[\"ans_span\"] != (-1,-1)]\n",
        "dev = dev[dev[\"ans_span\"] != (-1,-1)]"
      ],
      "execution_count": null,
      "outputs": []
    },
    {
      "cell_type": "code",
      "metadata": {
        "id": "aYrnJF1H1bdi",
        "outputId": "874d147a-08f7-463c-9a0f-617a568e2491"
      },
      "source": [
        "print(train.shape)\n",
        "print(dev.shape)"
      ],
      "execution_count": null,
      "outputs": [
        {
          "output_type": "stream",
          "text": [
            "(87388, 11)\n",
            "(10548, 11)\n"
          ],
          "name": "stdout"
        }
      ]
    },
    {
      "cell_type": "markdown",
      "metadata": {
        "id": "OQZiMPx_1bdi"
      },
      "source": [
        "## 3. EDA"
      ]
    },
    {
      "cell_type": "code",
      "metadata": {
        "id": "1I25V0BW1bdi"
      },
      "source": [
        "# adding context_length ,question_length and answer_length features for eda\n",
        "train[\"context_length\"] = train[\"clean_context\"].apply(lambda x:len(x.split()))\n",
        "train[\"question_length\"] = train[\"clean_question\"].apply(lambda x:len(x.split()))\n",
        "train[\"answer_length\"] = train[\"clean_answer\"].apply(lambda x:len(x.split()))"
      ],
      "execution_count": null,
      "outputs": []
    },
    {
      "cell_type": "code",
      "metadata": {
        "id": "L0K3hqca1bdi",
        "outputId": "7f9cb452-90af-436a-ee56-0253228577bc"
      },
      "source": [
        "sns.set()\n",
        "tf = train[[\"question_length\",\"context_length\",\"answer_length\"]]\n",
        "tf.plot.kde(figsize=(15,10),xlim=(-10,200))"
      ],
      "execution_count": null,
      "outputs": [
        {
          "output_type": "execute_result",
          "data": {
            "text/plain": [
              "<matplotlib.axes._subplots.AxesSubplot at 0x2df9d2e0080>"
            ]
          },
          "metadata": {
            "tags": []
          },
          "execution_count": 47
        },
        {
          "output_type": "display_data",
          "data": {
            "image/png": "[encoded data removed]",
            "text/plain": [
              "<Figure size 1080x720 with 1 Axes>"
            ]
          },
          "metadata": {
            "tags": []
          }
        }
      ]
    },
    {
      "cell_type": "markdown",
      "metadata": {
        "id": "zoyIePQV1bdi"
      },
      "source": [
        "1. Train Context Length"
      ]
    },
    {
      "cell_type": "code",
      "metadata": {
        "id": "iFRNJgxD1bdi",
        "outputId": "017abc2e-3cf6-4783-ba64-0d6c773e4579"
      },
      "source": [
        "plt.figure(figsize=(15,10))\n",
        "plt.plot(train[\"context_length\"])\n",
        "plt.xlabel(\"# of entries\")\n",
        "plt.ylabel(\"context length\")\n",
        "plt.yticks(range(0,700,100))\n",
        "plt.title(\"Context Lenght plot\")\n",
        "plt.show()"
      ],
      "execution_count": null,
      "outputs": [
        {
          "output_type": "display_data",
          "data": {
            "image/png": "[encoded data removed]",
            "text/plain": [
              "<Figure size 1080x720 with 1 Axes>"
            ]
          },
          "metadata": {
            "tags": []
          }
        }
      ]
    },
    {
      "cell_type": "markdown",
      "metadata": {
        "id": "ditylk_v1bdj"
      },
      "source": [
        "2. Train Question Length"
      ]
    },
    {
      "cell_type": "code",
      "metadata": {
        "id": "7JPyFN1x1bdj",
        "outputId": "65c9c76e-9585-408c-ddc4-8fbdea4767d1"
      },
      "source": [
        "plt.figure(figsize=(15,8))\n",
        "plt.plot(train[\"question_length\"])\n",
        "plt.xlabel(\"# of entries\")\n",
        "plt.ylabel(\"question length\")\n",
        "plt.yticks(range(0,50,5))\n",
        "plt.title(\"question Length plot\")\n",
        "plt.show()"
      ],
      "execution_count": null,
      "outputs": [
        {
          "output_type": "display_data",
          "data": {
            "image/png": "[encoded data removed]",
            "text/plain": [
              "<Figure size 1080x576 with 1 Axes>"
            ]
          },
          "metadata": {
            "tags": []
          }
        }
      ]
    },
    {
      "cell_type": "markdown",
      "metadata": {
        "id": "JC0X26ZT1bdj"
      },
      "source": [
        "3. Answer Length plot"
      ]
    },
    {
      "cell_type": "code",
      "metadata": {
        "scrolled": true,
        "id": "MlE79Z151bdj",
        "outputId": "3e74aeb8-5aab-4d15-eeb1-c7f2fe45f433"
      },
      "source": [
        "plt.figure(figsize=(15,10))\n",
        "plt.plot(train[\"answer_length\"])\n",
        "plt.xlabel(\"# of entries\")\n",
        "plt.ylabel(\"answer length\")\n",
        "plt.yticks(range(0,50,5))\n",
        "plt.title(\"answer Lenght plot\")\n",
        "plt.show()"
      ],
      "execution_count": null,
      "outputs": [
        {
          "output_type": "display_data",
          "data": {
            "image/png": "[encoded data removed]",
            "text/plain": [
              "<Figure size 1080x720 with 1 Axes>"
            ]
          },
          "metadata": {
            "tags": []
          }
        }
      ]
    },
    {
      "cell_type": "code",
      "metadata": {
        "id": "M9pFuckM1bdj",
        "outputId": "b0757ccd-c8ad-42cc-e784-2e34a7e41152"
      },
      "source": [
        "train[\"answer_length\"].describe()"
      ],
      "execution_count": null,
      "outputs": [
        {
          "output_type": "execute_result",
          "data": {
            "text/plain": [
              "count    30000.000000\n",
              "mean         3.305233\n",
              "std          3.448970\n",
              "min          1.000000\n",
              "25%          1.000000\n",
              "50%          2.000000\n",
              "75%          4.000000\n",
              "max         31.000000\n",
              "Name: answer_length, dtype: float64"
            ]
          },
          "metadata": {
            "tags": []
          },
          "execution_count": 538
        }
      ]
    },
    {
      "cell_type": "markdown",
      "metadata": {
        "id": "JTP6N0m11bdj"
      },
      "source": [
        "## 4. Encoding"
      ]
    },
    {
      "cell_type": "markdown",
      "metadata": {
        "id": "95qvxPOf1bdj"
      },
      "source": [
        "**If you have files , you can start from here...**"
      ]
    },
    {
      "cell_type": "code",
      "metadata": {
        "id": "-zq3jfgF1bdj"
      },
      "source": [
        "# train.to_csv(\"train.csv\")\n",
        "# dev.to_csv(\"dev.csv\")\n",
        "\n",
        "train = pd.read_csv(\"train.csv\")\n",
        "dev = pd.read_csv(\"dev.csv\")"
      ],
      "execution_count": null,
      "outputs": []
    },
    {
      "cell_type": "code",
      "metadata": {
        "id": "TSPYONPo1bdj",
        "outputId": "5c216870-8af1-4b93-df8e-3511f031e9e0"
      },
      "source": [
        "from sklearn.model_selection import train_test_split\n",
        "from sklearn.utils import resample,shuffle\n",
        "\n",
        "train = resample(train)\n",
        "train = shuffle(train,n_samples =50000)\n",
        "\n",
        "train,dev = train_test_split(train,test_size = 0.2)\n",
        "train,cv = train_test_split(train,test_size=0.25)\n",
        "\n",
        "print(train.shape)\n",
        "print(cv.shape)\n",
        "print(dev.shape)"
      ],
      "execution_count": null,
      "outputs": [
        {
          "output_type": "stream",
          "text": [
            "(30000, 15)\n",
            "(10000, 15)\n",
            "(10000, 15)\n"
          ],
          "name": "stdout"
        }
      ]
    },
    {
      "cell_type": "code",
      "metadata": {
        "id": "Biu7n3MO1bdk",
        "outputId": "1c342c57-7465-4094-d55b-64663618ecb1"
      },
      "source": [
        "# loading already stored embeding matrix and dictionary\n",
        "\n",
        "with open(\"embedding.pkl\",\"rb\") as f:\n",
        "    embedding_matrix = load(f)\n",
        "print(\"Shpae of embedding matrix is \",embedding_matrix.shape)\n",
        "\n",
        "with open(\"word2ix.pkl\",\"rb\") as f:\n",
        "    word2ix = load(f)\n",
        "    \n",
        "print(len(word2ix))"
      ],
      "execution_count": null,
      "outputs": [
        {
          "output_type": "stream",
          "text": [
            "Shpae of embedding matrix is  (74621, 300)\n",
            "74620\n"
          ],
          "name": "stdout"
        }
      ]
    },
    {
      "cell_type": "code",
      "metadata": {
        "id": "6Cfricsb1bdk"
      },
      "source": [
        "cv.to_csv(\"data/cv.csv\")\n",
        "dev.to_csv(\"data/dev.csv\")\n",
        "train.to_csv(\"data/train.csv\")"
      ],
      "execution_count": null,
      "outputs": []
    },
    {
      "cell_type": "code",
      "metadata": {
        "id": "9WqpbgDa1bdk",
        "outputId": "cb300186-494a-4ac2-b856-1e9c130abe33"
      },
      "source": [
        "# using keras as it is highly optimized.\n",
        "from keras.preprocessing.text import Tokenizer\n",
        "token = Tokenizer()\n",
        "token.word_index = word2ix"
      ],
      "execution_count": null,
      "outputs": [
        {
          "output_type": "stream",
          "text": [
            "Using TensorFlow backend.\n"
          ],
          "name": "stderr"
        }
      ]
    },
    {
      "cell_type": "code",
      "metadata": {
        "id": "-YrQXtWQ1bdl",
        "outputId": "6e773ff4-9f36-45b9-f4e9-9d95c2302972"
      },
      "source": [
        "# word2ix and ix2word dictionary\n",
        "word2ix = token.word_index\n",
        "ix2word = dict()\n",
        "\n",
        "for k,v in word2ix.items():\n",
        "    ix2word[v] = k\n",
        "    \n",
        "print(len(word2ix))\n",
        "print(len(ix2word))"
      ],
      "execution_count": null,
      "outputs": [
        {
          "output_type": "stream",
          "text": [
            "74620\n",
            "74620\n"
          ],
          "name": "stdout"
        }
      ]
    },
    {
      "cell_type": "code",
      "metadata": {
        "id": "zjHVvOrl1bdl",
        "outputId": "7cede54d-546b-46fd-d305-b95f0ed387fe"
      },
      "source": [
        "from keras.backend import gather\n",
        "from nltk.stem import WordNetLemmatizer \n",
        "import nltk\n",
        "nltk.download('wordnet')\n",
        "lemmatizer = WordNetLemmatizer()"
      ],
      "execution_count": null,
      "outputs": [
        {
          "output_type": "stream",
          "text": [
            "[nltk_data] Error loading wordnet: <urlopen error [WinError 10060] A\n",
            "[nltk_data]     connection attempt failed because the connected party\n",
            "[nltk_data]     did not properly respond after a period of time, or\n",
            "[nltk_data]     established connection failed because connected host\n",
            "[nltk_data]     has failed to respond>\n"
          ],
          "name": "stderr"
        }
      ]
    },
    {
      "cell_type": "code",
      "metadata": {
        "id": "WlWrW3Ef1bdm",
        "outputId": "5c7091d8-07a9-4105-cd7d-ef621dcc9acd"
      },
      "source": [
        "d = pd.read_table(\"tags\",delimiter = \"|\",header=None)\n",
        "\n",
        "pos_tags_list = d[0].values\n",
        "pos_tags_list = [et.strip() for et in pos_tags_list]\n",
        "tag_to_num = {tag:i for i, tag in enumerate(sorted(pos_tags_list),1)} \n",
        "num_to_tag = {i:tag for i, tag in enumerate(sorted(pos_tags_list),1)}\n",
        "\n",
        "QUES_LEN = 40\n",
        "CON_LEN = 680\n",
        "TAGS = 36\n",
        "\n",
        "\n",
        "print(len(pos_tags_list))"
      ],
      "execution_count": null,
      "outputs": [
        {
          "output_type": "stream",
          "text": [
            "36\n"
          ],
          "name": "stdout"
        }
      ]
    },
    {
      "cell_type": "code",
      "metadata": {
        "id": "rH99tM171bdm"
      },
      "source": [
        "def exact_lemma(ques_tokens,con_tokens):\n",
        "    \"\"\"\n",
        "    This function returns array of two binary features. Exact match and lemma.\n",
        "    \n",
        "    \"\"\"\n",
        "    exact = [1 if ecw in ques_tokens else 0 for ecw in con_tokens]\n",
        "    lemma = [1 if lemmatizer.lemmatize(et, pos=\"v\") in ques_tokens else 0 for et in con_tokens]\n",
        "    bi = np.array([exact,lemma])\n",
        "    return np.transpose(bi)\n",
        "\n",
        "\n",
        "def term_ferquency(tokens):\n",
        "    \"\"\"\n",
        "    This funtion returns term frequecy of every word.\n",
        "    \"\"\"\n",
        "    l = len(tokens)\n",
        "    tf = [tokens.count(ew)/l for ew in tokens]\n",
        "    tf = np.array([tokens.count(ew)/l for ew in tokens])\n",
        "    return np.reshape(tf,(l,-1))\n",
        "\n",
        "\n",
        "def tags(tokens):\n",
        "    \"\"\"\n",
        "    This function returns POS tags.\n",
        "    \"\"\"\n",
        "    return nltk.pos_tag(tokens)\n",
        "\n",
        "def pos_ner(tokens):\n",
        "    \"\"\"\n",
        "    This function returns one hot encoded pos/ner tags for each word.\n",
        "    \"\"\"\n",
        "    pos = np.zeros((len(tokens),len(tag_to_num)+1))\n",
        "    pos_tags = tags(tokens)\n",
        "    pi,ti = zip(*pos_tags)\n",
        "    pos[np.arange(len(tokens)),[tag_to_num[i] if i in tag_to_num else 0 for i in ti]] = 1\n",
        "    return pos  \n",
        "\n",
        "\n",
        "def tokenize(sentence):\n",
        "    \"\"\"\n",
        "    Returns tokenised words.\n",
        "    \"\"\"\n",
        "    return nltk.word_tokenize(sentence)\n",
        "\n",
        "def get_glove(tokens):\n",
        "    \"\"\"\n",
        "    This function returns glove vectors for given tokens.\n",
        "    \"\"\"\n",
        "    indices = [word2ix[w] if w in word2ix else 0 for w in tokens]\n",
        "    return gather(embedding_matrix,indices)\n",
        "    \n",
        "\n",
        "\n",
        "\n",
        "def context_question(context,question):\n",
        "    \"\"\"\n",
        "    This function takes context and question and perform various operatons on them.\n",
        "    \"\"\"\n",
        "    con_tokens = tokenize(context)\n",
        "    ques_tokens = tokenize(question)\n",
        "    \n",
        "    # this function returns term frequency of every word in context.\n",
        "    term_ferq = term_ferquency(con_tokens)\n",
        "    \n",
        "    # this function returns matrix of one_hot_enoced pos tags. (tokens_size,33)\n",
        "    pos_ = pos_ner(con_tokens)\n",
        "    \n",
        "    # this function retuns matrix of glove vector. (tokens_size,300)\n",
        "    glove_ = get_glove(con_tokens)\n",
        "    \n",
        "    #exact, lemma binary feature.\n",
        "    ex_lem = exact_lemma(ques_tokens,con_tokens)\n",
        "    \n",
        "    # stack glvoe + pos_ + term_frequency horizontally 300 + 36 + 1 + 2 = 338\n",
        "    final = tf.concat([glove_,pos_,term_ferq,ex_lem],axis = 1)\n",
        "    \n",
        "    # as context_length is fixed to 680. Add zero matrix of size (680 - tokens_size). and stack vertically.\n",
        "    zeros = tf.zeros((CON_LEN - final.shape.as_list()[0],final.shape.as_list()[1]),dtype=tf.float64)\n",
        "    \n",
        "    final = tf.concat([final,zeros],axis=0)\n",
        "    return final"
      ],
      "execution_count": null,
      "outputs": []
    },
    {
      "cell_type": "markdown",
      "metadata": {
        "id": "d6QiHQLb1bdm"
      },
      "source": [
        "**POS Tags Feature[One Hot Encoded]**"
      ]
    },
    {
      "cell_type": "code",
      "metadata": {
        "id": "y-YcDAJS1bdm"
      },
      "source": [
        "train_pos_tag = []\n",
        "for i in range(len(train)):\n",
        "    tk = tokenize(train[\"clean_context\"].iloc[i])\n",
        "    pos = pos_ner(tk)\n",
        "    p_ = np.zeros((CON_LEN - pos.shape[0],pos.shape[1]))\n",
        "    tk = np.concatenate((pos,p_))\n",
        "    train_pos_tag.append(tk)"
      ],
      "execution_count": null,
      "outputs": []
    },
    {
      "cell_type": "code",
      "metadata": {
        "id": "lLdRAZbC1bdm"
      },
      "source": [
        "# for cv data\n",
        "cv_pos_tag = []\n",
        "for i in range(len(cv)):\n",
        "    tk = tokenize(cv[\"clean_context\"].iloc[i])\n",
        "    pos = pos_ner(tk)\n",
        "    p_ = np.zeros((CON_LEN - pos.shape[0],pos.shape[1]))\n",
        "    tk = np.concatenate((pos,p_))\n",
        "    cv_pos_tag.append(tk)"
      ],
      "execution_count": null,
      "outputs": []
    },
    {
      "cell_type": "code",
      "metadata": {
        "id": "L3SJa0Pt1bdm"
      },
      "source": [
        "dev_pos_tag = []\n",
        "for i in range(len(dev)):\n",
        "    tk = tokenize(dev[\"clean_context\"].iloc[i])\n",
        "    pos = pos_ner(tk)\n",
        "    p_ = np.zeros((CON_LEN - pos.shape[0],pos.shape[1]))\n",
        "    tk = np.concatenate((pos,p_))\n",
        "    dev_pos_tag.append(tk)"
      ],
      "execution_count": null,
      "outputs": []
    },
    {
      "cell_type": "markdown",
      "metadata": {
        "id": "Yd1DGXxS1bdn"
      },
      "source": [
        "**Term Frequency**"
      ]
    },
    {
      "cell_type": "code",
      "metadata": {
        "id": "DMamfOEm1bdn",
        "outputId": "2d287a2d-bf65-4c9d-c512-9b8dabc1334c"
      },
      "source": [
        "train_term[5].shape"
      ],
      "execution_count": null,
      "outputs": [
        {
          "output_type": "execute_result",
          "data": {
            "text/plain": [
              "(78, 1)"
            ]
          },
          "metadata": {
            "tags": []
          },
          "execution_count": 88
        }
      ]
    },
    {
      "cell_type": "code",
      "metadata": {
        "id": "CSJnfZ_M1bdn"
      },
      "source": [
        "# for train data\n",
        "train_term = []\n",
        "for i in range(len(train)):\n",
        "    tk = tokenize(train[\"clean_context\"].iloc[i])\n",
        "    pos = term_ferquency(tk)\n",
        "    p_ = np.zeros((CON_LEN - pos.shape[0],pos.shape[1]))\n",
        "    tk = np.concatenate((pos,p_))\n",
        "    train_term.append(tk)"
      ],
      "execution_count": null,
      "outputs": []
    },
    {
      "cell_type": "code",
      "metadata": {
        "id": "YBMTDZPi1bdn"
      },
      "source": [
        "# for dev data\n",
        "dev_term = []\n",
        "for i in range(len(dev)):\n",
        "    tk = tokenize(dev[\"clean_context\"].iloc[i])\n",
        "    pos = term_ferquency(tk)\n",
        "    p_ = np.zeros((CON_LEN - pos.shape[0],pos.shape[1]))\n",
        "    tk = np.concatenate((pos,p_))\n",
        "    dev_term.append(tk)"
      ],
      "execution_count": null,
      "outputs": []
    },
    {
      "cell_type": "code",
      "metadata": {
        "id": "_1GOBGfe1bdn"
      },
      "source": [
        "# for cv data\n",
        "cv_term = []\n",
        "for i in range(len(cv)):\n",
        "    tk = tokenize(cv[\"clean_context\"].iloc[i])\n",
        "    pos = term_ferquency(tk)\n",
        "    p_ = np.zeros((CON_LEN - pos.shape[0],pos.shape[1]))\n",
        "    tk = np.concatenate((pos,p_))\n",
        "    cv_term.append(tk)"
      ],
      "execution_count": null,
      "outputs": []
    },
    {
      "cell_type": "code",
      "metadata": {
        "id": "RD7rZT_O1bdn",
        "outputId": "ebf7204c-2632-47bd-c50b-739276ba7fb0"
      },
      "source": [
        "cv_term[5].shape"
      ],
      "execution_count": null,
      "outputs": [
        {
          "output_type": "execute_result",
          "data": {
            "text/plain": [
              "(680, 1)"
            ]
          },
          "metadata": {
            "tags": []
          },
          "execution_count": 92
        }
      ]
    },
    {
      "cell_type": "markdown",
      "metadata": {
        "id": "vcdIUWfO1bdn"
      },
      "source": [
        "**Exact And Lemma Form [Binary Feature]**"
      ]
    },
    {
      "cell_type": "code",
      "metadata": {
        "scrolled": true,
        "id": "F0bMwkz11bdo"
      },
      "source": [
        "# for train data\n",
        "train_excat_lemma = []\n",
        "for i in tqdm(range(len(train))):\n",
        "    ques_tokens = tokenize(train[\"clean_question\"].iloc[i])\n",
        "    con_tokens = tokenize(train[\"clean_context\"].iloc[i])\n",
        "    pos = exact_lemma(ques_tokens,con_tokens)\n",
        "    p_ = np.zeros((CON_LEN - pos.shape[0],pos.shape[1]))\n",
        "    tk = np.concatenate((pos,p_))\n",
        "    train_excat_lemma.append(tk)"
      ],
      "execution_count": null,
      "outputs": []
    },
    {
      "cell_type": "code",
      "metadata": {
        "scrolled": true,
        "id": "T8IVa9mn1bdo"
      },
      "source": [
        "# for dev data\n",
        "dev_excat_lemma = []\n",
        "for i in tqdm(range(len(dev))):\n",
        "    ques_tokens = tokenize(dev[\"clean_question\"].iloc[i])\n",
        "    con_tokens = tokenize(dev[\"clean_context\"].iloc[i])\n",
        "    pos = exact_lemma(ques_tokens,con_tokens)\n",
        "    p_ = np.zeros((CON_LEN - pos.shape[0],pos.shape[1]))\n",
        "    tk = np.concatenate((pos,p_))\n",
        "    dev_excat_lemma.append(tk)"
      ],
      "execution_count": null,
      "outputs": []
    },
    {
      "cell_type": "code",
      "metadata": {
        "id": "kaTr5H671bdo"
      },
      "source": [
        "# for cv data\n",
        "cv_excat_lemma = []\n",
        "for i in tqdm(range(len(cv))):\n",
        "    ques_tokens = tokenize(cv[\"clean_question\"].iloc[i])\n",
        "    con_tokens = tokenize(cv[\"clean_context\"].iloc[i])\n",
        "    pos = exact_lemma(ques_tokens,con_tokens)\n",
        "    p_ = np.zeros((CON_LEN - pos.shape[0],pos.shape[1]))\n",
        "    tk = np.concatenate((pos,p_))\n",
        "    cv_excat_lemma.append(tk)"
      ],
      "execution_count": null,
      "outputs": []
    },
    {
      "cell_type": "markdown",
      "metadata": {
        "id": "Xb2njMlr1bdo"
      },
      "source": [
        "**Total words in train manual -- code**"
      ]
    },
    {
      "cell_type": "code",
      "metadata": {
        "id": "D8vxgIi31bdo",
        "outputId": "66a83382-c560-49ac-8998-0dece7655a82"
      },
      "source": [
        "\n",
        " word_vocab = set()\n",
        "\n",
        " for ec in train[\"clean_context\"].values:\n",
        "    word_vocab.update(ec.split())\n",
        "    \n",
        " for ec in train[\"clean_question\"].values:\n",
        "     word_vocab.update(ec.split())\n",
        "\n",
        "    \n",
        " print(\"Total unique words in training data are {}\".format(len(word_vocab)))\n",
        "\n",
        "\n",
        "\n",
        " word2ix = dict()\n",
        " ix2word = dict()\n",
        "\n",
        " for i,w in enumerate(list(word_vocab),1):\n",
        "     word2ix[w] = i\n",
        "     ix2word[i] = w\n",
        "    \n",
        " print(len(word2ix))\n",
        " print(len(ix2word))"
      ],
      "execution_count": null,
      "outputs": [
        {
          "output_type": "stream",
          "text": [
            "Total unique words in training data are 77855\n"
          ],
          "name": "stdout"
        }
      ]
    },
    {
      "cell_type": "code",
      "metadata": {
        "id": "Y7KEwCjV1bdo"
      },
      "source": [
        "# FIXING Some values\n",
        "VOCAB_SIZE = len(word2ix) + 1\n",
        "GLOVE = 300\n",
        "QUES_LEN = 40\n",
        "CON_LEN = 680\n"
      ],
      "execution_count": null,
      "outputs": []
    },
    {
      "cell_type": "markdown",
      "metadata": {
        "id": "JGBzh2PH1bdo"
      },
      "source": [
        "### 4.1 Encoding"
      ]
    },
    {
      "cell_type": "markdown",
      "metadata": {
        "id": "pDfblvge1bdo"
      },
      "source": [
        "**1. Qustion**"
      ]
    },
    {
      "cell_type": "code",
      "metadata": {
        "id": "EE7cxzEg1bdo",
        "outputId": "05927946-2324-4500-8441-afe25e53ab84"
      },
      "source": [
        "train_clean_question_sequence = token.texts_to_sequences(train[\"clean_question\"].values)\n",
        "print(type(train_clean_question_sequence))\n",
        "\n",
        "dev_clean_question_sequence = token.texts_to_sequences(dev[\"clean_question\"].values)\n",
        "print(type(dev_clean_question_sequence))\n",
        "\n",
        "cv_clean_question_sequence = token.texts_to_sequences(cv[\"clean_question\"].values)\n",
        "print(type(cv_clean_question_sequence))"
      ],
      "execution_count": null,
      "outputs": [
        {
          "output_type": "stream",
          "text": [
            "<class 'list'>\n",
            "<class 'list'>\n",
            "<class 'list'>\n"
          ],
          "name": "stdout"
        }
      ]
    },
    {
      "cell_type": "code",
      "metadata": {
        "id": "G_qb2o6I1bdo"
      },
      "source": [
        "# padding sequences\n",
        "from keras.preprocessing.sequence import pad_sequences"
      ],
      "execution_count": null,
      "outputs": []
    },
    {
      "cell_type": "code",
      "metadata": {
        "id": "1Z1YRCra1bdo",
        "outputId": "667f7d13-0491-44d8-9eb6-932c6ce9a0ab"
      },
      "source": [
        "train_question_sequence = pad_sequences(train_clean_question_sequence,maxlen=QUES_LEN,padding=\"post\")\n",
        "\n",
        "\n",
        "print(\"Max Question Sequence length is {}\".format(train_question_sequence.shape[1]))\n",
        "\n",
        "cv_question_sequence = pad_sequences(cv_clean_question_sequence,maxlen=QUES_LEN,padding=\"post\")\n",
        "dev_question_sequence = pad_sequences(dev_clean_question_sequence,maxlen=QUES_LEN,padding=\"post\")\n",
        "\n",
        "print(train_question_sequence.shape)\n",
        "print(cv_question_sequence.shape)\n",
        "print(dev_question_sequence.shape)\n"
      ],
      "execution_count": null,
      "outputs": [
        {
          "output_type": "stream",
          "text": [
            "Max Question Sequence length is 40\n",
            "(30000, 40)\n",
            "(10000, 40)\n",
            "(10000, 40)\n"
          ],
          "name": "stdout"
        }
      ]
    },
    {
      "cell_type": "markdown",
      "metadata": {
        "id": "y0mEq-IK1bdo"
      },
      "source": [
        "**2. Context**"
      ]
    },
    {
      "cell_type": "code",
      "metadata": {
        "id": "VnZdua1L1bdo",
        "outputId": "ff93908b-7f2c-4d71-955f-7ae3536f0a06"
      },
      "source": [
        "train_clean_context_sequence = token.texts_to_sequences(train[\"clean_context\"].values)\n",
        "print(type(train_clean_context_sequence))\n",
        "\n",
        "dev_clean_context_sequence = token.texts_to_sequences(dev[\"clean_context\"].values)\n",
        "print(type(dev_clean_context_sequence))\n",
        "\n",
        "cv_clean_context_sequence = token.texts_to_sequences(cv[\"clean_context\"].values)\n",
        "print(type(cv_clean_context_sequence))"
      ],
      "execution_count": null,
      "outputs": [
        {
          "output_type": "stream",
          "text": [
            "<class 'list'>\n",
            "<class 'list'>\n",
            "<class 'list'>\n"
          ],
          "name": "stdout"
        }
      ]
    },
    {
      "cell_type": "code",
      "metadata": {
        "scrolled": true,
        "id": "pPVja_jX1bdp",
        "outputId": "ff62fc3f-2b4d-46ad-ba4f-ed8e47e9d644"
      },
      "source": [
        "train_context_sequence = pad_sequences(train_clean_context_sequence,maxlen=CON_LEN)\n",
        "\n",
        "# fix this value as results may vary during various runs\n",
        "\n",
        "print(\"Max context Sequence length is {}\".format(train_context_sequence.shape[1]))\n",
        "\n",
        "cv_context_sequence = pad_sequences(cv_clean_context_sequence,maxlen=CON_LEN)\n",
        "dev_context_sequence = pad_sequences(dev_clean_context_sequence,maxlen=CON_LEN)\n",
        "\n",
        "print(train_context_sequence.shape)\n",
        "print(cv_context_sequence.shape)\n",
        "print(dev_context_sequence.shape)\n"
      ],
      "execution_count": null,
      "outputs": [
        {
          "output_type": "stream",
          "text": [
            "Max context Sequence length is 680\n",
            "(30000, 680)\n",
            "(10000, 680)\n",
            "(10000, 680)\n"
          ],
          "name": "stdout"
        }
      ]
    },
    {
      "cell_type": "markdown",
      "metadata": {
        "id": "8LHliFJk1bdp"
      },
      "source": [
        "**Fix these values as results may vary due to change in train and cv during SPLIT**\n",
        "\n",
        "* QUES_LEN = 40\n",
        "* CON_LEN = 677\n",
        "* VOCAB_SIZE = 77880\n",
        "* GLOVE = 300"
      ]
    },
    {
      "cell_type": "markdown",
      "metadata": {
        "id": "eqRbHPKC1bdp"
      },
      "source": [
        "#### 3. Creating Answer Sequences"
      ]
    },
    {
      "cell_type": "code",
      "metadata": {
        "id": "0eeJm8Zt1bdp"
      },
      "source": [
        "train[\"ans_span\"] = train[\"ans_span\"].apply(lambda x :eval(x))\n",
        "dev[\"ans_span\"] = dev[\"ans_span\"].apply(lambda x :eval(x))\n",
        "cv[\"ans_span\"] = cv[\"ans_span\"].apply(lambda x :eval(x))"
      ],
      "execution_count": null,
      "outputs": []
    },
    {
      "cell_type": "code",
      "metadata": {
        "id": "uPKE8qle1bdp"
      },
      "source": [
        "\n",
        " y_train = []\n",
        "\n",
        " for i in range(len(train)):\n",
        "    \n",
        "     s_ = np.zeros(CON_LEN,dtype = \"int32\")\n",
        "    \n",
        "     start,end = train[\"ans_span\"].iloc[i]\n",
        "     s_[start:end] = 1\n",
        "     y_train.append(s_)\n",
        "\n",
        " y_cv = []\n",
        " for i in range(len(cv)):\n",
        "    \n",
        "     s_ = np.zeros(CON_LEN,dtype = \"int32\")\n",
        "    \n",
        "     start,end = cv[\"ans_span\"].iloc[i]\n",
        "     s_[start:end] = 1\n",
        "     y_cv.append(s_)\n",
        "\n",
        "              \n",
        "y_dev_c = []\n",
        "\n",
        "for i in range(len(dev)):\n",
        "    \n",
        "    s_ = np.zeros(CON_LEN,dtype = \"int32\")\n",
        "    \n",
        "    start,end = dev[\"ans_span\"].iloc[i]\n",
        "    s_[start:end] = 1\n",
        "    y_dev_c.append(s_)\n",
        "    "
      ],
      "execution_count": null,
      "outputs": []
    },
    {
      "cell_type": "code",
      "metadata": {
        "id": "VOyJG_Nu1bdp"
      },
      "source": [
        "# for train data\n",
        "y_train = []\n",
        "\n",
        "for i in range(len(train)):\n",
        "    \n",
        "    s_ = np.zeros(CON_LEN,dtype = \"int32\")\n",
        "    e_ = np.zeros(CON_LEN,dtype = \"int32\")\n",
        "    \n",
        "    start,end = train[\"ans_span\"].iloc[i]\n",
        "    s_[start] = 1\n",
        "    e_[end] = 1\n",
        "    y_train.append(np.concatenate((s_,e_)))\n",
        "\n",
        "\n",
        "# for cv data\n",
        "y_cv = []\n",
        "\n",
        "for i in range(len(cv)):\n",
        "    \n",
        "    s_ = np.zeros(CON_LEN,dtype = \"int32\")\n",
        "    e_ = np.zeros(CON_LEN,dtype = \"int32\")\n",
        "    \n",
        "    start,end = cv[\"ans_span\"].iloc[i]\n",
        "    s_[start] = 1\n",
        "    e_[end] = 1\n",
        "    y_cv.append(np.concatenate((s_,e_)))\n",
        "\n",
        "                \n",
        "# for dev data\n",
        "y_dev = []\n",
        "\n",
        "for i in range(len(dev)):\n",
        "    \n",
        "    s_ = np.zeros(CON_LEN,dtype = \"int32\")\n",
        "    e_ = np.zeros(CON_LEN,dtype = \"int32\")\n",
        "    \n",
        "    start,end = dev[\"ans_span\"].iloc[i]\n",
        "    s_[start] = 1\n",
        "    e_[end] = 1\n",
        "    y_dev.append(np.concatenate((s_,e_)))\n",
        "    "
      ],
      "execution_count": null,
      "outputs": []
    },
    {
      "cell_type": "markdown",
      "metadata": {
        "id": "V0ev53441bdp"
      },
      "source": [
        "### 4.2 Embedding matrix"
      ]
    },
    {
      "cell_type": "code",
      "metadata": {
        "id": "NhGd6QSi1bdp"
      },
      "source": [
        "# we are using glove 300d vectors for encoding...\n",
        "\n",
        "words = pd.read_table(\"glove/glove.42B.300d/glove.42B.300d.txt\", sep=\" \", index_col=0, header=None, quoting=csv.QUOTE_NONE)\n",
        "\n",
        "def vec(w):\n",
        "    \"\"\"\n",
        "    This function returns 300 dimetional vector for a given word.\n",
        "    \"\"\"\n",
        "    return words.loc[w].as_matrix()"
      ],
      "execution_count": null,
      "outputs": []
    },
    {
      "cell_type": "code",
      "metadata": {
        "id": "hQlQss211bdp",
        "outputId": "26d28b87-06f6-4de6-91cf-97c448aebb47"
      },
      "source": [
        "# +1 for zero embedding\n",
        "VOCAB_SIZE = (len(word2ix)+1)\n",
        "GLOVE = 300\n",
        "word_array = words.index.values\n",
        "\n",
        "print(\"Shape of embedding matrix is of order ({} x {})\".format(VOCAB_SIZE,GLOVE))"
      ],
      "execution_count": null,
      "outputs": [
        {
          "output_type": "stream",
          "text": [
            "Shape of embedding matrix is of order (74621 x 300)\n"
          ],
          "name": "stdout"
        }
      ]
    },
    {
      "cell_type": "code",
      "metadata": {
        "id": "mLMzMbMO1bdp",
        "outputId": "647ff2e1-5cd7-4ade-a3cf-9af20f132b81"
      },
      "source": [
        "embedding_matrix = np.zeros((VOCAB_SIZE,GLOVE))\n",
        "\n",
        "print(\"Embedding matrix shape is \",embedding_matrix.shape)\n",
        "\n",
        "\n",
        "for ew in tqdm(word2ix):\n",
        "    if ew in word_array:\n",
        "        embedding_matrix[word2ix[ew]] = vec(ew)\n",
        "        \n",
        "print(\"Saving the embedding matrix for future use...\")\n",
        "\n",
        "with open(\"embedding.pkl\",\"wb\") as f:\n",
        "    dump(embedding_matrix,f)"
      ],
      "execution_count": null,
      "outputs": [
        {
          "output_type": "stream",
          "text": [
            "Embedding matrix shape is  (74621, 300)\n"
          ],
          "name": "stdout"
        },
        {
          "output_type": "stream",
          "text": [
            "100%|██████████████████████████████████████████████████████████████████████████| 74620/74620 [1:25:11<00:00, 13.42it/s]\n"
          ],
          "name": "stderr"
        },
        {
          "output_type": "stream",
          "text": [
            "Saving the embedding matrix for future use...\n"
          ],
          "name": "stdout"
        }
      ]
    },
    {
      "cell_type": "markdown",
      "metadata": {
        "id": "CzKHd8ai1bdp"
      },
      "source": [
        "## 5. Model"
      ]
    },
    {
      "cell_type": "code",
      "metadata": {
        "id": "WlcFDmCT1bdq"
      },
      "source": [
        "from tensorflow.keras.layers import Bidirectional,LSTM,Dense,Dropout,BatchNormalization,Flatten,Input\n",
        "from tensorflow.keras.models import Model\n",
        "from tensorflow.keras.layers import concatenate"
      ],
      "execution_count": null,
      "outputs": []
    },
    {
      "cell_type": "markdown",
      "metadata": {
        "id": "tNzp9S6c1bdq"
      },
      "source": [
        "#### 5.1.1 Embedding - For embedding layer"
      ]
    },
    {
      "cell_type": "code",
      "metadata": {
        "id": "9gVp8sHG1bdq"
      },
      "source": [
        "class Embedding(tf.keras.Model):\n",
        "    \"\"\"\n",
        "    This class applies embedding layer to given input.\n",
        "    \n",
        "    \"\"\"\n",
        "    def __init__(self, vocab_size,embedding_matrix , embedding_dim = 300):\n",
        "        \n",
        "        super(Embedding,self).__init__()\n",
        "        \n",
        "        self.embedding = tf.keras.layers.Embedding(vocab_size, embedding_dim,weights=[embedding_matrix],trainable=False,mask_zero=True)\n",
        "        \n",
        "    def call(self, x):\n",
        "        \n",
        "        x = self.embedding(x)\n",
        "        return x"
      ],
      "execution_count": null,
      "outputs": []
    },
    {
      "cell_type": "markdown",
      "metadata": {
        "id": "7er22cvO1bdq"
      },
      "source": [
        "#### 5.1.2 BiLSTM - For bi-directional LSTM"
      ]
    },
    {
      "cell_type": "code",
      "metadata": {
        "id": "pe3ZN3N31bdq"
      },
      "source": [
        "class BiLSTM(tf.keras.Model):\n",
        "    \"\"\"\n",
        "    This class is for bidirectional LSTM we are going to use.\n",
        "    \"\"\"\n",
        "    \n",
        "    def __init__(self,num_units):\n",
        "        \n",
        "        super(BiLSTM, self).__init__()\n",
        "        \n",
        "        self.num_units = num_units\n",
        "        self.bilstm = Bidirectional(LSTM(num_units,return_sequences=True,recurrent_initializer='glorot_uniform',dropout = 0.3))\n",
        "        \n",
        "    def call(self,x):\n",
        "        \n",
        "        output = self.bilstm(x)\n",
        "        return output     "
      ],
      "execution_count": null,
      "outputs": []
    },
    {
      "cell_type": "markdown",
      "metadata": {
        "id": "XA0CVg4f1bdq"
      },
      "source": [
        "#### 5.1.3 Attention -  Weighted Context Vector"
      ]
    },
    {
      "cell_type": "code",
      "metadata": {
        "id": "BryrZPg41bdq"
      },
      "source": [
        "class Attention(tf.keras.Model):\n",
        "    \n",
        "    \"\"\"\n",
        "    This class implements a weighted sum attention.\n",
        "\n",
        "    \"\"\"\n",
        "    def __init__(self, units = 1):\n",
        "        \n",
        "        super(Attention, self).__init__()\n",
        "        self.W = tf.keras.layers.Dense(units)\n",
        "        \n",
        "    def call(self, values):\n",
        "        \n",
        "        # values is the output of encoder. shape of values (batch,max_len,units)\n",
        "        #score shape will be (batch,max_len,1)\n",
        "        score = self.W(values)\n",
        "\n",
        "        # attention_weights shape == (batch_size, max_length, 1)\n",
        "        attention_weights = tf.nn.softmax(score, axis=1)\n",
        "\n",
        "        # context_vector shape after sum == (batch_size, hidden_size)\n",
        "        # for clear understanding please check broadcasting in numpy\n",
        "        context_vector = attention_weights * values\n",
        "        context_vector = tf.reduce_sum(context_vector, axis=1)\n",
        "\n",
        "        return context_vector, attention_weights\n",
        "        "
      ],
      "execution_count": null,
      "outputs": []
    },
    {
      "cell_type": "markdown",
      "metadata": {
        "id": "fChQpG3N1bdq"
      },
      "source": [
        "#### 5.1.4 Aligned question Embedding\n",
        "\n",
        "Alpha is a single dense layer with ReLU nonlinearity."
      ]
    },
    {
      "cell_type": "code",
      "metadata": {
        "id": "FEFAmy4h1bdq"
      },
      "source": [
        "class AlignAttention(tf.keras.Model):\n",
        "    \n",
        "   \n",
        "    \n",
        "    \n",
        "    def __init__(self, units = 1):\n",
        "        \n",
        "        super(AlignAttention, self).__init__()\n",
        "        \n",
        "        self.W1 = tf.keras.layers.Dense(units,activation=\"relu\")\n",
        "        self.W2 = tf.keras.layers.Dense(units,activation=\"relu\")\n",
        "        \n",
        "    def call(self,encoder,decoder):\n",
        "        \n",
        "        # shape of encoder is (batch_size,encoder_timesteps,encoder_units)\n",
        "        # shape of decoder (batch_size,decoder_timesteps,decoder_units)\n",
        "        \n",
        "        # check for efficient way to transform (64,30,128)) * (64,150,128) ==> (64,150,128)\n",
        "        \n",
        "        temporal_tensor = []\n",
        "        \n",
        "        for i in range(decoder.shape[1]):\n",
        "            # for every time slice (64,i,128)\n",
        "            query = decoder[:,i,:]\n",
        "            \n",
        "            # shape (64,128) --> (64,1,128)\n",
        "            hidden_with_time_axis = tf.expand_dims(query, 1)\n",
        "            \n",
        "            # score shape == (batch_size, max_length, 1)\n",
        "            score = self.W1(encoder) * self.W2(hidden_with_time_axis)\n",
        "            # attention_weights shape == (batch_size, max_length, 1)\n",
        "            attention_weights = tf.nn.softmax(score, axis=1)\n",
        "            \n",
        "            context_vector = attention_weights * encoder\n",
        "            # context_vector shape after sum == (batch_size, hidden_size)\n",
        "            context_vector = tf.reduce_sum(context_vector, axis=1)\n",
        "            \n",
        "            temporal_tensor.append(tf.expand_dims(context_vector,axis = 1))\n",
        "            #batch_,hidden_ = context_vector.shape\n",
        "            #temporal_tensor.append(tf.reshape(context_vector,(batch_,-1,hidden_)))\n",
        "        \n",
        "        # concate all tensor along temporal axis. \n",
        "        # return shape should be (batch,decoder_timestep,hidden)\n",
        "        q_align = tf.concat(temporal_tensor,axis = 1)\n",
        "                \n",
        "        return tf.concat([q_align,decoder],axis = 2)"
      ],
      "execution_count": null,
      "outputs": []
    },
    {
      "cell_type": "code",
      "metadata": {
        "id": "wOgn99F51bdq"
      },
      "source": [
        "\n",
        " in_ = Input(shape=(30,300),batch_size=64)\n",
        " en = LSTM(128,return_sequences=True)(in_)\n",
        " print(en.shape)\n",
        "\n",
        "\n",
        " in_ = Input(shape=(100,300),batch_size=64)\n",
        " de = LSTM(128,return_sequences=True)(in_)\n",
        " print(de.shape)\n",
        "\n",
        " att = AlignAttention()(en,de)\n",
        " print(att.shape)"
      ],
      "execution_count": null,
      "outputs": []
    },
    {
      "cell_type": "markdown",
      "metadata": {
        "id": "9sJ41X-r1bdq"
      },
      "source": [
        "#### 5.1.5 Bilinear Term for probability calculations"
      ]
    },
    {
      "cell_type": "code",
      "metadata": {
        "id": "dLnDN1811bdq"
      },
      "source": [
        "class BilinearSimilarity(tf.keras.Model):\n",
        "  \n",
        "    \n",
        "    def __init__(self,hidden_size):\n",
        "        \n",
        "        super(BilinearSimilarity,self).__init__()\n",
        "        \n",
        "        self.units = hidden_size * 2\n",
        "        self.WS = tf.keras.layers.Dense(self.units)\n",
        "        self.WE = tf.keras.layers.Dense(self.units)\n",
        "        \n",
        "        \n",
        "    def call(self,query,values):\n",
        "         values = tf.transpose(values,[0,2,1])\n",
        "        start = self.WS(query)\n",
        "    \n",
        "        hidden_start_time_axis = tf.expand_dims(start, -1)\n",
        "        \n",
        "        start_ = tf.squeeze(tf.matmul(values,hidden_start_time_axis),-1)\n",
        "            \n",
        "        start_ = tf.nn.softmax(start_,axis = 1)\n",
        "            \n",
        "        \n",
        "        end = self.WE(query)\n",
        "\n",
        "        hidden_end_time_axis = tf.expand_dims(end, -1)\n",
        "        \n",
        "        \n",
        "        end_ = tf.squeeze(tf.matmul(values,hidden_end_time_axis),-1)\n",
        "        end_ = tf.nn.softmax(end_,axis=1)\n",
        "        \n",
        "        prob = tf.concat((start_,end_),axis = 1)\n",
        "        \n",
        "        return prob\n",
        "        \n",
        "        \n",
        "class BilinearSimilarityLogits(tf.keras.Model):\n",
        "   \n",
        "    \n",
        "    def __init__(self,hidden_size):\n",
        "        \n",
        "        super(BilinearSimilarityLogits,self).__init__()\n",
        "        \n",
        "        self.units = hidden_size * 2\n",
        "        self.WS = tf.keras.layers.Dense(self.units)\n",
        "        self.WE = tf.keras.layers.Dense(self.units)\n",
        "        \n",
        "        \n",
        "    def call(self,query,values):\n",
        "\n",
        "        values = tf.transpose(values,[0,2,1])\n",
        "        start = self.WS(query)\n",
        "        \n",
        "\n",
        "        hidden_start_time_axis = tf.expand_dims(start, 1)\n",
        "        \n",
        "     \n",
        "        start_logit = tf.squeeze(tf.matmul(hidden_start_time_axis,values),axis=1)\n",
        "            \n",
        "\n",
        "        end = self.WE(query)\n",
        "\n",
        "        hidden_end_time_axis = tf.expand_dims(end, 1)\n",
        "      \n",
        "        end_logit = tf.squeeze(tf.matmul(hidden_end_time_axis,values),axis=1)\n",
        "        \n",
        "        logits = tf.concat([start_logit,end_logit],axis=1)\n",
        "        return logits\n",
        "        "
      ],
      "execution_count": null,
      "outputs": []
    },
    {
      "cell_type": "code",
      "metadata": {
        "id": "mLe9OP0Y1bdq"
      },
      "source": [
        "\n",
        " from tensorflow.keras.layers import Dense,Input\n",
        " q = Input(shape=(256,),batch_size=64)\n",
        " v = Input(shape=(400,256),batch_size=64)\n",
        " bln = BilinearSimilarityLogits(128)(q,v)\n",
        " bln"
      ],
      "execution_count": null,
      "outputs": []
    },
    {
      "cell_type": "markdown",
      "metadata": {
        "id": "4kX0_4Hm1bdq"
      },
      "source": [
        "#### 5.1.6 Predict"
      ]
    },
    {
      "cell_type": "markdown",
      "metadata": {
        "id": "T-zMXhyZ1bdr"
      },
      "source": [
        "#### 5.1.6 Prediction class"
      ]
    },
    {
      "cell_type": "code",
      "metadata": {
        "id": "LXSOb3MW1bdr"
      },
      "source": [
        "\n",
        "\n",
        "class Prediction(tf.keras.Model):\n",
        "\n",
        "    def __init__(self,token_span = 15):\n",
        "        \n",
        "        super(Prediction,self).__init__()\n",
        "        self.token_span = token_span\n",
        "     \n",
        "    def call(self,prob):\n",
        "        \n",
        "\n",
        "        start_prob = prob[:,:CON_LEN]\n",
        "        end_prob = prob[:,CON_LEN:]\n",
        "        \n",
        "        # do the outer product\n",
        "        outer = tf.matmul(tf.expand_dims(start_prob, axis=2),tf.expand_dims(end_prob, axis=1))\n",
        "        \n",
        "        outer = tf.matrix_band_part(outer, 0, self.token_span)\n",
        "        \n",
        "        #print(outer.shape)\n",
        "        \n",
        "        # start_position will have shape of (batch_size,)\n",
        "        start_position = tf.reduce_max(outer, axis=2)\n",
        "        #end position will have shape of (batch_size,)\n",
        "        end_position = tf.reduce_max(outer, axis=1)\n",
        "        \n",
        "        probab = tf.concat([start_position,end_position],axis=1)\n",
        "        return probab\n",
        "        \n",
        "        # masking start and end position to get y_pred as [0,0,0,1,1,1,0,...]\n",
        "        # sequence mask will convert to 2D tensor of shape (batch_size,timesteps)\n",
        "        \n",
        "        #s_ = tf.sequence_mask(start_position,self.timesteps,dtype=tf.int32)\n",
        "        #e_ = tf.sequence_mask(end_position,self.timesteps,dtype= tf.int32)\n",
        "        \n",
        "        # to get answers from start to end subtract 1 from start_position.\n",
        "        #s_ = s_ - 1\n",
        "        \n",
        "        \n",
        "        \n",
        "        # subtract end_postion from start_positions to get in form of array\n",
        "        # final shape should be (batch_size,timesteps)\n",
        "        #return tf.subtract(e_,s_)\n",
        "        "
      ],
      "execution_count": null,
      "outputs": []
    },
    {
      "cell_type": "markdown",
      "metadata": {
        "id": "T3OCOlx21bdr"
      },
      "source": [
        "#### 5.1.7 Custom Loss Function"
      ]
    },
    {
      "cell_type": "code",
      "metadata": {
        "id": "2FOXwCpp1bdr"
      },
      "source": [
        "def logits_loss(y_true,logits):\n",
        "   \n",
        "    \n",
        "    #y_true = tf.cast(y_true,dtype=tf.int32)\n",
        "    #logits = tf.cast(logits,dtype=tf.float32)\n",
        "\n",
        "    start_label = y_true[:,:CON_LEN]\n",
        "    end_label = y_true[:,CON_LEN:]\n",
        "    \n",
        "    \n",
        "    start_logit = logits[:,:CON_LEN]\n",
        "    end_logit = logits[:,CON_LEN:]\n",
        "    \n",
        "    start_loss = tf.keras.backend.categorical_crossentropy(start_label,start_logit)\n",
        "    end_loss = tf.keras.backend.categorical_crossentropy(end_label,end_logit)\n",
        "    \n",
        "#     start_loss = tf.losses.sparse_softmax_cross_entropy(labels=start_label, logits=start_logit)\n",
        "#     end_loss = tf.losses.sparse_softmax_cross_entropy(labels=end_label, logits=end_logit)\n",
        "    \n",
        "\n",
        "    \n",
        "    loss = start_loss + end_loss\n",
        "    \n",
        "    return loss\n"
      ],
      "execution_count": null,
      "outputs": []
    },
    {
      "cell_type": "markdown",
      "metadata": {
        "id": "rTeFMcrD1bdr"
      },
      "source": [
        "### 5.2 Building Model"
      ]
    },
    {
      "cell_type": "code",
      "metadata": {
        "id": "jci9mreR1bdr"
      },
      "source": [
        "UNITS = 64"
      ],
      "execution_count": null,
      "outputs": []
    },
    {
      "cell_type": "code",
      "metadata": {
        "id": "U_009M1j1bdr",
        "outputId": "a41d53b3-1a86-47ab-f47f-c52d07780133"
      },
      "source": [
        "# model building...\n",
        "\n",
        "# question embedding\n",
        "q_input = Input(shape=(QUES_LEN,))\n",
        "q_emb = Embedding(VOCAB_SIZE,embedding_matrix)(q_input)\n",
        "\n",
        "# encoder \n",
        "q_cont = BiLSTM(UNITS)(q_emb)\n",
        "\n",
        "# question context\n",
        "q_cont,_ = Attention()(q_cont) \n",
        "print(q_cont.shape)"
      ],
      "execution_count": null,
      "outputs": [
        {
          "output_type": "stream",
          "text": [
            "WARNING:tensorflow:From C:\\Users\\rdbz3b\\AppData\\Local\\Continuum\\anaconda3\\lib\\site-packages\\tensorflow\\python\\ops\\resource_variable_ops.py:435: colocate_with (from tensorflow.python.framework.ops) is deprecated and will be removed in a future version.\n",
            "Instructions for updating:\n",
            "Colocations handled automatically by placer.\n",
            "WARNING:tensorflow:From C:\\Users\\rdbz3b\\AppData\\Local\\Continuum\\anaconda3\\lib\\site-packages\\tensorflow\\python\\keras\\backend.py:4010: calling dropout (from tensorflow.python.ops.nn_ops) with keep_prob is deprecated and will be removed in a future version.\n",
            "Instructions for updating:\n",
            "Please use `rate` instead of `keep_prob`. Rate should be set to `rate = 1 - keep_prob`.\n",
            "(?, 128)\n"
          ],
          "name": "stdout"
        }
      ]
    },
    {
      "cell_type": "code",
      "metadata": {
        "id": "mC-3pjWj1bdr",
        "outputId": "da8e895d-e2a6-4cdb-e62c-265baa8cbef3"
      },
      "source": [
        "# context side model\n",
        "\n",
        "# try to improve AlignAttention performance.\n",
        "c_input = Input(shape=(CON_LEN,))\n",
        "\n",
        "# context embedding\n",
        "c_emb = Embedding(VOCAB_SIZE,embedding_matrix)(c_input)\n",
        "\n",
        "\n",
        "\n",
        "# exact_match\n",
        "ex_ = Input(shape=(CON_LEN,2))\n",
        "\n",
        "# pos tags\n",
        "pos_ = Input(shape=(CON_LEN,len(tag_to_num)+1))\n",
        "\n",
        "# term frequency\n",
        "term_ = Input(shape=(CON_LEN,1)) \n",
        "\n",
        "# concatenate input\n",
        "concat = concatenate([c_emb,ex_,pos_,term_])\n",
        "\n",
        "c_ = BiLSTM(UNITS)(concat)\n",
        "\n",
        "print(\"final output that is fed to bilinear \",c_.shape)"
      ],
      "execution_count": null,
      "outputs": [
        {
          "output_type": "stream",
          "text": [
            "final output that is fed to bilinear  (?, 680, 128)\n"
          ],
          "name": "stdout"
        }
      ]
    },
    {
      "cell_type": "code",
      "metadata": {
        "id": "-bzsJQLT1bdr",
        "outputId": "3a0da459-66a2-4267-c7c7-ead5b721f65b"
      },
      "source": [
        "# bilinear term\n",
        "print(\"Question context shape \",q_cont.shape)\n",
        "print(\"final o/p of context \",c_.shape)\n",
        "\n",
        "logits = BilinearSimilarity(UNITS)(q_cont,c_)\n",
        "Y_prob = Prediction()(logits)\n",
        "print(\"Logits shape \",logits.shape)"
      ],
      "execution_count": null,
      "outputs": [
        {
          "output_type": "stream",
          "text": [
            "Question context shape  (?, 128)\n",
            "final o/p of context  (?, 680, 128)\n",
            "Logits shape  (?, 1360)\n"
          ],
          "name": "stdout"
        }
      ]
    },
    {
      "cell_type": "code",
      "metadata": {
        "id": "AvVdc6M11bdr",
        "outputId": "dea87207-2ede-4e98-bec6-718537c0a117"
      },
      "source": [
        "model = Model(inputs = [q_input,c_input,ex_,pos_,term_],outputs =Y_prob)\n",
        "model.summary()"
      ],
      "execution_count": null,
      "outputs": [
        {
          "output_type": "stream",
          "text": [
            "__________________________________________________________________________________________________\n",
            "Layer (type)                    Output Shape         Param #     Connected to                     \n",
            "==================================================================================================\n",
            "input_1 (InputLayer)            (None, 40)           0                                            \n",
            "__________________________________________________________________________________________________\n",
            "input_19 (InputLayer)           (None, 680)          0                                            \n",
            "__________________________________________________________________________________________________\n",
            "embedding (Embedding)           (None, 40, 300)      22386300    input_1[0][0]                    \n",
            "__________________________________________________________________________________________________\n",
            "embedding_10 (Embedding)        (None, 680, 300)     22386300    input_19[0][0]                   \n",
            "__________________________________________________________________________________________________\n",
            "input_20 (InputLayer)           (None, 680, 2)       0                                            \n",
            "__________________________________________________________________________________________________\n",
            "input_21 (InputLayer)           (None, 680, 37)      0                                            \n",
            "__________________________________________________________________________________________________\n",
            "input_22 (InputLayer)           (None, 680, 1)       0                                            \n",
            "__________________________________________________________________________________________________\n",
            "bi_lstm (BiLSTM)                (None, 40, 128)      186880      embedding[0][0]                  \n",
            "__________________________________________________________________________________________________\n",
            "concatenate_4 (Concatenate)     (None, 680, 340)     0           embedding_10[0][0]               \n",
            "                                                                 input_20[0][0]                   \n",
            "                                                                 input_21[0][0]                   \n",
            "                                                                 input_22[0][0]                   \n",
            "__________________________________________________________________________________________________\n",
            "attention (Attention)           [(None, 128), (None, 129         bi_lstm[0][0]                    \n",
            "__________________________________________________________________________________________________\n",
            "bi_lstm_2 (BiLSTM)              (None, 680, 128)     207360      concatenate_4[0][0]              \n",
            "__________________________________________________________________________________________________\n",
            "bilinear_similarity_3 (Bilinear (None, 1360)         33024       attention[0][0]                  \n",
            "                                                                 bi_lstm_2[0][0]                  \n",
            "__________________________________________________________________________________________________\n",
            "prediction_4 (Prediction)       (None, 1360)         0           bilinear_similarity_3[0][0]      \n",
            "==================================================================================================\n",
            "Total params: 45,199,993\n",
            "Trainable params: 427,393\n",
            "Non-trainable params: 44,772,600\n",
            "__________________________________________________________________________________________________\n"
          ],
          "name": "stdout"
        }
      ]
    },
    {
      "cell_type": "markdown",
      "metadata": {
        "id": "Vb5dw22b1bds"
      },
      "source": [
        "#### 5.2.1 Generator Function for Data"
      ]
    },
    {
      "cell_type": "code",
      "metadata": {
        "id": "evkRuUG_1bds"
      },
      "source": [
        "from numpy import array\n",
        "def generator_function(length,batch_size = 64,data_type = 'Train'):\n",
        "   \n",
        "    X1, X2,X3,X4,X5, y = list(), list(), list(),list(), list(), list()\n",
        "    flag = True\n",
        "    if data_type == 'Val':\n",
        "        flag = False\n",
        "    n = 0\n",
        " .\n",
        "    while 1:\n",
        "        for i in range(length):\n",
        "            n += 1\n",
        "            if flag:\n",
        "                X1.append(train_question_sequence[i])\n",
        "                X2.append(train_context_sequence[i])\n",
        "                X3.append(train_excat_lemma[i])\n",
        "                X4.append(train_pos_tag[i])\n",
        "                X5.append(train_term[i])\n",
        "                y.append(y_train[i])\n",
        "            else:\n",
        "                X1.append(cv_question_sequence[i])\n",
        "                X2.append(cv_context_sequence[i])\n",
        "                X3.append(cv_excat_lemma[i])\n",
        "                X4.append(cv_pos_tag[i])\n",
        "                X5.append(cv_term[i])\n",
        "                y.append(y_cv[i])\n",
        "            if n== batch_size:\n",
        "                yield ((array(X1),array(X2),array(X3),array(X4),array(X5)),array(y))\n",
        "                X1, X2,X3,X4,X5 ,y = list(), list(), list(),list(), list(), list()\n",
        "                n=0"
      ],
      "execution_count": null,
      "outputs": []
    },
    {
      "cell_type": "code",
      "metadata": {
        "id": "xuqBNztk1bds"
      },
      "source": [
        "from sklearn import metrics\n",
        "from keras import backend as K\n",
        "from sklearn.metrics import roc_auc_score\n",
        "\n",
        "\n",
        "    "
      ],
      "execution_count": null,
      "outputs": []
    },
    {
      "cell_type": "code",
      "metadata": {
        "scrolled": false,
        "id": "dkQlBGtE1bds"
      },
      "source": [
        "# using tensorboard instance for callbacks\n",
        "from time import time\n",
        "from datetime import datetime\n",
        "from tensorflow.python.keras.callbacks import TensorBoard\n",
        "\n",
        "tensorboard = TensorBoard(log_dir=\"logs_123/{}\".format(time()))\n",
        "\n",
        "# model compilation\n",
        "model.compile(optimizer=\"adamax\",loss=logits_loss,metrics=['acc'])"
      ],
      "execution_count": null,
      "outputs": []
    },
    {
      "cell_type": "code",
      "metadata": {
        "id": "chXMKFCa1bds"
      },
      "source": [
        "epochs = 25\n",
        "batch_size = 64\n",
        "train_length = len(y_train)\n",
        "cv_length = len(y_cv)\n",
        "train_steps = train_length//batch_size\n",
        "cv_steps = cv_length//32"
      ],
      "execution_count": null,
      "outputs": []
    },
    {
      "cell_type": "code",
      "metadata": {
        "id": "AR-mNmKt1bds"
      },
      "source": [
        "checkpointer = tf.keras.callbacks.ModelCheckpoint(filepath='model/weights.{epoch:02d}-{val_loss:.2f}.hdf5', verbose=1,save_best_only=True)\n",
        " history = tf.keras.callbacks.History()\n",
        "from keras_tqdm import TQDMNotebookCallback"
      ],
      "execution_count": null,
      "outputs": []
    },
    {
      "cell_type": "code",
      "metadata": {
        "scrolled": true,
        "id": "bTNRSmOm1bds",
        "outputId": "15230ea1-4739-445c-bbad-a35f4d53db10"
      },
      "source": [
        "for i in range(epochs):\n",
        "    print(\"Epoch {} start at time \".format(i),datetime.now())\n",
        "    generator = generator_function(train_length,batch_size)\n",
        "    cv_generator = generator_function(cv_length,32,\"cv\")\n",
        "    model.fit_generator(generator, epochs=1, steps_per_epoch=train_steps,verbose=0,callbacks=[tensorboard],validation_data=cv_generator,validation_steps=cv_steps)\n",
        "    model.save_weights(\"model_epoch_{}.h5\".format(i))"
      ],
      "execution_count": null,
      "outputs": [
        {
          "output_type": "stream",
          "text": [
            "Epoch 0 start at time  2019-08-03 23:44:38.683862\n",
            "203/312 [==================>...........] - ETA: 5:40 - loss: 5.6976 - acc: 0.312 - ETA: 5:31 - loss: 5.6552 - acc: 0.265 - ETA: 5:16 - loss: 6.0375 - acc: 0.239 - ETA: 5:22 - loss: 5.9348 - acc: 0.242 - ETA: 5:21 - loss: 6.0095 - acc: 0.250 - ETA: 5:25 - loss: 5.9980 - acc: 0.265 - ETA: 5:29 - loss: 5.8977 - acc: 0.272 - ETA: 5:25 - loss: 5.8497 - acc: 0.273 - ETA: 5:23 - loss: 5.7841 - acc: 0.284 - ETA: 5:23 - loss: 5.8302 - acc: 0.287 - ETA: 5:20 - loss: 5.8341 - acc: 0.286 - ETA: 5:20 - loss: 5.8486 - acc: 0.283 - ETA: 5:17 - loss: 5.8379 - acc: 0.288 - ETA: 5:14 - loss: 5.8071 - acc: 0.292 - ETA: 5:11 - loss: 5.8101 - acc: 0.291 - ETA: 5:10 - loss: 5.8884 - acc: 0.287 - ETA: 5:09 - loss: 5.8825 - acc: 0.283 - ETA: 5:08 - loss: 5.8455 - acc: 0.286 - ETA: 5:06 - loss: 5.8377 - acc: 0.287 - ETA: 5:05 - loss: 5.8076 - acc: 0.293 - ETA: 5:03 - loss: 5.8202 - acc: 0.294 - ETA: 5:03 - loss: 5.8370 - acc: 0.291 - ETA: 5:01 - loss: 5.8635 - acc: 0.290 - ETA: 5:00 - loss: 5.8696 - acc: 0.289 - ETA: 4:59 - loss: 5.8794 - acc: 0.283 - ETA: 4:57 - loss: 5.8720 - acc: 0.283 - ETA: 4:55 - loss: 5.8849 - acc: 0.283 - ETA: 4:55 - loss: 5.8877 - acc: 0.281 - ETA: 4:54 - loss: 5.9086 - acc: 0.282 - ETA: 4:53 - loss: 5.8888 - acc: 0.283 - ETA: 4:51 - loss: 5.8810 - acc: 0.282 - ETA: 4:50 - loss: 5.8823 - acc: 0.281 - ETA: 4:50 - loss: 5.8977 - acc: 0.279 - ETA: 4:48 - loss: 5.8919 - acc: 0.278 - ETA: 4:48 - loss: 5.8901 - acc: 0.280 - ETA: 4:46 - loss: 5.8905 - acc: 0.281 - ETA: 4:46 - loss: 5.8684 - acc: 0.280 - ETA: 4:45 - loss: 5.8783 - acc: 0.279 - ETA: 4:43 - loss: 5.8936 - acc: 0.275 - ETA: 4:41 - loss: 5.8759 - acc: 0.280 - ETA: 4:40 - loss: 5.8585 - acc: 0.282 - ETA: 4:38 - loss: 5.8611 - acc: 0.280 - ETA: 4:38 - loss: 5.8686 - acc: 0.279 - ETA: 4:36 - loss: 5.8759 - acc: 0.278 - ETA: 4:35 - loss: 5.8775 - acc: 0.276 - ETA: 4:34 - loss: 5.8717 - acc: 0.277 - ETA: 4:33 - loss: 5.8615 - acc: 0.277 - ETA: 4:32 - loss: 5.8684 - acc: 0.274 - ETA: 4:31 - loss: 5.8784 - acc: 0.273 - ETA: 4:30 - loss: 5.8958 - acc: 0.272 - ETA: 4:29 - loss: 5.8759 - acc: 0.276 - ETA: 4:28 - loss: 5.8582 - acc: 0.278 - ETA: 4:27 - loss: 5.8679 - acc: 0.280 - ETA: 4:25 - loss: 5.8508 - acc: 0.284 - ETA: 4:24 - loss: 5.8469 - acc: 0.283 - ETA: 4:23 - loss: 5.8399 - acc: 0.284 - ETA: 4:22 - loss: 5.8264 - acc: 0.286 - ETA: 4:21 - loss: 5.8100 - acc: 0.286 - ETA: 4:20 - loss: 5.8159 - acc: 0.285 - ETA: 4:19 - loss: 5.8129 - acc: 0.284 - ETA: 4:18 - loss: 5.8327 - acc: 0.282 - ETA: 4:17 - loss: 5.8330 - acc: 0.285 - ETA: 4:16 - loss: 5.8190 - acc: 0.287 - ETA: 4:15 - loss: 5.8257 - acc: 0.285 - ETA: 4:14 - loss: 5.8143 - acc: 0.285 - ETA: 4:13 - loss: 5.8084 - acc: 0.285 - ETA: 4:11 - loss: 5.8134 - acc: 0.284 - ETA: 4:10 - loss: 5.8194 - acc: 0.283 - ETA: 4:09 - loss: 5.8333 - acc: 0.283 - ETA: 4:08 - loss: 5.8306 - acc: 0.283 - ETA: 4:07 - loss: 5.8351 - acc: 0.283 - ETA: 4:06 - loss: 5.8415 - acc: 0.282 - ETA: 4:05 - loss: 5.8352 - acc: 0.284 - ETA: 4:04 - loss: 5.8364 - acc: 0.285 - ETA: 4:03 - loss: 5.8431 - acc: 0.283 - ETA: 4:01 - loss: 5.8483 - acc: 0.284 - ETA: 4:00 - loss: 5.8625 - acc: 0.282 - ETA: 3:59 - loss: 5.8690 - acc: 0.281 - ETA: 3:58 - loss: 5.8588 - acc: 0.283 - ETA: 3:57 - loss: 5.8514 - acc: 0.282 - ETA: 3:56 - loss: 5.8468 - acc: 0.282 - ETA: 3:55 - loss: 5.8492 - acc: 0.282 - ETA: 3:54 - loss: 5.8431 - acc: 0.282 - ETA: 3:53 - loss: 5.8412 - acc: 0.282 - ETA: 3:52 - loss: 5.8363 - acc: 0.285 - ETA: 3:51 - loss: 5.8350 - acc: 0.285 - ETA: 3:50 - loss: 5.8411 - acc: 0.284 - ETA: 3:49 - loss: 5.8374 - acc: 0.284 - ETA: 3:47 - loss: 5.8412 - acc: 0.283 - ETA: 3:47 - loss: 5.8401 - acc: 0.283 - ETA: 3:45 - loss: 5.8385 - acc: 0.282 - ETA: 3:45 - loss: 5.8419 - acc: 0.282 - ETA: 3:44 - loss: 5.8412 - acc: 0.283 - ETA: 3:43 - loss: 5.8465 - acc: 0.282 - ETA: 3:42 - loss: 5.8493 - acc: 0.283 - ETA: 3:41 - loss: 5.8444 - acc: 0.283 - ETA: 3:40 - loss: 5.8450 - acc: 0.282 - ETA: 3:39 - loss: 5.8357 - acc: 0.283 - ETA: 3:38 - loss: 5.8351 - acc: 0.283 - ETA: 3:37 - loss: 5.8311 - acc: 0.283 - ETA: 3:36 - loss: 5.8357 - acc: 0.282 - ETA: 3:35 - loss: 5.8405 - acc: 0.281 - ETA: 3:34 - loss: 5.8394 - acc: 0.281 - ETA: 3:33 - loss: 5.8447 - acc: 0.281 - ETA: 3:32 - loss: 5.8436 - acc: 0.282 - ETA: 3:31 - loss: 5.8466 - acc: 0.281 - ETA: 3:30 - loss: 5.8454 - acc: 0.282 - ETA: 3:29 - loss: 5.8445 - acc: 0.283 - ETA: 3:28 - loss: 5.8462 - acc: 0.282 - ETA: 3:27 - loss: 5.8469 - acc: 0.282 - ETA: 3:26 - loss: 5.8470 - acc: 0.282 - ETA: 3:25 - loss: 5.8552 - acc: 0.281 - ETA: 3:24 - loss: 5.8579 - acc: 0.281 - ETA: 3:22 - loss: 5.8515 - acc: 0.282 - ETA: 3:21 - loss: 5.8525 - acc: 0.281 - ETA: 3:21 - loss: 5.8601 - acc: 0.280 - ETA: 3:20 - loss: 5.8611 - acc: 0.280 - ETA: 3:19 - loss: 5.8621 - acc: 0.279 - ETA: 3:18 - loss: 5.8552 - acc: 0.281 - ETA: 3:17 - loss: 5.8510 - acc: 0.281 - ETA: 3:16 - loss: 5.8510 - acc: 0.281 - ETA: 3:15 - loss: 5.8511 - acc: 0.281 - ETA: 3:14 - loss: 5.8545 - acc: 0.280 - ETA: 3:13 - loss: 5.8555 - acc: 0.280 - ETA: 3:12 - loss: 5.8561 - acc: 0.280 - ETA: 3:11 - loss: 5.8543 - acc: 0.281 - ETA: 3:10 - loss: 5.8571 - acc: 0.281 - ETA: 3:09 - loss: 5.8594 - acc: 0.280 - ETA: 3:08 - loss: 5.8660 - acc: 0.279 - ETA: 3:07 - loss: 5.8690 - acc: 0.279 - ETA: 3:06 - loss: 5.8768 - acc: 0.278 - ETA: 3:05 - loss: 5.8782 - acc: 0.277 - ETA: 3:03 - loss: 5.8797 - acc: 0.278 - ETA: 3:02 - loss: 5.8770 - acc: 0.278 - ETA: 3:01 - loss: 5.8798 - acc: 0.278 - ETA: 3:00 - loss: 5.8836 - acc: 0.278 - ETA: 2:59 - loss: 5.8857 - acc: 0.278 - ETA: 2:58 - loss: 5.8832 - acc: 0.278 - ETA: 2:57 - loss: 5.8780 - acc: 0.279 - ETA: 2:56 - loss: 5.8775 - acc: 0.279 - ETA: 2:55 - loss: 5.8753 - acc: 0.278 - ETA: 2:54 - loss: 5.8718 - acc: 0.278 - ETA: 2:54 - loss: 5.8683 - acc: 0.279 - ETA: 2:53 - loss: 5.8670 - acc: 0.278 - ETA: 2:52 - loss: 5.8667 - acc: 0.278 - ETA: 2:51 - loss: 5.8709 - acc: 0.278 - ETA: 2:50 - loss: 5.8713 - acc: 0.278 - ETA: 2:49 - loss: 5.8743 - acc: 0.278 - ETA: 2:48 - loss: 5.8723 - acc: 0.280 - ETA: 2:47 - loss: 5.8785 - acc: 0.280 - ETA: 2:45 - loss: 5.8782 - acc: 0.279 - ETA: 2:45 - loss: 5.8725 - acc: 0.280 - ETA: 2:44 - loss: 5.8712 - acc: 0.280 - ETA: 2:43 - loss: 5.8703 - acc: 0.280 - ETA: 2:41 - loss: 5.8711 - acc: 0.281 - ETA: 2:40 - loss: 5.8714 - acc: 0.280 - ETA: 2:39 - loss: 5.8727 - acc: 0.281 - ETA: 2:38 - loss: 5.8778 - acc: 0.281 - ETA: 2:37 - loss: 5.8786 - acc: 0.281 - ETA: 2:36 - loss: 5.8793 - acc: 0.281 - ETA: 2:35 - loss: 5.8797 - acc: 0.281 - ETA: 2:34 - loss: 5.8773 - acc: 0.280 - ETA: 2:33 - loss: 5.8799 - acc: 0.280 - ETA: 2:32 - loss: 5.8843 - acc: 0.280 - ETA: 2:31 - loss: 5.8810 - acc: 0.280 - ETA: 2:30 - loss: 5.8760 - acc: 0.281 - ETA: 2:29 - loss: 5.8698 - acc: 0.281 - ETA: 2:27 - loss: 5.8699 - acc: 0.281 - ETA: 2:26 - loss: 5.8697 - acc: 0.281 - ETA: 2:25 - loss: 5.8676 - acc: 0.281 - ETA: 2:24 - loss: 5.8640 - acc: 0.281 - ETA: 2:23 - loss: 5.8660 - acc: 0.280 - ETA: 2:22 - loss: 5.8678 - acc: 0.280 - ETA: 2:21 - loss: 5.8686 - acc: 0.280 - ETA: 2:20 - loss: 5.8706 - acc: 0.280 - ETA: 2:19 - loss: 5.8739 - acc: 0.279 - ETA: 2:18 - loss: 5.8722 - acc: 0.279 - ETA: 2:17 - loss: 5.8699 - acc: 0.279 - ETA: 2:16 - loss: 5.8729 - acc: 0.279 - ETA: 2:15 - loss: 5.8698 - acc: 0.278 - ETA: 2:14 - loss: 5.8712 - acc: 0.278 - ETA: 2:13 - loss: 5.8707 - acc: 0.278 - ETA: 2:12 - loss: 5.8725 - acc: 0.278 - ETA: 2:11 - loss: 5.8721 - acc: 0.279 - ETA: 2:10 - loss: 5.8719 - acc: 0.279 - ETA: 2:09 - loss: 5.8686 - acc: 0.279 - ETA: 2:08 - loss: 5.8700 - acc: 0.279 - ETA: 2:07 - loss: 5.8721 - acc: 0.279 - ETA: 2:06 - loss: 5.8684 - acc: 0.279 - ETA: 2:05 - loss: 5.8660 - acc: 0.280 - ETA: 2:03 - loss: 5.8667 - acc: 0.279 - ETA: 2:02 - loss: 5.8664 - acc: 0.279 - ETA: 2:01 - loss: 5.8696 - acc: 0.279 - ETA: 2:00 - loss: 5.8668 - acc: 0.279 - ETA: 1:59 - loss: 5.8669 - acc: 0.279 - ETA: 1:58 - loss: 5.8701 - acc: 0.279 - ETA: 1:57 - loss: 5.8712 - acc: 0.279 - ETA: 1:56 - loss: 5.8739 - acc: 0.279 - ETA: 1:55 - loss: 5.8742 - acc: 0.280 - ETA: 1:54 - loss: 5.8756 - acc: 0.280 - ETA: 1:53 - loss: 5.8807 - acc: 0.280 - ETA: 1:52 - loss: 5.8795 - acc: 0.280 - ETA: 1:51 - loss: 5.8768 - acc: 0.280312/312 [==============================] - ETA: 1:50 - loss: 5.8780 - acc: 0.280 - ETA: 1:49 - loss: 5.8822 - acc: 0.280 - ETA: 1:48 - loss: 5.8821 - acc: 0.280 - ETA: 1:47 - loss: 5.8833 - acc: 0.281 - ETA: 1:46 - loss: 5.8786 - acc: 0.281 - ETA: 1:45 - loss: 5.8803 - acc: 0.281 - ETA: 1:44 - loss: 5.8847 - acc: 0.281 - ETA: 1:43 - loss: 5.8889 - acc: 0.281 - ETA: 1:42 - loss: 5.8865 - acc: 0.281 - ETA: 1:41 - loss: 5.8834 - acc: 0.282 - ETA: 1:40 - loss: 5.8865 - acc: 0.281 - ETA: 1:39 - loss: 5.8937 - acc: 0.281 - ETA: 1:38 - loss: 5.8931 - acc: 0.281 - ETA: 1:37 - loss: 5.8986 - acc: 0.280 - ETA: 1:36 - loss: 5.8959 - acc: 0.280 - ETA: 1:35 - loss: 5.8996 - acc: 0.280 - ETA: 1:34 - loss: 5.9004 - acc: 0.280 - ETA: 1:33 - loss: 5.8975 - acc: 0.281 - ETA: 1:32 - loss: 5.8955 - acc: 0.281 - ETA: 1:31 - loss: 5.8975 - acc: 0.282 - ETA: 1:30 - loss: 5.9003 - acc: 0.281 - ETA: 1:29 - loss: 5.8983 - acc: 0.281 - ETA: 1:28 - loss: 5.8980 - acc: 0.281 - ETA: 1:27 - loss: 5.9010 - acc: 0.281 - ETA: 1:25 - loss: 5.9001 - acc: 0.281 - ETA: 1:24 - loss: 5.8991 - acc: 0.281 - ETA: 1:23 - loss: 5.8947 - acc: 0.282 - ETA: 1:22 - loss: 5.8937 - acc: 0.282 - ETA: 1:21 - loss: 5.8925 - acc: 0.282 - ETA: 1:20 - loss: 5.8891 - acc: 0.283 - ETA: 1:19 - loss: 5.8903 - acc: 0.282 - ETA: 1:18 - loss: 5.8858 - acc: 0.283 - ETA: 1:17 - loss: 5.8855 - acc: 0.283 - ETA: 1:16 - loss: 5.8827 - acc: 0.283 - ETA: 1:15 - loss: 5.8828 - acc: 0.283 - ETA: 1:14 - loss: 5.8854 - acc: 0.283 - ETA: 1:13 - loss: 5.8828 - acc: 0.283 - ETA: 1:12 - loss: 5.8852 - acc: 0.283 - ETA: 1:11 - loss: 5.8853 - acc: 0.282 - ETA: 1:10 - loss: 5.8833 - acc: 0.283 - ETA: 1:09 - loss: 5.8845 - acc: 0.282 - ETA: 1:08 - loss: 5.8853 - acc: 0.282 - ETA: 1:07 - loss: 5.8835 - acc: 0.283 - ETA: 1:06 - loss: 5.8835 - acc: 0.283 - ETA: 1:05 - loss: 5.8854 - acc: 0.282 - ETA: 1:04 - loss: 5.8834 - acc: 0.282 - ETA: 1:03 - loss: 5.8837 - acc: 0.283 - ETA: 1:02 - loss: 5.8843 - acc: 0.283 - ETA: 1:01 - loss: 5.8837 - acc: 0.283 - ETA: 1:00 - loss: 5.8837 - acc: 0.283 - ETA: 59s - loss: 5.8829 - acc: 0.284 - ETA: 58s - loss: 5.8820 - acc: 0.28 - ETA: 57s - loss: 5.8818 - acc: 0.28 - ETA: 56s - loss: 5.8822 - acc: 0.28 - ETA: 55s - loss: 5.8828 - acc: 0.28 - ETA: 54s - loss: 5.8822 - acc: 0.28 - ETA: 53s - loss: 5.8845 - acc: 0.28 - ETA: 52s - loss: 5.8834 - acc: 0.28 - ETA: 51s - loss: 5.8838 - acc: 0.28 - ETA: 49s - loss: 5.8861 - acc: 0.28 - ETA: 48s - loss: 5.8887 - acc: 0.28 - ETA: 47s - loss: 5.8883 - acc: 0.28 - ETA: 46s - loss: 5.8852 - acc: 0.28 - ETA: 45s - loss: 5.8826 - acc: 0.28 - ETA: 44s - loss: 5.8864 - acc: 0.28 - ETA: 43s - loss: 5.8855 - acc: 0.28 - ETA: 42s - loss: 5.8857 - acc: 0.28 - ETA: 41s - loss: 5.8831 - acc: 0.28 - ETA: 40s - loss: 5.8839 - acc: 0.28 - ETA: 39s - loss: 5.8844 - acc: 0.28 - ETA: 38s - loss: 5.8850 - acc: 0.28 - ETA: 37s - loss: 5.8842 - acc: 0.28 - ETA: 36s - loss: 5.8821 - acc: 0.28 - ETA: 35s - loss: 5.8831 - acc: 0.28 - ETA: 34s - loss: 5.8814 - acc: 0.28 - ETA: 33s - loss: 5.8822 - acc: 0.28 - ETA: 32s - loss: 5.8824 - acc: 0.28 - ETA: 31s - loss: 5.8806 - acc: 0.28 - ETA: 30s - loss: 5.8778 - acc: 0.28 - ETA: 29s - loss: 5.8773 - acc: 0.28 - ETA: 28s - loss: 5.8760 - acc: 0.28 - ETA: 27s - loss: 5.8744 - acc: 0.28 - ETA: 26s - loss: 5.8742 - acc: 0.28 - ETA: 25s - loss: 5.8768 - acc: 0.28 - ETA: 24s - loss: 5.8775 - acc: 0.28 - ETA: 23s - loss: 5.8794 - acc: 0.28 - ETA: 22s - loss: 5.8803 - acc: 0.28 - ETA: 21s - loss: 5.8794 - acc: 0.28 - ETA: 20s - loss: 5.8784 - acc: 0.28 - ETA: 19s - loss: 5.8790 - acc: 0.28 - ETA: 18s - loss: 5.8784 - acc: 0.28 - ETA: 17s - loss: 5.8786 - acc: 0.28 - ETA: 16s - loss: 5.8815 - acc: 0.28 - ETA: 15s - loss: 5.8835 - acc: 0.28 - ETA: 14s - loss: 5.8845 - acc: 0.28 - ETA: 13s - loss: 5.8871 - acc: 0.28 - ETA: 12s - loss: 5.8885 - acc: 0.28 - ETA: 11s - loss: 5.8867 - acc: 0.28 - ETA: 10s - loss: 5.8856 - acc: 0.28 - ETA: 9s - loss: 5.8880 - acc: 0.2829 - ETA: 8s - loss: 5.8904 - acc: 0.282 - ETA: 7s - loss: 5.8895 - acc: 0.282 - ETA: 6s - loss: 5.8869 - acc: 0.283 - ETA: 5s - loss: 5.8845 - acc: 0.283 - ETA: 4s - loss: 5.8822 - acc: 0.283 - ETA: 3s - loss: 5.8832 - acc: 0.283 - ETA: 2s - loss: 5.8845 - acc: 0.283 - ETA: 1s - loss: 5.8838 - acc: 0.283 - 318s 1s/step - loss: 5.8837 - acc: 0.2831\n",
            "Epoch 1 start at time  2019-08-04 00:37:12.239359\n"
          ],
          "name": "stdout"
        },
        {
          "output_type": "stream",
          "text": [
            "204/312 [==================>...........] - ETA: 6:33 - loss: 5.6182 - acc: 0.281 - ETA: 6:13 - loss: 5.5358 - acc: 0.281 - ETA: 5:57 - loss: 5.8958 - acc: 0.260 - ETA: 5:52 - loss: 5.7939 - acc: 0.257 - ETA: 5:56 - loss: 5.8704 - acc: 0.256 - ETA: 5:58 - loss: 5.8533 - acc: 0.281 - ETA: 5:56 - loss: 5.7417 - acc: 0.290 - ETA: 5:50 - loss: 5.7065 - acc: 0.293 - ETA: 5:43 - loss: 5.6386 - acc: 0.302 - ETA: 5:38 - loss: 5.6706 - acc: 0.300 - ETA: 5:31 - loss: 5.6663 - acc: 0.301 - ETA: 5:27 - loss: 5.6768 - acc: 0.299 - ETA: 5:21 - loss: 5.6801 - acc: 0.302 - ETA: 5:15 - loss: 5.6522 - acc: 0.305 - ETA: 5:11 - loss: 5.6592 - acc: 0.308 - ETA: 5:08 - loss: 5.7441 - acc: 0.300 - ETA: 5:05 - loss: 5.7318 - acc: 0.296 - ETA: 5:01 - loss: 5.6930 - acc: 0.296 - ETA: 4:58 - loss: 5.6864 - acc: 0.297 - ETA: 4:57 - loss: 5.6560 - acc: 0.301 - ETA: 4:54 - loss: 5.6671 - acc: 0.305 - ETA: 4:51 - loss: 5.6817 - acc: 0.304 - ETA: 4:49 - loss: 5.7026 - acc: 0.305 - ETA: 4:47 - loss: 5.7086 - acc: 0.303 - ETA: 4:44 - loss: 5.7149 - acc: 0.302 - ETA: 4:42 - loss: 5.7048 - acc: 0.302 - ETA: 4:40 - loss: 5.7150 - acc: 0.304 - ETA: 4:38 - loss: 5.7169 - acc: 0.301 - ETA: 4:37 - loss: 5.7424 - acc: 0.301 - ETA: 4:35 - loss: 5.7189 - acc: 0.303 - ETA: 4:34 - loss: 5.7114 - acc: 0.303 - ETA: 4:33 - loss: 5.7136 - acc: 0.301 - ETA: 4:31 - loss: 5.7291 - acc: 0.301 - ETA: 4:30 - loss: 5.7174 - acc: 0.300 - ETA: 4:29 - loss: 5.7189 - acc: 0.302 - ETA: 4:27 - loss: 5.7251 - acc: 0.303 - ETA: 4:26 - loss: 5.7057 - acc: 0.302 - ETA: 4:25 - loss: 5.7151 - acc: 0.302 - ETA: 4:23 - loss: 5.7318 - acc: 0.298 - ETA: 4:22 - loss: 5.7178 - acc: 0.300 - ETA: 4:20 - loss: 5.6962 - acc: 0.301 - ETA: 4:20 - loss: 5.7002 - acc: 0.300 - ETA: 4:18 - loss: 5.7100 - acc: 0.299 - ETA: 4:18 - loss: 5.7189 - acc: 0.297 - ETA: 4:16 - loss: 5.7199 - acc: 0.295 - ETA: 4:15 - loss: 5.7154 - acc: 0.296 - ETA: 4:13 - loss: 5.7053 - acc: 0.297 - ETA: 4:12 - loss: 5.7113 - acc: 0.294 - ETA: 4:11 - loss: 5.7201 - acc: 0.293 - ETA: 4:09 - loss: 5.7377 - acc: 0.291 - ETA: 4:08 - loss: 5.7174 - acc: 0.295 - ETA: 4:07 - loss: 5.6997 - acc: 0.298 - ETA: 4:06 - loss: 5.7102 - acc: 0.297 - ETA: 4:05 - loss: 5.6943 - acc: 0.300 - ETA: 4:03 - loss: 5.6911 - acc: 0.300 - ETA: 4:02 - loss: 5.6845 - acc: 0.300 - ETA: 4:01 - loss: 5.6707 - acc: 0.302 - ETA: 3:59 - loss: 5.6564 - acc: 0.303 - ETA: 3:58 - loss: 5.6626 - acc: 0.301 - ETA: 3:57 - loss: 5.6628 - acc: 0.301 - ETA: 3:55 - loss: 5.6832 - acc: 0.298 - ETA: 3:55 - loss: 5.6835 - acc: 0.301 - ETA: 3:54 - loss: 5.6698 - acc: 0.303 - ETA: 3:53 - loss: 5.6763 - acc: 0.302 - ETA: 3:51 - loss: 5.6646 - acc: 0.301 - ETA: 3:50 - loss: 5.6594 - acc: 0.301 - ETA: 3:49 - loss: 5.6663 - acc: 0.300 - ETA: 3:48 - loss: 5.6718 - acc: 0.300 - ETA: 3:47 - loss: 5.6840 - acc: 0.300 - ETA: 3:46 - loss: 5.6797 - acc: 0.300 - ETA: 3:45 - loss: 5.6837 - acc: 0.300 - ETA: 3:44 - loss: 5.6887 - acc: 0.299 - ETA: 3:43 - loss: 5.6831 - acc: 0.301 - ETA: 3:41 - loss: 5.6853 - acc: 0.301 - ETA: 3:40 - loss: 5.6899 - acc: 0.300 - ETA: 3:39 - loss: 5.6959 - acc: 0.300 - ETA: 3:38 - loss: 5.7099 - acc: 0.299 - ETA: 3:37 - loss: 5.7160 - acc: 0.297 - ETA: 3:36 - loss: 5.7068 - acc: 0.299 - ETA: 3:35 - loss: 5.7005 - acc: 0.298 - ETA: 3:34 - loss: 5.6966 - acc: 0.298 - ETA: 3:33 - loss: 5.7020 - acc: 0.297 - ETA: 3:32 - loss: 5.6968 - acc: 0.298 - ETA: 3:31 - loss: 5.6954 - acc: 0.298 - ETA: 3:30 - loss: 5.6911 - acc: 0.301 - ETA: 3:29 - loss: 5.6903 - acc: 0.301 - ETA: 3:28 - loss: 5.6973 - acc: 0.301 - ETA: 3:27 - loss: 5.6932 - acc: 0.301 - ETA: 3:26 - loss: 5.6970 - acc: 0.300 - ETA: 3:25 - loss: 5.6954 - acc: 0.300 - ETA: 3:24 - loss: 5.6955 - acc: 0.299 - ETA: 3:23 - loss: 5.6995 - acc: 0.299 - ETA: 3:22 - loss: 5.6985 - acc: 0.300 - ETA: 3:21 - loss: 5.7034 - acc: 0.299 - ETA: 3:20 - loss: 5.7060 - acc: 0.299 - ETA: 3:19 - loss: 5.7017 - acc: 0.298 - ETA: 3:18 - loss: 5.7025 - acc: 0.298 - ETA: 3:17 - loss: 5.6921 - acc: 0.300 - ETA: 3:16 - loss: 5.6909 - acc: 0.299 - ETA: 3:15 - loss: 5.6871 - acc: 0.299 - ETA: 3:14 - loss: 5.6918 - acc: 0.298 - ETA: 3:13 - loss: 5.6972 - acc: 0.297 - ETA: 3:12 - loss: 5.6965 - acc: 0.297 - ETA: 3:11 - loss: 5.7022 - acc: 0.297 - ETA: 3:10 - loss: 5.7011 - acc: 0.297 - ETA: 3:09 - loss: 5.7050 - acc: 0.297 - ETA: 3:08 - loss: 5.7032 - acc: 0.297 - ETA: 3:07 - loss: 5.7030 - acc: 0.298 - ETA: 3:06 - loss: 5.7029 - acc: 0.297 - ETA: 3:05 - loss: 5.7047 - acc: 0.297 - ETA: 3:05 - loss: 5.7050 - acc: 0.296 - ETA: 3:04 - loss: 5.7124 - acc: 0.295 - ETA: 3:03 - loss: 5.7143 - acc: 0.295 - ETA: 3:02 - loss: 5.7074 - acc: 0.296 - ETA: 3:01 - loss: 5.7068 - acc: 0.295 - ETA: 3:00 - loss: 5.7144 - acc: 0.295 - ETA: 2:59 - loss: 5.7166 - acc: 0.295 - ETA: 2:58 - loss: 5.7173 - acc: 0.295 - ETA: 2:57 - loss: 5.7104 - acc: 0.296 - ETA: 2:56 - loss: 5.7071 - acc: 0.296 - ETA: 2:55 - loss: 5.7072 - acc: 0.295 - ETA: 2:54 - loss: 5.7076 - acc: 0.295 - ETA: 2:53 - loss: 5.7094 - acc: 0.295 - ETA: 2:52 - loss: 5.7101 - acc: 0.296 - ETA: 2:51 - loss: 5.7096 - acc: 0.296 - ETA: 2:50 - loss: 5.7068 - acc: 0.297 - ETA: 2:49 - loss: 5.7090 - acc: 0.298 - ETA: 2:48 - loss: 5.7108 - acc: 0.297 - ETA: 2:47 - loss: 5.7183 - acc: 0.296 - ETA: 2:47 - loss: 5.7203 - acc: 0.295 - ETA: 2:46 - loss: 5.7279 - acc: 0.294 - ETA: 2:45 - loss: 5.7286 - acc: 0.294 - ETA: 2:44 - loss: 5.7310 - acc: 0.294 - ETA: 2:43 - loss: 5.7282 - acc: 0.295 - ETA: 2:42 - loss: 5.7311 - acc: 0.294 - ETA: 2:41 - loss: 5.7350 - acc: 0.294 - ETA: 2:40 - loss: 5.7368 - acc: 0.294 - ETA: 2:39 - loss: 5.7341 - acc: 0.293 - ETA: 2:38 - loss: 5.7285 - acc: 0.295 - ETA: 2:37 - loss: 5.7290 - acc: 0.295 - ETA: 2:36 - loss: 5.7265 - acc: 0.294 - ETA: 2:35 - loss: 5.7232 - acc: 0.294 - ETA: 2:34 - loss: 5.7181 - acc: 0.295 - ETA: 2:33 - loss: 5.7178 - acc: 0.294 - ETA: 2:33 - loss: 5.7170 - acc: 0.294 - ETA: 2:32 - loss: 5.7210 - acc: 0.294 - ETA: 2:31 - loss: 5.7204 - acc: 0.294 - ETA: 2:30 - loss: 5.7230 - acc: 0.294 - ETA: 2:29 - loss: 5.7205 - acc: 0.295 - ETA: 2:28 - loss: 5.7269 - acc: 0.295 - ETA: 2:27 - loss: 5.7261 - acc: 0.295 - ETA: 2:26 - loss: 5.7212 - acc: 0.295 - ETA: 2:25 - loss: 5.7204 - acc: 0.295 - ETA: 2:24 - loss: 5.7194 - acc: 0.295 - ETA: 2:23 - loss: 5.7209 - acc: 0.295 - ETA: 2:22 - loss: 5.7209 - acc: 0.294 - ETA: 2:21 - loss: 5.7220 - acc: 0.294 - ETA: 2:20 - loss: 5.7267 - acc: 0.294 - ETA: 2:19 - loss: 5.7273 - acc: 0.294 - ETA: 2:18 - loss: 5.7271 - acc: 0.294 - ETA: 2:17 - loss: 5.7277 - acc: 0.294 - ETA: 2:17 - loss: 5.7253 - acc: 0.293 - ETA: 2:16 - loss: 5.7274 - acc: 0.293 - ETA: 2:15 - loss: 5.7317 - acc: 0.293 - ETA: 2:14 - loss: 5.7276 - acc: 0.293 - ETA: 2:13 - loss: 5.7222 - acc: 0.293 - ETA: 2:12 - loss: 5.7156 - acc: 0.294 - ETA: 2:11 - loss: 5.7162 - acc: 0.294 - ETA: 2:10 - loss: 5.7153 - acc: 0.294 - ETA: 2:09 - loss: 5.7132 - acc: 0.293 - ETA: 2:08 - loss: 5.7102 - acc: 0.294 - ETA: 2:07 - loss: 5.7123 - acc: 0.294 - ETA: 2:06 - loss: 5.7135 - acc: 0.293 - ETA: 2:05 - loss: 5.7130 - acc: 0.293 - ETA: 2:04 - loss: 5.7151 - acc: 0.293 - ETA: 2:04 - loss: 5.7189 - acc: 0.293 - ETA: 2:03 - loss: 5.7179 - acc: 0.292 - ETA: 2:02 - loss: 5.7154 - acc: 0.292 - ETA: 2:01 - loss: 5.7183 - acc: 0.292 - ETA: 2:00 - loss: 5.7150 - acc: 0.292 - ETA: 1:59 - loss: 5.7160 - acc: 0.292 - ETA: 1:58 - loss: 5.7157 - acc: 0.292 - ETA: 1:57 - loss: 5.7180 - acc: 0.292 - ETA: 1:56 - loss: 5.7176 - acc: 0.292 - ETA: 1:55 - loss: 5.7175 - acc: 0.293 - ETA: 1:54 - loss: 5.7152 - acc: 0.293 - ETA: 1:53 - loss: 5.7165 - acc: 0.292 - ETA: 1:52 - loss: 5.7181 - acc: 0.292 - ETA: 1:52 - loss: 5.7150 - acc: 0.293 - ETA: 1:51 - loss: 5.7121 - acc: 0.294 - ETA: 1:50 - loss: 5.7132 - acc: 0.293 - ETA: 1:49 - loss: 5.7125 - acc: 0.294 - ETA: 1:48 - loss: 5.7162 - acc: 0.293 - ETA: 1:47 - loss: 5.7136 - acc: 0.293 - ETA: 1:46 - loss: 5.7135 - acc: 0.293 - ETA: 1:45 - loss: 5.7170 - acc: 0.293 - ETA: 1:44 - loss: 5.7186 - acc: 0.293 - ETA: 1:43 - loss: 5.7215 - acc: 0.292 - ETA: 1:42 - loss: 5.7211 - acc: 0.293 - ETA: 1:41 - loss: 5.7225 - acc: 0.293 - ETA: 1:40 - loss: 5.7285 - acc: 0.293 - ETA: 1:39 - loss: 5.7271 - acc: 0.293 - ETA: 1:39 - loss: 5.7250 - acc: 0.293 - ETA: 1:38 - loss: 5.7261 - acc: 0.2929"
          ],
          "name": "stdout"
        },
        {
          "output_type": "stream",
          "text": [
            "312/312 [==============================] - ETA: 1:37 - loss: 5.7304 - acc: 0.292 - ETA: 1:36 - loss: 5.7306 - acc: 0.293 - ETA: 1:35 - loss: 5.7317 - acc: 0.293 - ETA: 1:34 - loss: 5.7266 - acc: 0.294 - ETA: 1:33 - loss: 5.7282 - acc: 0.294 - ETA: 1:32 - loss: 5.7321 - acc: 0.294 - ETA: 1:31 - loss: 5.7369 - acc: 0.293 - ETA: 1:30 - loss: 5.7349 - acc: 0.293 - ETA: 1:29 - loss: 5.7319 - acc: 0.294 - ETA: 1:28 - loss: 5.7351 - acc: 0.294 - ETA: 1:28 - loss: 5.7418 - acc: 0.293 - ETA: 1:27 - loss: 5.7413 - acc: 0.293 - ETA: 1:26 - loss: 5.7472 - acc: 0.292 - ETA: 1:25 - loss: 5.7455 - acc: 0.292 - ETA: 1:24 - loss: 5.7494 - acc: 0.292 - ETA: 1:23 - loss: 5.7503 - acc: 0.292 - ETA: 1:22 - loss: 5.7476 - acc: 0.293 - ETA: 1:21 - loss: 5.7456 - acc: 0.293 - ETA: 1:20 - loss: 5.7474 - acc: 0.294 - ETA: 1:19 - loss: 5.7497 - acc: 0.293 - ETA: 1:18 - loss: 5.7482 - acc: 0.293 - ETA: 1:18 - loss: 5.7474 - acc: 0.294 - ETA: 1:17 - loss: 5.7505 - acc: 0.293 - ETA: 1:16 - loss: 5.7496 - acc: 0.293 - ETA: 1:15 - loss: 5.7485 - acc: 0.293 - ETA: 1:14 - loss: 5.7444 - acc: 0.294 - ETA: 1:13 - loss: 5.7432 - acc: 0.294 - ETA: 1:12 - loss: 5.7415 - acc: 0.294 - ETA: 1:11 - loss: 5.7379 - acc: 0.295 - ETA: 1:10 - loss: 5.7385 - acc: 0.295 - ETA: 1:09 - loss: 5.7345 - acc: 0.295 - ETA: 1:08 - loss: 5.7339 - acc: 0.296 - ETA: 1:08 - loss: 5.7311 - acc: 0.296 - ETA: 1:07 - loss: 5.7317 - acc: 0.296 - ETA: 1:06 - loss: 5.7340 - acc: 0.296 - ETA: 1:05 - loss: 5.7317 - acc: 0.296 - ETA: 1:04 - loss: 5.7331 - acc: 0.296 - ETA: 1:03 - loss: 5.7329 - acc: 0.295 - ETA: 1:02 - loss: 5.7309 - acc: 0.295 - ETA: 1:01 - loss: 5.7319 - acc: 0.295 - ETA: 1:00 - loss: 5.7324 - acc: 0.295 - ETA: 59s - loss: 5.7307 - acc: 0.296 - ETA: 59s - loss: 5.7301 - acc: 0.29 - ETA: 58s - loss: 5.7317 - acc: 0.29 - ETA: 57s - loss: 5.7296 - acc: 0.29 - ETA: 56s - loss: 5.7300 - acc: 0.29 - ETA: 55s - loss: 5.7306 - acc: 0.29 - ETA: 54s - loss: 5.7300 - acc: 0.29 - ETA: 53s - loss: 5.7299 - acc: 0.29 - ETA: 52s - loss: 5.7290 - acc: 0.29 - ETA: 51s - loss: 5.7282 - acc: 0.29 - ETA: 50s - loss: 5.7288 - acc: 0.29 - ETA: 49s - loss: 5.7288 - acc: 0.29 - ETA: 49s - loss: 5.7298 - acc: 0.29 - ETA: 48s - loss: 5.7296 - acc: 0.29 - ETA: 47s - loss: 5.7315 - acc: 0.29 - ETA: 46s - loss: 5.7304 - acc: 0.29 - ETA: 45s - loss: 5.7305 - acc: 0.29 - ETA: 44s - loss: 5.7331 - acc: 0.29 - ETA: 43s - loss: 5.7353 - acc: 0.29 - ETA: 42s - loss: 5.7349 - acc: 0.29 - ETA: 41s - loss: 5.7319 - acc: 0.29 - ETA: 40s - loss: 5.7292 - acc: 0.29 - ETA: 39s - loss: 5.7329 - acc: 0.29 - ETA: 39s - loss: 5.7322 - acc: 0.29 - ETA: 38s - loss: 5.7325 - acc: 0.29 - ETA: 37s - loss: 5.7298 - acc: 0.29 - ETA: 36s - loss: 5.7310 - acc: 0.29 - ETA: 35s - loss: 5.7314 - acc: 0.29 - ETA: 34s - loss: 5.7322 - acc: 0.29 - ETA: 33s - loss: 5.7317 - acc: 0.29 - ETA: 32s - loss: 5.7295 - acc: 0.29 - ETA: 31s - loss: 5.7303 - acc: 0.29 - ETA: 30s - loss: 5.7282 - acc: 0.29 - ETA: 29s - loss: 5.7286 - acc: 0.29 - ETA: 29s - loss: 5.7287 - acc: 0.29 - ETA: 28s - loss: 5.7259 - acc: 0.29 - ETA: 27s - loss: 5.7231 - acc: 0.29 - ETA: 26s - loss: 5.7218 - acc: 0.29 - ETA: 25s - loss: 5.7199 - acc: 0.29 - ETA: 24s - loss: 5.7183 - acc: 0.29 - ETA: 23s - loss: 5.7184 - acc: 0.29 - ETA: 22s - loss: 5.7210 - acc: 0.29 - ETA: 21s - loss: 5.7219 - acc: 0.29 - ETA: 20s - loss: 5.7242 - acc: 0.29 - ETA: 19s - loss: 5.7251 - acc: 0.29 - ETA: 19s - loss: 5.7241 - acc: 0.29 - ETA: 18s - loss: 5.7232 - acc: 0.29 - ETA: 17s - loss: 5.7239 - acc: 0.29 - ETA: 16s - loss: 5.7227 - acc: 0.29 - ETA: 15s - loss: 5.7224 - acc: 0.29 - ETA: 14s - loss: 5.7254 - acc: 0.29 - ETA: 13s - loss: 5.7273 - acc: 0.29 - ETA: 12s - loss: 5.7285 - acc: 0.29 - ETA: 11s - loss: 5.7315 - acc: 0.29 - ETA: 10s - loss: 5.7332 - acc: 0.29 - ETA: 9s - loss: 5.7314 - acc: 0.2973 - ETA: 9s - loss: 5.7302 - acc: 0.297 - ETA: 8s - loss: 5.7323 - acc: 0.296 - ETA: 7s - loss: 5.7347 - acc: 0.296 - ETA: 6s - loss: 5.7340 - acc: 0.296 - ETA: 5s - loss: 5.7313 - acc: 0.296 - ETA: 4s - loss: 5.7287 - acc: 0.297 - ETA: 3s - loss: 5.7269 - acc: 0.297 - ETA: 2s - loss: 5.7277 - acc: 0.297 - ETA: 1s - loss: 5.7286 - acc: 0.297 - ETA: 0s - loss: 5.7277 - acc: 0.297 - 282s 905ms/step - loss: 5.7273 - acc: 0.2972\n",
            "Epoch 2 start at time  2019-08-04 01:29:02.412844\n",
            "204/312 [==================>...........] - ETA: 5:40 - loss: 5.5644 - acc: 0.281 - ETA: 5:37 - loss: 5.4481 - acc: 0.312 - ETA: 5:35 - loss: 5.8250 - acc: 0.270 - ETA: 5:29 - loss: 5.7160 - acc: 0.257 - ETA: 5:36 - loss: 5.7464 - acc: 0.256 - ETA: 5:26 - loss: 5.7299 - acc: 0.281 - ETA: 5:21 - loss: 5.6188 - acc: 0.290 - ETA: 5:19 - loss: 5.5766 - acc: 0.296 - ETA: 5:21 - loss: 5.4787 - acc: 0.302 - ETA: 5:18 - loss: 5.5243 - acc: 0.296 - ETA: 5:17 - loss: 5.5182 - acc: 0.298 - ETA: 5:17 - loss: 5.5267 - acc: 0.304 - ETA: 5:16 - loss: 5.5326 - acc: 0.307 - ETA: 5:12 - loss: 5.5083 - acc: 0.314 - ETA: 5:12 - loss: 5.5198 - acc: 0.316 - ETA: 5:11 - loss: 5.6057 - acc: 0.312 - ETA: 5:08 - loss: 5.5935 - acc: 0.308 - ETA: 5:07 - loss: 5.5466 - acc: 0.309 - ETA: 5:06 - loss: 5.5414 - acc: 0.310 - ETA: 5:04 - loss: 5.5085 - acc: 0.315 - ETA: 5:04 - loss: 5.5217 - acc: 0.315 - ETA: 5:03 - loss: 5.5302 - acc: 0.315 - ETA: 5:01 - loss: 5.5517 - acc: 0.317 - ETA: 5:00 - loss: 5.5597 - acc: 0.317 - ETA: 4:59 - loss: 5.5654 - acc: 0.315 - ETA: 4:57 - loss: 5.5516 - acc: 0.318 - ETA: 4:56 - loss: 5.5649 - acc: 0.318 - ETA: 4:55 - loss: 5.5664 - acc: 0.315 - ETA: 4:54 - loss: 5.5911 - acc: 0.315 - ETA: 4:52 - loss: 5.5650 - acc: 0.318 - ETA: 4:51 - loss: 5.5574 - acc: 0.318 - ETA: 4:50 - loss: 5.5600 - acc: 0.316 - ETA: 4:48 - loss: 5.5737 - acc: 0.314 - ETA: 4:47 - loss: 5.5597 - acc: 0.314 - ETA: 4:45 - loss: 5.5637 - acc: 0.317 - ETA: 4:43 - loss: 5.5702 - acc: 0.316 - ETA: 4:42 - loss: 5.5489 - acc: 0.318 - ETA: 4:41 - loss: 5.5562 - acc: 0.318 - ETA: 4:39 - loss: 5.5755 - acc: 0.313 - ETA: 4:38 - loss: 5.5645 - acc: 0.313 - ETA: 4:37 - loss: 5.5434 - acc: 0.315 - ETA: 4:36 - loss: 5.5438 - acc: 0.315 - ETA: 4:35 - loss: 5.5511 - acc: 0.314 - ETA: 4:34 - loss: 5.5599 - acc: 0.311 - ETA: 4:33 - loss: 5.5589 - acc: 0.309 - ETA: 4:32 - loss: 5.5529 - acc: 0.309 - ETA: 4:31 - loss: 5.5438 - acc: 0.310 - ETA: 4:30 - loss: 5.5511 - acc: 0.307 - ETA: 4:29 - loss: 5.5598 - acc: 0.307 - ETA: 4:28 - loss: 5.5812 - acc: 0.305 - ETA: 4:26 - loss: 5.5613 - acc: 0.309 - ETA: 4:25 - loss: 5.5398 - acc: 0.311 - ETA: 4:24 - loss: 5.5519 - acc: 0.311 - ETA: 4:23 - loss: 5.5324 - acc: 0.314 - ETA: 4:22 - loss: 5.5301 - acc: 0.315 - ETA: 4:22 - loss: 5.5226 - acc: 0.316 - ETA: 4:21 - loss: 5.5083 - acc: 0.318 - ETA: 4:19 - loss: 5.4937 - acc: 0.319 - ETA: 4:19 - loss: 5.5008 - acc: 0.318 - ETA: 4:18 - loss: 5.5017 - acc: 0.318 - ETA: 4:17 - loss: 5.5209 - acc: 0.316 - ETA: 4:16 - loss: 5.5219 - acc: 0.318 - ETA: 4:15 - loss: 5.5091 - acc: 0.320 - ETA: 4:14 - loss: 5.5136 - acc: 0.319 - ETA: 4:13 - loss: 5.5025 - acc: 0.318 - ETA: 4:12 - loss: 5.5000 - acc: 0.317 - ETA: 4:11 - loss: 5.5090 - acc: 0.317 - ETA: 4:10 - loss: 5.5162 - acc: 0.316 - ETA: 4:08 - loss: 5.5266 - acc: 0.316 - ETA: 4:07 - loss: 5.5240 - acc: 0.316 - ETA: 4:06 - loss: 5.5272 - acc: 0.316 - ETA: 4:05 - loss: 5.5299 - acc: 0.316 - ETA: 4:04 - loss: 5.5228 - acc: 0.318 - ETA: 4:03 - loss: 5.5258 - acc: 0.318 - ETA: 4:02 - loss: 5.5316 - acc: 0.317 - ETA: 4:01 - loss: 5.5398 - acc: 0.316 - ETA: 4:00 - loss: 5.5564 - acc: 0.315 - ETA: 3:59 - loss: 5.5606 - acc: 0.314 - ETA: 3:58 - loss: 5.5529 - acc: 0.315 - ETA: 3:56 - loss: 5.5444 - acc: 0.314 - ETA: 3:55 - loss: 5.5409 - acc: 0.315 - ETA: 3:54 - loss: 5.5462 - acc: 0.314 - ETA: 3:53 - loss: 5.5422 - acc: 0.314 - ETA: 3:52 - loss: 5.5402 - acc: 0.314 - ETA: 3:51 - loss: 5.5353 - acc: 0.316 - ETA: 3:50 - loss: 5.5352 - acc: 0.316 - ETA: 3:49 - loss: 5.5449 - acc: 0.315 - ETA: 3:48 - loss: 5.5415 - acc: 0.316 - ETA: 3:47 - loss: 5.5448 - acc: 0.314 - ETA: 3:46 - loss: 5.5434 - acc: 0.315 - ETA: 3:45 - loss: 5.5449 - acc: 0.313 - ETA: 3:44 - loss: 5.5510 - acc: 0.314 - ETA: 3:43 - loss: 5.5511 - acc: 0.315 - ETA: 3:42 - loss: 5.5546 - acc: 0.315 - ETA: 3:41 - loss: 5.5576 - acc: 0.314 - ETA: 3:40 - loss: 5.5529 - acc: 0.314 - ETA: 3:39 - loss: 5.5558 - acc: 0.313 - ETA: 3:38 - loss: 5.5457 - acc: 0.314 - ETA: 3:37 - loss: 5.5454 - acc: 0.314 - ETA: 3:36 - loss: 5.5431 - acc: 0.314 - ETA: 3:35 - loss: 5.5483 - acc: 0.312 - ETA: 3:34 - loss: 5.5555 - acc: 0.311 - ETA: 3:33 - loss: 5.5551 - acc: 0.311 - ETA: 3:31 - loss: 5.5613 - acc: 0.311 - ETA: 3:30 - loss: 5.5584 - acc: 0.312 - ETA: 3:29 - loss: 5.5626 - acc: 0.311 - ETA: 3:28 - loss: 5.5613 - acc: 0.311 - ETA: 3:27 - loss: 5.5610 - acc: 0.311 - ETA: 3:26 - loss: 5.5611 - acc: 0.311 - ETA: 3:25 - loss: 5.5611 - acc: 0.311 - ETA: 3:24 - loss: 5.5617 - acc: 0.310 - ETA: 3:23 - loss: 5.5690 - acc: 0.309 - ETA: 3:22 - loss: 5.5707 - acc: 0.309 - ETA: 3:21 - loss: 5.5638 - acc: 0.310 - ETA: 3:20 - loss: 5.5628 - acc: 0.309 - ETA: 3:19 - loss: 5.5700 - acc: 0.308 - ETA: 3:18 - loss: 5.5740 - acc: 0.309 - ETA: 3:17 - loss: 5.5755 - acc: 0.309 - ETA: 3:16 - loss: 5.5684 - acc: 0.310 - ETA: 3:15 - loss: 5.5637 - acc: 0.310 - ETA: 3:14 - loss: 5.5632 - acc: 0.309 - ETA: 3:13 - loss: 5.5630 - acc: 0.310 - ETA: 3:12 - loss: 5.5641 - acc: 0.310 - ETA: 3:11 - loss: 5.5661 - acc: 0.310 - ETA: 3:10 - loss: 5.5663 - acc: 0.311 - ETA: 3:09 - loss: 5.5640 - acc: 0.311 - ETA: 3:08 - loss: 5.5664 - acc: 0.312 - ETA: 3:07 - loss: 5.5684 - acc: 0.311 - ETA: 3:06 - loss: 5.5759 - acc: 0.309 - ETA: 3:05 - loss: 5.5756 - acc: 0.310 - ETA: 3:04 - loss: 5.5839 - acc: 0.308 - ETA: 3:03 - loss: 5.5845 - acc: 0.308 - ETA: 3:02 - loss: 5.5868 - acc: 0.308 - ETA: 3:01 - loss: 5.5845 - acc: 0.309 - ETA: 3:00 - loss: 5.5881 - acc: 0.308 - ETA: 2:59 - loss: 5.5919 - acc: 0.308 - ETA: 2:58 - loss: 5.5943 - acc: 0.308 - ETA: 2:57 - loss: 5.5916 - acc: 0.307 - ETA: 2:56 - loss: 5.5861 - acc: 0.308 - ETA: 2:55 - loss: 5.5873 - acc: 0.308 - ETA: 2:54 - loss: 5.5853 - acc: 0.308 - ETA: 2:53 - loss: 5.5823 - acc: 0.308 - ETA: 2:52 - loss: 5.5766 - acc: 0.308 - ETA: 2:51 - loss: 5.5773 - acc: 0.307 - ETA: 2:50 - loss: 5.5762 - acc: 0.307 - ETA: 2:49 - loss: 5.5802 - acc: 0.307 - ETA: 2:48 - loss: 5.5791 - acc: 0.306 - ETA: 2:47 - loss: 5.5816 - acc: 0.306 - ETA: 2:46 - loss: 5.5783 - acc: 0.307 - ETA: 2:45 - loss: 5.5838 - acc: 0.307 - ETA: 2:44 - loss: 5.5834 - acc: 0.307 - ETA: 2:43 - loss: 5.5784 - acc: 0.308 - ETA: 2:42 - loss: 5.5770 - acc: 0.307 - ETA: 2:41 - loss: 5.5776 - acc: 0.307 - ETA: 2:40 - loss: 5.5794 - acc: 0.308 - ETA: 2:39 - loss: 5.5783 - acc: 0.307 - ETA: 2:38 - loss: 5.5791 - acc: 0.308 - ETA: 2:37 - loss: 5.5843 - acc: 0.308 - ETA: 2:36 - loss: 5.5849 - acc: 0.308 - ETA: 2:35 - loss: 5.5850 - acc: 0.309 - ETA: 2:34 - loss: 5.5853 - acc: 0.308 - ETA: 2:33 - loss: 5.5818 - acc: 0.308 - ETA: 2:32 - loss: 5.5840 - acc: 0.308 - ETA: 2:31 - loss: 5.5879 - acc: 0.308 - ETA: 2:30 - loss: 5.5848 - acc: 0.309 - ETA: 2:29 - loss: 5.5795 - acc: 0.309 - ETA: 2:28 - loss: 5.5733 - acc: 0.310 - ETA: 2:27 - loss: 5.5743 - acc: 0.310 - ETA: 2:26 - loss: 5.5728 - acc: 0.311 - ETA: 2:25 - loss: 5.5704 - acc: 0.310 - ETA: 2:24 - loss: 5.5674 - acc: 0.310 - ETA: 2:23 - loss: 5.5693 - acc: 0.311 - ETA: 2:21 - loss: 5.5696 - acc: 0.310 - ETA: 2:20 - loss: 5.5697 - acc: 0.310 - ETA: 2:19 - loss: 5.5729 - acc: 0.310 - ETA: 2:18 - loss: 5.5760 - acc: 0.310 - ETA: 2:17 - loss: 5.5747 - acc: 0.310 - ETA: 2:17 - loss: 5.5722 - acc: 0.310 - ETA: 2:16 - loss: 5.5750 - acc: 0.309 - ETA: 2:15 - loss: 5.5712 - acc: 0.309 - ETA: 2:14 - loss: 5.5725 - acc: 0.309 - ETA: 2:13 - loss: 5.5723 - acc: 0.309 - ETA: 2:11 - loss: 5.5746 - acc: 0.309 - ETA: 2:10 - loss: 5.5747 - acc: 0.309 - ETA: 2:09 - loss: 5.5749 - acc: 0.309 - ETA: 2:09 - loss: 5.5718 - acc: 0.310 - ETA: 2:07 - loss: 5.5728 - acc: 0.310 - ETA: 2:07 - loss: 5.5742 - acc: 0.310 - ETA: 2:05 - loss: 5.5708 - acc: 0.311 - ETA: 2:04 - loss: 5.5684 - acc: 0.311 - ETA: 2:03 - loss: 5.5695 - acc: 0.311 - ETA: 2:02 - loss: 5.5685 - acc: 0.311 - ETA: 2:01 - loss: 5.5735 - acc: 0.310 - ETA: 2:00 - loss: 5.5706 - acc: 0.311 - ETA: 1:59 - loss: 5.5709 - acc: 0.311 - ETA: 1:58 - loss: 5.5736 - acc: 0.310 - ETA: 1:57 - loss: 5.5756 - acc: 0.310 - ETA: 1:56 - loss: 5.5787 - acc: 0.310 - ETA: 1:55 - loss: 5.5779 - acc: 0.310 - ETA: 1:54 - loss: 5.5794 - acc: 0.310 - ETA: 1:53 - loss: 5.5853 - acc: 0.310 - ETA: 1:52 - loss: 5.5851 - acc: 0.310 - ETA: 1:51 - loss: 5.5826 - acc: 0.310 - ETA: 1:50 - loss: 5.5833 - acc: 0.3100312/312 [==============================] - ETA: 1:49 - loss: 5.5868 - acc: 0.310 - ETA: 1:48 - loss: 5.5874 - acc: 0.311 - ETA: 1:47 - loss: 5.5884 - acc: 0.311 - ETA: 1:46 - loss: 5.5834 - acc: 0.311 - ETA: 1:45 - loss: 5.5850 - acc: 0.311 - ETA: 1:44 - loss: 5.5890 - acc: 0.311 - ETA: 1:43 - loss: 5.5941 - acc: 0.311 - ETA: 1:42 - loss: 5.5929 - acc: 0.311 - ETA: 1:41 - loss: 5.5904 - acc: 0.312 - ETA: 1:40 - loss: 5.5945 - acc: 0.311 - ETA: 1:39 - loss: 5.6014 - acc: 0.310 - ETA: 1:38 - loss: 5.6001 - acc: 0.310 - ETA: 1:37 - loss: 5.6061 - acc: 0.310 - ETA: 1:36 - loss: 5.6046 - acc: 0.309 - ETA: 1:35 - loss: 5.6082 - acc: 0.309 - ETA: 1:34 - loss: 5.6090 - acc: 0.309 - ETA: 1:33 - loss: 5.6058 - acc: 0.310 - ETA: 1:32 - loss: 5.6042 - acc: 0.310 - ETA: 1:31 - loss: 5.6065 - acc: 0.310 - ETA: 1:30 - loss: 5.6088 - acc: 0.310 - ETA: 1:29 - loss: 5.6072 - acc: 0.310 - ETA: 1:28 - loss: 5.6066 - acc: 0.310 - ETA: 1:27 - loss: 5.6091 - acc: 0.310 - ETA: 1:26 - loss: 5.6081 - acc: 0.309 - ETA: 1:24 - loss: 5.6068 - acc: 0.309 - ETA: 1:23 - loss: 5.6029 - acc: 0.310 - ETA: 1:22 - loss: 5.6008 - acc: 0.310 - ETA: 1:21 - loss: 5.5991 - acc: 0.310 - ETA: 1:20 - loss: 5.5962 - acc: 0.311 - ETA: 1:19 - loss: 5.5972 - acc: 0.310 - ETA: 1:18 - loss: 5.5932 - acc: 0.311 - ETA: 1:17 - loss: 5.5923 - acc: 0.312 - ETA: 1:16 - loss: 5.5900 - acc: 0.312 - ETA: 1:15 - loss: 5.5901 - acc: 0.312 - ETA: 1:14 - loss: 5.5923 - acc: 0.311 - ETA: 1:13 - loss: 5.5897 - acc: 0.312 - ETA: 1:12 - loss: 5.5909 - acc: 0.312 - ETA: 1:11 - loss: 5.5905 - acc: 0.312 - ETA: 1:10 - loss: 5.5886 - acc: 0.312 - ETA: 1:09 - loss: 5.5900 - acc: 0.311 - ETA: 1:08 - loss: 5.5910 - acc: 0.311 - ETA: 1:07 - loss: 5.5894 - acc: 0.312 - ETA: 1:06 - loss: 5.5885 - acc: 0.311 - ETA: 1:05 - loss: 5.5908 - acc: 0.311 - ETA: 1:04 - loss: 5.5887 - acc: 0.311 - ETA: 1:03 - loss: 5.5897 - acc: 0.311 - ETA: 1:02 - loss: 5.5907 - acc: 0.311 - ETA: 1:01 - loss: 5.5901 - acc: 0.311 - ETA: 1:00 - loss: 5.5907 - acc: 0.311 - ETA: 59s - loss: 5.5893 - acc: 0.312 - ETA: 58s - loss: 5.5883 - acc: 0.31 - ETA: 57s - loss: 5.5889 - acc: 0.31 - ETA: 56s - loss: 5.5888 - acc: 0.31 - ETA: 55s - loss: 5.5894 - acc: 0.31 - ETA: 54s - loss: 5.5894 - acc: 0.31 - ETA: 53s - loss: 5.5912 - acc: 0.31 - ETA: 52s - loss: 5.5901 - acc: 0.31 - ETA: 51s - loss: 5.5894 - acc: 0.31 - ETA: 50s - loss: 5.5922 - acc: 0.31 - ETA: 49s - loss: 5.5948 - acc: 0.31 - ETA: 48s - loss: 5.5942 - acc: 0.31 - ETA: 47s - loss: 5.5919 - acc: 0.31 - ETA: 46s - loss: 5.5894 - acc: 0.31 - ETA: 45s - loss: 5.5929 - acc: 0.31 - ETA: 44s - loss: 5.5924 - acc: 0.31 - ETA: 43s - loss: 5.5931 - acc: 0.31 - ETA: 42s - loss: 5.5912 - acc: 0.31 - ETA: 40s - loss: 5.5923 - acc: 0.31 - ETA: 39s - loss: 5.5921 - acc: 0.31 - ETA: 38s - loss: 5.5933 - acc: 0.31 - ETA: 37s - loss: 5.5926 - acc: 0.31 - ETA: 36s - loss: 5.5908 - acc: 0.31 - ETA: 35s - loss: 5.5921 - acc: 0.31 - ETA: 34s - loss: 5.5902 - acc: 0.31 - ETA: 33s - loss: 5.5901 - acc: 0.31 - ETA: 32s - loss: 5.5901 - acc: 0.31 - ETA: 31s - loss: 5.5869 - acc: 0.31 - ETA: 30s - loss: 5.5838 - acc: 0.31 - ETA: 29s - loss: 5.5826 - acc: 0.31 - ETA: 28s - loss: 5.5804 - acc: 0.31 - ETA: 27s - loss: 5.5788 - acc: 0.31 - ETA: 26s - loss: 5.5792 - acc: 0.31 - ETA: 25s - loss: 5.5811 - acc: 0.31 - ETA: 24s - loss: 5.5819 - acc: 0.31 - ETA: 23s - loss: 5.5842 - acc: 0.31 - ETA: 22s - loss: 5.5849 - acc: 0.31 - ETA: 21s - loss: 5.5843 - acc: 0.31 - ETA: 20s - loss: 5.5834 - acc: 0.31 - ETA: 19s - loss: 5.5839 - acc: 0.31 - ETA: 18s - loss: 5.5828 - acc: 0.31 - ETA: 17s - loss: 5.5824 - acc: 0.31 - ETA: 16s - loss: 5.5854 - acc: 0.31 - ETA: 15s - loss: 5.5871 - acc: 0.31 - ETA: 14s - loss: 5.5885 - acc: 0.31 - ETA: 13s - loss: 5.5918 - acc: 0.31 - ETA: 12s - loss: 5.5932 - acc: 0.31 - ETA: 11s - loss: 5.5921 - acc: 0.31 - ETA: 10s - loss: 5.5909 - acc: 0.31 - ETA: 9s - loss: 5.5928 - acc: 0.3120 - ETA: 8s - loss: 5.5952 - acc: 0.311 - ETA: 7s - loss: 5.5948 - acc: 0.311 - ETA: 6s - loss: 5.5924 - acc: 0.312 - ETA: 5s - loss: 5.5896 - acc: 0.312 - ETA: 4s - loss: 5.5878 - acc: 0.312 - ETA: 3s - loss: 5.5883 - acc: 0.312 - ETA: 2s - loss: 5.5899 - acc: 0.312 - ETA: 1s - loss: 5.5894 - acc: 0.312 - 320s 1s/step - loss: 5.5889 - acc: 0.3125\n",
            "Epoch 3 start at time  2019-08-04 02:21:03.556801\n"
          ],
          "name": "stdout"
        },
        {
          "output_type": "stream",
          "text": [
            "204/312 [==================>...........] - ETA: 4:46 - loss: 5.4889 - acc: 0.281 - ETA: 4:35 - loss: 5.2683 - acc: 0.343 - ETA: 4:35 - loss: 5.6493 - acc: 0.291 - ETA: 4:38 - loss: 5.5777 - acc: 0.289 - ETA: 4:35 - loss: 5.6111 - acc: 0.293 - ETA: 4:36 - loss: 5.5807 - acc: 0.317 - ETA: 4:34 - loss: 5.4685 - acc: 0.325 - ETA: 4:31 - loss: 5.4284 - acc: 0.328 - ETA: 4:30 - loss: 5.3222 - acc: 0.336 - ETA: 4:27 - loss: 5.3600 - acc: 0.328 - ETA: 4:26 - loss: 5.3527 - acc: 0.332 - ETA: 4:24 - loss: 5.3733 - acc: 0.333 - ETA: 4:22 - loss: 5.3912 - acc: 0.334 - ETA: 4:21 - loss: 5.3632 - acc: 0.339 - ETA: 4:20 - loss: 5.3724 - acc: 0.343 - ETA: 4:20 - loss: 5.4635 - acc: 0.337 - ETA: 4:19 - loss: 5.4491 - acc: 0.338 - ETA: 4:17 - loss: 5.3970 - acc: 0.338 - ETA: 4:16 - loss: 5.3958 - acc: 0.338 - ETA: 4:16 - loss: 5.3663 - acc: 0.340 - ETA: 4:14 - loss: 5.3893 - acc: 0.343 - ETA: 4:13 - loss: 5.3938 - acc: 0.342 - ETA: 4:12 - loss: 5.4138 - acc: 0.343 - ETA: 4:12 - loss: 5.4226 - acc: 0.343 - ETA: 4:11 - loss: 5.4344 - acc: 0.340 - ETA: 4:10 - loss: 5.4160 - acc: 0.346 - ETA: 4:09 - loss: 5.4275 - acc: 0.346 - ETA: 4:08 - loss: 5.4279 - acc: 0.344 - ETA: 4:07 - loss: 5.4532 - acc: 0.344 - ETA: 4:06 - loss: 5.4250 - acc: 0.345 - ETA: 4:07 - loss: 5.4206 - acc: 0.344 - ETA: 4:06 - loss: 5.4227 - acc: 0.342 - ETA: 4:05 - loss: 5.4343 - acc: 0.340 - ETA: 4:04 - loss: 5.4179 - acc: 0.339 - ETA: 4:03 - loss: 5.4193 - acc: 0.340 - ETA: 4:02 - loss: 5.4285 - acc: 0.340 - ETA: 4:01 - loss: 5.4068 - acc: 0.340 - ETA: 4:00 - loss: 5.4133 - acc: 0.339 - ETA: 3:59 - loss: 5.4326 - acc: 0.334 - ETA: 3:58 - loss: 5.4239 - acc: 0.334 - ETA: 3:57 - loss: 5.4042 - acc: 0.336 - ETA: 3:56 - loss: 5.4049 - acc: 0.335 - ETA: 3:54 - loss: 5.4100 - acc: 0.335 - ETA: 3:54 - loss: 5.4211 - acc: 0.334 - ETA: 3:53 - loss: 5.4199 - acc: 0.334 - ETA: 3:52 - loss: 5.4136 - acc: 0.334 - ETA: 3:51 - loss: 5.4031 - acc: 0.336 - ETA: 3:50 - loss: 5.4104 - acc: 0.334 - ETA: 3:49 - loss: 5.4165 - acc: 0.334 - ETA: 3:49 - loss: 5.4375 - acc: 0.331 - ETA: 3:48 - loss: 5.4196 - acc: 0.334 - ETA: 3:47 - loss: 5.3991 - acc: 0.337 - ETA: 3:46 - loss: 5.4096 - acc: 0.336 - ETA: 3:45 - loss: 5.3913 - acc: 0.339 - ETA: 3:44 - loss: 5.3865 - acc: 0.340 - ETA: 3:43 - loss: 5.3769 - acc: 0.341 - ETA: 3:42 - loss: 5.3634 - acc: 0.343 - ETA: 3:41 - loss: 5.3476 - acc: 0.343 - ETA: 3:40 - loss: 5.3553 - acc: 0.342 - ETA: 3:39 - loss: 5.3572 - acc: 0.341 - ETA: 3:38 - loss: 5.3789 - acc: 0.339 - ETA: 3:38 - loss: 5.3801 - acc: 0.341 - ETA: 3:37 - loss: 5.3669 - acc: 0.342 - ETA: 3:36 - loss: 5.3693 - acc: 0.340 - ETA: 3:35 - loss: 5.3607 - acc: 0.340 - ETA: 3:35 - loss: 5.3565 - acc: 0.339 - ETA: 3:34 - loss: 5.3661 - acc: 0.339 - ETA: 3:33 - loss: 5.3713 - acc: 0.339 - ETA: 3:32 - loss: 5.3812 - acc: 0.338 - ETA: 3:31 - loss: 5.3789 - acc: 0.337 - ETA: 3:31 - loss: 5.3821 - acc: 0.337 - ETA: 3:30 - loss: 5.3839 - acc: 0.337 - ETA: 3:29 - loss: 5.3748 - acc: 0.339 - ETA: 3:28 - loss: 5.3788 - acc: 0.339 - ETA: 3:28 - loss: 5.3823 - acc: 0.338 - ETA: 3:27 - loss: 5.3906 - acc: 0.338 - ETA: 3:26 - loss: 5.4066 - acc: 0.335 - ETA: 3:25 - loss: 5.4102 - acc: 0.335 - ETA: 3:24 - loss: 5.4025 - acc: 0.337 - ETA: 3:23 - loss: 5.3953 - acc: 0.337 - ETA: 3:23 - loss: 5.3917 - acc: 0.337 - ETA: 3:22 - loss: 5.3980 - acc: 0.336 - ETA: 3:21 - loss: 5.3942 - acc: 0.337 - ETA: 3:20 - loss: 5.3938 - acc: 0.335 - ETA: 3:19 - loss: 5.3899 - acc: 0.338 - ETA: 3:18 - loss: 5.3901 - acc: 0.338 - ETA: 3:17 - loss: 5.3988 - acc: 0.337 - ETA: 3:17 - loss: 5.3972 - acc: 0.337 - ETA: 3:16 - loss: 5.3990 - acc: 0.336 - ETA: 3:15 - loss: 5.3995 - acc: 0.337 - ETA: 3:14 - loss: 5.3998 - acc: 0.335 - ETA: 3:13 - loss: 5.4072 - acc: 0.336 - ETA: 3:12 - loss: 5.4067 - acc: 0.337 - ETA: 3:11 - loss: 5.4099 - acc: 0.336 - ETA: 3:10 - loss: 5.4125 - acc: 0.335 - ETA: 3:09 - loss: 5.4069 - acc: 0.335 - ETA: 3:09 - loss: 5.4108 - acc: 0.334 - ETA: 3:08 - loss: 5.3996 - acc: 0.335 - ETA: 3:07 - loss: 5.3992 - acc: 0.335 - ETA: 3:06 - loss: 5.3975 - acc: 0.335 - ETA: 3:05 - loss: 5.4016 - acc: 0.334 - ETA: 3:04 - loss: 5.4096 - acc: 0.333 - ETA: 3:03 - loss: 5.4091 - acc: 0.333 - ETA: 3:02 - loss: 5.4164 - acc: 0.333 - ETA: 3:01 - loss: 5.4134 - acc: 0.334 - ETA: 3:00 - loss: 5.4182 - acc: 0.333 - ETA: 2:59 - loss: 5.4182 - acc: 0.334 - ETA: 2:59 - loss: 5.4171 - acc: 0.335 - ETA: 2:58 - loss: 5.4165 - acc: 0.334 - ETA: 2:57 - loss: 5.4174 - acc: 0.334 - ETA: 2:56 - loss: 5.4174 - acc: 0.334 - ETA: 2:55 - loss: 5.4250 - acc: 0.332 - ETA: 2:54 - loss: 5.4261 - acc: 0.333 - ETA: 2:53 - loss: 5.4196 - acc: 0.334 - ETA: 2:53 - loss: 5.4176 - acc: 0.334 - ETA: 2:52 - loss: 5.4245 - acc: 0.333 - ETA: 2:51 - loss: 5.4286 - acc: 0.333 - ETA: 2:50 - loss: 5.4293 - acc: 0.332 - ETA: 2:49 - loss: 5.4229 - acc: 0.333 - ETA: 2:48 - loss: 5.4197 - acc: 0.334 - ETA: 2:47 - loss: 5.4192 - acc: 0.333 - ETA: 2:46 - loss: 5.4193 - acc: 0.333 - ETA: 2:46 - loss: 5.4192 - acc: 0.333 - ETA: 2:45 - loss: 5.4204 - acc: 0.334 - ETA: 2:44 - loss: 5.4209 - acc: 0.335 - ETA: 2:43 - loss: 5.4179 - acc: 0.335 - ETA: 2:42 - loss: 5.4206 - acc: 0.335 - ETA: 2:41 - loss: 5.4219 - acc: 0.334 - ETA: 2:40 - loss: 5.4305 - acc: 0.333 - ETA: 2:39 - loss: 5.4292 - acc: 0.333 - ETA: 2:39 - loss: 5.4371 - acc: 0.332 - ETA: 2:38 - loss: 5.4378 - acc: 0.331 - ETA: 2:37 - loss: 5.4400 - acc: 0.331 - ETA: 2:36 - loss: 5.4372 - acc: 0.331 - ETA: 2:35 - loss: 5.4410 - acc: 0.331 - ETA: 2:34 - loss: 5.4451 - acc: 0.330 - ETA: 2:33 - loss: 5.4476 - acc: 0.330 - ETA: 2:32 - loss: 5.4443 - acc: 0.330 - ETA: 2:32 - loss: 5.4383 - acc: 0.331 - ETA: 2:31 - loss: 5.4387 - acc: 0.330 - ETA: 2:30 - loss: 5.4374 - acc: 0.330 - ETA: 2:29 - loss: 5.4348 - acc: 0.330 - ETA: 2:28 - loss: 5.4285 - acc: 0.331 - ETA: 2:27 - loss: 5.4287 - acc: 0.330 - ETA: 2:26 - loss: 5.4271 - acc: 0.330 - ETA: 2:25 - loss: 5.4309 - acc: 0.329 - ETA: 2:25 - loss: 5.4300 - acc: 0.329 - ETA: 2:24 - loss: 5.4319 - acc: 0.329 - ETA: 2:23 - loss: 5.4288 - acc: 0.330 - ETA: 2:22 - loss: 5.4352 - acc: 0.329 - ETA: 2:21 - loss: 5.4355 - acc: 0.329 - ETA: 2:20 - loss: 5.4310 - acc: 0.330 - ETA: 2:19 - loss: 5.4302 - acc: 0.329 - ETA: 2:18 - loss: 5.4305 - acc: 0.330 - ETA: 2:17 - loss: 5.4321 - acc: 0.330 - ETA: 2:17 - loss: 5.4307 - acc: 0.330 - ETA: 2:16 - loss: 5.4316 - acc: 0.331 - ETA: 2:15 - loss: 5.4369 - acc: 0.330 - ETA: 2:14 - loss: 5.4372 - acc: 0.330 - ETA: 2:13 - loss: 5.4377 - acc: 0.330 - ETA: 2:12 - loss: 5.4377 - acc: 0.330 - ETA: 2:11 - loss: 5.4344 - acc: 0.330 - ETA: 2:11 - loss: 5.4364 - acc: 0.329 - ETA: 2:10 - loss: 5.4403 - acc: 0.329 - ETA: 2:09 - loss: 5.4368 - acc: 0.329 - ETA: 2:08 - loss: 5.4315 - acc: 0.330 - ETA: 2:07 - loss: 5.4252 - acc: 0.331 - ETA: 2:06 - loss: 5.4260 - acc: 0.331 - ETA: 2:05 - loss: 5.4242 - acc: 0.331 - ETA: 2:04 - loss: 5.4224 - acc: 0.331 - ETA: 2:03 - loss: 5.4188 - acc: 0.332 - ETA: 2:03 - loss: 5.4211 - acc: 0.332 - ETA: 2:02 - loss: 5.4210 - acc: 0.331 - ETA: 2:01 - loss: 5.4205 - acc: 0.331 - ETA: 2:00 - loss: 5.4239 - acc: 0.331 - ETA: 1:59 - loss: 5.4279 - acc: 0.331 - ETA: 1:58 - loss: 5.4264 - acc: 0.331 - ETA: 1:57 - loss: 5.4243 - acc: 0.330 - ETA: 1:56 - loss: 5.4265 - acc: 0.330 - ETA: 1:55 - loss: 5.4229 - acc: 0.330 - ETA: 1:55 - loss: 5.4243 - acc: 0.330 - ETA: 1:54 - loss: 5.4247 - acc: 0.330 - ETA: 1:53 - loss: 5.4266 - acc: 0.330 - ETA: 1:52 - loss: 5.4263 - acc: 0.330 - ETA: 1:51 - loss: 5.4258 - acc: 0.331 - ETA: 1:50 - loss: 5.4236 - acc: 0.331 - ETA: 1:49 - loss: 5.4244 - acc: 0.331 - ETA: 1:48 - loss: 5.4263 - acc: 0.331 - ETA: 1:47 - loss: 5.4227 - acc: 0.332 - ETA: 1:47 - loss: 5.4201 - acc: 0.332 - ETA: 1:46 - loss: 5.4206 - acc: 0.332 - ETA: 1:45 - loss: 5.4203 - acc: 0.332 - ETA: 1:44 - loss: 5.4254 - acc: 0.331 - ETA: 1:43 - loss: 5.4218 - acc: 0.331 - ETA: 1:42 - loss: 5.4216 - acc: 0.331 - ETA: 1:41 - loss: 5.4242 - acc: 0.331 - ETA: 1:40 - loss: 5.4264 - acc: 0.331 - ETA: 1:40 - loss: 5.4297 - acc: 0.330 - ETA: 1:39 - loss: 5.4291 - acc: 0.331 - ETA: 1:38 - loss: 5.4307 - acc: 0.331 - ETA: 1:37 - loss: 5.4371 - acc: 0.331 - ETA: 1:36 - loss: 5.4371 - acc: 0.331 - ETA: 1:35 - loss: 5.4351 - acc: 0.331 - ETA: 1:34 - loss: 5.4355 - acc: 0.3312"
          ],
          "name": "stdout"
        },
        {
          "output_type": "stream",
          "text": [
            "312/312 [==============================] - ETA: 1:34 - loss: 5.4392 - acc: 0.330 - ETA: 1:33 - loss: 5.4402 - acc: 0.331 - ETA: 1:32 - loss: 5.4413 - acc: 0.331 - ETA: 1:31 - loss: 5.4360 - acc: 0.331 - ETA: 1:30 - loss: 5.4373 - acc: 0.331 - ETA: 1:29 - loss: 5.4411 - acc: 0.331 - ETA: 1:28 - loss: 5.4465 - acc: 0.331 - ETA: 1:27 - loss: 5.4457 - acc: 0.331 - ETA: 1:26 - loss: 5.4432 - acc: 0.332 - ETA: 1:26 - loss: 5.4475 - acc: 0.331 - ETA: 1:25 - loss: 5.4541 - acc: 0.330 - ETA: 1:24 - loss: 5.4533 - acc: 0.330 - ETA: 1:23 - loss: 5.4592 - acc: 0.330 - ETA: 1:22 - loss: 5.4581 - acc: 0.330 - ETA: 1:21 - loss: 5.4620 - acc: 0.329 - ETA: 1:20 - loss: 5.4631 - acc: 0.329 - ETA: 1:19 - loss: 5.4606 - acc: 0.330 - ETA: 1:19 - loss: 5.4586 - acc: 0.330 - ETA: 1:18 - loss: 5.4606 - acc: 0.330 - ETA: 1:17 - loss: 5.4626 - acc: 0.330 - ETA: 1:16 - loss: 5.4613 - acc: 0.330 - ETA: 1:15 - loss: 5.4612 - acc: 0.330 - ETA: 1:14 - loss: 5.4630 - acc: 0.330 - ETA: 1:13 - loss: 5.4624 - acc: 0.329 - ETA: 1:13 - loss: 5.4606 - acc: 0.329 - ETA: 1:12 - loss: 5.4571 - acc: 0.330 - ETA: 1:11 - loss: 5.4554 - acc: 0.330 - ETA: 1:10 - loss: 5.4537 - acc: 0.330 - ETA: 1:09 - loss: 5.4502 - acc: 0.331 - ETA: 1:08 - loss: 5.4509 - acc: 0.330 - ETA: 1:07 - loss: 5.4468 - acc: 0.331 - ETA: 1:06 - loss: 5.4462 - acc: 0.331 - ETA: 1:05 - loss: 5.4439 - acc: 0.332 - ETA: 1:05 - loss: 5.4435 - acc: 0.332 - ETA: 1:04 - loss: 5.4458 - acc: 0.331 - ETA: 1:03 - loss: 5.4432 - acc: 0.332 - ETA: 1:02 - loss: 5.4440 - acc: 0.332 - ETA: 1:01 - loss: 5.4434 - acc: 0.332 - ETA: 1:00 - loss: 5.4413 - acc: 0.332 - ETA: 59s - loss: 5.4429 - acc: 0.331 - ETA: 58s - loss: 5.4439 - acc: 0.33 - ETA: 58s - loss: 5.4422 - acc: 0.33 - ETA: 57s - loss: 5.4404 - acc: 0.33 - ETA: 56s - loss: 5.4427 - acc: 0.33 - ETA: 55s - loss: 5.4410 - acc: 0.33 - ETA: 54s - loss: 5.4418 - acc: 0.33 - ETA: 53s - loss: 5.4427 - acc: 0.33 - ETA: 52s - loss: 5.4420 - acc: 0.33 - ETA: 51s - loss: 5.4419 - acc: 0.33 - ETA: 51s - loss: 5.4400 - acc: 0.33 - ETA: 50s - loss: 5.4390 - acc: 0.33 - ETA: 49s - loss: 5.4397 - acc: 0.33 - ETA: 48s - loss: 5.4396 - acc: 0.33 - ETA: 47s - loss: 5.4404 - acc: 0.33 - ETA: 46s - loss: 5.4400 - acc: 0.33 - ETA: 45s - loss: 5.4418 - acc: 0.33 - ETA: 44s - loss: 5.4411 - acc: 0.33 - ETA: 43s - loss: 5.4403 - acc: 0.33 - ETA: 43s - loss: 5.4437 - acc: 0.33 - ETA: 42s - loss: 5.4457 - acc: 0.33 - ETA: 41s - loss: 5.4449 - acc: 0.33 - ETA: 40s - loss: 5.4425 - acc: 0.33 - ETA: 39s - loss: 5.4398 - acc: 0.33 - ETA: 38s - loss: 5.4431 - acc: 0.33 - ETA: 37s - loss: 5.4425 - acc: 0.33 - ETA: 36s - loss: 5.4431 - acc: 0.33 - ETA: 36s - loss: 5.4409 - acc: 0.33 - ETA: 35s - loss: 5.4424 - acc: 0.33 - ETA: 34s - loss: 5.4427 - acc: 0.33 - ETA: 33s - loss: 5.4439 - acc: 0.33 - ETA: 32s - loss: 5.4432 - acc: 0.33 - ETA: 31s - loss: 5.4413 - acc: 0.33 - ETA: 30s - loss: 5.4424 - acc: 0.33 - ETA: 29s - loss: 5.4402 - acc: 0.33 - ETA: 29s - loss: 5.4398 - acc: 0.33 - ETA: 28s - loss: 5.4400 - acc: 0.33 - ETA: 27s - loss: 5.4372 - acc: 0.33 - ETA: 26s - loss: 5.4344 - acc: 0.33 - ETA: 25s - loss: 5.4327 - acc: 0.33 - ETA: 24s - loss: 5.4306 - acc: 0.33 - ETA: 23s - loss: 5.4287 - acc: 0.33 - ETA: 22s - loss: 5.4287 - acc: 0.33 - ETA: 22s - loss: 5.4305 - acc: 0.33 - ETA: 21s - loss: 5.4315 - acc: 0.33 - ETA: 20s - loss: 5.4336 - acc: 0.33 - ETA: 19s - loss: 5.4350 - acc: 0.33 - ETA: 18s - loss: 5.4337 - acc: 0.33 - ETA: 17s - loss: 5.4326 - acc: 0.33 - ETA: 16s - loss: 5.4335 - acc: 0.33 - ETA: 15s - loss: 5.4324 - acc: 0.33 - ETA: 14s - loss: 5.4321 - acc: 0.33 - ETA: 14s - loss: 5.4348 - acc: 0.33 - ETA: 13s - loss: 5.4364 - acc: 0.33 - ETA: 12s - loss: 5.4378 - acc: 0.33 - ETA: 11s - loss: 5.4412 - acc: 0.33 - ETA: 10s - loss: 5.4429 - acc: 0.33 - ETA: 9s - loss: 5.4418 - acc: 0.3312 - ETA: 8s - loss: 5.4410 - acc: 0.331 - ETA: 7s - loss: 5.4426 - acc: 0.331 - ETA: 7s - loss: 5.4449 - acc: 0.330 - ETA: 6s - loss: 5.4444 - acc: 0.330 - ETA: 5s - loss: 5.4421 - acc: 0.330 - ETA: 4s - loss: 5.4390 - acc: 0.331 - ETA: 3s - loss: 5.4376 - acc: 0.331 - ETA: 2s - loss: 5.4380 - acc: 0.331 - ETA: 1s - loss: 5.4395 - acc: 0.331 - ETA: 0s - loss: 5.4391 - acc: 0.331 - 274s 879ms/step - loss: 5.4383 - acc: 0.3314\n",
            "Epoch 4 start at time  2019-08-04 03:13:08.305536\n",
            "204/312 [==================>...........] - ETA: 5:59 - loss: 5.3163 - acc: 0.343 - ETA: 5:34 - loss: 5.1218 - acc: 0.375 - ETA: 5:30 - loss: 5.4895 - acc: 0.343 - ETA: 5:32 - loss: 5.4250 - acc: 0.328 - ETA: 5:25 - loss: 5.4549 - acc: 0.318 - ETA: 5:27 - loss: 5.4394 - acc: 0.338 - ETA: 5:26 - loss: 5.3170 - acc: 0.348 - ETA: 5:22 - loss: 5.2742 - acc: 0.347 - ETA: 5:21 - loss: 5.1668 - acc: 0.361 - ETA: 5:21 - loss: 5.2096 - acc: 0.353 - ETA: 5:21 - loss: 5.1989 - acc: 0.355 - ETA: 5:20 - loss: 5.2251 - acc: 0.349 - ETA: 5:17 - loss: 5.2433 - acc: 0.348 - ETA: 5:15 - loss: 5.2265 - acc: 0.352 - ETA: 5:15 - loss: 5.2352 - acc: 0.354 - ETA: 5:13 - loss: 5.3354 - acc: 0.345 - ETA: 5:12 - loss: 5.3292 - acc: 0.345 - ETA: 5:09 - loss: 5.2750 - acc: 0.349 - ETA: 5:07 - loss: 5.2642 - acc: 0.350 - ETA: 5:04 - loss: 5.2323 - acc: 0.354 - ETA: 5:04 - loss: 5.2532 - acc: 0.357 - ETA: 5:04 - loss: 5.2580 - acc: 0.353 - ETA: 5:04 - loss: 5.2767 - acc: 0.354 - ETA: 5:02 - loss: 5.2833 - acc: 0.355 - ETA: 5:01 - loss: 5.2895 - acc: 0.352 - ETA: 5:00 - loss: 5.2762 - acc: 0.358 - ETA: 4:59 - loss: 5.2892 - acc: 0.356 - ETA: 4:58 - loss: 5.2908 - acc: 0.356 - ETA: 4:56 - loss: 5.3176 - acc: 0.353 - ETA: 4:55 - loss: 5.2915 - acc: 0.354 - ETA: 4:55 - loss: 5.2875 - acc: 0.354 - ETA: 4:54 - loss: 5.2843 - acc: 0.352 - ETA: 4:53 - loss: 5.2971 - acc: 0.352 - ETA: 4:52 - loss: 5.2819 - acc: 0.351 - ETA: 4:51 - loss: 5.2834 - acc: 0.350 - ETA: 4:50 - loss: 5.2881 - acc: 0.351 - ETA: 4:49 - loss: 5.2667 - acc: 0.352 - ETA: 4:48 - loss: 5.2745 - acc: 0.351 - ETA: 4:47 - loss: 5.2964 - acc: 0.345 - ETA: 4:46 - loss: 5.2883 - acc: 0.346 - ETA: 4:45 - loss: 5.2694 - acc: 0.346 - ETA: 4:43 - loss: 5.2736 - acc: 0.346 - ETA: 4:43 - loss: 5.2785 - acc: 0.346 - ETA: 4:42 - loss: 5.2892 - acc: 0.345 - ETA: 4:41 - loss: 5.2874 - acc: 0.343 - ETA: 4:41 - loss: 5.2839 - acc: 0.344 - ETA: 4:40 - loss: 5.2759 - acc: 0.346 - ETA: 4:39 - loss: 5.2823 - acc: 0.344 - ETA: 4:38 - loss: 5.2888 - acc: 0.344 - ETA: 4:37 - loss: 5.3113 - acc: 0.341 - ETA: 4:36 - loss: 5.2924 - acc: 0.345 - ETA: 4:35 - loss: 5.2699 - acc: 0.348 - ETA: 4:34 - loss: 5.2791 - acc: 0.347 - ETA: 4:34 - loss: 5.2602 - acc: 0.350 - ETA: 4:33 - loss: 5.2567 - acc: 0.352 - ETA: 4:32 - loss: 5.2480 - acc: 0.352 - ETA: 4:31 - loss: 5.2342 - acc: 0.355 - ETA: 4:30 - loss: 5.2214 - acc: 0.357 - ETA: 4:29 - loss: 5.2314 - acc: 0.355 - ETA: 4:27 - loss: 5.2335 - acc: 0.354 - ETA: 4:26 - loss: 5.2548 - acc: 0.352 - ETA: 4:25 - loss: 5.2550 - acc: 0.354 - ETA: 4:24 - loss: 5.2422 - acc: 0.356 - ETA: 4:23 - loss: 5.2454 - acc: 0.354 - ETA: 4:22 - loss: 5.2374 - acc: 0.354 - ETA: 4:21 - loss: 5.2330 - acc: 0.353 - ETA: 4:19 - loss: 5.2428 - acc: 0.352 - ETA: 4:18 - loss: 5.2482 - acc: 0.352 - ETA: 4:17 - loss: 5.2578 - acc: 0.352 - ETA: 4:16 - loss: 5.2561 - acc: 0.350 - ETA: 4:14 - loss: 5.2588 - acc: 0.349 - ETA: 4:14 - loss: 5.2590 - acc: 0.350 - ETA: 4:12 - loss: 5.2495 - acc: 0.352 - ETA: 4:11 - loss: 5.2541 - acc: 0.351 - ETA: 4:10 - loss: 5.2581 - acc: 0.351 - ETA: 4:09 - loss: 5.2674 - acc: 0.349 - ETA: 4:08 - loss: 5.2853 - acc: 0.348 - ETA: 4:07 - loss: 5.2870 - acc: 0.348 - ETA: 4:06 - loss: 5.2805 - acc: 0.349 - ETA: 4:05 - loss: 5.2731 - acc: 0.349 - ETA: 4:03 - loss: 5.2698 - acc: 0.349 - ETA: 4:02 - loss: 5.2763 - acc: 0.348 - ETA: 4:01 - loss: 5.2724 - acc: 0.349 - ETA: 4:00 - loss: 5.2717 - acc: 0.347 - ETA: 3:59 - loss: 5.2676 - acc: 0.350 - ETA: 3:58 - loss: 5.2664 - acc: 0.350 - ETA: 3:57 - loss: 5.2756 - acc: 0.349 - ETA: 3:56 - loss: 5.2741 - acc: 0.348 - ETA: 3:55 - loss: 5.2751 - acc: 0.347 - ETA: 3:54 - loss: 5.2757 - acc: 0.347 - ETA: 3:53 - loss: 5.2767 - acc: 0.346 - ETA: 3:52 - loss: 5.2851 - acc: 0.346 - ETA: 3:51 - loss: 5.2857 - acc: 0.347 - ETA: 3:50 - loss: 5.2889 - acc: 0.347 - ETA: 3:49 - loss: 5.2910 - acc: 0.346 - ETA: 3:48 - loss: 5.2846 - acc: 0.345 - ETA: 3:47 - loss: 5.2884 - acc: 0.344 - ETA: 3:46 - loss: 5.2765 - acc: 0.346 - ETA: 3:45 - loss: 5.2757 - acc: 0.346 - ETA: 3:44 - loss: 5.2743 - acc: 0.346 - ETA: 3:43 - loss: 5.2784 - acc: 0.345 - ETA: 3:41 - loss: 5.2871 - acc: 0.344 - ETA: 3:40 - loss: 5.2876 - acc: 0.344 - ETA: 3:39 - loss: 5.2948 - acc: 0.344 - ETA: 3:38 - loss: 5.2922 - acc: 0.344 - ETA: 3:37 - loss: 5.2973 - acc: 0.344 - ETA: 3:36 - loss: 5.2971 - acc: 0.344 - ETA: 3:35 - loss: 5.2968 - acc: 0.345 - ETA: 3:34 - loss: 5.2952 - acc: 0.344 - ETA: 3:33 - loss: 5.2959 - acc: 0.344 - ETA: 3:32 - loss: 5.2960 - acc: 0.343 - ETA: 3:31 - loss: 5.3031 - acc: 0.342 - ETA: 3:30 - loss: 5.3044 - acc: 0.342 - ETA: 3:29 - loss: 5.2976 - acc: 0.343 - ETA: 3:28 - loss: 5.2956 - acc: 0.342 - ETA: 3:27 - loss: 5.3021 - acc: 0.342 - ETA: 3:26 - loss: 5.3068 - acc: 0.342 - ETA: 3:25 - loss: 5.3085 - acc: 0.342 - ETA: 3:24 - loss: 5.3026 - acc: 0.343 - ETA: 3:23 - loss: 5.2983 - acc: 0.343 - ETA: 3:22 - loss: 5.2975 - acc: 0.342 - ETA: 3:21 - loss: 5.2991 - acc: 0.343 - ETA: 3:20 - loss: 5.2978 - acc: 0.343 - ETA: 3:18 - loss: 5.2994 - acc: 0.344 - ETA: 3:18 - loss: 5.3008 - acc: 0.344 - ETA: 3:16 - loss: 5.2979 - acc: 0.344 - ETA: 3:15 - loss: 5.3002 - acc: 0.344 - ETA: 3:14 - loss: 5.3021 - acc: 0.344 - ETA: 3:13 - loss: 5.3102 - acc: 0.343 - ETA: 3:12 - loss: 5.3085 - acc: 0.344 - ETA: 3:11 - loss: 5.3160 - acc: 0.343 - ETA: 3:10 - loss: 5.3172 - acc: 0.343 - ETA: 3:08 - loss: 5.3194 - acc: 0.342 - ETA: 3:07 - loss: 5.3162 - acc: 0.342 - ETA: 3:06 - loss: 5.3203 - acc: 0.342 - ETA: 3:05 - loss: 5.3248 - acc: 0.342 - ETA: 3:04 - loss: 5.3275 - acc: 0.341 - ETA: 3:03 - loss: 5.3236 - acc: 0.341 - ETA: 3:02 - loss: 5.3186 - acc: 0.341 - ETA: 3:01 - loss: 5.3186 - acc: 0.341 - ETA: 3:00 - loss: 5.3168 - acc: 0.340 - ETA: 2:59 - loss: 5.3149 - acc: 0.341 - ETA: 2:58 - loss: 5.3085 - acc: 0.341 - ETA: 2:57 - loss: 5.3089 - acc: 0.340 - ETA: 2:56 - loss: 5.3081 - acc: 0.340 - ETA: 2:54 - loss: 5.3119 - acc: 0.339 - ETA: 2:53 - loss: 5.3106 - acc: 0.339 - ETA: 2:52 - loss: 5.3130 - acc: 0.339 - ETA: 2:51 - loss: 5.3102 - acc: 0.340 - ETA: 2:50 - loss: 5.3161 - acc: 0.340 - ETA: 2:49 - loss: 5.3166 - acc: 0.340 - ETA: 2:48 - loss: 5.3116 - acc: 0.341 - ETA: 2:47 - loss: 5.3115 - acc: 0.340 - ETA: 2:46 - loss: 5.3118 - acc: 0.340 - ETA: 2:45 - loss: 5.3135 - acc: 0.341 - ETA: 2:44 - loss: 5.3117 - acc: 0.340 - ETA: 2:43 - loss: 5.3120 - acc: 0.341 - ETA: 2:41 - loss: 5.3167 - acc: 0.341 - ETA: 2:41 - loss: 5.3171 - acc: 0.341 - ETA: 2:39 - loss: 5.3181 - acc: 0.341 - ETA: 2:38 - loss: 5.3182 - acc: 0.340 - ETA: 2:38 - loss: 5.3153 - acc: 0.340 - ETA: 2:37 - loss: 5.3170 - acc: 0.339 - ETA: 2:36 - loss: 5.3208 - acc: 0.339 - ETA: 2:35 - loss: 5.3179 - acc: 0.340 - ETA: 2:33 - loss: 5.3125 - acc: 0.340 - ETA: 2:33 - loss: 5.3062 - acc: 0.341 - ETA: 2:32 - loss: 5.3080 - acc: 0.341 - ETA: 2:31 - loss: 5.3054 - acc: 0.341 - ETA: 2:30 - loss: 5.3029 - acc: 0.342 - ETA: 2:29 - loss: 5.2991 - acc: 0.343 - ETA: 2:27 - loss: 5.3016 - acc: 0.343 - ETA: 2:26 - loss: 5.3020 - acc: 0.342 - ETA: 2:25 - loss: 5.3015 - acc: 0.342 - ETA: 2:24 - loss: 5.3048 - acc: 0.342 - ETA: 2:23 - loss: 5.3096 - acc: 0.342 - ETA: 2:22 - loss: 5.3089 - acc: 0.342 - ETA: 2:21 - loss: 5.3069 - acc: 0.342 - ETA: 2:20 - loss: 5.3086 - acc: 0.341 - ETA: 2:19 - loss: 5.3052 - acc: 0.341 - ETA: 2:18 - loss: 5.3072 - acc: 0.341 - ETA: 2:17 - loss: 5.3077 - acc: 0.341 - ETA: 2:16 - loss: 5.3098 - acc: 0.341 - ETA: 2:15 - loss: 5.3099 - acc: 0.342 - ETA: 2:13 - loss: 5.3095 - acc: 0.342 - ETA: 2:12 - loss: 5.3070 - acc: 0.342 - ETA: 2:11 - loss: 5.3069 - acc: 0.342 - ETA: 2:10 - loss: 5.3085 - acc: 0.342 - ETA: 2:09 - loss: 5.3041 - acc: 0.342 - ETA: 2:08 - loss: 5.3022 - acc: 0.343 - ETA: 2:07 - loss: 5.3026 - acc: 0.343 - ETA: 2:06 - loss: 5.3023 - acc: 0.343 - ETA: 2:05 - loss: 5.3068 - acc: 0.342 - ETA: 2:04 - loss: 5.3031 - acc: 0.342 - ETA: 2:03 - loss: 5.3030 - acc: 0.342 - ETA: 2:02 - loss: 5.3050 - acc: 0.341 - ETA: 2:01 - loss: 5.3075 - acc: 0.342 - ETA: 1:59 - loss: 5.3111 - acc: 0.341 - ETA: 1:58 - loss: 5.3101 - acc: 0.341 - ETA: 1:57 - loss: 5.3113 - acc: 0.341 - ETA: 1:56 - loss: 5.3183 - acc: 0.341 - ETA: 1:55 - loss: 5.3184 - acc: 0.342 - ETA: 1:54 - loss: 5.3162 - acc: 0.341 - ETA: 1:53 - loss: 5.3165 - acc: 0.3418312/312 [==============================] - ETA: 1:52 - loss: 5.3207 - acc: 0.341 - ETA: 1:51 - loss: 5.3218 - acc: 0.342 - ETA: 1:50 - loss: 5.3227 - acc: 0.342 - ETA: 1:49 - loss: 5.3178 - acc: 0.342 - ETA: 1:48 - loss: 5.3188 - acc: 0.342 - ETA: 1:47 - loss: 5.3226 - acc: 0.342 - ETA: 1:46 - loss: 5.3283 - acc: 0.341 - ETA: 1:45 - loss: 5.3279 - acc: 0.342 - ETA: 1:44 - loss: 5.3258 - acc: 0.342 - ETA: 1:43 - loss: 5.3304 - acc: 0.341 - ETA: 1:41 - loss: 5.3373 - acc: 0.341 - ETA: 1:40 - loss: 5.3361 - acc: 0.340 - ETA: 1:39 - loss: 5.3422 - acc: 0.340 - ETA: 1:38 - loss: 5.3408 - acc: 0.340 - ETA: 1:37 - loss: 5.3457 - acc: 0.339 - ETA: 1:36 - loss: 5.3467 - acc: 0.339 - ETA: 1:35 - loss: 5.3445 - acc: 0.340 - ETA: 1:34 - loss: 5.3426 - acc: 0.341 - ETA: 1:33 - loss: 5.3448 - acc: 0.340 - ETA: 1:32 - loss: 5.3468 - acc: 0.340 - ETA: 1:31 - loss: 5.3454 - acc: 0.340 - ETA: 1:30 - loss: 5.3451 - acc: 0.340 - ETA: 1:29 - loss: 5.3465 - acc: 0.339 - ETA: 1:28 - loss: 5.3459 - acc: 0.339 - ETA: 1:27 - loss: 5.3443 - acc: 0.339 - ETA: 1:26 - loss: 5.3407 - acc: 0.340 - ETA: 1:25 - loss: 5.3386 - acc: 0.340 - ETA: 1:23 - loss: 5.3372 - acc: 0.340 - ETA: 1:22 - loss: 5.3338 - acc: 0.341 - ETA: 1:21 - loss: 5.3342 - acc: 0.341 - ETA: 1:20 - loss: 5.3299 - acc: 0.341 - ETA: 1:19 - loss: 5.3288 - acc: 0.342 - ETA: 1:18 - loss: 5.3267 - acc: 0.342 - ETA: 1:17 - loss: 5.3270 - acc: 0.342 - ETA: 1:16 - loss: 5.3294 - acc: 0.342 - ETA: 1:15 - loss: 5.3272 - acc: 0.343 - ETA: 1:14 - loss: 5.3276 - acc: 0.343 - ETA: 1:13 - loss: 5.3269 - acc: 0.343 - ETA: 1:12 - loss: 5.3244 - acc: 0.343 - ETA: 1:11 - loss: 5.3258 - acc: 0.342 - ETA: 1:10 - loss: 5.3277 - acc: 0.342 - ETA: 1:09 - loss: 5.3261 - acc: 0.343 - ETA: 1:08 - loss: 5.3239 - acc: 0.343 - ETA: 1:07 - loss: 5.3262 - acc: 0.342 - ETA: 1:06 - loss: 5.3247 - acc: 0.342 - ETA: 1:05 - loss: 5.3257 - acc: 0.342 - ETA: 1:03 - loss: 5.3268 - acc: 0.343 - ETA: 1:02 - loss: 5.3266 - acc: 0.343 - ETA: 1:01 - loss: 5.3264 - acc: 0.343 - ETA: 1:00 - loss: 5.3240 - acc: 0.344 - ETA: 59s - loss: 5.3234 - acc: 0.344 - ETA: 58s - loss: 5.3246 - acc: 0.34 - ETA: 57s - loss: 5.3248 - acc: 0.34 - ETA: 56s - loss: 5.3257 - acc: 0.34 - ETA: 55s - loss: 5.3248 - acc: 0.34 - ETA: 54s - loss: 5.3265 - acc: 0.34 - ETA: 53s - loss: 5.3261 - acc: 0.34 - ETA: 52s - loss: 5.3256 - acc: 0.34 - ETA: 51s - loss: 5.3290 - acc: 0.34 - ETA: 50s - loss: 5.3310 - acc: 0.34 - ETA: 49s - loss: 5.3303 - acc: 0.34 - ETA: 48s - loss: 5.3276 - acc: 0.34 - ETA: 47s - loss: 5.3254 - acc: 0.34 - ETA: 46s - loss: 5.3292 - acc: 0.34 - ETA: 45s - loss: 5.3289 - acc: 0.34 - ETA: 44s - loss: 5.3297 - acc: 0.34 - ETA: 42s - loss: 5.3284 - acc: 0.34 - ETA: 41s - loss: 5.3298 - acc: 0.34 - ETA: 40s - loss: 5.3304 - acc: 0.34 - ETA: 39s - loss: 5.3315 - acc: 0.34 - ETA: 38s - loss: 5.3314 - acc: 0.34 - ETA: 37s - loss: 5.3298 - acc: 0.34 - ETA: 36s - loss: 5.3312 - acc: 0.34 - ETA: 35s - loss: 5.3286 - acc: 0.34 - ETA: 34s - loss: 5.3275 - acc: 0.34 - ETA: 33s - loss: 5.3273 - acc: 0.34 - ETA: 32s - loss: 5.3238 - acc: 0.34 - ETA: 31s - loss: 5.3209 - acc: 0.34 - ETA: 30s - loss: 5.3190 - acc: 0.34 - ETA: 29s - loss: 5.3167 - acc: 0.34 - ETA: 28s - loss: 5.3148 - acc: 0.34 - ETA: 27s - loss: 5.3151 - acc: 0.34 - ETA: 26s - loss: 5.3175 - acc: 0.34 - ETA: 25s - loss: 5.3182 - acc: 0.34 - ETA: 24s - loss: 5.3199 - acc: 0.34 - ETA: 23s - loss: 5.3216 - acc: 0.34 - ETA: 22s - loss: 5.3209 - acc: 0.34 - ETA: 20s - loss: 5.3199 - acc: 0.34 - ETA: 19s - loss: 5.3208 - acc: 0.34 - ETA: 18s - loss: 5.3193 - acc: 0.34 - ETA: 17s - loss: 5.3186 - acc: 0.34 - ETA: 16s - loss: 5.3213 - acc: 0.34 - ETA: 15s - loss: 5.3225 - acc: 0.34 - ETA: 14s - loss: 5.3241 - acc: 0.34 - ETA: 13s - loss: 5.3276 - acc: 0.34 - ETA: 12s - loss: 5.3292 - acc: 0.34 - ETA: 11s - loss: 5.3284 - acc: 0.34 - ETA: 10s - loss: 5.3272 - acc: 0.34 - ETA: 9s - loss: 5.3288 - acc: 0.3420 - ETA: 8s - loss: 5.3309 - acc: 0.341 - ETA: 7s - loss: 5.3308 - acc: 0.341 - ETA: 6s - loss: 5.3283 - acc: 0.341 - ETA: 5s - loss: 5.3255 - acc: 0.342 - ETA: 4s - loss: 5.3243 - acc: 0.342 - ETA: 3s - loss: 5.3248 - acc: 0.342 - ETA: 2s - loss: 5.3265 - acc: 0.342 - ETA: 1s - loss: 5.3261 - acc: 0.342 - 327s 1s/step - loss: 5.3250 - acc: 0.3426\n",
            "Epoch 5 start at time  2019-08-04 04:05:50.085794\n"
          ],
          "name": "stdout"
        },
        {
          "output_type": "stream",
          "text": [
            "204/312 [==================>...........] - ETA: 6:33 - loss: 5.1686 - acc: 0.312 - ETA: 5:35 - loss: 4.9958 - acc: 0.375 - ETA: 5:06 - loss: 5.3534 - acc: 0.343 - ETA: 5:01 - loss: 5.3126 - acc: 0.328 - ETA: 4:51 - loss: 5.3400 - acc: 0.325 - ETA: 4:45 - loss: 5.2908 - acc: 0.349 - ETA: 4:41 - loss: 5.1722 - acc: 0.357 - ETA: 4:38 - loss: 5.1386 - acc: 0.351 - ETA: 4:34 - loss: 5.0164 - acc: 0.368 - ETA: 4:30 - loss: 5.0430 - acc: 0.362 - ETA: 4:29 - loss: 5.0324 - acc: 0.366 - ETA: 4:28 - loss: 5.0661 - acc: 0.364 - ETA: 4:26 - loss: 5.0911 - acc: 0.365 - ETA: 4:24 - loss: 5.0748 - acc: 0.368 - ETA: 4:24 - loss: 5.0818 - acc: 0.368 - ETA: 4:24 - loss: 5.1806 - acc: 0.361 - ETA: 4:23 - loss: 5.1694 - acc: 0.358 - ETA: 4:23 - loss: 5.1200 - acc: 0.362 - ETA: 4:21 - loss: 5.1136 - acc: 0.361 - ETA: 4:19 - loss: 5.0821 - acc: 0.364 - ETA: 4:18 - loss: 5.1137 - acc: 0.363 - ETA: 4:16 - loss: 5.1135 - acc: 0.360 - ETA: 4:16 - loss: 5.1321 - acc: 0.362 - ETA: 4:14 - loss: 5.1399 - acc: 0.365 - ETA: 4:12 - loss: 5.1526 - acc: 0.361 - ETA: 4:11 - loss: 5.1361 - acc: 0.365 - ETA: 4:10 - loss: 5.1458 - acc: 0.364 - ETA: 4:09 - loss: 5.1486 - acc: 0.363 - ETA: 4:08 - loss: 5.1741 - acc: 0.363 - ETA: 4:07 - loss: 5.1473 - acc: 0.365 - ETA: 4:07 - loss: 5.1443 - acc: 0.365 - ETA: 4:05 - loss: 5.1430 - acc: 0.365 - ETA: 4:05 - loss: 5.1564 - acc: 0.363 - ETA: 4:04 - loss: 5.1358 - acc: 0.362 - ETA: 4:03 - loss: 5.1352 - acc: 0.364 - ETA: 4:02 - loss: 5.1401 - acc: 0.365 - ETA: 4:01 - loss: 5.1201 - acc: 0.365 - ETA: 4:00 - loss: 5.1295 - acc: 0.364 - ETA: 4:00 - loss: 5.1514 - acc: 0.359 - ETA: 3:59 - loss: 5.1452 - acc: 0.360 - ETA: 3:59 - loss: 5.1266 - acc: 0.362 - ETA: 3:58 - loss: 5.1299 - acc: 0.360 - ETA: 3:57 - loss: 5.1326 - acc: 0.359 - ETA: 3:56 - loss: 5.1423 - acc: 0.356 - ETA: 3:55 - loss: 5.1396 - acc: 0.354 - ETA: 3:54 - loss: 5.1371 - acc: 0.355 - ETA: 3:53 - loss: 5.1283 - acc: 0.357 - ETA: 3:52 - loss: 5.1338 - acc: 0.355 - ETA: 3:51 - loss: 5.1371 - acc: 0.355 - ETA: 3:50 - loss: 5.1597 - acc: 0.352 - ETA: 3:49 - loss: 5.1413 - acc: 0.355 - ETA: 3:49 - loss: 5.1168 - acc: 0.358 - ETA: 3:48 - loss: 5.1261 - acc: 0.356 - ETA: 3:48 - loss: 5.1063 - acc: 0.358 - ETA: 3:47 - loss: 5.1021 - acc: 0.359 - ETA: 3:46 - loss: 5.0914 - acc: 0.359 - ETA: 3:45 - loss: 5.0781 - acc: 0.362 - ETA: 3:44 - loss: 5.0635 - acc: 0.364 - ETA: 3:44 - loss: 5.0731 - acc: 0.363 - ETA: 3:43 - loss: 5.0773 - acc: 0.363 - ETA: 3:42 - loss: 5.1007 - acc: 0.360 - ETA: 3:41 - loss: 5.1032 - acc: 0.362 - ETA: 3:40 - loss: 5.0892 - acc: 0.364 - ETA: 3:39 - loss: 5.0914 - acc: 0.363 - ETA: 3:38 - loss: 5.0850 - acc: 0.362 - ETA: 3:38 - loss: 5.0816 - acc: 0.361 - ETA: 3:37 - loss: 5.0912 - acc: 0.359 - ETA: 3:36 - loss: 5.0955 - acc: 0.359 - ETA: 3:35 - loss: 5.1054 - acc: 0.359 - ETA: 3:34 - loss: 5.1031 - acc: 0.358 - ETA: 3:33 - loss: 5.1075 - acc: 0.357 - ETA: 3:32 - loss: 5.1075 - acc: 0.358 - ETA: 3:31 - loss: 5.0979 - acc: 0.360 - ETA: 3:30 - loss: 5.1021 - acc: 0.360 - ETA: 3:29 - loss: 5.1075 - acc: 0.359 - ETA: 3:28 - loss: 5.1164 - acc: 0.357 - ETA: 3:27 - loss: 5.1337 - acc: 0.356 - ETA: 3:26 - loss: 5.1372 - acc: 0.355 - ETA: 3:25 - loss: 5.1298 - acc: 0.356 - ETA: 3:24 - loss: 5.1222 - acc: 0.356 - ETA: 3:23 - loss: 5.1179 - acc: 0.357 - ETA: 3:22 - loss: 5.1247 - acc: 0.356 - ETA: 3:22 - loss: 5.1220 - acc: 0.356 - ETA: 3:21 - loss: 5.1218 - acc: 0.355 - ETA: 3:20 - loss: 5.1173 - acc: 0.357 - ETA: 3:18 - loss: 5.1169 - acc: 0.357 - ETA: 3:17 - loss: 5.1253 - acc: 0.356 - ETA: 3:16 - loss: 5.1246 - acc: 0.355 - ETA: 3:16 - loss: 5.1251 - acc: 0.354 - ETA: 3:15 - loss: 5.1244 - acc: 0.354 - ETA: 3:14 - loss: 5.1254 - acc: 0.353 - ETA: 3:13 - loss: 5.1347 - acc: 0.353 - ETA: 3:12 - loss: 5.1348 - acc: 0.354 - ETA: 3:11 - loss: 5.1382 - acc: 0.354 - ETA: 3:10 - loss: 5.1401 - acc: 0.353 - ETA: 3:09 - loss: 5.1341 - acc: 0.353 - ETA: 3:08 - loss: 5.1387 - acc: 0.352 - ETA: 3:08 - loss: 5.1270 - acc: 0.354 - ETA: 3:07 - loss: 5.1271 - acc: 0.354 - ETA: 3:06 - loss: 5.1259 - acc: 0.354 - ETA: 3:05 - loss: 5.1292 - acc: 0.353 - ETA: 3:04 - loss: 5.1357 - acc: 0.352 - ETA: 3:03 - loss: 5.1357 - acc: 0.352 - ETA: 3:02 - loss: 5.1422 - acc: 0.352 - ETA: 3:01 - loss: 5.1387 - acc: 0.353 - ETA: 3:00 - loss: 5.1443 - acc: 0.353 - ETA: 2:59 - loss: 5.1441 - acc: 0.354 - ETA: 2:59 - loss: 5.1439 - acc: 0.354 - ETA: 2:58 - loss: 5.1436 - acc: 0.354 - ETA: 2:57 - loss: 5.1446 - acc: 0.353 - ETA: 2:56 - loss: 5.1444 - acc: 0.353 - ETA: 2:55 - loss: 5.1523 - acc: 0.352 - ETA: 2:54 - loss: 5.1532 - acc: 0.352 - ETA: 2:54 - loss: 5.1468 - acc: 0.354 - ETA: 2:53 - loss: 5.1446 - acc: 0.353 - ETA: 2:52 - loss: 5.1507 - acc: 0.352 - ETA: 2:51 - loss: 5.1556 - acc: 0.352 - ETA: 2:50 - loss: 5.1572 - acc: 0.352 - ETA: 2:49 - loss: 5.1515 - acc: 0.353 - ETA: 2:49 - loss: 5.1486 - acc: 0.354 - ETA: 2:48 - loss: 5.1484 - acc: 0.353 - ETA: 2:47 - loss: 5.1493 - acc: 0.354 - ETA: 2:46 - loss: 5.1480 - acc: 0.354 - ETA: 2:45 - loss: 5.1497 - acc: 0.355 - ETA: 2:44 - loss: 5.1501 - acc: 0.355 - ETA: 2:43 - loss: 5.1464 - acc: 0.355 - ETA: 2:42 - loss: 5.1495 - acc: 0.355 - ETA: 2:41 - loss: 5.1501 - acc: 0.355 - ETA: 2:40 - loss: 5.1586 - acc: 0.354 - ETA: 2:40 - loss: 5.1573 - acc: 0.354 - ETA: 2:39 - loss: 5.1643 - acc: 0.352 - ETA: 2:38 - loss: 5.1649 - acc: 0.353 - ETA: 2:37 - loss: 5.1657 - acc: 0.352 - ETA: 2:36 - loss: 5.1633 - acc: 0.353 - ETA: 2:35 - loss: 5.1681 - acc: 0.352 - ETA: 2:34 - loss: 5.1723 - acc: 0.351 - ETA: 2:33 - loss: 5.1759 - acc: 0.350 - ETA: 2:32 - loss: 5.1714 - acc: 0.350 - ETA: 2:32 - loss: 5.1662 - acc: 0.351 - ETA: 2:31 - loss: 5.1657 - acc: 0.350 - ETA: 2:30 - loss: 5.1646 - acc: 0.350 - ETA: 2:29 - loss: 5.1619 - acc: 0.350 - ETA: 2:28 - loss: 5.1557 - acc: 0.351 - ETA: 2:27 - loss: 5.1568 - acc: 0.350 - ETA: 2:26 - loss: 5.1554 - acc: 0.350 - ETA: 2:25 - loss: 5.1595 - acc: 0.350 - ETA: 2:24 - loss: 5.1589 - acc: 0.350 - ETA: 2:23 - loss: 5.1617 - acc: 0.350 - ETA: 2:23 - loss: 5.1583 - acc: 0.351 - ETA: 2:22 - loss: 5.1638 - acc: 0.351 - ETA: 2:21 - loss: 5.1641 - acc: 0.351 - ETA: 2:20 - loss: 5.1589 - acc: 0.352 - ETA: 2:19 - loss: 5.1586 - acc: 0.352 - ETA: 2:18 - loss: 5.1588 - acc: 0.352 - ETA: 2:17 - loss: 5.1600 - acc: 0.352 - ETA: 2:16 - loss: 5.1587 - acc: 0.352 - ETA: 2:15 - loss: 5.1586 - acc: 0.352 - ETA: 2:15 - loss: 5.1631 - acc: 0.352 - ETA: 2:14 - loss: 5.1632 - acc: 0.352 - ETA: 2:13 - loss: 5.1644 - acc: 0.352 - ETA: 2:12 - loss: 5.1641 - acc: 0.352 - ETA: 2:11 - loss: 5.1608 - acc: 0.352 - ETA: 2:10 - loss: 5.1631 - acc: 0.352 - ETA: 2:09 - loss: 5.1670 - acc: 0.351 - ETA: 2:09 - loss: 5.1646 - acc: 0.352 - ETA: 2:08 - loss: 5.1588 - acc: 0.353 - ETA: 2:07 - loss: 5.1527 - acc: 0.354 - ETA: 2:06 - loss: 5.1546 - acc: 0.354 - ETA: 2:05 - loss: 5.1522 - acc: 0.354 - ETA: 2:04 - loss: 5.1504 - acc: 0.355 - ETA: 2:03 - loss: 5.1460 - acc: 0.355 - ETA: 2:02 - loss: 5.1485 - acc: 0.355 - ETA: 2:02 - loss: 5.1491 - acc: 0.355 - ETA: 2:01 - loss: 5.1479 - acc: 0.355 - ETA: 2:00 - loss: 5.1517 - acc: 0.355 - ETA: 1:59 - loss: 5.1571 - acc: 0.354 - ETA: 1:58 - loss: 5.1562 - acc: 0.354 - ETA: 1:57 - loss: 5.1538 - acc: 0.354 - ETA: 1:56 - loss: 5.1556 - acc: 0.354 - ETA: 1:55 - loss: 5.1519 - acc: 0.354 - ETA: 1:54 - loss: 5.1531 - acc: 0.353 - ETA: 1:54 - loss: 5.1539 - acc: 0.353 - ETA: 1:53 - loss: 5.1558 - acc: 0.353 - ETA: 1:52 - loss: 5.1549 - acc: 0.353 - ETA: 1:51 - loss: 5.1547 - acc: 0.354 - ETA: 1:50 - loss: 5.1528 - acc: 0.354 - ETA: 1:49 - loss: 5.1528 - acc: 0.354 - ETA: 1:48 - loss: 5.1550 - acc: 0.353 - ETA: 1:47 - loss: 5.1508 - acc: 0.354 - ETA: 1:46 - loss: 5.1482 - acc: 0.354 - ETA: 1:46 - loss: 5.1494 - acc: 0.354 - ETA: 1:45 - loss: 5.1497 - acc: 0.354 - ETA: 1:44 - loss: 5.1547 - acc: 0.353 - ETA: 1:43 - loss: 5.1510 - acc: 0.353 - ETA: 1:42 - loss: 5.1512 - acc: 0.353 - ETA: 1:41 - loss: 5.1520 - acc: 0.353 - ETA: 1:40 - loss: 5.1542 - acc: 0.353 - ETA: 1:39 - loss: 5.1576 - acc: 0.352 - ETA: 1:39 - loss: 5.1566 - acc: 0.353 - ETA: 1:38 - loss: 5.1589 - acc: 0.353 - ETA: 1:37 - loss: 5.1655 - acc: 0.353 - ETA: 1:36 - loss: 5.1661 - acc: 0.353 - ETA: 1:35 - loss: 5.1644 - acc: 0.353 - ETA: 1:34 - loss: 5.1646 - acc: 0.3529"
          ],
          "name": "stdout"
        },
        {
          "output_type": "stream",
          "text": [
            "312/312 [==============================] - ETA: 1:33 - loss: 5.1687 - acc: 0.352 - ETA: 1:32 - loss: 5.1704 - acc: 0.353 - ETA: 1:31 - loss: 5.1712 - acc: 0.353 - ETA: 1:31 - loss: 5.1660 - acc: 0.353 - ETA: 1:30 - loss: 5.1671 - acc: 0.353 - ETA: 1:29 - loss: 5.1708 - acc: 0.353 - ETA: 1:28 - loss: 5.1768 - acc: 0.353 - ETA: 1:27 - loss: 5.1764 - acc: 0.353 - ETA: 1:26 - loss: 5.1743 - acc: 0.353 - ETA: 1:25 - loss: 5.1788 - acc: 0.352 - ETA: 1:25 - loss: 5.1857 - acc: 0.352 - ETA: 1:24 - loss: 5.1841 - acc: 0.352 - ETA: 1:23 - loss: 5.1898 - acc: 0.352 - ETA: 1:22 - loss: 5.1887 - acc: 0.351 - ETA: 1:21 - loss: 5.1937 - acc: 0.351 - ETA: 1:20 - loss: 5.1950 - acc: 0.351 - ETA: 1:19 - loss: 5.1925 - acc: 0.352 - ETA: 1:18 - loss: 5.1905 - acc: 0.352 - ETA: 1:17 - loss: 5.1928 - acc: 0.352 - ETA: 1:17 - loss: 5.1947 - acc: 0.352 - ETA: 1:16 - loss: 5.1935 - acc: 0.351 - ETA: 1:15 - loss: 5.1929 - acc: 0.351 - ETA: 1:14 - loss: 5.1939 - acc: 0.351 - ETA: 1:13 - loss: 5.1936 - acc: 0.351 - ETA: 1:12 - loss: 5.1917 - acc: 0.351 - ETA: 1:11 - loss: 5.1884 - acc: 0.351 - ETA: 1:10 - loss: 5.1864 - acc: 0.351 - ETA: 1:10 - loss: 5.1852 - acc: 0.352 - ETA: 1:09 - loss: 5.1816 - acc: 0.352 - ETA: 1:08 - loss: 5.1820 - acc: 0.352 - ETA: 1:07 - loss: 5.1779 - acc: 0.352 - ETA: 1:06 - loss: 5.1768 - acc: 0.352 - ETA: 1:05 - loss: 5.1748 - acc: 0.353 - ETA: 1:04 - loss: 5.1745 - acc: 0.353 - ETA: 1:03 - loss: 5.1767 - acc: 0.353 - ETA: 1:02 - loss: 5.1739 - acc: 0.354 - ETA: 1:02 - loss: 5.1741 - acc: 0.354 - ETA: 1:01 - loss: 5.1738 - acc: 0.354 - ETA: 1:00 - loss: 5.1713 - acc: 0.354 - ETA: 59s - loss: 5.1726 - acc: 0.354 - ETA: 58s - loss: 5.1746 - acc: 0.35 - ETA: 57s - loss: 5.1728 - acc: 0.35 - ETA: 56s - loss: 5.1703 - acc: 0.35 - ETA: 55s - loss: 5.1733 - acc: 0.35 - ETA: 55s - loss: 5.1718 - acc: 0.35 - ETA: 54s - loss: 5.1730 - acc: 0.35 - ETA: 53s - loss: 5.1742 - acc: 0.35 - ETA: 52s - loss: 5.1736 - acc: 0.35 - ETA: 51s - loss: 5.1734 - acc: 0.35 - ETA: 50s - loss: 5.1713 - acc: 0.35 - ETA: 49s - loss: 5.1705 - acc: 0.35 - ETA: 48s - loss: 5.1715 - acc: 0.35 - ETA: 48s - loss: 5.1717 - acc: 0.35 - ETA: 47s - loss: 5.1725 - acc: 0.35 - ETA: 46s - loss: 5.1714 - acc: 0.35 - ETA: 45s - loss: 5.1726 - acc: 0.35 - ETA: 44s - loss: 5.1721 - acc: 0.35 - ETA: 43s - loss: 5.1712 - acc: 0.35 - ETA: 42s - loss: 5.1740 - acc: 0.35 - ETA: 41s - loss: 5.1759 - acc: 0.35 - ETA: 41s - loss: 5.1749 - acc: 0.35 - ETA: 40s - loss: 5.1723 - acc: 0.35 - ETA: 39s - loss: 5.1693 - acc: 0.35 - ETA: 38s - loss: 5.1724 - acc: 0.35 - ETA: 37s - loss: 5.1719 - acc: 0.35 - ETA: 36s - loss: 5.1732 - acc: 0.35 - ETA: 35s - loss: 5.1715 - acc: 0.35 - ETA: 34s - loss: 5.1730 - acc: 0.35 - ETA: 34s - loss: 5.1736 - acc: 0.35 - ETA: 33s - loss: 5.1747 - acc: 0.35 - ETA: 32s - loss: 5.1745 - acc: 0.35 - ETA: 31s - loss: 5.1734 - acc: 0.35 - ETA: 30s - loss: 5.1746 - acc: 0.35 - ETA: 29s - loss: 5.1714 - acc: 0.35 - ETA: 28s - loss: 5.1699 - acc: 0.35 - ETA: 27s - loss: 5.1695 - acc: 0.35 - ETA: 27s - loss: 5.1662 - acc: 0.35 - ETA: 26s - loss: 5.1632 - acc: 0.35 - ETA: 25s - loss: 5.1613 - acc: 0.35 - ETA: 24s - loss: 5.1590 - acc: 0.35 - ETA: 23s - loss: 5.1569 - acc: 0.35 - ETA: 22s - loss: 5.1569 - acc: 0.35 - ETA: 21s - loss: 5.1595 - acc: 0.35 - ETA: 20s - loss: 5.1603 - acc: 0.35 - ETA: 20s - loss: 5.1621 - acc: 0.35 - ETA: 19s - loss: 5.1639 - acc: 0.35 - ETA: 18s - loss: 5.1627 - acc: 0.35 - ETA: 17s - loss: 5.1614 - acc: 0.35 - ETA: 16s - loss: 5.1628 - acc: 0.35 - ETA: 15s - loss: 5.1614 - acc: 0.35 - ETA: 14s - loss: 5.1610 - acc: 0.35 - ETA: 13s - loss: 5.1632 - acc: 0.35 - ETA: 13s - loss: 5.1647 - acc: 0.35 - ETA: 12s - loss: 5.1661 - acc: 0.35 - ETA: 11s - loss: 5.1695 - acc: 0.35 - ETA: 10s - loss: 5.1710 - acc: 0.35 - ETA: 9s - loss: 5.1704 - acc: 0.3550 - ETA: 8s - loss: 5.1692 - acc: 0.355 - ETA: 7s - loss: 5.1706 - acc: 0.354 - ETA: 6s - loss: 5.1724 - acc: 0.354 - ETA: 6s - loss: 5.1723 - acc: 0.354 - ETA: 5s - loss: 5.1702 - acc: 0.354 - ETA: 4s - loss: 5.1676 - acc: 0.354 - ETA: 3s - loss: 5.1664 - acc: 0.355 - ETA: 2s - loss: 5.1667 - acc: 0.355 - ETA: 1s - loss: 5.1683 - acc: 0.354 - ETA: 0s - loss: 5.1677 - acc: 0.354 - 272s 872ms/step - loss: 5.1670 - acc: 0.3550\n",
            "Epoch 6 start at time  2019-08-04 04:57:43.108128\n",
            "204/312 [==================>...........] - ETA: 7:07 - loss: 5.0474 - acc: 0.375 - ETA: 6:42 - loss: 4.8010 - acc: 0.421 - ETA: 6:29 - loss: 5.1799 - acc: 0.375 - ETA: 6:20 - loss: 5.1897 - acc: 0.351 - ETA: 6:18 - loss: 5.2352 - acc: 0.343 - ETA: 6:18 - loss: 5.2168 - acc: 0.359 - ETA: 6:21 - loss: 5.0903 - acc: 0.361 - ETA: 6:23 - loss: 5.0519 - acc: 0.355 - ETA: 6:26 - loss: 4.9322 - acc: 0.371 - ETA: 6:20 - loss: 4.9448 - acc: 0.371 - ETA: 6:12 - loss: 4.9238 - acc: 0.372 - ETA: 6:07 - loss: 4.9723 - acc: 0.364 - ETA: 6:01 - loss: 4.9869 - acc: 0.365 - ETA: 5:54 - loss: 4.9699 - acc: 0.370 - ETA: 5:49 - loss: 4.9822 - acc: 0.370 - ETA: 5:44 - loss: 5.0864 - acc: 0.363 - ETA: 5:39 - loss: 5.0662 - acc: 0.362 - ETA: 5:36 - loss: 5.0148 - acc: 0.366 - ETA: 5:33 - loss: 5.0020 - acc: 0.368 - ETA: 5:31 - loss: 4.9739 - acc: 0.373 - ETA: 5:28 - loss: 5.0045 - acc: 0.375 - ETA: 5:26 - loss: 5.0001 - acc: 0.377 - ETA: 5:23 - loss: 5.0267 - acc: 0.379 - ETA: 5:21 - loss: 5.0357 - acc: 0.382 - ETA: 5:18 - loss: 5.0421 - acc: 0.378 - ETA: 5:16 - loss: 5.0242 - acc: 0.385 - ETA: 5:14 - loss: 5.0316 - acc: 0.386 - ETA: 5:12 - loss: 5.0352 - acc: 0.385 - ETA: 5:10 - loss: 5.0643 - acc: 0.384 - ETA: 5:08 - loss: 5.0327 - acc: 0.388 - ETA: 5:06 - loss: 5.0282 - acc: 0.388 - ETA: 5:04 - loss: 5.0254 - acc: 0.386 - ETA: 5:03 - loss: 5.0361 - acc: 0.384 - ETA: 5:01 - loss: 5.0163 - acc: 0.382 - ETA: 5:00 - loss: 5.0169 - acc: 0.383 - ETA: 4:58 - loss: 5.0232 - acc: 0.382 - ETA: 4:56 - loss: 5.0003 - acc: 0.382 - ETA: 4:55 - loss: 5.0111 - acc: 0.380 - ETA: 4:53 - loss: 5.0348 - acc: 0.374 - ETA: 4:52 - loss: 5.0282 - acc: 0.374 - ETA: 4:50 - loss: 5.0091 - acc: 0.377 - ETA: 4:49 - loss: 5.0136 - acc: 0.375 - ETA: 4:48 - loss: 5.0162 - acc: 0.375 - ETA: 4:47 - loss: 5.0233 - acc: 0.373 - ETA: 4:46 - loss: 5.0182 - acc: 0.372 - ETA: 4:44 - loss: 5.0165 - acc: 0.372 - ETA: 4:43 - loss: 5.0090 - acc: 0.373 - ETA: 4:42 - loss: 5.0163 - acc: 0.371 - ETA: 4:40 - loss: 5.0177 - acc: 0.371 - ETA: 4:39 - loss: 5.0423 - acc: 0.368 - ETA: 4:38 - loss: 5.0239 - acc: 0.370 - ETA: 4:37 - loss: 4.9996 - acc: 0.373 - ETA: 4:36 - loss: 5.0078 - acc: 0.372 - ETA: 4:35 - loss: 4.9891 - acc: 0.373 - ETA: 4:33 - loss: 4.9853 - acc: 0.375 - ETA: 4:32 - loss: 4.9738 - acc: 0.374 - ETA: 4:30 - loss: 4.9613 - acc: 0.377 - ETA: 4:29 - loss: 4.9485 - acc: 0.377 - ETA: 4:28 - loss: 4.9588 - acc: 0.376 - ETA: 4:27 - loss: 4.9621 - acc: 0.376 - ETA: 4:25 - loss: 4.9858 - acc: 0.374 - ETA: 4:24 - loss: 4.9881 - acc: 0.376 - ETA: 4:23 - loss: 4.9732 - acc: 0.379 - ETA: 4:21 - loss: 4.9746 - acc: 0.377 - ETA: 4:20 - loss: 4.9660 - acc: 0.377 - ETA: 4:19 - loss: 4.9626 - acc: 0.376 - ETA: 4:17 - loss: 4.9711 - acc: 0.376 - ETA: 4:16 - loss: 4.9762 - acc: 0.376 - ETA: 4:15 - loss: 4.9854 - acc: 0.376 - ETA: 4:13 - loss: 4.9787 - acc: 0.375 - ETA: 4:12 - loss: 4.9846 - acc: 0.375 - ETA: 4:11 - loss: 4.9860 - acc: 0.375 - ETA: 4:10 - loss: 4.9764 - acc: 0.378 - ETA: 4:09 - loss: 4.9809 - acc: 0.377 - ETA: 4:08 - loss: 4.9854 - acc: 0.376 - ETA: 4:06 - loss: 4.9949 - acc: 0.375 - ETA: 4:05 - loss: 5.0131 - acc: 0.373 - ETA: 4:04 - loss: 5.0160 - acc: 0.372 - ETA: 4:03 - loss: 5.0101 - acc: 0.374 - ETA: 4:02 - loss: 5.0019 - acc: 0.374 - ETA: 4:01 - loss: 4.9979 - acc: 0.374 - ETA: 4:00 - loss: 5.0044 - acc: 0.373 - ETA: 3:58 - loss: 5.0018 - acc: 0.374 - ETA: 3:57 - loss: 5.0023 - acc: 0.372 - ETA: 3:56 - loss: 4.9986 - acc: 0.375 - ETA: 3:55 - loss: 4.9986 - acc: 0.374 - ETA: 3:54 - loss: 5.0076 - acc: 0.373 - ETA: 3:53 - loss: 5.0080 - acc: 0.372 - ETA: 3:52 - loss: 5.0076 - acc: 0.370 - ETA: 3:50 - loss: 5.0080 - acc: 0.370 - ETA: 3:49 - loss: 5.0085 - acc: 0.369 - ETA: 3:48 - loss: 5.0173 - acc: 0.369 - ETA: 3:47 - loss: 5.0178 - acc: 0.370 - ETA: 3:46 - loss: 5.0211 - acc: 0.369 - ETA: 3:45 - loss: 5.0231 - acc: 0.368 - ETA: 3:44 - loss: 5.0154 - acc: 0.368 - ETA: 3:43 - loss: 5.0204 - acc: 0.367 - ETA: 3:42 - loss: 5.0089 - acc: 0.369 - ETA: 3:41 - loss: 5.0106 - acc: 0.369 - ETA: 3:40 - loss: 5.0089 - acc: 0.368 - ETA: 3:39 - loss: 5.0123 - acc: 0.368 - ETA: 3:38 - loss: 5.0187 - acc: 0.367 - ETA: 3:36 - loss: 5.0193 - acc: 0.366 - ETA: 3:35 - loss: 5.0263 - acc: 0.366 - ETA: 3:34 - loss: 5.0219 - acc: 0.367 - ETA: 3:33 - loss: 5.0270 - acc: 0.366 - ETA: 3:32 - loss: 5.0269 - acc: 0.367 - ETA: 3:31 - loss: 5.0266 - acc: 0.367 - ETA: 3:30 - loss: 5.0258 - acc: 0.367 - ETA: 3:29 - loss: 5.0284 - acc: 0.366 - ETA: 3:28 - loss: 5.0270 - acc: 0.366 - ETA: 3:27 - loss: 5.0352 - acc: 0.365 - ETA: 3:26 - loss: 5.0369 - acc: 0.365 - ETA: 3:24 - loss: 5.0299 - acc: 0.366 - ETA: 3:23 - loss: 5.0273 - acc: 0.366 - ETA: 3:23 - loss: 5.0337 - acc: 0.365 - ETA: 3:22 - loss: 5.0386 - acc: 0.364 - ETA: 3:21 - loss: 5.0408 - acc: 0.364 - ETA: 3:20 - loss: 5.0356 - acc: 0.365 - ETA: 3:19 - loss: 5.0335 - acc: 0.366 - ETA: 3:18 - loss: 5.0330 - acc: 0.365 - ETA: 3:17 - loss: 5.0347 - acc: 0.365 - ETA: 3:15 - loss: 5.0325 - acc: 0.366 - ETA: 3:14 - loss: 5.0333 - acc: 0.366 - ETA: 3:14 - loss: 5.0331 - acc: 0.367 - ETA: 3:13 - loss: 5.0285 - acc: 0.367 - ETA: 3:12 - loss: 5.0321 - acc: 0.367 - ETA: 3:11 - loss: 5.0320 - acc: 0.366 - ETA: 3:10 - loss: 5.0407 - acc: 0.365 - ETA: 3:09 - loss: 5.0402 - acc: 0.366 - ETA: 3:07 - loss: 5.0475 - acc: 0.364 - ETA: 3:07 - loss: 5.0486 - acc: 0.365 - ETA: 3:05 - loss: 5.0497 - acc: 0.364 - ETA: 3:04 - loss: 5.0468 - acc: 0.364 - ETA: 3:03 - loss: 5.0519 - acc: 0.363 - ETA: 3:02 - loss: 5.0566 - acc: 0.363 - ETA: 3:01 - loss: 5.0604 - acc: 0.362 - ETA: 3:00 - loss: 5.0566 - acc: 0.361 - ETA: 2:59 - loss: 5.0516 - acc: 0.363 - ETA: 2:58 - loss: 5.0507 - acc: 0.362 - ETA: 2:57 - loss: 5.0496 - acc: 0.362 - ETA: 2:56 - loss: 5.0463 - acc: 0.362 - ETA: 2:55 - loss: 5.0401 - acc: 0.363 - ETA: 2:54 - loss: 5.0423 - acc: 0.361 - ETA: 2:53 - loss: 5.0426 - acc: 0.361 - ETA: 2:52 - loss: 5.0470 - acc: 0.361 - ETA: 2:51 - loss: 5.0463 - acc: 0.361 - ETA: 2:49 - loss: 5.0479 - acc: 0.360 - ETA: 2:48 - loss: 5.0447 - acc: 0.361 - ETA: 2:47 - loss: 5.0506 - acc: 0.361 - ETA: 2:46 - loss: 5.0510 - acc: 0.361 - ETA: 2:45 - loss: 5.0453 - acc: 0.362 - ETA: 2:44 - loss: 5.0459 - acc: 0.362 - ETA: 2:43 - loss: 5.0458 - acc: 0.362 - ETA: 2:42 - loss: 5.0469 - acc: 0.362 - ETA: 2:41 - loss: 5.0458 - acc: 0.362 - ETA: 2:40 - loss: 5.0466 - acc: 0.363 - ETA: 2:39 - loss: 5.0514 - acc: 0.363 - ETA: 2:38 - loss: 5.0516 - acc: 0.362 - ETA: 2:37 - loss: 5.0531 - acc: 0.362 - ETA: 2:36 - loss: 5.0517 - acc: 0.362 - ETA: 2:35 - loss: 5.0486 - acc: 0.362 - ETA: 2:34 - loss: 5.0512 - acc: 0.362 - ETA: 2:33 - loss: 5.0557 - acc: 0.361 - ETA: 2:31 - loss: 5.0528 - acc: 0.362 - ETA: 2:30 - loss: 5.0471 - acc: 0.362 - ETA: 2:29 - loss: 5.0409 - acc: 0.363 - ETA: 2:28 - loss: 5.0422 - acc: 0.363 - ETA: 2:27 - loss: 5.0402 - acc: 0.363 - ETA: 2:26 - loss: 5.0386 - acc: 0.363 - ETA: 2:25 - loss: 5.0340 - acc: 0.364 - ETA: 2:24 - loss: 5.0369 - acc: 0.364 - ETA: 2:23 - loss: 5.0371 - acc: 0.364 - ETA: 2:22 - loss: 5.0358 - acc: 0.363 - ETA: 2:21 - loss: 5.0396 - acc: 0.363 - ETA: 2:20 - loss: 5.0450 - acc: 0.363 - ETA: 2:19 - loss: 5.0439 - acc: 0.363 - ETA: 2:18 - loss: 5.0420 - acc: 0.363 - ETA: 2:17 - loss: 5.0438 - acc: 0.363 - ETA: 2:16 - loss: 5.0408 - acc: 0.363 - ETA: 2:15 - loss: 5.0427 - acc: 0.363 - ETA: 2:14 - loss: 5.0433 - acc: 0.363 - ETA: 2:13 - loss: 5.0455 - acc: 0.363 - ETA: 2:12 - loss: 5.0442 - acc: 0.363 - ETA: 2:11 - loss: 5.0436 - acc: 0.363 - ETA: 2:10 - loss: 5.0416 - acc: 0.363 - ETA: 2:09 - loss: 5.0416 - acc: 0.363 - ETA: 2:08 - loss: 5.0438 - acc: 0.363 - ETA: 2:07 - loss: 5.0386 - acc: 0.363 - ETA: 2:06 - loss: 5.0359 - acc: 0.364 - ETA: 2:05 - loss: 5.0371 - acc: 0.363 - ETA: 2:04 - loss: 5.0376 - acc: 0.363 - ETA: 2:03 - loss: 5.0422 - acc: 0.363 - ETA: 2:01 - loss: 5.0386 - acc: 0.363 - ETA: 2:00 - loss: 5.0386 - acc: 0.363 - ETA: 1:59 - loss: 5.0391 - acc: 0.363 - ETA: 1:58 - loss: 5.0414 - acc: 0.363 - ETA: 1:57 - loss: 5.0448 - acc: 0.363 - ETA: 1:56 - loss: 5.0430 - acc: 0.363 - ETA: 1:55 - loss: 5.0449 - acc: 0.363 - ETA: 1:54 - loss: 5.0521 - acc: 0.363 - ETA: 1:53 - loss: 5.0528 - acc: 0.363 - ETA: 1:52 - loss: 5.0503 - acc: 0.363 - ETA: 1:51 - loss: 5.0504 - acc: 0.3631312/312 [==============================] - ETA: 1:50 - loss: 5.0545 - acc: 0.363 - ETA: 1:49 - loss: 5.0568 - acc: 0.363 - ETA: 1:48 - loss: 5.0573 - acc: 0.363 - ETA: 1:47 - loss: 5.0517 - acc: 0.364 - ETA: 1:46 - loss: 5.0521 - acc: 0.363 - ETA: 1:45 - loss: 5.0555 - acc: 0.364 - ETA: 1:44 - loss: 5.0615 - acc: 0.363 - ETA: 1:43 - loss: 5.0612 - acc: 0.363 - ETA: 1:42 - loss: 5.0592 - acc: 0.364 - ETA: 1:41 - loss: 5.0638 - acc: 0.363 - ETA: 1:40 - loss: 5.0714 - acc: 0.362 - ETA: 1:39 - loss: 5.0695 - acc: 0.362 - ETA: 1:38 - loss: 5.0754 - acc: 0.362 - ETA: 1:36 - loss: 5.0737 - acc: 0.362 - ETA: 1:35 - loss: 5.0785 - acc: 0.361 - ETA: 1:34 - loss: 5.0799 - acc: 0.361 - ETA: 1:33 - loss: 5.0765 - acc: 0.362 - ETA: 1:32 - loss: 5.0745 - acc: 0.362 - ETA: 1:31 - loss: 5.0769 - acc: 0.362 - ETA: 1:30 - loss: 5.0792 - acc: 0.362 - ETA: 1:29 - loss: 5.0782 - acc: 0.361 - ETA: 1:28 - loss: 5.0785 - acc: 0.361 - ETA: 1:27 - loss: 5.0803 - acc: 0.361 - ETA: 1:26 - loss: 5.0801 - acc: 0.361 - ETA: 1:25 - loss: 5.0781 - acc: 0.361 - ETA: 1:24 - loss: 5.0747 - acc: 0.362 - ETA: 1:23 - loss: 5.0729 - acc: 0.362 - ETA: 1:22 - loss: 5.0717 - acc: 0.362 - ETA: 1:21 - loss: 5.0678 - acc: 0.363 - ETA: 1:20 - loss: 5.0677 - acc: 0.363 - ETA: 1:19 - loss: 5.0636 - acc: 0.363 - ETA: 1:18 - loss: 5.0622 - acc: 0.364 - ETA: 1:17 - loss: 5.0603 - acc: 0.364 - ETA: 1:16 - loss: 5.0600 - acc: 0.364 - ETA: 1:15 - loss: 5.0620 - acc: 0.364 - ETA: 1:14 - loss: 5.0592 - acc: 0.364 - ETA: 1:13 - loss: 5.0592 - acc: 0.364 - ETA: 1:12 - loss: 5.0587 - acc: 0.364 - ETA: 1:11 - loss: 5.0560 - acc: 0.365 - ETA: 1:10 - loss: 5.0570 - acc: 0.364 - ETA: 1:09 - loss: 5.0593 - acc: 0.364 - ETA: 1:08 - loss: 5.0574 - acc: 0.365 - ETA: 1:07 - loss: 5.0552 - acc: 0.365 - ETA: 1:05 - loss: 5.0586 - acc: 0.364 - ETA: 1:04 - loss: 5.0568 - acc: 0.364 - ETA: 1:03 - loss: 5.0577 - acc: 0.364 - ETA: 1:02 - loss: 5.0589 - acc: 0.364 - ETA: 1:01 - loss: 5.0584 - acc: 0.364 - ETA: 1:00 - loss: 5.0583 - acc: 0.364 - ETA: 59s - loss: 5.0560 - acc: 0.365 - ETA: 58s - loss: 5.0550 - acc: 0.36 - ETA: 57s - loss: 5.0557 - acc: 0.36 - ETA: 56s - loss: 5.0555 - acc: 0.36 - ETA: 55s - loss: 5.0562 - acc: 0.36 - ETA: 54s - loss: 5.0550 - acc: 0.36 - ETA: 53s - loss: 5.0567 - acc: 0.36 - ETA: 52s - loss: 5.0561 - acc: 0.36 - ETA: 51s - loss: 5.0553 - acc: 0.36 - ETA: 50s - loss: 5.0584 - acc: 0.36 - ETA: 49s - loss: 5.0596 - acc: 0.36 - ETA: 48s - loss: 5.0589 - acc: 0.36 - ETA: 47s - loss: 5.0559 - acc: 0.36 - ETA: 46s - loss: 5.0529 - acc: 0.36 - ETA: 45s - loss: 5.0561 - acc: 0.36 - ETA: 44s - loss: 5.0553 - acc: 0.36 - ETA: 43s - loss: 5.0563 - acc: 0.36 - ETA: 42s - loss: 5.0547 - acc: 0.36 - ETA: 41s - loss: 5.0562 - acc: 0.36 - ETA: 40s - loss: 5.0570 - acc: 0.36 - ETA: 39s - loss: 5.0583 - acc: 0.36 - ETA: 38s - loss: 5.0581 - acc: 0.36 - ETA: 37s - loss: 5.0565 - acc: 0.36 - ETA: 35s - loss: 5.0577 - acc: 0.36 - ETA: 34s - loss: 5.0537 - acc: 0.36 - ETA: 33s - loss: 5.0522 - acc: 0.36 - ETA: 32s - loss: 5.0519 - acc: 0.36 - ETA: 31s - loss: 5.0481 - acc: 0.36 - ETA: 30s - loss: 5.0454 - acc: 0.36 - ETA: 29s - loss: 5.0429 - acc: 0.36 - ETA: 28s - loss: 5.0402 - acc: 0.36 - ETA: 27s - loss: 5.0381 - acc: 0.36 - ETA: 26s - loss: 5.0382 - acc: 0.36 - ETA: 25s - loss: 5.0408 - acc: 0.36 - ETA: 24s - loss: 5.0414 - acc: 0.36 - ETA: 23s - loss: 5.0434 - acc: 0.36 - ETA: 22s - loss: 5.0456 - acc: 0.36 - ETA: 21s - loss: 5.0440 - acc: 0.36 - ETA: 20s - loss: 5.0424 - acc: 0.36 - ETA: 19s - loss: 5.0433 - acc: 0.36 - ETA: 18s - loss: 5.0416 - acc: 0.36 - ETA: 17s - loss: 5.0415 - acc: 0.36 - ETA: 16s - loss: 5.0436 - acc: 0.36 - ETA: 15s - loss: 5.0446 - acc: 0.36 - ETA: 14s - loss: 5.0461 - acc: 0.36 - ETA: 13s - loss: 5.0496 - acc: 0.36 - ETA: 12s - loss: 5.0512 - acc: 0.36 - ETA: 11s - loss: 5.0500 - acc: 0.36 - ETA: 10s - loss: 5.0486 - acc: 0.36 - ETA: 9s - loss: 5.0496 - acc: 0.3650 - ETA: 8s - loss: 5.0522 - acc: 0.364 - ETA: 7s - loss: 5.0524 - acc: 0.364 - ETA: 6s - loss: 5.0501 - acc: 0.364 - ETA: 5s - loss: 5.0479 - acc: 0.364 - ETA: 4s - loss: 5.0467 - acc: 0.365 - ETA: 3s - loss: 5.0475 - acc: 0.365 - ETA: 2s - loss: 5.0491 - acc: 0.365 - ETA: 1s - loss: 5.0485 - acc: 0.365 - 321s 1s/step - loss: 5.0474 - acc: 0.3656\n",
            "Epoch 7 start at time  2019-08-04 05:50:02.592364\n"
          ],
          "name": "stdout"
        },
        {
          "output_type": "stream",
          "text": [
            "204/312 [==================>...........] - ETA: 5:35 - loss: 4.8525 - acc: 0.437 - ETA: 5:10 - loss: 4.6185 - acc: 0.453 - ETA: 5:01 - loss: 4.9479 - acc: 0.427 - ETA: 5:03 - loss: 4.9672 - acc: 0.398 - ETA: 5:00 - loss: 5.0262 - acc: 0.381 - ETA: 4:59 - loss: 5.0191 - acc: 0.380 - ETA: 4:51 - loss: 4.9026 - acc: 0.379 - ETA: 4:49 - loss: 4.8720 - acc: 0.378 - ETA: 4:45 - loss: 4.7478 - acc: 0.392 - ETA: 4:43 - loss: 4.7621 - acc: 0.393 - ETA: 4:42 - loss: 4.7354 - acc: 0.406 - ETA: 4:39 - loss: 4.7974 - acc: 0.403 - ETA: 4:38 - loss: 4.8196 - acc: 0.399 - ETA: 4:39 - loss: 4.8197 - acc: 0.397 - ETA: 4:37 - loss: 4.8378 - acc: 0.397 - ETA: 4:34 - loss: 4.9406 - acc: 0.388 - ETA: 4:34 - loss: 4.9252 - acc: 0.387 - ETA: 4:33 - loss: 4.8749 - acc: 0.392 - ETA: 4:33 - loss: 4.8663 - acc: 0.393 - ETA: 4:34 - loss: 4.8349 - acc: 0.398 - ETA: 4:32 - loss: 4.8748 - acc: 0.397 - ETA: 4:30 - loss: 4.8770 - acc: 0.397 - ETA: 4:29 - loss: 4.9014 - acc: 0.396 - ETA: 4:28 - loss: 4.9156 - acc: 0.398 - ETA: 4:27 - loss: 4.9245 - acc: 0.393 - ETA: 4:25 - loss: 4.9129 - acc: 0.399 - ETA: 4:24 - loss: 4.9208 - acc: 0.398 - ETA: 4:23 - loss: 4.9231 - acc: 0.399 - ETA: 4:21 - loss: 4.9515 - acc: 0.397 - ETA: 4:20 - loss: 4.9179 - acc: 0.401 - ETA: 4:19 - loss: 4.9163 - acc: 0.400 - ETA: 4:19 - loss: 4.9130 - acc: 0.400 - ETA: 4:17 - loss: 4.9237 - acc: 0.398 - ETA: 4:16 - loss: 4.9034 - acc: 0.396 - ETA: 4:15 - loss: 4.9027 - acc: 0.397 - ETA: 4:15 - loss: 4.9062 - acc: 0.397 - ETA: 4:14 - loss: 4.8840 - acc: 0.397 - ETA: 4:13 - loss: 4.8912 - acc: 0.395 - ETA: 4:12 - loss: 4.9161 - acc: 0.389 - ETA: 4:11 - loss: 4.9111 - acc: 0.389 - ETA: 4:10 - loss: 4.8925 - acc: 0.392 - ETA: 4:09 - loss: 4.8985 - acc: 0.390 - ETA: 4:08 - loss: 4.8997 - acc: 0.391 - ETA: 4:07 - loss: 4.9106 - acc: 0.388 - ETA: 4:06 - loss: 4.9069 - acc: 0.386 - ETA: 4:05 - loss: 4.9029 - acc: 0.386 - ETA: 4:04 - loss: 4.8958 - acc: 0.389 - ETA: 4:03 - loss: 4.9030 - acc: 0.386 - ETA: 4:02 - loss: 4.9036 - acc: 0.386 - ETA: 4:02 - loss: 4.9262 - acc: 0.383 - ETA: 4:01 - loss: 4.9107 - acc: 0.385 - ETA: 4:00 - loss: 4.8859 - acc: 0.387 - ETA: 3:59 - loss: 4.8929 - acc: 0.386 - ETA: 3:58 - loss: 4.8728 - acc: 0.388 - ETA: 3:58 - loss: 4.8697 - acc: 0.389 - ETA: 3:57 - loss: 4.8587 - acc: 0.389 - ETA: 3:55 - loss: 4.8454 - acc: 0.392 - ETA: 3:54 - loss: 4.8327 - acc: 0.393 - ETA: 3:53 - loss: 4.8417 - acc: 0.391 - ETA: 3:52 - loss: 4.8473 - acc: 0.391 - ETA: 3:51 - loss: 4.8737 - acc: 0.387 - ETA: 3:51 - loss: 4.8762 - acc: 0.389 - ETA: 3:50 - loss: 4.8614 - acc: 0.390 - ETA: 3:49 - loss: 4.8643 - acc: 0.389 - ETA: 3:48 - loss: 4.8572 - acc: 0.388 - ETA: 3:48 - loss: 4.8539 - acc: 0.388 - ETA: 3:47 - loss: 4.8633 - acc: 0.387 - ETA: 3:45 - loss: 4.8676 - acc: 0.387 - ETA: 3:44 - loss: 4.8762 - acc: 0.388 - ETA: 3:44 - loss: 4.8691 - acc: 0.386 - ETA: 3:43 - loss: 4.8756 - acc: 0.385 - ETA: 3:42 - loss: 4.8755 - acc: 0.385 - ETA: 3:41 - loss: 4.8658 - acc: 0.387 - ETA: 3:40 - loss: 4.8711 - acc: 0.386 - ETA: 3:40 - loss: 4.8743 - acc: 0.386 - ETA: 3:39 - loss: 4.8846 - acc: 0.384 - ETA: 3:38 - loss: 4.9052 - acc: 0.383 - ETA: 3:38 - loss: 4.9082 - acc: 0.382 - ETA: 3:37 - loss: 4.9027 - acc: 0.383 - ETA: 3:35 - loss: 4.8951 - acc: 0.383 - ETA: 3:34 - loss: 4.8911 - acc: 0.383 - ETA: 3:33 - loss: 4.8975 - acc: 0.382 - ETA: 3:32 - loss: 4.8937 - acc: 0.382 - ETA: 3:31 - loss: 4.8937 - acc: 0.381 - ETA: 3:30 - loss: 4.8910 - acc: 0.383 - ETA: 3:29 - loss: 4.8904 - acc: 0.383 - ETA: 3:28 - loss: 4.8979 - acc: 0.382 - ETA: 3:27 - loss: 4.8980 - acc: 0.382 - ETA: 3:26 - loss: 4.8968 - acc: 0.381 - ETA: 3:26 - loss: 4.8962 - acc: 0.381 - ETA: 3:25 - loss: 4.8969 - acc: 0.379 - ETA: 3:23 - loss: 4.9065 - acc: 0.379 - ETA: 3:23 - loss: 4.9075 - acc: 0.380 - ETA: 3:21 - loss: 4.9106 - acc: 0.379 - ETA: 3:21 - loss: 4.9115 - acc: 0.378 - ETA: 3:20 - loss: 4.9044 - acc: 0.378 - ETA: 3:19 - loss: 4.9096 - acc: 0.378 - ETA: 3:18 - loss: 4.8979 - acc: 0.380 - ETA: 3:17 - loss: 4.8996 - acc: 0.380 - ETA: 3:16 - loss: 4.8984 - acc: 0.380 - ETA: 3:15 - loss: 4.9014 - acc: 0.379 - ETA: 3:14 - loss: 4.9080 - acc: 0.379 - ETA: 3:14 - loss: 4.9074 - acc: 0.378 - ETA: 3:13 - loss: 4.9135 - acc: 0.378 - ETA: 3:12 - loss: 4.9085 - acc: 0.379 - ETA: 3:11 - loss: 4.9136 - acc: 0.379 - ETA: 3:10 - loss: 4.9130 - acc: 0.379 - ETA: 3:09 - loss: 4.9131 - acc: 0.379 - ETA: 3:08 - loss: 4.9129 - acc: 0.378 - ETA: 3:07 - loss: 4.9142 - acc: 0.378 - ETA: 3:06 - loss: 4.9114 - acc: 0.378 - ETA: 3:05 - loss: 4.9209 - acc: 0.377 - ETA: 3:04 - loss: 4.9229 - acc: 0.377 - ETA: 3:03 - loss: 4.9157 - acc: 0.379 - ETA: 3:02 - loss: 4.9132 - acc: 0.378 - ETA: 3:01 - loss: 4.9194 - acc: 0.378 - ETA: 3:00 - loss: 4.9244 - acc: 0.377 - ETA: 2:59 - loss: 4.9266 - acc: 0.377 - ETA: 2:58 - loss: 4.9217 - acc: 0.378 - ETA: 2:57 - loss: 4.9179 - acc: 0.379 - ETA: 2:56 - loss: 4.9173 - acc: 0.378 - ETA: 2:56 - loss: 4.9195 - acc: 0.378 - ETA: 2:55 - loss: 4.9168 - acc: 0.378 - ETA: 2:54 - loss: 4.9180 - acc: 0.379 - ETA: 2:53 - loss: 4.9176 - acc: 0.379 - ETA: 2:52 - loss: 4.9130 - acc: 0.379 - ETA: 2:51 - loss: 4.9170 - acc: 0.379 - ETA: 2:50 - loss: 4.9168 - acc: 0.378 - ETA: 2:49 - loss: 4.9257 - acc: 0.377 - ETA: 2:48 - loss: 4.9245 - acc: 0.378 - ETA: 2:47 - loss: 4.9316 - acc: 0.376 - ETA: 2:46 - loss: 4.9325 - acc: 0.376 - ETA: 2:45 - loss: 4.9334 - acc: 0.376 - ETA: 2:45 - loss: 4.9304 - acc: 0.376 - ETA: 2:44 - loss: 4.9351 - acc: 0.375 - ETA: 2:43 - loss: 4.9387 - acc: 0.375 - ETA: 2:42 - loss: 4.9420 - acc: 0.374 - ETA: 2:41 - loss: 4.9385 - acc: 0.374 - ETA: 2:40 - loss: 4.9336 - acc: 0.375 - ETA: 2:39 - loss: 4.9312 - acc: 0.375 - ETA: 2:38 - loss: 4.9308 - acc: 0.374 - ETA: 2:37 - loss: 4.9285 - acc: 0.374 - ETA: 2:36 - loss: 4.9223 - acc: 0.375 - ETA: 2:36 - loss: 4.9240 - acc: 0.373 - ETA: 2:35 - loss: 4.9237 - acc: 0.373 - ETA: 2:34 - loss: 4.9277 - acc: 0.373 - ETA: 2:33 - loss: 4.9273 - acc: 0.373 - ETA: 2:32 - loss: 4.9290 - acc: 0.373 - ETA: 2:31 - loss: 4.9253 - acc: 0.374 - ETA: 2:30 - loss: 4.9313 - acc: 0.374 - ETA: 2:29 - loss: 4.9314 - acc: 0.374 - ETA: 2:28 - loss: 4.9253 - acc: 0.374 - ETA: 2:27 - loss: 4.9263 - acc: 0.374 - ETA: 2:26 - loss: 4.9265 - acc: 0.373 - ETA: 2:25 - loss: 4.9268 - acc: 0.374 - ETA: 2:24 - loss: 4.9248 - acc: 0.373 - ETA: 2:24 - loss: 4.9256 - acc: 0.374 - ETA: 2:23 - loss: 4.9299 - acc: 0.374 - ETA: 2:22 - loss: 4.9301 - acc: 0.374 - ETA: 2:21 - loss: 4.9323 - acc: 0.373 - ETA: 2:20 - loss: 4.9311 - acc: 0.373 - ETA: 2:19 - loss: 4.9282 - acc: 0.373 - ETA: 2:18 - loss: 4.9307 - acc: 0.373 - ETA: 2:17 - loss: 4.9354 - acc: 0.372 - ETA: 2:16 - loss: 4.9327 - acc: 0.373 - ETA: 2:15 - loss: 4.9270 - acc: 0.374 - ETA: 2:14 - loss: 4.9214 - acc: 0.374 - ETA: 2:13 - loss: 4.9227 - acc: 0.374 - ETA: 2:12 - loss: 4.9201 - acc: 0.375 - ETA: 2:12 - loss: 4.9181 - acc: 0.375 - ETA: 2:11 - loss: 4.9134 - acc: 0.376 - ETA: 2:10 - loss: 4.9158 - acc: 0.375 - ETA: 2:09 - loss: 4.9168 - acc: 0.375 - ETA: 2:08 - loss: 4.9158 - acc: 0.375 - ETA: 2:07 - loss: 4.9195 - acc: 0.374 - ETA: 2:06 - loss: 4.9252 - acc: 0.375 - ETA: 2:05 - loss: 4.9245 - acc: 0.375 - ETA: 2:04 - loss: 4.9226 - acc: 0.375 - ETA: 2:03 - loss: 4.9243 - acc: 0.374 - ETA: 2:02 - loss: 4.9208 - acc: 0.374 - ETA: 2:01 - loss: 4.9225 - acc: 0.374 - ETA: 2:00 - loss: 4.9239 - acc: 0.373 - ETA: 1:59 - loss: 4.9261 - acc: 0.373 - ETA: 1:58 - loss: 4.9246 - acc: 0.373 - ETA: 1:57 - loss: 4.9243 - acc: 0.374 - ETA: 1:57 - loss: 4.9227 - acc: 0.374 - ETA: 1:56 - loss: 4.9221 - acc: 0.374 - ETA: 1:55 - loss: 4.9244 - acc: 0.374 - ETA: 1:54 - loss: 4.9190 - acc: 0.374 - ETA: 1:53 - loss: 4.9166 - acc: 0.375 - ETA: 1:52 - loss: 4.9174 - acc: 0.374 - ETA: 1:51 - loss: 4.9182 - acc: 0.374 - ETA: 1:50 - loss: 4.9231 - acc: 0.374 - ETA: 1:49 - loss: 4.9197 - acc: 0.374 - ETA: 1:48 - loss: 4.9197 - acc: 0.374 - ETA: 1:47 - loss: 4.9204 - acc: 0.374 - ETA: 1:46 - loss: 4.9229 - acc: 0.374 - ETA: 1:45 - loss: 4.9264 - acc: 0.373 - ETA: 1:44 - loss: 4.9246 - acc: 0.374 - ETA: 1:43 - loss: 4.9268 - acc: 0.374 - ETA: 1:43 - loss: 4.9336 - acc: 0.374 - ETA: 1:42 - loss: 4.9345 - acc: 0.374 - ETA: 1:41 - loss: 4.9324 - acc: 0.373 - ETA: 1:40 - loss: 4.9329 - acc: 0.3738"
          ],
          "name": "stdout"
        },
        {
          "output_type": "stream",
          "text": [
            "312/312 [==============================] - ETA: 1:39 - loss: 4.9370 - acc: 0.373 - ETA: 1:38 - loss: 4.9395 - acc: 0.374 - ETA: 1:37 - loss: 4.9399 - acc: 0.374 - ETA: 1:36 - loss: 4.9343 - acc: 0.374 - ETA: 1:35 - loss: 4.9345 - acc: 0.374 - ETA: 1:34 - loss: 4.9379 - acc: 0.374 - ETA: 1:33 - loss: 4.9442 - acc: 0.374 - ETA: 1:32 - loss: 4.9446 - acc: 0.374 - ETA: 1:31 - loss: 4.9432 - acc: 0.374 - ETA: 1:30 - loss: 4.9473 - acc: 0.374 - ETA: 1:29 - loss: 4.9544 - acc: 0.373 - ETA: 1:29 - loss: 4.9526 - acc: 0.373 - ETA: 1:28 - loss: 4.9586 - acc: 0.373 - ETA: 1:27 - loss: 4.9575 - acc: 0.373 - ETA: 1:26 - loss: 4.9628 - acc: 0.372 - ETA: 1:25 - loss: 4.9641 - acc: 0.372 - ETA: 1:24 - loss: 4.9613 - acc: 0.373 - ETA: 1:23 - loss: 4.9593 - acc: 0.374 - ETA: 1:22 - loss: 4.9616 - acc: 0.373 - ETA: 1:21 - loss: 4.9632 - acc: 0.373 - ETA: 1:21 - loss: 4.9622 - acc: 0.373 - ETA: 1:20 - loss: 4.9629 - acc: 0.372 - ETA: 1:19 - loss: 4.9643 - acc: 0.372 - ETA: 1:18 - loss: 4.9639 - acc: 0.372 - ETA: 1:17 - loss: 4.9616 - acc: 0.372 - ETA: 1:16 - loss: 4.9586 - acc: 0.373 - ETA: 1:15 - loss: 4.9573 - acc: 0.373 - ETA: 1:14 - loss: 4.9567 - acc: 0.373 - ETA: 1:13 - loss: 4.9532 - acc: 0.374 - ETA: 1:12 - loss: 4.9531 - acc: 0.374 - ETA: 1:11 - loss: 4.9490 - acc: 0.374 - ETA: 1:10 - loss: 4.9469 - acc: 0.374 - ETA: 1:09 - loss: 4.9448 - acc: 0.375 - ETA: 1:08 - loss: 4.9443 - acc: 0.375 - ETA: 1:07 - loss: 4.9461 - acc: 0.375 - ETA: 1:06 - loss: 4.9430 - acc: 0.376 - ETA: 1:06 - loss: 4.9431 - acc: 0.375 - ETA: 1:05 - loss: 4.9424 - acc: 0.375 - ETA: 1:04 - loss: 4.9400 - acc: 0.375 - ETA: 1:03 - loss: 4.9412 - acc: 0.375 - ETA: 1:02 - loss: 4.9438 - acc: 0.375 - ETA: 1:01 - loss: 4.9418 - acc: 0.375 - ETA: 1:00 - loss: 4.9390 - acc: 0.376 - ETA: 59s - loss: 4.9424 - acc: 0.375 - ETA: 58s - loss: 4.9414 - acc: 0.37 - ETA: 57s - loss: 4.9426 - acc: 0.37 - ETA: 56s - loss: 4.9435 - acc: 0.37 - ETA: 55s - loss: 4.9435 - acc: 0.37 - ETA: 54s - loss: 4.9430 - acc: 0.37 - ETA: 53s - loss: 4.9403 - acc: 0.37 - ETA: 52s - loss: 4.9394 - acc: 0.37 - ETA: 51s - loss: 4.9405 - acc: 0.37 - ETA: 51s - loss: 4.9409 - acc: 0.37 - ETA: 50s - loss: 4.9420 - acc: 0.37 - ETA: 49s - loss: 4.9399 - acc: 0.37 - ETA: 48s - loss: 4.9415 - acc: 0.37 - ETA: 47s - loss: 4.9410 - acc: 0.37 - ETA: 46s - loss: 4.9398 - acc: 0.37 - ETA: 45s - loss: 4.9429 - acc: 0.37 - ETA: 44s - loss: 4.9442 - acc: 0.37 - ETA: 43s - loss: 4.9433 - acc: 0.37 - ETA: 42s - loss: 4.9404 - acc: 0.37 - ETA: 41s - loss: 4.9377 - acc: 0.37 - ETA: 40s - loss: 4.9412 - acc: 0.37 - ETA: 39s - loss: 4.9405 - acc: 0.37 - ETA: 38s - loss: 4.9414 - acc: 0.37 - ETA: 38s - loss: 4.9401 - acc: 0.37 - ETA: 37s - loss: 4.9420 - acc: 0.37 - ETA: 36s - loss: 4.9428 - acc: 0.37 - ETA: 35s - loss: 4.9439 - acc: 0.37 - ETA: 34s - loss: 4.9438 - acc: 0.37 - ETA: 33s - loss: 4.9423 - acc: 0.37 - ETA: 32s - loss: 4.9435 - acc: 0.37 - ETA: 31s - loss: 4.9393 - acc: 0.37 - ETA: 30s - loss: 4.9374 - acc: 0.37 - ETA: 29s - loss: 4.9372 - acc: 0.37 - ETA: 28s - loss: 4.9335 - acc: 0.37 - ETA: 27s - loss: 4.9311 - acc: 0.37 - ETA: 26s - loss: 4.9289 - acc: 0.37 - ETA: 25s - loss: 4.9264 - acc: 0.37 - ETA: 25s - loss: 4.9246 - acc: 0.37 - ETA: 24s - loss: 4.9248 - acc: 0.37 - ETA: 23s - loss: 4.9277 - acc: 0.37 - ETA: 22s - loss: 4.9282 - acc: 0.37 - ETA: 21s - loss: 4.9299 - acc: 0.37 - ETA: 20s - loss: 4.9323 - acc: 0.37 - ETA: 19s - loss: 4.9308 - acc: 0.37 - ETA: 18s - loss: 4.9298 - acc: 0.37 - ETA: 17s - loss: 4.9308 - acc: 0.37 - ETA: 16s - loss: 4.9290 - acc: 0.37 - ETA: 15s - loss: 4.9290 - acc: 0.37 - ETA: 14s - loss: 4.9308 - acc: 0.37 - ETA: 13s - loss: 4.9325 - acc: 0.37 - ETA: 12s - loss: 4.9341 - acc: 0.37 - ETA: 12s - loss: 4.9375 - acc: 0.37 - ETA: 11s - loss: 4.9396 - acc: 0.37 - ETA: 10s - loss: 4.9385 - acc: 0.37 - ETA: 9s - loss: 4.9371 - acc: 0.3754 - ETA: 8s - loss: 4.9378 - acc: 0.375 - ETA: 7s - loss: 4.9398 - acc: 0.374 - ETA: 6s - loss: 4.9400 - acc: 0.374 - ETA: 5s - loss: 4.9380 - acc: 0.374 - ETA: 4s - loss: 4.9358 - acc: 0.375 - ETA: 3s - loss: 4.9346 - acc: 0.375 - ETA: 2s - loss: 4.9351 - acc: 0.375 - ETA: 1s - loss: 4.9367 - acc: 0.374 - ETA: 0s - loss: 4.9364 - acc: 0.375 - 289s 927ms/step - loss: 4.9353 - acc: 0.3753\n",
            "Epoch 8 start at time  2019-08-04 06:42:03.231385\n",
            "204/312 [==================>...........] - ETA: 6:09 - loss: 4.7660 - acc: 0.343 - ETA: 6:01 - loss: 4.4930 - acc: 0.406 - ETA: 6:20 - loss: 4.8515 - acc: 0.375 - ETA: 6:24 - loss: 4.8563 - acc: 0.351 - ETA: 6:19 - loss: 4.9229 - acc: 0.350 - ETA: 6:12 - loss: 4.9134 - acc: 0.359 - ETA: 5:59 - loss: 4.7963 - acc: 0.370 - ETA: 5:51 - loss: 4.7619 - acc: 0.371 - ETA: 5:47 - loss: 4.6412 - acc: 0.385 - ETA: 5:45 - loss: 4.6472 - acc: 0.387 - ETA: 5:41 - loss: 4.6192 - acc: 0.400 - ETA: 5:40 - loss: 4.6786 - acc: 0.398 - ETA: 5:37 - loss: 4.6961 - acc: 0.399 - ETA: 5:35 - loss: 4.6939 - acc: 0.397 - ETA: 5:33 - loss: 4.7175 - acc: 0.397 - ETA: 5:30 - loss: 4.8252 - acc: 0.388 - ETA: 5:28 - loss: 4.8125 - acc: 0.389 - ETA: 5:27 - loss: 4.7682 - acc: 0.394 - ETA: 5:26 - loss: 4.7548 - acc: 0.394 - ETA: 5:24 - loss: 4.7222 - acc: 0.400 - ETA: 5:22 - loss: 4.7657 - acc: 0.398 - ETA: 5:20 - loss: 4.7641 - acc: 0.400 - ETA: 5:18 - loss: 4.7948 - acc: 0.399 - ETA: 5:17 - loss: 4.8036 - acc: 0.402 - ETA: 5:15 - loss: 4.8148 - acc: 0.397 - ETA: 5:12 - loss: 4.8043 - acc: 0.401 - ETA: 5:11 - loss: 4.8138 - acc: 0.401 - ETA: 5:09 - loss: 4.8173 - acc: 0.400 - ETA: 5:07 - loss: 4.8473 - acc: 0.398 - ETA: 5:06 - loss: 4.8144 - acc: 0.402 - ETA: 5:04 - loss: 4.8100 - acc: 0.401 - ETA: 5:03 - loss: 4.8079 - acc: 0.401 - ETA: 5:01 - loss: 4.8159 - acc: 0.398 - ETA: 5:00 - loss: 4.7921 - acc: 0.398 - ETA: 4:59 - loss: 4.7945 - acc: 0.400 - ETA: 4:57 - loss: 4.7992 - acc: 0.399 - ETA: 4:55 - loss: 4.7776 - acc: 0.399 - ETA: 4:54 - loss: 4.7891 - acc: 0.396 - ETA: 4:54 - loss: 4.8167 - acc: 0.390 - ETA: 4:52 - loss: 4.8077 - acc: 0.391 - ETA: 4:51 - loss: 4.7879 - acc: 0.394 - ETA: 4:50 - loss: 4.7925 - acc: 0.391 - ETA: 4:48 - loss: 4.7947 - acc: 0.391 - ETA: 4:46 - loss: 4.8025 - acc: 0.389 - ETA: 4:45 - loss: 4.7997 - acc: 0.388 - ETA: 4:43 - loss: 4.7931 - acc: 0.389 - ETA: 4:42 - loss: 4.7886 - acc: 0.391 - ETA: 4:40 - loss: 4.7944 - acc: 0.389 - ETA: 4:40 - loss: 4.7931 - acc: 0.389 - ETA: 4:38 - loss: 4.8136 - acc: 0.386 - ETA: 4:37 - loss: 4.7998 - acc: 0.388 - ETA: 4:36 - loss: 4.7723 - acc: 0.391 - ETA: 4:35 - loss: 4.7812 - acc: 0.390 - ETA: 4:34 - loss: 4.7640 - acc: 0.392 - ETA: 4:33 - loss: 4.7580 - acc: 0.393 - ETA: 4:32 - loss: 4.7443 - acc: 0.393 - ETA: 4:30 - loss: 4.7335 - acc: 0.395 - ETA: 4:29 - loss: 4.7216 - acc: 0.396 - ETA: 4:28 - loss: 4.7319 - acc: 0.394 - ETA: 4:26 - loss: 4.7370 - acc: 0.393 - ETA: 4:25 - loss: 4.7624 - acc: 0.391 - ETA: 4:23 - loss: 4.7641 - acc: 0.394 - ETA: 4:22 - loss: 4.7482 - acc: 0.395 - ETA: 4:21 - loss: 4.7517 - acc: 0.394 - ETA: 4:20 - loss: 4.7453 - acc: 0.393 - ETA: 4:19 - loss: 4.7428 - acc: 0.393 - ETA: 4:17 - loss: 4.7530 - acc: 0.391 - ETA: 4:16 - loss: 4.7574 - acc: 0.391 - ETA: 4:15 - loss: 4.7673 - acc: 0.391 - ETA: 4:14 - loss: 4.7597 - acc: 0.390 - ETA: 4:13 - loss: 4.7661 - acc: 0.390 - ETA: 4:12 - loss: 4.7659 - acc: 0.391 - ETA: 4:11 - loss: 4.7575 - acc: 0.393 - ETA: 4:10 - loss: 4.7621 - acc: 0.393 - ETA: 4:09 - loss: 4.7657 - acc: 0.392 - ETA: 4:08 - loss: 4.7742 - acc: 0.391 - ETA: 4:07 - loss: 4.7926 - acc: 0.389 - ETA: 4:06 - loss: 4.7945 - acc: 0.388 - ETA: 4:05 - loss: 4.7892 - acc: 0.389 - ETA: 4:03 - loss: 4.7819 - acc: 0.389 - ETA: 4:02 - loss: 4.7776 - acc: 0.390 - ETA: 4:01 - loss: 4.7852 - acc: 0.388 - ETA: 4:00 - loss: 4.7825 - acc: 0.388 - ETA: 3:59 - loss: 4.7835 - acc: 0.386 - ETA: 3:58 - loss: 4.7806 - acc: 0.389 - ETA: 3:57 - loss: 4.7813 - acc: 0.388 - ETA: 3:56 - loss: 4.7886 - acc: 0.387 - ETA: 3:54 - loss: 4.7884 - acc: 0.388 - ETA: 3:53 - loss: 4.7873 - acc: 0.386 - ETA: 3:52 - loss: 4.7867 - acc: 0.386 - ETA: 3:51 - loss: 4.7881 - acc: 0.385 - ETA: 3:50 - loss: 4.7978 - acc: 0.385 - ETA: 3:48 - loss: 4.7999 - acc: 0.385 - ETA: 3:47 - loss: 4.8027 - acc: 0.384 - ETA: 3:46 - loss: 4.8029 - acc: 0.383 - ETA: 3:45 - loss: 4.7956 - acc: 0.383 - ETA: 3:44 - loss: 4.8013 - acc: 0.381 - ETA: 3:42 - loss: 4.7905 - acc: 0.383 - ETA: 3:42 - loss: 4.7916 - acc: 0.383 - ETA: 3:41 - loss: 4.7906 - acc: 0.383 - ETA: 3:40 - loss: 4.7934 - acc: 0.383 - ETA: 3:38 - loss: 4.8003 - acc: 0.383 - ETA: 3:37 - loss: 4.8008 - acc: 0.382 - ETA: 3:36 - loss: 4.8072 - acc: 0.382 - ETA: 3:35 - loss: 4.8020 - acc: 0.382 - ETA: 3:34 - loss: 4.8076 - acc: 0.382 - ETA: 3:33 - loss: 4.8080 - acc: 0.382 - ETA: 3:32 - loss: 4.8078 - acc: 0.382 - ETA: 3:31 - loss: 4.8083 - acc: 0.382 - ETA: 3:30 - loss: 4.8083 - acc: 0.381 - ETA: 3:29 - loss: 4.8058 - acc: 0.382 - ETA: 3:28 - loss: 4.8151 - acc: 0.380 - ETA: 3:27 - loss: 4.8155 - acc: 0.381 - ETA: 3:25 - loss: 4.8094 - acc: 0.382 - ETA: 3:24 - loss: 4.8070 - acc: 0.382 - ETA: 3:23 - loss: 4.8135 - acc: 0.381 - ETA: 3:22 - loss: 4.8184 - acc: 0.381 - ETA: 3:21 - loss: 4.8197 - acc: 0.381 - ETA: 3:20 - loss: 4.8151 - acc: 0.382 - ETA: 3:19 - loss: 4.8113 - acc: 0.382 - ETA: 3:18 - loss: 4.8111 - acc: 0.382 - ETA: 3:17 - loss: 4.8133 - acc: 0.382 - ETA: 3:16 - loss: 4.8103 - acc: 0.382 - ETA: 3:14 - loss: 4.8110 - acc: 0.382 - ETA: 3:13 - loss: 4.8094 - acc: 0.383 - ETA: 3:12 - loss: 4.8053 - acc: 0.384 - ETA: 3:11 - loss: 4.8095 - acc: 0.384 - ETA: 3:10 - loss: 4.8086 - acc: 0.383 - ETA: 3:09 - loss: 4.8180 - acc: 0.382 - ETA: 3:08 - loss: 4.8169 - acc: 0.383 - ETA: 3:06 - loss: 4.8240 - acc: 0.381 - ETA: 3:05 - loss: 4.8257 - acc: 0.382 - ETA: 3:04 - loss: 4.8256 - acc: 0.381 - ETA: 3:03 - loss: 4.8228 - acc: 0.382 - ETA: 3:02 - loss: 4.8276 - acc: 0.381 - ETA: 3:01 - loss: 4.8321 - acc: 0.380 - ETA: 3:00 - loss: 4.8367 - acc: 0.380 - ETA: 2:59 - loss: 4.8321 - acc: 0.380 - ETA: 2:58 - loss: 4.8275 - acc: 0.381 - ETA: 2:57 - loss: 4.8255 - acc: 0.381 - ETA: 2:56 - loss: 4.8247 - acc: 0.381 - ETA: 2:55 - loss: 4.8222 - acc: 0.382 - ETA: 2:54 - loss: 4.8159 - acc: 0.383 - ETA: 2:53 - loss: 4.8183 - acc: 0.381 - ETA: 2:52 - loss: 4.8175 - acc: 0.381 - ETA: 2:51 - loss: 4.8213 - acc: 0.381 - ETA: 2:50 - loss: 4.8211 - acc: 0.381 - ETA: 2:49 - loss: 4.8236 - acc: 0.380 - ETA: 2:48 - loss: 4.8207 - acc: 0.380 - ETA: 2:47 - loss: 4.8256 - acc: 0.380 - ETA: 2:46 - loss: 4.8259 - acc: 0.380 - ETA: 2:45 - loss: 4.8206 - acc: 0.381 - ETA: 2:44 - loss: 4.8223 - acc: 0.380 - ETA: 2:43 - loss: 4.8221 - acc: 0.380 - ETA: 2:42 - loss: 4.8230 - acc: 0.381 - ETA: 2:41 - loss: 4.8218 - acc: 0.380 - ETA: 2:40 - loss: 4.8220 - acc: 0.381 - ETA: 2:39 - loss: 4.8258 - acc: 0.381 - ETA: 2:38 - loss: 4.8257 - acc: 0.380 - ETA: 2:36 - loss: 4.8280 - acc: 0.380 - ETA: 2:35 - loss: 4.8264 - acc: 0.380 - ETA: 2:34 - loss: 4.8238 - acc: 0.380 - ETA: 2:33 - loss: 4.8267 - acc: 0.380 - ETA: 2:32 - loss: 4.8314 - acc: 0.379 - ETA: 2:31 - loss: 4.8290 - acc: 0.380 - ETA: 2:30 - loss: 4.8235 - acc: 0.380 - ETA: 2:29 - loss: 4.8172 - acc: 0.381 - ETA: 2:28 - loss: 4.8185 - acc: 0.381 - ETA: 2:27 - loss: 4.8162 - acc: 0.381 - ETA: 2:26 - loss: 4.8146 - acc: 0.381 - ETA: 2:25 - loss: 4.8096 - acc: 0.382 - ETA: 2:24 - loss: 4.8120 - acc: 0.382 - ETA: 2:23 - loss: 4.8125 - acc: 0.382 - ETA: 2:22 - loss: 4.8114 - acc: 0.382 - ETA: 2:21 - loss: 4.8153 - acc: 0.382 - ETA: 2:19 - loss: 4.8217 - acc: 0.382 - ETA: 2:18 - loss: 4.8214 - acc: 0.382 - ETA: 2:17 - loss: 4.8196 - acc: 0.382 - ETA: 2:16 - loss: 4.8218 - acc: 0.381 - ETA: 2:15 - loss: 4.8184 - acc: 0.382 - ETA: 2:14 - loss: 4.8201 - acc: 0.381 - ETA: 2:13 - loss: 4.8217 - acc: 0.381 - ETA: 2:12 - loss: 4.8244 - acc: 0.381 - ETA: 2:11 - loss: 4.8225 - acc: 0.381 - ETA: 2:10 - loss: 4.8220 - acc: 0.382 - ETA: 2:09 - loss: 4.8207 - acc: 0.382 - ETA: 2:08 - loss: 4.8204 - acc: 0.382 - ETA: 2:07 - loss: 4.8229 - acc: 0.382 - ETA: 2:06 - loss: 4.8175 - acc: 0.382 - ETA: 2:05 - loss: 4.8151 - acc: 0.383 - ETA: 2:04 - loss: 4.8153 - acc: 0.382 - ETA: 2:03 - loss: 4.8169 - acc: 0.383 - ETA: 2:02 - loss: 4.8224 - acc: 0.381 - ETA: 2:01 - loss: 4.8197 - acc: 0.381 - ETA: 2:00 - loss: 4.8199 - acc: 0.381 - ETA: 1:59 - loss: 4.8203 - acc: 0.381 - ETA: 1:58 - loss: 4.8223 - acc: 0.382 - ETA: 1:57 - loss: 4.8260 - acc: 0.381 - ETA: 1:56 - loss: 4.8241 - acc: 0.381 - ETA: 1:55 - loss: 4.8275 - acc: 0.381 - ETA: 1:54 - loss: 4.8352 - acc: 0.381 - ETA: 1:53 - loss: 4.8359 - acc: 0.381 - ETA: 1:52 - loss: 4.8333 - acc: 0.381 - ETA: 1:51 - loss: 4.8331 - acc: 0.3814312/312 [==============================] - ETA: 1:49 - loss: 4.8370 - acc: 0.381 - ETA: 1:48 - loss: 4.8395 - acc: 0.382 - ETA: 1:47 - loss: 4.8400 - acc: 0.382 - ETA: 1:46 - loss: 4.8344 - acc: 0.382 - ETA: 1:45 - loss: 4.8352 - acc: 0.382 - ETA: 1:44 - loss: 4.8390 - acc: 0.382 - ETA: 1:43 - loss: 4.8459 - acc: 0.382 - ETA: 1:42 - loss: 4.8465 - acc: 0.382 - ETA: 1:41 - loss: 4.8449 - acc: 0.382 - ETA: 1:40 - loss: 4.8487 - acc: 0.381 - ETA: 1:39 - loss: 4.8565 - acc: 0.381 - ETA: 1:38 - loss: 4.8551 - acc: 0.381 - ETA: 1:37 - loss: 4.8611 - acc: 0.380 - ETA: 1:36 - loss: 4.8597 - acc: 0.380 - ETA: 1:35 - loss: 4.8652 - acc: 0.380 - ETA: 1:34 - loss: 4.8662 - acc: 0.380 - ETA: 1:33 - loss: 4.8633 - acc: 0.381 - ETA: 1:32 - loss: 4.8617 - acc: 0.381 - ETA: 1:31 - loss: 4.8641 - acc: 0.381 - ETA: 1:30 - loss: 4.8656 - acc: 0.381 - ETA: 1:29 - loss: 4.8647 - acc: 0.381 - ETA: 1:28 - loss: 4.8655 - acc: 0.380 - ETA: 1:27 - loss: 4.8664 - acc: 0.380 - ETA: 1:26 - loss: 4.8662 - acc: 0.380 - ETA: 1:25 - loss: 4.8639 - acc: 0.380 - ETA: 1:24 - loss: 4.8611 - acc: 0.381 - ETA: 1:23 - loss: 4.8600 - acc: 0.381 - ETA: 1:22 - loss: 4.8594 - acc: 0.381 - ETA: 1:21 - loss: 4.8559 - acc: 0.382 - ETA: 1:20 - loss: 4.8564 - acc: 0.381 - ETA: 1:19 - loss: 4.8531 - acc: 0.382 - ETA: 1:18 - loss: 4.8506 - acc: 0.382 - ETA: 1:17 - loss: 4.8484 - acc: 0.383 - ETA: 1:16 - loss: 4.8479 - acc: 0.383 - ETA: 1:15 - loss: 4.8497 - acc: 0.383 - ETA: 1:14 - loss: 4.8466 - acc: 0.383 - ETA: 1:12 - loss: 4.8464 - acc: 0.383 - ETA: 1:11 - loss: 4.8458 - acc: 0.383 - ETA: 1:10 - loss: 4.8434 - acc: 0.384 - ETA: 1:09 - loss: 4.8445 - acc: 0.383 - ETA: 1:08 - loss: 4.8466 - acc: 0.383 - ETA: 1:07 - loss: 4.8449 - acc: 0.384 - ETA: 1:06 - loss: 4.8419 - acc: 0.384 - ETA: 1:05 - loss: 4.8456 - acc: 0.383 - ETA: 1:04 - loss: 4.8441 - acc: 0.383 - ETA: 1:03 - loss: 4.8449 - acc: 0.383 - ETA: 1:02 - loss: 4.8455 - acc: 0.383 - ETA: 1:01 - loss: 4.8456 - acc: 0.383 - ETA: 1:00 - loss: 4.8453 - acc: 0.383 - ETA: 59s - loss: 4.8427 - acc: 0.384 - ETA: 58s - loss: 4.8417 - acc: 0.38 - ETA: 57s - loss: 4.8430 - acc: 0.38 - ETA: 56s - loss: 4.8426 - acc: 0.38 - ETA: 55s - loss: 4.8438 - acc: 0.38 - ETA: 54s - loss: 4.8416 - acc: 0.38 - ETA: 53s - loss: 4.8428 - acc: 0.38 - ETA: 52s - loss: 4.8426 - acc: 0.38 - ETA: 51s - loss: 4.8415 - acc: 0.38 - ETA: 50s - loss: 4.8444 - acc: 0.38 - ETA: 49s - loss: 4.8454 - acc: 0.38 - ETA: 48s - loss: 4.8442 - acc: 0.38 - ETA: 47s - loss: 4.8415 - acc: 0.38 - ETA: 46s - loss: 4.8387 - acc: 0.38 - ETA: 45s - loss: 4.8422 - acc: 0.38 - ETA: 44s - loss: 4.8415 - acc: 0.38 - ETA: 43s - loss: 4.8426 - acc: 0.38 - ETA: 42s - loss: 4.8414 - acc: 0.38 - ETA: 41s - loss: 4.8428 - acc: 0.38 - ETA: 40s - loss: 4.8432 - acc: 0.38 - ETA: 38s - loss: 4.8446 - acc: 0.38 - ETA: 37s - loss: 4.8443 - acc: 0.38 - ETA: 36s - loss: 4.8427 - acc: 0.38 - ETA: 35s - loss: 4.8441 - acc: 0.38 - ETA: 34s - loss: 4.8400 - acc: 0.38 - ETA: 33s - loss: 4.8378 - acc: 0.38 - ETA: 32s - loss: 4.8371 - acc: 0.38 - ETA: 31s - loss: 4.8332 - acc: 0.38 - ETA: 30s - loss: 4.8308 - acc: 0.38 - ETA: 29s - loss: 4.8283 - acc: 0.38 - ETA: 28s - loss: 4.8259 - acc: 0.38 - ETA: 27s - loss: 4.8234 - acc: 0.38 - ETA: 26s - loss: 4.8235 - acc: 0.38 - ETA: 25s - loss: 4.8263 - acc: 0.38 - ETA: 24s - loss: 4.8266 - acc: 0.38 - ETA: 23s - loss: 4.8282 - acc: 0.38 - ETA: 22s - loss: 4.8304 - acc: 0.38 - ETA: 21s - loss: 4.8291 - acc: 0.38 - ETA: 20s - loss: 4.8278 - acc: 0.38 - ETA: 19s - loss: 4.8285 - acc: 0.38 - ETA: 18s - loss: 4.8268 - acc: 0.38 - ETA: 17s - loss: 4.8270 - acc: 0.38 - ETA: 16s - loss: 4.8282 - acc: 0.38 - ETA: 15s - loss: 4.8297 - acc: 0.38 - ETA: 14s - loss: 4.8311 - acc: 0.38 - ETA: 13s - loss: 4.8339 - acc: 0.38 - ETA: 12s - loss: 4.8357 - acc: 0.38 - ETA: 11s - loss: 4.8346 - acc: 0.38 - ETA: 10s - loss: 4.8331 - acc: 0.38 - ETA: 9s - loss: 4.8336 - acc: 0.3846 - ETA: 8s - loss: 4.8359 - acc: 0.384 - ETA: 7s - loss: 4.8364 - acc: 0.383 - ETA: 6s - loss: 4.8342 - acc: 0.384 - ETA: 5s - loss: 4.8323 - acc: 0.384 - ETA: 4s - loss: 4.8311 - acc: 0.384 - ETA: 3s - loss: 4.8317 - acc: 0.384 - ETA: 2s - loss: 4.8333 - acc: 0.384 - ETA: 1s - loss: 4.8327 - acc: 0.384 - 319s 1s/step - loss: 4.8315 - acc: 0.3845\n",
            "Epoch 9 start at time  2019-08-04 07:34:00.938980\n"
          ],
          "name": "stdout"
        },
        {
          "output_type": "stream",
          "text": [
            "204/312 [==================>...........] - ETA: 4:37 - loss: 4.6187 - acc: 0.343 - ETA: 4:40 - loss: 4.3527 - acc: 0.406 - ETA: 4:42 - loss: 4.6953 - acc: 0.395 - ETA: 4:39 - loss: 4.7458 - acc: 0.382 - ETA: 4:34 - loss: 4.7935 - acc: 0.381 - ETA: 4:33 - loss: 4.8104 - acc: 0.395 - ETA: 4:35 - loss: 4.7006 - acc: 0.397 - ETA: 4:31 - loss: 4.6740 - acc: 0.398 - ETA: 4:28 - loss: 4.5494 - acc: 0.416 - ETA: 4:26 - loss: 4.5532 - acc: 0.415 - ETA: 4:27 - loss: 4.5262 - acc: 0.429 - ETA: 4:25 - loss: 4.5754 - acc: 0.427 - ETA: 4:25 - loss: 4.5985 - acc: 0.425 - ETA: 4:23 - loss: 4.6018 - acc: 0.424 - ETA: 4:22 - loss: 4.6193 - acc: 0.420 - ETA: 4:21 - loss: 4.7187 - acc: 0.414 - ETA: 4:21 - loss: 4.7043 - acc: 0.413 - ETA: 4:20 - loss: 4.6626 - acc: 0.414 - ETA: 4:20 - loss: 4.6484 - acc: 0.412 - ETA: 4:19 - loss: 4.6151 - acc: 0.417 - ETA: 4:19 - loss: 4.6566 - acc: 0.413 - ETA: 4:18 - loss: 4.6550 - acc: 0.411 - ETA: 4:17 - loss: 4.6864 - acc: 0.413 - ETA: 4:17 - loss: 4.7006 - acc: 0.416 - ETA: 4:16 - loss: 4.7090 - acc: 0.411 - ETA: 4:15 - loss: 4.7025 - acc: 0.415 - ETA: 4:15 - loss: 4.7131 - acc: 0.415 - ETA: 4:14 - loss: 4.7195 - acc: 0.414 - ETA: 4:13 - loss: 4.7471 - acc: 0.411 - ETA: 4:13 - loss: 4.7153 - acc: 0.416 - ETA: 4:11 - loss: 4.7117 - acc: 0.416 - ETA: 4:10 - loss: 4.7093 - acc: 0.416 - ETA: 4:09 - loss: 4.7208 - acc: 0.412 - ETA: 4:08 - loss: 4.6970 - acc: 0.413 - ETA: 4:08 - loss: 4.6967 - acc: 0.413 - ETA: 4:08 - loss: 4.6977 - acc: 0.413 - ETA: 4:07 - loss: 4.6737 - acc: 0.413 - ETA: 4:06 - loss: 4.6829 - acc: 0.411 - ETA: 4:05 - loss: 4.7083 - acc: 0.403 - ETA: 4:04 - loss: 4.6993 - acc: 0.404 - ETA: 4:04 - loss: 4.6808 - acc: 0.407 - ETA: 4:02 - loss: 4.6854 - acc: 0.406 - ETA: 4:01 - loss: 4.6863 - acc: 0.406 - ETA: 4:00 - loss: 4.6964 - acc: 0.404 - ETA: 4:00 - loss: 4.6922 - acc: 0.403 - ETA: 3:59 - loss: 4.6879 - acc: 0.405 - ETA: 3:59 - loss: 4.6822 - acc: 0.407 - ETA: 3:58 - loss: 4.6856 - acc: 0.406 - ETA: 3:57 - loss: 4.6848 - acc: 0.406 - ETA: 3:56 - loss: 4.7039 - acc: 0.404 - ETA: 3:55 - loss: 4.6905 - acc: 0.407 - ETA: 3:54 - loss: 4.6662 - acc: 0.409 - ETA: 3:53 - loss: 4.6720 - acc: 0.408 - ETA: 3:52 - loss: 4.6542 - acc: 0.409 - ETA: 3:51 - loss: 4.6501 - acc: 0.409 - ETA: 3:50 - loss: 4.6380 - acc: 0.409 - ETA: 3:49 - loss: 4.6266 - acc: 0.411 - ETA: 3:48 - loss: 4.6168 - acc: 0.411 - ETA: 3:47 - loss: 4.6273 - acc: 0.411 - ETA: 3:46 - loss: 4.6331 - acc: 0.408 - ETA: 3:45 - loss: 4.6617 - acc: 0.405 - ETA: 3:44 - loss: 4.6632 - acc: 0.407 - ETA: 3:43 - loss: 4.6483 - acc: 0.409 - ETA: 3:43 - loss: 4.6498 - acc: 0.407 - ETA: 3:42 - loss: 4.6433 - acc: 0.406 - ETA: 3:41 - loss: 4.6411 - acc: 0.404 - ETA: 3:40 - loss: 4.6503 - acc: 0.403 - ETA: 3:39 - loss: 4.6532 - acc: 0.404 - ETA: 3:38 - loss: 4.6638 - acc: 0.404 - ETA: 3:37 - loss: 4.6558 - acc: 0.403 - ETA: 3:36 - loss: 4.6619 - acc: 0.403 - ETA: 3:35 - loss: 4.6614 - acc: 0.403 - ETA: 3:34 - loss: 4.6517 - acc: 0.405 - ETA: 3:33 - loss: 4.6586 - acc: 0.405 - ETA: 3:32 - loss: 4.6627 - acc: 0.404 - ETA: 3:31 - loss: 4.6743 - acc: 0.402 - ETA: 3:30 - loss: 4.6955 - acc: 0.400 - ETA: 3:29 - loss: 4.6966 - acc: 0.400 - ETA: 3:28 - loss: 4.6911 - acc: 0.401 - ETA: 3:28 - loss: 4.6831 - acc: 0.402 - ETA: 3:27 - loss: 4.6782 - acc: 0.402 - ETA: 3:26 - loss: 4.6840 - acc: 0.400 - ETA: 3:25 - loss: 4.6788 - acc: 0.401 - ETA: 3:24 - loss: 4.6798 - acc: 0.399 - ETA: 3:23 - loss: 4.6751 - acc: 0.401 - ETA: 3:22 - loss: 4.6747 - acc: 0.401 - ETA: 3:21 - loss: 4.6839 - acc: 0.400 - ETA: 3:20 - loss: 4.6838 - acc: 0.401 - ETA: 3:20 - loss: 4.6816 - acc: 0.400 - ETA: 3:19 - loss: 4.6802 - acc: 0.400 - ETA: 3:18 - loss: 4.6803 - acc: 0.398 - ETA: 3:17 - loss: 4.6903 - acc: 0.398 - ETA: 3:16 - loss: 4.6918 - acc: 0.398 - ETA: 3:15 - loss: 4.6944 - acc: 0.398 - ETA: 3:14 - loss: 4.6946 - acc: 0.398 - ETA: 3:13 - loss: 4.6871 - acc: 0.399 - ETA: 3:12 - loss: 4.6940 - acc: 0.397 - ETA: 3:11 - loss: 4.6838 - acc: 0.399 - ETA: 3:10 - loss: 4.6861 - acc: 0.399 - ETA: 3:09 - loss: 4.6853 - acc: 0.399 - ETA: 3:09 - loss: 4.6880 - acc: 0.399 - ETA: 3:08 - loss: 4.6962 - acc: 0.398 - ETA: 3:07 - loss: 4.6966 - acc: 0.398 - ETA: 3:06 - loss: 4.7025 - acc: 0.399 - ETA: 3:05 - loss: 4.6973 - acc: 0.399 - ETA: 3:04 - loss: 4.7035 - acc: 0.398 - ETA: 3:04 - loss: 4.7041 - acc: 0.398 - ETA: 3:03 - loss: 4.7038 - acc: 0.399 - ETA: 3:02 - loss: 4.7027 - acc: 0.398 - ETA: 3:01 - loss: 4.7030 - acc: 0.397 - ETA: 3:00 - loss: 4.7007 - acc: 0.398 - ETA: 3:00 - loss: 4.7121 - acc: 0.397 - ETA: 2:59 - loss: 4.7137 - acc: 0.398 - ETA: 2:58 - loss: 4.7071 - acc: 0.398 - ETA: 2:57 - loss: 4.7037 - acc: 0.398 - ETA: 2:56 - loss: 4.7102 - acc: 0.397 - ETA: 2:55 - loss: 4.7149 - acc: 0.397 - ETA: 2:54 - loss: 4.7170 - acc: 0.396 - ETA: 2:53 - loss: 4.7117 - acc: 0.397 - ETA: 2:52 - loss: 4.7082 - acc: 0.397 - ETA: 2:52 - loss: 4.7076 - acc: 0.396 - ETA: 2:51 - loss: 4.7098 - acc: 0.397 - ETA: 2:50 - loss: 4.7061 - acc: 0.397 - ETA: 2:49 - loss: 4.7071 - acc: 0.397 - ETA: 2:48 - loss: 4.7065 - acc: 0.398 - ETA: 2:47 - loss: 4.7028 - acc: 0.399 - ETA: 2:46 - loss: 4.7069 - acc: 0.399 - ETA: 2:45 - loss: 4.7062 - acc: 0.398 - ETA: 2:44 - loss: 4.7154 - acc: 0.397 - ETA: 2:43 - loss: 4.7139 - acc: 0.398 - ETA: 2:43 - loss: 4.7217 - acc: 0.396 - ETA: 2:42 - loss: 4.7221 - acc: 0.397 - ETA: 2:41 - loss: 4.7215 - acc: 0.396 - ETA: 2:40 - loss: 4.7191 - acc: 0.396 - ETA: 2:39 - loss: 4.7247 - acc: 0.395 - ETA: 2:38 - loss: 4.7282 - acc: 0.395 - ETA: 2:37 - loss: 4.7319 - acc: 0.394 - ETA: 2:36 - loss: 4.7281 - acc: 0.394 - ETA: 2:35 - loss: 4.7231 - acc: 0.395 - ETA: 2:34 - loss: 4.7205 - acc: 0.395 - ETA: 2:34 - loss: 4.7202 - acc: 0.394 - ETA: 2:33 - loss: 4.7184 - acc: 0.395 - ETA: 2:32 - loss: 4.7124 - acc: 0.396 - ETA: 2:31 - loss: 4.7148 - acc: 0.394 - ETA: 2:30 - loss: 4.7144 - acc: 0.394 - ETA: 2:29 - loss: 4.7182 - acc: 0.393 - ETA: 2:28 - loss: 4.7176 - acc: 0.393 - ETA: 2:27 - loss: 4.7195 - acc: 0.393 - ETA: 2:27 - loss: 4.7158 - acc: 0.394 - ETA: 2:26 - loss: 4.7208 - acc: 0.394 - ETA: 2:25 - loss: 4.7211 - acc: 0.394 - ETA: 2:24 - loss: 4.7162 - acc: 0.394 - ETA: 2:23 - loss: 4.7177 - acc: 0.394 - ETA: 2:22 - loss: 4.7181 - acc: 0.394 - ETA: 2:21 - loss: 4.7185 - acc: 0.394 - ETA: 2:20 - loss: 4.7173 - acc: 0.394 - ETA: 2:19 - loss: 4.7175 - acc: 0.394 - ETA: 2:18 - loss: 4.7225 - acc: 0.394 - ETA: 2:17 - loss: 4.7220 - acc: 0.394 - ETA: 2:16 - loss: 4.7251 - acc: 0.393 - ETA: 2:16 - loss: 4.7232 - acc: 0.394 - ETA: 2:15 - loss: 4.7206 - acc: 0.394 - ETA: 2:14 - loss: 4.7236 - acc: 0.393 - ETA: 2:13 - loss: 4.7281 - acc: 0.393 - ETA: 2:12 - loss: 4.7245 - acc: 0.393 - ETA: 2:11 - loss: 4.7185 - acc: 0.394 - ETA: 2:10 - loss: 4.7122 - acc: 0.394 - ETA: 2:09 - loss: 4.7136 - acc: 0.394 - ETA: 2:08 - loss: 4.7112 - acc: 0.394 - ETA: 2:08 - loss: 4.7095 - acc: 0.394 - ETA: 2:07 - loss: 4.7040 - acc: 0.395 - ETA: 2:06 - loss: 4.7058 - acc: 0.395 - ETA: 2:05 - loss: 4.7061 - acc: 0.395 - ETA: 2:04 - loss: 4.7047 - acc: 0.395 - ETA: 2:03 - loss: 4.7079 - acc: 0.394 - ETA: 2:02 - loss: 4.7145 - acc: 0.395 - ETA: 2:01 - loss: 4.7146 - acc: 0.395 - ETA: 2:00 - loss: 4.7121 - acc: 0.394 - ETA: 1:59 - loss: 4.7139 - acc: 0.394 - ETA: 1:58 - loss: 4.7101 - acc: 0.394 - ETA: 1:58 - loss: 4.7117 - acc: 0.394 - ETA: 1:57 - loss: 4.7128 - acc: 0.393 - ETA: 1:56 - loss: 4.7152 - acc: 0.393 - ETA: 1:55 - loss: 4.7139 - acc: 0.393 - ETA: 1:54 - loss: 4.7133 - acc: 0.394 - ETA: 1:53 - loss: 4.7117 - acc: 0.394 - ETA: 1:52 - loss: 4.7105 - acc: 0.394 - ETA: 1:51 - loss: 4.7131 - acc: 0.393 - ETA: 1:50 - loss: 4.7082 - acc: 0.394 - ETA: 1:49 - loss: 4.7062 - acc: 0.394 - ETA: 1:49 - loss: 4.7069 - acc: 0.394 - ETA: 1:48 - loss: 4.7077 - acc: 0.394 - ETA: 1:47 - loss: 4.7122 - acc: 0.393 - ETA: 1:46 - loss: 4.7091 - acc: 0.393 - ETA: 1:45 - loss: 4.7089 - acc: 0.393 - ETA: 1:44 - loss: 4.7092 - acc: 0.393 - ETA: 1:43 - loss: 4.7123 - acc: 0.393 - ETA: 1:42 - loss: 4.7154 - acc: 0.392 - ETA: 1:42 - loss: 4.7136 - acc: 0.393 - ETA: 1:41 - loss: 4.7165 - acc: 0.393 - ETA: 1:40 - loss: 4.7242 - acc: 0.393 - ETA: 1:39 - loss: 4.7247 - acc: 0.393 - ETA: 1:38 - loss: 4.7219 - acc: 0.393 - ETA: 1:37 - loss: 4.7219 - acc: 0.3934"
          ],
          "name": "stdout"
        },
        {
          "output_type": "stream",
          "text": [
            "312/312 [==============================] - ETA: 1:36 - loss: 4.7257 - acc: 0.393 - ETA: 1:35 - loss: 4.7286 - acc: 0.393 - ETA: 1:34 - loss: 4.7294 - acc: 0.394 - ETA: 1:34 - loss: 4.7239 - acc: 0.394 - ETA: 1:33 - loss: 4.7250 - acc: 0.394 - ETA: 1:32 - loss: 4.7286 - acc: 0.394 - ETA: 1:31 - loss: 4.7348 - acc: 0.394 - ETA: 1:30 - loss: 4.7353 - acc: 0.394 - ETA: 1:29 - loss: 4.7340 - acc: 0.394 - ETA: 1:28 - loss: 4.7381 - acc: 0.393 - ETA: 1:27 - loss: 4.7454 - acc: 0.393 - ETA: 1:26 - loss: 4.7433 - acc: 0.393 - ETA: 1:25 - loss: 4.7491 - acc: 0.392 - ETA: 1:24 - loss: 4.7475 - acc: 0.392 - ETA: 1:24 - loss: 4.7537 - acc: 0.392 - ETA: 1:23 - loss: 4.7546 - acc: 0.392 - ETA: 1:22 - loss: 4.7517 - acc: 0.393 - ETA: 1:21 - loss: 4.7501 - acc: 0.393 - ETA: 1:20 - loss: 4.7528 - acc: 0.392 - ETA: 1:19 - loss: 4.7548 - acc: 0.392 - ETA: 1:18 - loss: 4.7534 - acc: 0.392 - ETA: 1:17 - loss: 4.7542 - acc: 0.392 - ETA: 1:16 - loss: 4.7549 - acc: 0.392 - ETA: 1:15 - loss: 4.7550 - acc: 0.392 - ETA: 1:15 - loss: 4.7524 - acc: 0.392 - ETA: 1:14 - loss: 4.7499 - acc: 0.393 - ETA: 1:13 - loss: 4.7485 - acc: 0.393 - ETA: 1:12 - loss: 4.7482 - acc: 0.393 - ETA: 1:11 - loss: 4.7444 - acc: 0.393 - ETA: 1:10 - loss: 4.7444 - acc: 0.393 - ETA: 1:09 - loss: 4.7407 - acc: 0.394 - ETA: 1:08 - loss: 4.7376 - acc: 0.394 - ETA: 1:07 - loss: 4.7357 - acc: 0.394 - ETA: 1:06 - loss: 4.7349 - acc: 0.395 - ETA: 1:05 - loss: 4.7371 - acc: 0.395 - ETA: 1:05 - loss: 4.7338 - acc: 0.395 - ETA: 1:04 - loss: 4.7338 - acc: 0.395 - ETA: 1:03 - loss: 4.7331 - acc: 0.395 - ETA: 1:02 - loss: 4.7301 - acc: 0.395 - ETA: 1:01 - loss: 4.7312 - acc: 0.395 - ETA: 1:00 - loss: 4.7337 - acc: 0.395 - ETA: 59s - loss: 4.7316 - acc: 0.396 - ETA: 58s - loss: 4.7287 - acc: 0.39 - ETA: 57s - loss: 4.7328 - acc: 0.39 - ETA: 56s - loss: 4.7313 - acc: 0.39 - ETA: 56s - loss: 4.7327 - acc: 0.39 - ETA: 55s - loss: 4.7334 - acc: 0.39 - ETA: 54s - loss: 4.7335 - acc: 0.39 - ETA: 53s - loss: 4.7329 - acc: 0.39 - ETA: 52s - loss: 4.7306 - acc: 0.39 - ETA: 51s - loss: 4.7287 - acc: 0.39 - ETA: 50s - loss: 4.7297 - acc: 0.39 - ETA: 49s - loss: 4.7294 - acc: 0.39 - ETA: 48s - loss: 4.7308 - acc: 0.39 - ETA: 48s - loss: 4.7287 - acc: 0.39 - ETA: 47s - loss: 4.7305 - acc: 0.39 - ETA: 46s - loss: 4.7302 - acc: 0.39 - ETA: 45s - loss: 4.7287 - acc: 0.39 - ETA: 44s - loss: 4.7314 - acc: 0.39 - ETA: 43s - loss: 4.7318 - acc: 0.39 - ETA: 42s - loss: 4.7308 - acc: 0.39 - ETA: 41s - loss: 4.7278 - acc: 0.39 - ETA: 40s - loss: 4.7251 - acc: 0.39 - ETA: 39s - loss: 4.7289 - acc: 0.39 - ETA: 39s - loss: 4.7281 - acc: 0.39 - ETA: 38s - loss: 4.7292 - acc: 0.39 - ETA: 37s - loss: 4.7281 - acc: 0.39 - ETA: 36s - loss: 4.7297 - acc: 0.39 - ETA: 35s - loss: 4.7301 - acc: 0.39 - ETA: 34s - loss: 4.7316 - acc: 0.39 - ETA: 33s - loss: 4.7312 - acc: 0.39 - ETA: 32s - loss: 4.7295 - acc: 0.39 - ETA: 31s - loss: 4.7310 - acc: 0.39 - ETA: 30s - loss: 4.7268 - acc: 0.39 - ETA: 29s - loss: 4.7244 - acc: 0.39 - ETA: 29s - loss: 4.7238 - acc: 0.39 - ETA: 28s - loss: 4.7199 - acc: 0.39 - ETA: 27s - loss: 4.7175 - acc: 0.39 - ETA: 26s - loss: 4.7145 - acc: 0.39 - ETA: 25s - loss: 4.7119 - acc: 0.40 - ETA: 24s - loss: 4.7095 - acc: 0.40 - ETA: 23s - loss: 4.7097 - acc: 0.39 - ETA: 22s - loss: 4.7129 - acc: 0.39 - ETA: 21s - loss: 4.7133 - acc: 0.39 - ETA: 20s - loss: 4.7145 - acc: 0.39 - ETA: 20s - loss: 4.7171 - acc: 0.39 - ETA: 19s - loss: 4.7162 - acc: 0.39 - ETA: 18s - loss: 4.7152 - acc: 0.39 - ETA: 17s - loss: 4.7158 - acc: 0.39 - ETA: 16s - loss: 4.7142 - acc: 0.39 - ETA: 15s - loss: 4.7144 - acc: 0.39 - ETA: 14s - loss: 4.7161 - acc: 0.39 - ETA: 13s - loss: 4.7179 - acc: 0.39 - ETA: 12s - loss: 4.7194 - acc: 0.39 - ETA: 11s - loss: 4.7222 - acc: 0.39 - ETA: 10s - loss: 4.7241 - acc: 0.39 - ETA: 10s - loss: 4.7229 - acc: 0.39 - ETA: 9s - loss: 4.7211 - acc: 0.3980 - ETA: 8s - loss: 4.7216 - acc: 0.397 - ETA: 7s - loss: 4.7234 - acc: 0.397 - ETA: 6s - loss: 4.7233 - acc: 0.396 - ETA: 5s - loss: 4.7214 - acc: 0.397 - ETA: 4s - loss: 4.7193 - acc: 0.397 - ETA: 3s - loss: 4.7178 - acc: 0.397 - ETA: 2s - loss: 4.7182 - acc: 0.397 - ETA: 1s - loss: 4.7202 - acc: 0.396 - ETA: 0s - loss: 4.7196 - acc: 0.396 - 285s 912ms/step - loss: 4.7191 - acc: 0.3971\n",
            "Epoch 10 start at time  2019-08-04 08:25:50.587550\n",
            "204/312 [==================>...........] - ETA: 6:52 - loss: 4.5537 - acc: 0.406 - ETA: 6:42 - loss: 4.2756 - acc: 0.421 - ETA: 6:43 - loss: 4.6449 - acc: 0.416 - ETA: 6:38 - loss: 4.6801 - acc: 0.390 - ETA: 6:38 - loss: 4.7169 - acc: 0.387 - ETA: 6:29 - loss: 4.7070 - acc: 0.406 - ETA: 6:20 - loss: 4.6071 - acc: 0.410 - ETA: 6:09 - loss: 4.5684 - acc: 0.414 - ETA: 5:58 - loss: 4.4405 - acc: 0.427 - ETA: 5:50 - loss: 4.4369 - acc: 0.428 - ETA: 5:45 - loss: 4.4111 - acc: 0.446 - ETA: 5:44 - loss: 4.4617 - acc: 0.445 - ETA: 5:39 - loss: 4.4735 - acc: 0.447 - ETA: 5:35 - loss: 4.4700 - acc: 0.448 - ETA: 5:31 - loss: 4.4960 - acc: 0.445 - ETA: 5:27 - loss: 4.5992 - acc: 0.433 - ETA: 5:24 - loss: 4.5787 - acc: 0.430 - ETA: 5:21 - loss: 4.5390 - acc: 0.430 - ETA: 5:19 - loss: 4.5259 - acc: 0.432 - ETA: 5:16 - loss: 4.4990 - acc: 0.439 - ETA: 5:15 - loss: 4.5454 - acc: 0.434 - ETA: 5:13 - loss: 4.5390 - acc: 0.431 - ETA: 5:12 - loss: 4.5695 - acc: 0.432 - ETA: 5:10 - loss: 4.5822 - acc: 0.434 - ETA: 5:08 - loss: 4.5968 - acc: 0.430 - ETA: 5:07 - loss: 4.5890 - acc: 0.433 - ETA: 5:05 - loss: 4.5971 - acc: 0.431 - ETA: 5:03 - loss: 4.5992 - acc: 0.429 - ETA: 5:01 - loss: 4.6236 - acc: 0.426 - ETA: 5:00 - loss: 4.5914 - acc: 0.432 - ETA: 4:58 - loss: 4.5926 - acc: 0.429 - ETA: 4:56 - loss: 4.5925 - acc: 0.428 - ETA: 4:55 - loss: 4.5997 - acc: 0.425 - ETA: 4:54 - loss: 4.5741 - acc: 0.425 - ETA: 4:53 - loss: 4.5739 - acc: 0.425 - ETA: 4:52 - loss: 4.5759 - acc: 0.425 - ETA: 4:50 - loss: 4.5552 - acc: 0.425 - ETA: 4:48 - loss: 4.5636 - acc: 0.422 - ETA: 4:47 - loss: 4.5914 - acc: 0.416 - ETA: 4:45 - loss: 4.5795 - acc: 0.419 - ETA: 4:43 - loss: 4.5618 - acc: 0.421 - ETA: 4:42 - loss: 4.5647 - acc: 0.419 - ETA: 4:40 - loss: 4.5688 - acc: 0.419 - ETA: 4:39 - loss: 4.5792 - acc: 0.418 - ETA: 4:37 - loss: 4.5733 - acc: 0.416 - ETA: 4:37 - loss: 4.5680 - acc: 0.417 - ETA: 4:35 - loss: 4.5630 - acc: 0.419 - ETA: 4:34 - loss: 4.5692 - acc: 0.418 - ETA: 4:33 - loss: 4.5689 - acc: 0.417 - ETA: 4:32 - loss: 4.5858 - acc: 0.416 - ETA: 4:30 - loss: 4.5738 - acc: 0.418 - ETA: 4:29 - loss: 4.5492 - acc: 0.421 - ETA: 4:28 - loss: 4.5552 - acc: 0.420 - ETA: 4:27 - loss: 4.5362 - acc: 0.421 - ETA: 4:26 - loss: 4.5271 - acc: 0.422 - ETA: 4:24 - loss: 4.5153 - acc: 0.422 - ETA: 4:24 - loss: 4.5041 - acc: 0.424 - ETA: 4:22 - loss: 4.4939 - acc: 0.425 - ETA: 4:22 - loss: 4.5042 - acc: 0.423 - ETA: 4:21 - loss: 4.5106 - acc: 0.421 - ETA: 4:20 - loss: 4.5395 - acc: 0.420 - ETA: 4:18 - loss: 4.5398 - acc: 0.422 - ETA: 4:17 - loss: 4.5267 - acc: 0.423 - ETA: 4:16 - loss: 4.5292 - acc: 0.422 - ETA: 4:14 - loss: 4.5214 - acc: 0.421 - ETA: 4:13 - loss: 4.5180 - acc: 0.420 - ETA: 4:12 - loss: 4.5275 - acc: 0.418 - ETA: 4:11 - loss: 4.5314 - acc: 0.419 - ETA: 4:10 - loss: 4.5419 - acc: 0.419 - ETA: 4:09 - loss: 4.5345 - acc: 0.418 - ETA: 4:07 - loss: 4.5401 - acc: 0.418 - ETA: 4:06 - loss: 4.5395 - acc: 0.418 - ETA: 4:05 - loss: 4.5291 - acc: 0.420 - ETA: 4:04 - loss: 4.5363 - acc: 0.420 - ETA: 4:03 - loss: 4.5390 - acc: 0.419 - ETA: 4:02 - loss: 4.5498 - acc: 0.418 - ETA: 4:01 - loss: 4.5719 - acc: 0.416 - ETA: 4:00 - loss: 4.5745 - acc: 0.416 - ETA: 3:59 - loss: 4.5695 - acc: 0.417 - ETA: 3:58 - loss: 4.5624 - acc: 0.418 - ETA: 3:56 - loss: 4.5568 - acc: 0.418 - ETA: 3:55 - loss: 4.5629 - acc: 0.416 - ETA: 3:54 - loss: 4.5599 - acc: 0.417 - ETA: 3:53 - loss: 4.5612 - acc: 0.415 - ETA: 3:52 - loss: 4.5579 - acc: 0.417 - ETA: 3:51 - loss: 4.5566 - acc: 0.417 - ETA: 3:50 - loss: 4.5644 - acc: 0.416 - ETA: 3:49 - loss: 4.5642 - acc: 0.417 - ETA: 3:48 - loss: 4.5628 - acc: 0.415 - ETA: 3:47 - loss: 4.5614 - acc: 0.415 - ETA: 3:46 - loss: 4.5612 - acc: 0.413 - ETA: 3:45 - loss: 4.5710 - acc: 0.413 - ETA: 3:44 - loss: 4.5728 - acc: 0.414 - ETA: 3:43 - loss: 4.5757 - acc: 0.412 - ETA: 3:42 - loss: 4.5766 - acc: 0.412 - ETA: 3:41 - loss: 4.5689 - acc: 0.412 - ETA: 3:40 - loss: 4.5763 - acc: 0.411 - ETA: 3:39 - loss: 4.5670 - acc: 0.412 - ETA: 3:38 - loss: 4.5689 - acc: 0.412 - ETA: 3:37 - loss: 4.5683 - acc: 0.412 - ETA: 3:35 - loss: 4.5716 - acc: 0.413 - ETA: 3:34 - loss: 4.5780 - acc: 0.412 - ETA: 3:33 - loss: 4.5793 - acc: 0.412 - ETA: 3:32 - loss: 4.5857 - acc: 0.412 - ETA: 3:31 - loss: 4.5791 - acc: 0.412 - ETA: 3:30 - loss: 4.5851 - acc: 0.411 - ETA: 3:29 - loss: 4.5853 - acc: 0.411 - ETA: 3:28 - loss: 4.5848 - acc: 0.411 - ETA: 3:27 - loss: 4.5837 - acc: 0.410 - ETA: 3:26 - loss: 4.5837 - acc: 0.409 - ETA: 3:25 - loss: 4.5815 - acc: 0.410 - ETA: 3:24 - loss: 4.5921 - acc: 0.409 - ETA: 3:23 - loss: 4.5936 - acc: 0.409 - ETA: 3:22 - loss: 4.5883 - acc: 0.411 - ETA: 3:21 - loss: 4.5858 - acc: 0.410 - ETA: 3:20 - loss: 4.5922 - acc: 0.410 - ETA: 3:19 - loss: 4.5962 - acc: 0.409 - ETA: 3:18 - loss: 4.5972 - acc: 0.408 - ETA: 3:17 - loss: 4.5924 - acc: 0.409 - ETA: 3:16 - loss: 4.5882 - acc: 0.410 - ETA: 3:15 - loss: 4.5871 - acc: 0.409 - ETA: 3:14 - loss: 4.5884 - acc: 0.410 - ETA: 3:13 - loss: 4.5854 - acc: 0.410 - ETA: 3:12 - loss: 4.5861 - acc: 0.410 - ETA: 3:10 - loss: 4.5853 - acc: 0.411 - ETA: 3:09 - loss: 4.5807 - acc: 0.412 - ETA: 3:08 - loss: 4.5860 - acc: 0.412 - ETA: 3:07 - loss: 4.5851 - acc: 0.411 - ETA: 3:06 - loss: 4.5933 - acc: 0.410 - ETA: 3:05 - loss: 4.5917 - acc: 0.411 - ETA: 3:04 - loss: 4.5984 - acc: 0.410 - ETA: 3:03 - loss: 4.5998 - acc: 0.410 - ETA: 3:02 - loss: 4.5987 - acc: 0.410 - ETA: 3:01 - loss: 4.5966 - acc: 0.410 - ETA: 3:00 - loss: 4.6025 - acc: 0.410 - ETA: 2:59 - loss: 4.6061 - acc: 0.409 - ETA: 2:58 - loss: 4.6100 - acc: 0.408 - ETA: 2:57 - loss: 4.6056 - acc: 0.408 - ETA: 2:56 - loss: 4.6001 - acc: 0.409 - ETA: 2:55 - loss: 4.5974 - acc: 0.409 - ETA: 2:53 - loss: 4.5974 - acc: 0.408 - ETA: 2:53 - loss: 4.5952 - acc: 0.409 - ETA: 2:52 - loss: 4.5899 - acc: 0.410 - ETA: 2:51 - loss: 4.5925 - acc: 0.408 - ETA: 2:50 - loss: 4.5915 - acc: 0.408 - ETA: 2:49 - loss: 4.5958 - acc: 0.408 - ETA: 2:48 - loss: 4.5947 - acc: 0.408 - ETA: 2:47 - loss: 4.5964 - acc: 0.407 - ETA: 2:46 - loss: 4.5935 - acc: 0.408 - ETA: 2:45 - loss: 4.5984 - acc: 0.408 - ETA: 2:44 - loss: 4.5982 - acc: 0.408 - ETA: 2:43 - loss: 4.5925 - acc: 0.408 - ETA: 2:42 - loss: 4.5939 - acc: 0.409 - ETA: 2:41 - loss: 4.5941 - acc: 0.408 - ETA: 2:40 - loss: 4.5944 - acc: 0.408 - ETA: 2:39 - loss: 4.5926 - acc: 0.408 - ETA: 2:38 - loss: 4.5939 - acc: 0.409 - ETA: 2:37 - loss: 4.5984 - acc: 0.408 - ETA: 2:35 - loss: 4.5984 - acc: 0.408 - ETA: 2:34 - loss: 4.6020 - acc: 0.408 - ETA: 2:34 - loss: 4.6003 - acc: 0.408 - ETA: 2:32 - loss: 4.5977 - acc: 0.408 - ETA: 2:31 - loss: 4.6021 - acc: 0.407 - ETA: 2:30 - loss: 4.6065 - acc: 0.407 - ETA: 2:29 - loss: 4.6031 - acc: 0.408 - ETA: 2:28 - loss: 4.5974 - acc: 0.408 - ETA: 2:27 - loss: 4.5909 - acc: 0.409 - ETA: 2:26 - loss: 4.5923 - acc: 0.408 - ETA: 2:25 - loss: 4.5905 - acc: 0.408 - ETA: 2:24 - loss: 4.5894 - acc: 0.408 - ETA: 2:23 - loss: 4.5844 - acc: 0.409 - ETA: 2:22 - loss: 4.5863 - acc: 0.409 - ETA: 2:21 - loss: 4.5872 - acc: 0.409 - ETA: 2:20 - loss: 4.5858 - acc: 0.408 - ETA: 2:19 - loss: 4.5891 - acc: 0.408 - ETA: 2:18 - loss: 4.5956 - acc: 0.408 - ETA: 2:17 - loss: 4.5959 - acc: 0.408 - ETA: 2:16 - loss: 4.5942 - acc: 0.408 - ETA: 2:15 - loss: 4.5963 - acc: 0.408 - ETA: 2:14 - loss: 4.5927 - acc: 0.408 - ETA: 2:13 - loss: 4.5942 - acc: 0.408 - ETA: 2:12 - loss: 4.5957 - acc: 0.408 - ETA: 2:11 - loss: 4.5985 - acc: 0.407 - ETA: 2:10 - loss: 4.5971 - acc: 0.407 - ETA: 2:08 - loss: 4.5968 - acc: 0.408 - ETA: 2:08 - loss: 4.5955 - acc: 0.408 - ETA: 2:06 - loss: 4.5942 - acc: 0.408 - ETA: 2:05 - loss: 4.5961 - acc: 0.408 - ETA: 2:04 - loss: 4.5909 - acc: 0.408 - ETA: 2:03 - loss: 4.5890 - acc: 0.409 - ETA: 2:02 - loss: 4.5888 - acc: 0.409 - ETA: 2:01 - loss: 4.5899 - acc: 0.409 - ETA: 2:00 - loss: 4.5942 - acc: 0.408 - ETA: 1:59 - loss: 4.5917 - acc: 0.408 - ETA: 1:58 - loss: 4.5918 - acc: 0.408 - ETA: 1:57 - loss: 4.5916 - acc: 0.407 - ETA: 1:56 - loss: 4.5939 - acc: 0.407 - ETA: 1:55 - loss: 4.5980 - acc: 0.407 - ETA: 1:54 - loss: 4.5957 - acc: 0.407 - ETA: 1:53 - loss: 4.5985 - acc: 0.408 - ETA: 1:52 - loss: 4.6060 - acc: 0.407 - ETA: 1:51 - loss: 4.6062 - acc: 0.407 - ETA: 1:50 - loss: 4.6033 - acc: 0.407 - ETA: 1:49 - loss: 4.6034 - acc: 0.4076312/312 [==============================] - ETA: 1:48 - loss: 4.6069 - acc: 0.407 - ETA: 1:47 - loss: 4.6109 - acc: 0.407 - ETA: 1:46 - loss: 4.6113 - acc: 0.407 - ETA: 1:45 - loss: 4.6057 - acc: 0.408 - ETA: 1:44 - loss: 4.6062 - acc: 0.408 - ETA: 1:43 - loss: 4.6096 - acc: 0.408 - ETA: 1:42 - loss: 4.6156 - acc: 0.407 - ETA: 1:41 - loss: 4.6169 - acc: 0.407 - ETA: 1:40 - loss: 4.6158 - acc: 0.407 - ETA: 1:39 - loss: 4.6196 - acc: 0.407 - ETA: 1:38 - loss: 4.6267 - acc: 0.406 - ETA: 1:37 - loss: 4.6247 - acc: 0.406 - ETA: 1:36 - loss: 4.6301 - acc: 0.406 - ETA: 1:35 - loss: 4.6282 - acc: 0.405 - ETA: 1:34 - loss: 4.6350 - acc: 0.404 - ETA: 1:33 - loss: 4.6358 - acc: 0.405 - ETA: 1:32 - loss: 4.6331 - acc: 0.405 - ETA: 1:31 - loss: 4.6313 - acc: 0.406 - ETA: 1:30 - loss: 4.6345 - acc: 0.406 - ETA: 1:29 - loss: 4.6363 - acc: 0.405 - ETA: 1:28 - loss: 4.6349 - acc: 0.405 - ETA: 1:27 - loss: 4.6360 - acc: 0.405 - ETA: 1:26 - loss: 4.6362 - acc: 0.405 - ETA: 1:25 - loss: 4.6359 - acc: 0.405 - ETA: 1:24 - loss: 4.6330 - acc: 0.405 - ETA: 1:23 - loss: 4.6309 - acc: 0.405 - ETA: 1:22 - loss: 4.6302 - acc: 0.405 - ETA: 1:21 - loss: 4.6301 - acc: 0.405 - ETA: 1:20 - loss: 4.6263 - acc: 0.406 - ETA: 1:19 - loss: 4.6265 - acc: 0.405 - ETA: 1:18 - loss: 4.6227 - acc: 0.406 - ETA: 1:17 - loss: 4.6196 - acc: 0.406 - ETA: 1:16 - loss: 4.6178 - acc: 0.407 - ETA: 1:15 - loss: 4.6166 - acc: 0.407 - ETA: 1:14 - loss: 4.6180 - acc: 0.406 - ETA: 1:13 - loss: 4.6142 - acc: 0.407 - ETA: 1:12 - loss: 4.6137 - acc: 0.407 - ETA: 1:11 - loss: 4.6126 - acc: 0.407 - ETA: 1:10 - loss: 4.6103 - acc: 0.407 - ETA: 1:09 - loss: 4.6116 - acc: 0.407 - ETA: 1:08 - loss: 4.6144 - acc: 0.407 - ETA: 1:07 - loss: 4.6131 - acc: 0.407 - ETA: 1:06 - loss: 4.6100 - acc: 0.408 - ETA: 1:05 - loss: 4.6143 - acc: 0.407 - ETA: 1:04 - loss: 4.6125 - acc: 0.407 - ETA: 1:03 - loss: 4.6137 - acc: 0.407 - ETA: 1:02 - loss: 4.6147 - acc: 0.407 - ETA: 1:01 - loss: 4.6149 - acc: 0.407 - ETA: 1:01 - loss: 4.6146 - acc: 0.407 - ETA: 1:00 - loss: 4.6121 - acc: 0.407 - ETA: 1:00 - loss: 4.6097 - acc: 0.408 - ETA: 59s - loss: 4.6111 - acc: 0.408 - ETA: 58s - loss: 4.6109 - acc: 0.40 - ETA: 57s - loss: 4.6123 - acc: 0.40 - ETA: 57s - loss: 4.6095 - acc: 0.40 - ETA: 56s - loss: 4.6117 - acc: 0.40 - ETA: 55s - loss: 4.6113 - acc: 0.40 - ETA: 54s - loss: 4.6097 - acc: 0.40 - ETA: 53s - loss: 4.6120 - acc: 0.40 - ETA: 52s - loss: 4.6121 - acc: 0.40 - ETA: 50s - loss: 4.6106 - acc: 0.40 - ETA: 49s - loss: 4.6081 - acc: 0.40 - ETA: 48s - loss: 4.6052 - acc: 0.41 - ETA: 47s - loss: 4.6090 - acc: 0.40 - ETA: 46s - loss: 4.6080 - acc: 0.40 - ETA: 45s - loss: 4.6090 - acc: 0.40 - ETA: 44s - loss: 4.6081 - acc: 0.40 - ETA: 43s - loss: 4.6101 - acc: 0.40 - ETA: 42s - loss: 4.6110 - acc: 0.40 - ETA: 41s - loss: 4.6122 - acc: 0.40 - ETA: 40s - loss: 4.6115 - acc: 0.40 - ETA: 38s - loss: 4.6106 - acc: 0.40 - ETA: 37s - loss: 4.6119 - acc: 0.40 - ETA: 36s - loss: 4.6076 - acc: 0.40 - ETA: 35s - loss: 4.6050 - acc: 0.40 - ETA: 34s - loss: 4.6048 - acc: 0.40 - ETA: 33s - loss: 4.6008 - acc: 0.41 - ETA: 32s - loss: 4.5986 - acc: 0.41 - ETA: 31s - loss: 4.5956 - acc: 0.41 - ETA: 30s - loss: 4.5938 - acc: 0.41 - ETA: 29s - loss: 4.5918 - acc: 0.41 - ETA: 28s - loss: 4.5917 - acc: 0.41 - ETA: 27s - loss: 4.5945 - acc: 0.41 - ETA: 25s - loss: 4.5949 - acc: 0.41 - ETA: 24s - loss: 4.5963 - acc: 0.41 - ETA: 23s - loss: 4.5989 - acc: 0.41 - ETA: 22s - loss: 4.5979 - acc: 0.41 - ETA: 21s - loss: 4.5972 - acc: 0.41 - ETA: 20s - loss: 4.5975 - acc: 0.41 - ETA: 19s - loss: 4.5960 - acc: 0.41 - ETA: 18s - loss: 4.5960 - acc: 0.41 - ETA: 17s - loss: 4.5974 - acc: 0.41 - ETA: 16s - loss: 4.5992 - acc: 0.41 - ETA: 15s - loss: 4.6005 - acc: 0.40 - ETA: 14s - loss: 4.6031 - acc: 0.40 - ETA: 12s - loss: 4.6051 - acc: 0.40 - ETA: 11s - loss: 4.6037 - acc: 0.40 - ETA: 10s - loss: 4.6021 - acc: 0.40 - ETA: 9s - loss: 4.6021 - acc: 0.4090 - ETA: 8s - loss: 4.6044 - acc: 0.408 - ETA: 7s - loss: 4.6044 - acc: 0.408 - ETA: 6s - loss: 4.6026 - acc: 0.408 - ETA: 5s - loss: 4.6005 - acc: 0.408 - ETA: 4s - loss: 4.5987 - acc: 0.408 - ETA: 3s - loss: 4.5992 - acc: 0.408 - ETA: 2s - loss: 4.6012 - acc: 0.408 - ETA: 1s - loss: 4.6009 - acc: 0.408 - 337s 1s/step - loss: 4.6002 - acc: 0.4087\n",
            "Epoch 11 start at time  2019-08-04 09:18:41.804714\n"
          ],
          "name": "stdout"
        },
        {
          "output_type": "stream",
          "text": [
            "204/312 [==================>...........] - ETA: 5:56 - loss: 4.3777 - acc: 0.406 - ETA: 6:00 - loss: 4.1499 - acc: 0.421 - ETA: 5:43 - loss: 4.5173 - acc: 0.416 - ETA: 5:24 - loss: 4.5714 - acc: 0.375 - ETA: 5:11 - loss: 4.6341 - acc: 0.381 - ETA: 5:03 - loss: 4.6489 - acc: 0.395 - ETA: 5:04 - loss: 4.5392 - acc: 0.401 - ETA: 5:01 - loss: 4.4983 - acc: 0.402 - ETA: 4:58 - loss: 4.3692 - acc: 0.420 - ETA: 4:54 - loss: 4.3561 - acc: 0.421 - ETA: 4:50 - loss: 4.3101 - acc: 0.437 - ETA: 4:48 - loss: 4.3620 - acc: 0.437 - ETA: 4:46 - loss: 4.3676 - acc: 0.435 - ETA: 4:45 - loss: 4.3706 - acc: 0.435 - ETA: 4:42 - loss: 4.3976 - acc: 0.429 - ETA: 4:42 - loss: 4.4922 - acc: 0.423 - ETA: 4:41 - loss: 4.4739 - acc: 0.422 - ETA: 4:38 - loss: 4.4366 - acc: 0.423 - ETA: 4:36 - loss: 4.4117 - acc: 0.424 - ETA: 4:34 - loss: 4.3844 - acc: 0.428 - ETA: 4:32 - loss: 4.4343 - acc: 0.424 - ETA: 4:31 - loss: 4.4279 - acc: 0.423 - ETA: 4:29 - loss: 4.4581 - acc: 0.423 - ETA: 4:29 - loss: 4.4699 - acc: 0.425 - ETA: 4:28 - loss: 4.4793 - acc: 0.423 - ETA: 4:27 - loss: 4.4762 - acc: 0.426 - ETA: 4:26 - loss: 4.4800 - acc: 0.425 - ETA: 4:24 - loss: 4.4855 - acc: 0.425 - ETA: 4:23 - loss: 4.5130 - acc: 0.422 - ETA: 4:22 - loss: 4.4788 - acc: 0.430 - ETA: 4:20 - loss: 4.4789 - acc: 0.430 - ETA: 4:19 - loss: 4.4794 - acc: 0.429 - ETA: 4:19 - loss: 4.4852 - acc: 0.427 - ETA: 4:18 - loss: 4.4616 - acc: 0.427 - ETA: 4:18 - loss: 4.4589 - acc: 0.428 - ETA: 4:17 - loss: 4.4630 - acc: 0.428 - ETA: 4:15 - loss: 4.4409 - acc: 0.428 - ETA: 4:14 - loss: 4.4490 - acc: 0.425 - ETA: 4:13 - loss: 4.4725 - acc: 0.418 - ETA: 4:12 - loss: 4.4586 - acc: 0.420 - ETA: 4:10 - loss: 4.4397 - acc: 0.423 - ETA: 4:09 - loss: 4.4454 - acc: 0.422 - ETA: 4:08 - loss: 4.4464 - acc: 0.424 - ETA: 4:08 - loss: 4.4572 - acc: 0.423 - ETA: 4:07 - loss: 4.4522 - acc: 0.422 - ETA: 4:06 - loss: 4.4454 - acc: 0.423 - ETA: 4:05 - loss: 4.4414 - acc: 0.424 - ETA: 4:04 - loss: 4.4467 - acc: 0.423 - ETA: 4:03 - loss: 4.4491 - acc: 0.424 - ETA: 4:02 - loss: 4.4654 - acc: 0.422 - ETA: 4:01 - loss: 4.4523 - acc: 0.424 - ETA: 4:00 - loss: 4.4268 - acc: 0.427 - ETA: 3:59 - loss: 4.4331 - acc: 0.425 - ETA: 3:58 - loss: 4.4149 - acc: 0.427 - ETA: 3:58 - loss: 4.4053 - acc: 0.429 - ETA: 3:57 - loss: 4.3924 - acc: 0.430 - ETA: 3:56 - loss: 4.3822 - acc: 0.432 - ETA: 3:55 - loss: 4.3716 - acc: 0.432 - ETA: 3:53 - loss: 4.3819 - acc: 0.431 - ETA: 3:52 - loss: 4.3874 - acc: 0.430 - ETA: 3:51 - loss: 4.4163 - acc: 0.428 - ETA: 3:50 - loss: 4.4176 - acc: 0.430 - ETA: 3:50 - loss: 4.4048 - acc: 0.432 - ETA: 3:49 - loss: 4.4066 - acc: 0.430 - ETA: 3:48 - loss: 4.4005 - acc: 0.429 - ETA: 3:47 - loss: 4.4006 - acc: 0.428 - ETA: 3:46 - loss: 4.4112 - acc: 0.428 - ETA: 3:46 - loss: 4.4131 - acc: 0.427 - ETA: 3:45 - loss: 4.4228 - acc: 0.427 - ETA: 3:44 - loss: 4.4145 - acc: 0.426 - ETA: 3:43 - loss: 4.4205 - acc: 0.426 - ETA: 3:42 - loss: 4.4196 - acc: 0.427 - ETA: 3:41 - loss: 4.4086 - acc: 0.428 - ETA: 3:41 - loss: 4.4149 - acc: 0.429 - ETA: 3:40 - loss: 4.4170 - acc: 0.428 - ETA: 3:39 - loss: 4.4274 - acc: 0.428 - ETA: 3:38 - loss: 4.4487 - acc: 0.426 - ETA: 3:36 - loss: 4.4517 - acc: 0.426 - ETA: 3:36 - loss: 4.4463 - acc: 0.427 - ETA: 3:35 - loss: 4.4381 - acc: 0.427 - ETA: 3:34 - loss: 4.4325 - acc: 0.427 - ETA: 3:34 - loss: 4.4388 - acc: 0.427 - ETA: 3:33 - loss: 4.4344 - acc: 0.428 - ETA: 3:32 - loss: 4.4362 - acc: 0.426 - ETA: 3:31 - loss: 4.4329 - acc: 0.427 - ETA: 3:30 - loss: 4.4316 - acc: 0.427 - ETA: 3:30 - loss: 4.4390 - acc: 0.426 - ETA: 3:29 - loss: 4.4391 - acc: 0.427 - ETA: 3:28 - loss: 4.4373 - acc: 0.425 - ETA: 3:27 - loss: 4.4358 - acc: 0.425 - ETA: 3:26 - loss: 4.4370 - acc: 0.423 - ETA: 3:25 - loss: 4.4478 - acc: 0.422 - ETA: 3:24 - loss: 4.4498 - acc: 0.423 - ETA: 3:23 - loss: 4.4537 - acc: 0.423 - ETA: 3:22 - loss: 4.4553 - acc: 0.421 - ETA: 3:22 - loss: 4.4483 - acc: 0.422 - ETA: 3:21 - loss: 4.4557 - acc: 0.421 - ETA: 3:20 - loss: 4.4469 - acc: 0.422 - ETA: 3:20 - loss: 4.4489 - acc: 0.422 - ETA: 3:19 - loss: 4.4488 - acc: 0.423 - ETA: 3:19 - loss: 4.4521 - acc: 0.423 - ETA: 3:18 - loss: 4.4595 - acc: 0.421 - ETA: 3:17 - loss: 4.4603 - acc: 0.421 - ETA: 3:16 - loss: 4.4662 - acc: 0.421 - ETA: 3:15 - loss: 4.4613 - acc: 0.421 - ETA: 3:15 - loss: 4.4675 - acc: 0.421 - ETA: 3:14 - loss: 4.4686 - acc: 0.421 - ETA: 3:13 - loss: 4.4680 - acc: 0.421 - ETA: 3:12 - loss: 4.4673 - acc: 0.420 - ETA: 3:11 - loss: 4.4677 - acc: 0.419 - ETA: 3:10 - loss: 4.4643 - acc: 0.420 - ETA: 3:09 - loss: 4.4751 - acc: 0.419 - ETA: 3:08 - loss: 4.4761 - acc: 0.419 - ETA: 3:07 - loss: 4.4713 - acc: 0.420 - ETA: 3:06 - loss: 4.4686 - acc: 0.419 - ETA: 3:05 - loss: 4.4751 - acc: 0.418 - ETA: 3:05 - loss: 4.4800 - acc: 0.418 - ETA: 3:04 - loss: 4.4818 - acc: 0.417 - ETA: 3:03 - loss: 4.4775 - acc: 0.419 - ETA: 3:03 - loss: 4.4727 - acc: 0.419 - ETA: 3:02 - loss: 4.4712 - acc: 0.418 - ETA: 3:01 - loss: 4.4730 - acc: 0.419 - ETA: 3:00 - loss: 4.4693 - acc: 0.420 - ETA: 2:59 - loss: 4.4696 - acc: 0.420 - ETA: 2:58 - loss: 4.4689 - acc: 0.421 - ETA: 2:57 - loss: 4.4655 - acc: 0.421 - ETA: 2:57 - loss: 4.4704 - acc: 0.421 - ETA: 2:56 - loss: 4.4689 - acc: 0.420 - ETA: 2:55 - loss: 4.4767 - acc: 0.420 - ETA: 2:54 - loss: 4.4758 - acc: 0.420 - ETA: 2:53 - loss: 4.4838 - acc: 0.419 - ETA: 2:52 - loss: 4.4847 - acc: 0.420 - ETA: 2:51 - loss: 4.4836 - acc: 0.420 - ETA: 2:50 - loss: 4.4811 - acc: 0.420 - ETA: 2:49 - loss: 4.4875 - acc: 0.419 - ETA: 2:48 - loss: 4.4908 - acc: 0.419 - ETA: 2:47 - loss: 4.4956 - acc: 0.418 - ETA: 2:46 - loss: 4.4912 - acc: 0.418 - ETA: 2:45 - loss: 4.4858 - acc: 0.418 - ETA: 2:44 - loss: 4.4826 - acc: 0.419 - ETA: 2:43 - loss: 4.4832 - acc: 0.418 - ETA: 2:42 - loss: 4.4809 - acc: 0.418 - ETA: 2:41 - loss: 4.4764 - acc: 0.419 - ETA: 2:41 - loss: 4.4805 - acc: 0.418 - ETA: 2:40 - loss: 4.4797 - acc: 0.417 - ETA: 2:39 - loss: 4.4840 - acc: 0.417 - ETA: 2:38 - loss: 4.4835 - acc: 0.417 - ETA: 2:37 - loss: 4.4847 - acc: 0.416 - ETA: 2:36 - loss: 4.4819 - acc: 0.417 - ETA: 2:35 - loss: 4.4875 - acc: 0.417 - ETA: 2:34 - loss: 4.4878 - acc: 0.417 - ETA: 2:33 - loss: 4.4817 - acc: 0.418 - ETA: 2:32 - loss: 4.4830 - acc: 0.418 - ETA: 2:31 - loss: 4.4827 - acc: 0.418 - ETA: 2:30 - loss: 4.4833 - acc: 0.418 - ETA: 2:29 - loss: 4.4819 - acc: 0.418 - ETA: 2:29 - loss: 4.4825 - acc: 0.418 - ETA: 2:28 - loss: 4.4876 - acc: 0.418 - ETA: 2:27 - loss: 4.4873 - acc: 0.417 - ETA: 2:26 - loss: 4.4912 - acc: 0.417 - ETA: 2:25 - loss: 4.4887 - acc: 0.417 - ETA: 2:24 - loss: 4.4851 - acc: 0.417 - ETA: 2:23 - loss: 4.4902 - acc: 0.416 - ETA: 2:22 - loss: 4.4951 - acc: 0.416 - ETA: 2:21 - loss: 4.4927 - acc: 0.416 - ETA: 2:20 - loss: 4.4868 - acc: 0.417 - ETA: 2:19 - loss: 4.4804 - acc: 0.417 - ETA: 2:18 - loss: 4.4820 - acc: 0.417 - ETA: 2:17 - loss: 4.4804 - acc: 0.417 - ETA: 2:16 - loss: 4.4794 - acc: 0.417 - ETA: 2:15 - loss: 4.4746 - acc: 0.418 - ETA: 2:14 - loss: 4.4755 - acc: 0.418 - ETA: 2:13 - loss: 4.4763 - acc: 0.418 - ETA: 2:12 - loss: 4.4746 - acc: 0.418 - ETA: 2:11 - loss: 4.4775 - acc: 0.417 - ETA: 2:10 - loss: 4.4845 - acc: 0.418 - ETA: 2:09 - loss: 4.4846 - acc: 0.417 - ETA: 2:08 - loss: 4.4830 - acc: 0.418 - ETA: 2:08 - loss: 4.4857 - acc: 0.417 - ETA: 2:07 - loss: 4.4815 - acc: 0.417 - ETA: 2:06 - loss: 4.4823 - acc: 0.417 - ETA: 2:05 - loss: 4.4843 - acc: 0.417 - ETA: 2:04 - loss: 4.4867 - acc: 0.417 - ETA: 2:03 - loss: 4.4851 - acc: 0.417 - ETA: 2:02 - loss: 4.4852 - acc: 0.417 - ETA: 2:01 - loss: 4.4836 - acc: 0.418 - ETA: 2:00 - loss: 4.4829 - acc: 0.418 - ETA: 1:59 - loss: 4.4851 - acc: 0.418 - ETA: 1:58 - loss: 4.4794 - acc: 0.419 - ETA: 1:57 - loss: 4.4778 - acc: 0.419 - ETA: 1:56 - loss: 4.4785 - acc: 0.419 - ETA: 1:55 - loss: 4.4797 - acc: 0.419 - ETA: 1:54 - loss: 4.4839 - acc: 0.418 - ETA: 1:53 - loss: 4.4810 - acc: 0.418 - ETA: 1:52 - loss: 4.4813 - acc: 0.418 - ETA: 1:51 - loss: 4.4802 - acc: 0.418 - ETA: 1:51 - loss: 4.4822 - acc: 0.418 - ETA: 1:50 - loss: 4.4858 - acc: 0.418 - ETA: 1:49 - loss: 4.4837 - acc: 0.418 - ETA: 1:48 - loss: 4.4870 - acc: 0.418 - ETA: 1:47 - loss: 4.4937 - acc: 0.418 - ETA: 1:46 - loss: 4.4941 - acc: 0.418 - ETA: 1:45 - loss: 4.4914 - acc: 0.418 - ETA: 1:44 - loss: 4.4921 - acc: 0.4187"
          ],
          "name": "stdout"
        },
        {
          "output_type": "stream",
          "text": [
            "312/312 [==============================] - ETA: 1:43 - loss: 4.4950 - acc: 0.418 - ETA: 1:43 - loss: 4.4990 - acc: 0.419 - ETA: 1:42 - loss: 4.4997 - acc: 0.419 - ETA: 1:41 - loss: 4.4942 - acc: 0.419 - ETA: 1:40 - loss: 4.4951 - acc: 0.419 - ETA: 1:39 - loss: 4.4985 - acc: 0.419 - ETA: 1:38 - loss: 4.5042 - acc: 0.418 - ETA: 1:37 - loss: 4.5053 - acc: 0.419 - ETA: 1:36 - loss: 4.5045 - acc: 0.419 - ETA: 1:35 - loss: 4.5089 - acc: 0.418 - ETA: 1:34 - loss: 4.5160 - acc: 0.418 - ETA: 1:33 - loss: 4.5139 - acc: 0.418 - ETA: 1:32 - loss: 4.5188 - acc: 0.418 - ETA: 1:31 - loss: 4.5163 - acc: 0.418 - ETA: 1:31 - loss: 4.5223 - acc: 0.417 - ETA: 1:30 - loss: 4.5234 - acc: 0.417 - ETA: 1:29 - loss: 4.5204 - acc: 0.418 - ETA: 1:28 - loss: 4.5185 - acc: 0.418 - ETA: 1:27 - loss: 4.5218 - acc: 0.418 - ETA: 1:26 - loss: 4.5239 - acc: 0.418 - ETA: 1:25 - loss: 4.5220 - acc: 0.418 - ETA: 1:24 - loss: 4.5241 - acc: 0.418 - ETA: 1:23 - loss: 4.5246 - acc: 0.418 - ETA: 1:22 - loss: 4.5250 - acc: 0.418 - ETA: 1:21 - loss: 4.5225 - acc: 0.418 - ETA: 1:20 - loss: 4.5201 - acc: 0.418 - ETA: 1:19 - loss: 4.5194 - acc: 0.418 - ETA: 1:18 - loss: 4.5193 - acc: 0.418 - ETA: 1:17 - loss: 4.5159 - acc: 0.419 - ETA: 1:16 - loss: 4.5160 - acc: 0.418 - ETA: 1:15 - loss: 4.5126 - acc: 0.419 - ETA: 1:14 - loss: 4.5097 - acc: 0.419 - ETA: 1:13 - loss: 4.5085 - acc: 0.420 - ETA: 1:12 - loss: 4.5072 - acc: 0.420 - ETA: 1:11 - loss: 4.5086 - acc: 0.419 - ETA: 1:11 - loss: 4.5049 - acc: 0.420 - ETA: 1:10 - loss: 4.5046 - acc: 0.420 - ETA: 1:09 - loss: 4.5038 - acc: 0.420 - ETA: 1:08 - loss: 4.5012 - acc: 0.420 - ETA: 1:07 - loss: 4.5029 - acc: 0.420 - ETA: 1:06 - loss: 4.5057 - acc: 0.420 - ETA: 1:05 - loss: 4.5050 - acc: 0.420 - ETA: 1:04 - loss: 4.5022 - acc: 0.420 - ETA: 1:03 - loss: 4.5064 - acc: 0.419 - ETA: 1:02 - loss: 4.5055 - acc: 0.419 - ETA: 1:01 - loss: 4.5066 - acc: 0.419 - ETA: 1:00 - loss: 4.5075 - acc: 0.419 - ETA: 59s - loss: 4.5073 - acc: 0.419 - ETA: 58s - loss: 4.5070 - acc: 0.41 - ETA: 57s - loss: 4.5052 - acc: 0.41 - ETA: 56s - loss: 4.5026 - acc: 0.42 - ETA: 55s - loss: 4.5038 - acc: 0.42 - ETA: 54s - loss: 4.5037 - acc: 0.42 - ETA: 53s - loss: 4.5055 - acc: 0.42 - ETA: 52s - loss: 4.5022 - acc: 0.42 - ETA: 51s - loss: 4.5040 - acc: 0.42 - ETA: 50s - loss: 4.5038 - acc: 0.42 - ETA: 49s - loss: 4.5026 - acc: 0.42 - ETA: 48s - loss: 4.5053 - acc: 0.42 - ETA: 47s - loss: 4.5050 - acc: 0.42 - ETA: 46s - loss: 4.5035 - acc: 0.42 - ETA: 45s - loss: 4.5007 - acc: 0.42 - ETA: 44s - loss: 4.4978 - acc: 0.42 - ETA: 43s - loss: 4.5021 - acc: 0.42 - ETA: 42s - loss: 4.5013 - acc: 0.42 - ETA: 41s - loss: 4.5024 - acc: 0.42 - ETA: 40s - loss: 4.5016 - acc: 0.42 - ETA: 39s - loss: 4.5029 - acc: 0.42 - ETA: 38s - loss: 4.5032 - acc: 0.42 - ETA: 37s - loss: 4.5048 - acc: 0.42 - ETA: 36s - loss: 4.5038 - acc: 0.42 - ETA: 35s - loss: 4.5028 - acc: 0.42 - ETA: 34s - loss: 4.5041 - acc: 0.42 - ETA: 33s - loss: 4.5001 - acc: 0.42 - ETA: 32s - loss: 4.4976 - acc: 0.42 - ETA: 31s - loss: 4.4978 - acc: 0.42 - ETA: 30s - loss: 4.4937 - acc: 0.42 - ETA: 29s - loss: 4.4913 - acc: 0.42 - ETA: 28s - loss: 4.4885 - acc: 0.42 - ETA: 27s - loss: 4.4867 - acc: 0.42 - ETA: 26s - loss: 4.4846 - acc: 0.42 - ETA: 25s - loss: 4.4851 - acc: 0.42 - ETA: 24s - loss: 4.4879 - acc: 0.42 - ETA: 23s - loss: 4.4882 - acc: 0.42 - ETA: 22s - loss: 4.4896 - acc: 0.42 - ETA: 21s - loss: 4.4922 - acc: 0.42 - ETA: 20s - loss: 4.4910 - acc: 0.42 - ETA: 19s - loss: 4.4900 - acc: 0.42 - ETA: 18s - loss: 4.4902 - acc: 0.42 - ETA: 17s - loss: 4.4888 - acc: 0.42 - ETA: 16s - loss: 4.4893 - acc: 0.42 - ETA: 15s - loss: 4.4910 - acc: 0.42 - ETA: 14s - loss: 4.4933 - acc: 0.42 - ETA: 13s - loss: 4.4950 - acc: 0.42 - ETA: 12s - loss: 4.4977 - acc: 0.42 - ETA: 11s - loss: 4.4998 - acc: 0.42 - ETA: 10s - loss: 4.4986 - acc: 0.42 - ETA: 9s - loss: 4.4968 - acc: 0.4218 - ETA: 8s - loss: 4.4967 - acc: 0.421 - ETA: 7s - loss: 4.4988 - acc: 0.421 - ETA: 6s - loss: 4.4988 - acc: 0.420 - ETA: 5s - loss: 4.4967 - acc: 0.421 - ETA: 4s - loss: 4.4952 - acc: 0.421 - ETA: 3s - loss: 4.4930 - acc: 0.421 - ETA: 2s - loss: 4.4937 - acc: 0.421 - ETA: 1s - loss: 4.4963 - acc: 0.420 - ETA: 0s - loss: 4.4958 - acc: 0.420 - 310s 994ms/step - loss: 4.4948 - acc: 0.4210\n",
            "Epoch 12 start at time  2019-08-04 10:11:19.028138\n",
            "204/312 [==================>...........] - ETA: 5:56 - loss: 4.1893 - acc: 0.500 - ETA: 5:36 - loss: 4.0231 - acc: 0.484 - ETA: 5:39 - loss: 4.3965 - acc: 0.458 - ETA: 5:33 - loss: 4.4243 - acc: 0.445 - ETA: 5:23 - loss: 4.5001 - acc: 0.431 - ETA: 5:24 - loss: 4.5019 - acc: 0.442 - ETA: 5:26 - loss: 4.4054 - acc: 0.442 - ETA: 5:23 - loss: 4.3596 - acc: 0.441 - ETA: 5:20 - loss: 4.2369 - acc: 0.461 - ETA: 5:18 - loss: 4.2226 - acc: 0.462 - ETA: 5:17 - loss: 4.1932 - acc: 0.474 - ETA: 5:15 - loss: 4.2434 - acc: 0.466 - ETA: 5:15 - loss: 4.2571 - acc: 0.459 - ETA: 5:13 - loss: 4.2654 - acc: 0.453 - ETA: 5:11 - loss: 4.3106 - acc: 0.447 - ETA: 5:11 - loss: 4.4047 - acc: 0.439 - ETA: 5:11 - loss: 4.3874 - acc: 0.437 - ETA: 5:11 - loss: 4.3517 - acc: 0.435 - ETA: 5:11 - loss: 4.3264 - acc: 0.437 - ETA: 5:13 - loss: 4.2950 - acc: 0.443 - ETA: 5:14 - loss: 4.3473 - acc: 0.440 - ETA: 5:14 - loss: 4.3386 - acc: 0.440 - ETA: 5:13 - loss: 4.3656 - acc: 0.441 - ETA: 5:12 - loss: 4.3830 - acc: 0.445 - ETA: 5:09 - loss: 4.3978 - acc: 0.441 - ETA: 5:07 - loss: 4.3911 - acc: 0.443 - ETA: 5:05 - loss: 4.3959 - acc: 0.442 - ETA: 5:03 - loss: 4.4001 - acc: 0.443 - ETA: 5:02 - loss: 4.4249 - acc: 0.440 - ETA: 5:01 - loss: 4.3944 - acc: 0.445 - ETA: 5:01 - loss: 4.4018 - acc: 0.444 - ETA: 5:00 - loss: 4.4021 - acc: 0.443 - ETA: 4:59 - loss: 4.4082 - acc: 0.439 - ETA: 4:57 - loss: 4.3800 - acc: 0.439 - ETA: 4:56 - loss: 4.3762 - acc: 0.438 - ETA: 4:56 - loss: 4.3786 - acc: 0.439 - ETA: 4:55 - loss: 4.3589 - acc: 0.440 - ETA: 4:53 - loss: 4.3645 - acc: 0.435 - ETA: 4:52 - loss: 4.3875 - acc: 0.430 - ETA: 4:50 - loss: 4.3746 - acc: 0.432 - ETA: 4:50 - loss: 4.3583 - acc: 0.434 - ETA: 4:49 - loss: 4.3592 - acc: 0.433 - ETA: 4:48 - loss: 4.3635 - acc: 0.433 - ETA: 4:46 - loss: 4.3728 - acc: 0.432 - ETA: 4:44 - loss: 4.3672 - acc: 0.431 - ETA: 4:43 - loss: 4.3591 - acc: 0.431 - ETA: 4:41 - loss: 4.3551 - acc: 0.432 - ETA: 4:40 - loss: 4.3616 - acc: 0.432 - ETA: 4:38 - loss: 4.3599 - acc: 0.432 - ETA: 4:37 - loss: 4.3762 - acc: 0.430 - ETA: 4:36 - loss: 4.3635 - acc: 0.430 - ETA: 4:35 - loss: 4.3385 - acc: 0.433 - ETA: 4:33 - loss: 4.3450 - acc: 0.432 - ETA: 4:32 - loss: 4.3272 - acc: 0.433 - ETA: 4:31 - loss: 4.3168 - acc: 0.435 - ETA: 4:30 - loss: 4.3035 - acc: 0.435 - ETA: 4:29 - loss: 4.2941 - acc: 0.438 - ETA: 4:27 - loss: 4.2842 - acc: 0.438 - ETA: 4:26 - loss: 4.2919 - acc: 0.437 - ETA: 4:25 - loss: 4.2978 - acc: 0.436 - ETA: 4:24 - loss: 4.3249 - acc: 0.434 - ETA: 4:23 - loss: 4.3258 - acc: 0.437 - ETA: 4:22 - loss: 4.3142 - acc: 0.439 - ETA: 4:21 - loss: 4.3176 - acc: 0.438 - ETA: 4:19 - loss: 4.3132 - acc: 0.436 - ETA: 4:19 - loss: 4.3115 - acc: 0.435 - ETA: 4:17 - loss: 4.3215 - acc: 0.434 - ETA: 4:16 - loss: 4.3225 - acc: 0.433 - ETA: 4:15 - loss: 4.3307 - acc: 0.433 - ETA: 4:14 - loss: 4.3234 - acc: 0.432 - ETA: 4:13 - loss: 4.3291 - acc: 0.433 - ETA: 4:12 - loss: 4.3266 - acc: 0.433 - ETA: 4:11 - loss: 4.3165 - acc: 0.434 - ETA: 4:10 - loss: 4.3229 - acc: 0.434 - ETA: 4:09 - loss: 4.3242 - acc: 0.433 - ETA: 4:08 - loss: 4.3339 - acc: 0.431 - ETA: 4:07 - loss: 4.3576 - acc: 0.429 - ETA: 4:06 - loss: 4.3610 - acc: 0.430 - ETA: 4:05 - loss: 4.3554 - acc: 0.432 - ETA: 4:04 - loss: 4.3481 - acc: 0.432 - ETA: 4:03 - loss: 4.3419 - acc: 0.432 - ETA: 4:02 - loss: 4.3471 - acc: 0.431 - ETA: 4:01 - loss: 4.3436 - acc: 0.432 - ETA: 4:00 - loss: 4.3460 - acc: 0.431 - ETA: 3:59 - loss: 4.3420 - acc: 0.433 - ETA: 3:58 - loss: 4.3416 - acc: 0.434 - ETA: 3:57 - loss: 4.3496 - acc: 0.433 - ETA: 3:56 - loss: 4.3506 - acc: 0.434 - ETA: 3:55 - loss: 4.3470 - acc: 0.433 - ETA: 3:53 - loss: 4.3457 - acc: 0.433 - ETA: 3:52 - loss: 4.3464 - acc: 0.432 - ETA: 3:51 - loss: 4.3572 - acc: 0.432 - ETA: 3:50 - loss: 4.3580 - acc: 0.432 - ETA: 3:49 - loss: 4.3617 - acc: 0.432 - ETA: 3:48 - loss: 4.3626 - acc: 0.431 - ETA: 3:47 - loss: 4.3555 - acc: 0.431 - ETA: 3:46 - loss: 4.3623 - acc: 0.431 - ETA: 3:45 - loss: 4.3540 - acc: 0.432 - ETA: 3:44 - loss: 4.3566 - acc: 0.431 - ETA: 3:43 - loss: 4.3561 - acc: 0.432 - ETA: 3:42 - loss: 4.3591 - acc: 0.431 - ETA: 3:41 - loss: 4.3657 - acc: 0.431 - ETA: 3:40 - loss: 4.3666 - acc: 0.430 - ETA: 3:39 - loss: 4.3720 - acc: 0.430 - ETA: 3:38 - loss: 4.3665 - acc: 0.430 - ETA: 3:37 - loss: 4.3730 - acc: 0.430 - ETA: 3:36 - loss: 4.3748 - acc: 0.430 - ETA: 3:35 - loss: 4.3737 - acc: 0.430 - ETA: 3:34 - loss: 4.3724 - acc: 0.429 - ETA: 3:33 - loss: 4.3714 - acc: 0.428 - ETA: 3:32 - loss: 4.3680 - acc: 0.428 - ETA: 3:31 - loss: 4.3790 - acc: 0.428 - ETA: 3:30 - loss: 4.3813 - acc: 0.428 - ETA: 3:29 - loss: 4.3754 - acc: 0.429 - ETA: 3:28 - loss: 4.3734 - acc: 0.428 - ETA: 3:27 - loss: 4.3799 - acc: 0.427 - ETA: 3:25 - loss: 4.3852 - acc: 0.426 - ETA: 3:24 - loss: 4.3860 - acc: 0.426 - ETA: 3:24 - loss: 4.3815 - acc: 0.427 - ETA: 3:22 - loss: 4.3771 - acc: 0.427 - ETA: 3:21 - loss: 4.3756 - acc: 0.426 - ETA: 3:20 - loss: 4.3754 - acc: 0.428 - ETA: 3:19 - loss: 4.3720 - acc: 0.428 - ETA: 3:18 - loss: 4.3732 - acc: 0.428 - ETA: 3:17 - loss: 4.3722 - acc: 0.430 - ETA: 3:16 - loss: 4.3679 - acc: 0.430 - ETA: 3:15 - loss: 4.3711 - acc: 0.430 - ETA: 3:14 - loss: 4.3697 - acc: 0.430 - ETA: 3:13 - loss: 4.3783 - acc: 0.429 - ETA: 3:12 - loss: 4.3774 - acc: 0.429 - ETA: 3:11 - loss: 4.3850 - acc: 0.428 - ETA: 3:10 - loss: 4.3864 - acc: 0.428 - ETA: 3:09 - loss: 4.3845 - acc: 0.428 - ETA: 3:08 - loss: 4.3822 - acc: 0.428 - ETA: 3:07 - loss: 4.3883 - acc: 0.427 - ETA: 3:06 - loss: 4.3915 - acc: 0.426 - ETA: 3:05 - loss: 4.3953 - acc: 0.426 - ETA: 3:04 - loss: 4.3908 - acc: 0.426 - ETA: 3:02 - loss: 4.3863 - acc: 0.427 - ETA: 3:01 - loss: 4.3825 - acc: 0.427 - ETA: 3:00 - loss: 4.3837 - acc: 0.426 - ETA: 2:59 - loss: 4.3820 - acc: 0.427 - ETA: 2:58 - loss: 4.3771 - acc: 0.427 - ETA: 2:57 - loss: 4.3809 - acc: 0.426 - ETA: 2:56 - loss: 4.3790 - acc: 0.425 - ETA: 2:55 - loss: 4.3828 - acc: 0.425 - ETA: 2:54 - loss: 4.3819 - acc: 0.425 - ETA: 2:53 - loss: 4.3831 - acc: 0.425 - ETA: 2:52 - loss: 4.3798 - acc: 0.426 - ETA: 2:51 - loss: 4.3845 - acc: 0.426 - ETA: 2:50 - loss: 4.3847 - acc: 0.426 - ETA: 2:48 - loss: 4.3790 - acc: 0.427 - ETA: 2:47 - loss: 4.3795 - acc: 0.427 - ETA: 2:46 - loss: 4.3796 - acc: 0.427 - ETA: 2:45 - loss: 4.3797 - acc: 0.427 - ETA: 2:44 - loss: 4.3780 - acc: 0.427 - ETA: 2:43 - loss: 4.3781 - acc: 0.427 - ETA: 2:42 - loss: 4.3833 - acc: 0.427 - ETA: 2:41 - loss: 4.3833 - acc: 0.427 - ETA: 2:40 - loss: 4.3878 - acc: 0.427 - ETA: 2:39 - loss: 4.3863 - acc: 0.426 - ETA: 2:37 - loss: 4.3834 - acc: 0.426 - ETA: 2:36 - loss: 4.3879 - acc: 0.425 - ETA: 2:35 - loss: 4.3920 - acc: 0.425 - ETA: 2:34 - loss: 4.3891 - acc: 0.426 - ETA: 2:33 - loss: 4.3828 - acc: 0.426 - ETA: 2:32 - loss: 4.3765 - acc: 0.427 - ETA: 2:31 - loss: 4.3788 - acc: 0.426 - ETA: 2:30 - loss: 4.3768 - acc: 0.427 - ETA: 2:29 - loss: 4.3758 - acc: 0.427 - ETA: 2:28 - loss: 4.3715 - acc: 0.428 - ETA: 2:27 - loss: 4.3727 - acc: 0.428 - ETA: 2:26 - loss: 4.3730 - acc: 0.427 - ETA: 2:25 - loss: 4.3722 - acc: 0.427 - ETA: 2:24 - loss: 4.3752 - acc: 0.427 - ETA: 2:23 - loss: 4.3819 - acc: 0.426 - ETA: 2:22 - loss: 4.3823 - acc: 0.426 - ETA: 2:21 - loss: 4.3804 - acc: 0.426 - ETA: 2:20 - loss: 4.3832 - acc: 0.425 - ETA: 2:19 - loss: 4.3787 - acc: 0.426 - ETA: 2:18 - loss: 4.3798 - acc: 0.426 - ETA: 2:16 - loss: 4.3810 - acc: 0.426 - ETA: 2:15 - loss: 4.3841 - acc: 0.425 - ETA: 2:14 - loss: 4.3838 - acc: 0.426 - ETA: 2:13 - loss: 4.3841 - acc: 0.426 - ETA: 2:12 - loss: 4.3824 - acc: 0.427 - ETA: 2:11 - loss: 4.3805 - acc: 0.427 - ETA: 2:10 - loss: 4.3827 - acc: 0.426 - ETA: 2:09 - loss: 4.3777 - acc: 0.426 - ETA: 2:08 - loss: 4.3762 - acc: 0.427 - ETA: 2:07 - loss: 4.3761 - acc: 0.426 - ETA: 2:06 - loss: 4.3777 - acc: 0.426 - ETA: 2:05 - loss: 4.3823 - acc: 0.425 - ETA: 2:04 - loss: 4.3799 - acc: 0.425 - ETA: 2:03 - loss: 4.3802 - acc: 0.425 - ETA: 2:02 - loss: 4.3798 - acc: 0.425 - ETA: 2:01 - loss: 4.3821 - acc: 0.425 - ETA: 2:00 - loss: 4.3858 - acc: 0.425 - ETA: 1:59 - loss: 4.3836 - acc: 0.426 - ETA: 1:58 - loss: 4.3868 - acc: 0.426 - ETA: 1:57 - loss: 4.3930 - acc: 0.426 - ETA: 1:56 - loss: 4.3934 - acc: 0.426 - ETA: 1:55 - loss: 4.3913 - acc: 0.426 - ETA: 1:54 - loss: 4.3921 - acc: 0.4259312/312 [==============================] - ETA: 1:53 - loss: 4.3951 - acc: 0.425 - ETA: 1:51 - loss: 4.3995 - acc: 0.426 - ETA: 1:50 - loss: 4.3999 - acc: 0.426 - ETA: 1:49 - loss: 4.3944 - acc: 0.427 - ETA: 1:48 - loss: 4.3951 - acc: 0.426 - ETA: 1:47 - loss: 4.3981 - acc: 0.426 - ETA: 1:46 - loss: 4.4039 - acc: 0.426 - ETA: 1:45 - loss: 4.4045 - acc: 0.426 - ETA: 1:44 - loss: 4.4045 - acc: 0.425 - ETA: 1:43 - loss: 4.4083 - acc: 0.425 - ETA: 1:42 - loss: 4.4157 - acc: 0.425 - ETA: 1:41 - loss: 4.4137 - acc: 0.425 - ETA: 1:40 - loss: 4.4191 - acc: 0.424 - ETA: 1:39 - loss: 4.4168 - acc: 0.424 - ETA: 1:38 - loss: 4.4228 - acc: 0.423 - ETA: 1:37 - loss: 4.4243 - acc: 0.424 - ETA: 1:36 - loss: 4.4212 - acc: 0.424 - ETA: 1:35 - loss: 4.4190 - acc: 0.425 - ETA: 1:34 - loss: 4.4228 - acc: 0.425 - ETA: 1:33 - loss: 4.4245 - acc: 0.424 - ETA: 1:32 - loss: 4.4229 - acc: 0.424 - ETA: 1:31 - loss: 4.4255 - acc: 0.424 - ETA: 1:30 - loss: 4.4253 - acc: 0.424 - ETA: 1:28 - loss: 4.4254 - acc: 0.424 - ETA: 1:27 - loss: 4.4232 - acc: 0.424 - ETA: 1:26 - loss: 4.4214 - acc: 0.424 - ETA: 1:25 - loss: 4.4210 - acc: 0.424 - ETA: 1:24 - loss: 4.4212 - acc: 0.424 - ETA: 1:23 - loss: 4.4180 - acc: 0.424 - ETA: 1:22 - loss: 4.4177 - acc: 0.424 - ETA: 1:21 - loss: 4.4146 - acc: 0.425 - ETA: 1:20 - loss: 4.4113 - acc: 0.425 - ETA: 1:19 - loss: 4.4101 - acc: 0.426 - ETA: 1:18 - loss: 4.4084 - acc: 0.426 - ETA: 1:17 - loss: 4.4094 - acc: 0.426 - ETA: 1:16 - loss: 4.4052 - acc: 0.426 - ETA: 1:15 - loss: 4.4046 - acc: 0.426 - ETA: 1:14 - loss: 4.4043 - acc: 0.426 - ETA: 1:13 - loss: 4.4018 - acc: 0.426 - ETA: 1:11 - loss: 4.4035 - acc: 0.426 - ETA: 1:10 - loss: 4.4064 - acc: 0.426 - ETA: 1:09 - loss: 4.4052 - acc: 0.426 - ETA: 1:08 - loss: 4.4019 - acc: 0.426 - ETA: 1:07 - loss: 4.4065 - acc: 0.425 - ETA: 1:06 - loss: 4.4056 - acc: 0.425 - ETA: 1:05 - loss: 4.4075 - acc: 0.425 - ETA: 1:04 - loss: 4.4087 - acc: 0.425 - ETA: 1:03 - loss: 4.4085 - acc: 0.425 - ETA: 1:02 - loss: 4.4081 - acc: 0.426 - ETA: 1:01 - loss: 4.4057 - acc: 0.426 - ETA: 1:00 - loss: 4.4033 - acc: 0.427 - ETA: 59s - loss: 4.4043 - acc: 0.427 - ETA: 58s - loss: 4.4043 - acc: 0.42 - ETA: 57s - loss: 4.4064 - acc: 0.42 - ETA: 56s - loss: 4.4028 - acc: 0.42 - ETA: 54s - loss: 4.4046 - acc: 0.42 - ETA: 53s - loss: 4.4043 - acc: 0.42 - ETA: 52s - loss: 4.4031 - acc: 0.42 - ETA: 51s - loss: 4.4049 - acc: 0.42 - ETA: 50s - loss: 4.4048 - acc: 0.42 - ETA: 49s - loss: 4.4030 - acc: 0.42 - ETA: 48s - loss: 4.4006 - acc: 0.42 - ETA: 47s - loss: 4.3976 - acc: 0.42 - ETA: 46s - loss: 4.4017 - acc: 0.42 - ETA: 45s - loss: 4.4009 - acc: 0.42 - ETA: 44s - loss: 4.4019 - acc: 0.42 - ETA: 43s - loss: 4.4009 - acc: 0.42 - ETA: 42s - loss: 4.4019 - acc: 0.42 - ETA: 41s - loss: 4.4025 - acc: 0.42 - ETA: 40s - loss: 4.4040 - acc: 0.42 - ETA: 39s - loss: 4.4028 - acc: 0.42 - ETA: 37s - loss: 4.4022 - acc: 0.42 - ETA: 36s - loss: 4.4036 - acc: 0.42 - ETA: 35s - loss: 4.3993 - acc: 0.42 - ETA: 34s - loss: 4.3970 - acc: 0.42 - ETA: 33s - loss: 4.3972 - acc: 0.42 - ETA: 32s - loss: 4.3934 - acc: 0.42 - ETA: 31s - loss: 4.3908 - acc: 0.42 - ETA: 30s - loss: 4.3879 - acc: 0.43 - ETA: 29s - loss: 4.3864 - acc: 0.43 - ETA: 28s - loss: 4.3844 - acc: 0.43 - ETA: 27s - loss: 4.3846 - acc: 0.43 - ETA: 26s - loss: 4.3872 - acc: 0.42 - ETA: 25s - loss: 4.3880 - acc: 0.42 - ETA: 24s - loss: 4.3890 - acc: 0.42 - ETA: 23s - loss: 4.3917 - acc: 0.42 - ETA: 22s - loss: 4.3906 - acc: 0.42 - ETA: 21s - loss: 4.3901 - acc: 0.42 - ETA: 20s - loss: 4.3898 - acc: 0.42 - ETA: 19s - loss: 4.3883 - acc: 0.43 - ETA: 17s - loss: 4.3889 - acc: 0.43 - ETA: 16s - loss: 4.3903 - acc: 0.42 - ETA: 15s - loss: 4.3921 - acc: 0.42 - ETA: 14s - loss: 4.3936 - acc: 0.42 - ETA: 13s - loss: 4.3964 - acc: 0.42 - ETA: 12s - loss: 4.3986 - acc: 0.42 - ETA: 11s - loss: 4.3972 - acc: 0.42 - ETA: 10s - loss: 4.3958 - acc: 0.42 - ETA: 9s - loss: 4.3957 - acc: 0.4283 - ETA: 8s - loss: 4.3975 - acc: 0.427 - ETA: 7s - loss: 4.3975 - acc: 0.427 - ETA: 6s - loss: 4.3959 - acc: 0.427 - ETA: 5s - loss: 4.3941 - acc: 0.427 - ETA: 4s - loss: 4.3919 - acc: 0.428 - ETA: 3s - loss: 4.3926 - acc: 0.428 - ETA: 2s - loss: 4.3950 - acc: 0.427 - ETA: 1s - loss: 4.3951 - acc: 0.428 - 329s 1s/step - loss: 4.3944 - acc: 0.4282\n",
            "Epoch 13 start at time  2019-08-04 11:05:33.530653\n"
          ],
          "name": "stdout"
        },
        {
          "output_type": "stream",
          "text": [
            "204/312 [==================>...........] - ETA: 5:23 - loss: 4.2166 - acc: 0.500 - ETA: 5:27 - loss: 3.9053 - acc: 0.484 - ETA: 5:22 - loss: 4.2176 - acc: 0.468 - ETA: 5:13 - loss: 4.3161 - acc: 0.421 - ETA: 5:07 - loss: 4.4026 - acc: 0.418 - ETA: 5:02 - loss: 4.4104 - acc: 0.437 - ETA: 4:56 - loss: 4.2991 - acc: 0.446 - ETA: 4:50 - loss: 4.2661 - acc: 0.445 - ETA: 4:49 - loss: 4.1519 - acc: 0.458 - ETA: 4:48 - loss: 4.1363 - acc: 0.456 - ETA: 4:44 - loss: 4.1196 - acc: 0.463 - ETA: 4:43 - loss: 4.1609 - acc: 0.460 - ETA: 4:41 - loss: 4.1717 - acc: 0.461 - ETA: 4:42 - loss: 4.1667 - acc: 0.457 - ETA: 4:41 - loss: 4.2115 - acc: 0.454 - ETA: 4:39 - loss: 4.3058 - acc: 0.447 - ETA: 4:38 - loss: 4.2876 - acc: 0.446 - ETA: 4:38 - loss: 4.2527 - acc: 0.447 - ETA: 4:39 - loss: 4.2393 - acc: 0.444 - ETA: 4:40 - loss: 4.2041 - acc: 0.450 - ETA: 4:38 - loss: 4.2554 - acc: 0.447 - ETA: 4:37 - loss: 4.2518 - acc: 0.446 - ETA: 4:36 - loss: 4.2791 - acc: 0.448 - ETA: 4:36 - loss: 4.3027 - acc: 0.449 - ETA: 4:36 - loss: 4.3204 - acc: 0.447 - ETA: 4:34 - loss: 4.3187 - acc: 0.450 - ETA: 4:34 - loss: 4.3248 - acc: 0.449 - ETA: 4:34 - loss: 4.3319 - acc: 0.453 - ETA: 4:33 - loss: 4.3568 - acc: 0.451 - ETA: 4:32 - loss: 4.3219 - acc: 0.457 - ETA: 4:30 - loss: 4.3218 - acc: 0.455 - ETA: 4:28 - loss: 4.3222 - acc: 0.454 - ETA: 4:26 - loss: 4.3232 - acc: 0.450 - ETA: 4:26 - loss: 4.2954 - acc: 0.450 - ETA: 4:25 - loss: 4.2947 - acc: 0.448 - ETA: 4:24 - loss: 4.2951 - acc: 0.448 - ETA: 4:24 - loss: 4.2699 - acc: 0.449 - ETA: 4:22 - loss: 4.2782 - acc: 0.445 - ETA: 4:22 - loss: 4.3016 - acc: 0.439 - ETA: 4:21 - loss: 4.2900 - acc: 0.442 - ETA: 4:20 - loss: 4.2723 - acc: 0.445 - ETA: 4:18 - loss: 4.2787 - acc: 0.443 - ETA: 4:17 - loss: 4.2812 - acc: 0.444 - ETA: 4:16 - loss: 4.2879 - acc: 0.443 - ETA: 4:14 - loss: 4.2837 - acc: 0.442 - ETA: 4:12 - loss: 4.2754 - acc: 0.442 - ETA: 4:11 - loss: 4.2727 - acc: 0.444 - ETA: 4:10 - loss: 4.2776 - acc: 0.442 - ETA: 4:09 - loss: 4.2749 - acc: 0.442 - ETA: 4:08 - loss: 4.2915 - acc: 0.440 - ETA: 4:07 - loss: 4.2811 - acc: 0.441 - ETA: 4:06 - loss: 4.2573 - acc: 0.445 - ETA: 4:05 - loss: 4.2615 - acc: 0.443 - ETA: 4:03 - loss: 4.2437 - acc: 0.444 - ETA: 4:02 - loss: 4.2330 - acc: 0.445 - ETA: 4:01 - loss: 4.2196 - acc: 0.445 - ETA: 4:00 - loss: 4.2117 - acc: 0.447 - ETA: 3:59 - loss: 4.2009 - acc: 0.449 - ETA: 3:58 - loss: 4.2099 - acc: 0.448 - ETA: 3:56 - loss: 4.2153 - acc: 0.447 - ETA: 3:55 - loss: 4.2433 - acc: 0.445 - ETA: 3:54 - loss: 4.2429 - acc: 0.447 - ETA: 3:54 - loss: 4.2308 - acc: 0.448 - ETA: 3:53 - loss: 4.2333 - acc: 0.447 - ETA: 3:53 - loss: 4.2286 - acc: 0.446 - ETA: 3:52 - loss: 4.2234 - acc: 0.444 - ETA: 3:51 - loss: 4.2349 - acc: 0.444 - ETA: 3:50 - loss: 4.2373 - acc: 0.443 - ETA: 3:49 - loss: 4.2462 - acc: 0.443 - ETA: 3:48 - loss: 4.2401 - acc: 0.442 - ETA: 3:47 - loss: 4.2465 - acc: 0.442 - ETA: 3:46 - loss: 4.2453 - acc: 0.442 - ETA: 3:45 - loss: 4.2360 - acc: 0.443 - ETA: 3:44 - loss: 4.2440 - acc: 0.443 - ETA: 3:43 - loss: 4.2458 - acc: 0.441 - ETA: 3:42 - loss: 4.2564 - acc: 0.441 - ETA: 3:41 - loss: 4.2810 - acc: 0.439 - ETA: 3:40 - loss: 4.2839 - acc: 0.439 - ETA: 3:39 - loss: 4.2794 - acc: 0.441 - ETA: 3:38 - loss: 4.2732 - acc: 0.441 - ETA: 3:37 - loss: 4.2670 - acc: 0.442 - ETA: 3:36 - loss: 4.2728 - acc: 0.442 - ETA: 3:36 - loss: 4.2694 - acc: 0.443 - ETA: 3:35 - loss: 4.2702 - acc: 0.442 - ETA: 3:34 - loss: 4.2665 - acc: 0.444 - ETA: 3:33 - loss: 4.2665 - acc: 0.444 - ETA: 3:32 - loss: 4.2768 - acc: 0.442 - ETA: 3:32 - loss: 4.2776 - acc: 0.444 - ETA: 3:31 - loss: 4.2745 - acc: 0.443 - ETA: 3:30 - loss: 4.2714 - acc: 0.443 - ETA: 3:29 - loss: 4.2715 - acc: 0.441 - ETA: 3:29 - loss: 4.2824 - acc: 0.441 - ETA: 3:28 - loss: 4.2833 - acc: 0.441 - ETA: 3:27 - loss: 4.2878 - acc: 0.440 - ETA: 3:26 - loss: 4.2877 - acc: 0.439 - ETA: 3:25 - loss: 4.2796 - acc: 0.440 - ETA: 3:24 - loss: 4.2876 - acc: 0.440 - ETA: 3:23 - loss: 4.2789 - acc: 0.441 - ETA: 3:22 - loss: 4.2818 - acc: 0.441 - ETA: 3:21 - loss: 4.2821 - acc: 0.441 - ETA: 3:20 - loss: 4.2850 - acc: 0.441 - ETA: 3:19 - loss: 4.2926 - acc: 0.441 - ETA: 3:19 - loss: 4.2948 - acc: 0.440 - ETA: 3:18 - loss: 4.3007 - acc: 0.440 - ETA: 3:16 - loss: 4.2955 - acc: 0.440 - ETA: 3:15 - loss: 4.3031 - acc: 0.439 - ETA: 3:14 - loss: 4.3034 - acc: 0.439 - ETA: 3:13 - loss: 4.3024 - acc: 0.439 - ETA: 3:12 - loss: 4.3032 - acc: 0.438 - ETA: 3:11 - loss: 4.3019 - acc: 0.438 - ETA: 3:10 - loss: 4.2979 - acc: 0.438 - ETA: 3:09 - loss: 4.3087 - acc: 0.438 - ETA: 3:08 - loss: 4.3119 - acc: 0.437 - ETA: 3:07 - loss: 4.3065 - acc: 0.438 - ETA: 3:06 - loss: 4.3039 - acc: 0.438 - ETA: 3:05 - loss: 4.3096 - acc: 0.437 - ETA: 3:04 - loss: 4.3132 - acc: 0.436 - ETA: 3:04 - loss: 4.3137 - acc: 0.436 - ETA: 3:03 - loss: 4.3103 - acc: 0.437 - ETA: 3:02 - loss: 4.3059 - acc: 0.437 - ETA: 3:01 - loss: 4.3036 - acc: 0.436 - ETA: 3:00 - loss: 4.3044 - acc: 0.437 - ETA: 2:59 - loss: 4.3011 - acc: 0.437 - ETA: 2:58 - loss: 4.3015 - acc: 0.437 - ETA: 2:57 - loss: 4.3014 - acc: 0.438 - ETA: 2:57 - loss: 4.2970 - acc: 0.439 - ETA: 2:56 - loss: 4.3022 - acc: 0.439 - ETA: 2:55 - loss: 4.3005 - acc: 0.438 - ETA: 2:54 - loss: 4.3104 - acc: 0.437 - ETA: 2:53 - loss: 4.3091 - acc: 0.437 - ETA: 2:52 - loss: 4.3171 - acc: 0.436 - ETA: 2:51 - loss: 4.3184 - acc: 0.436 - ETA: 2:51 - loss: 4.3167 - acc: 0.436 - ETA: 2:50 - loss: 4.3145 - acc: 0.436 - ETA: 2:49 - loss: 4.3207 - acc: 0.435 - ETA: 2:48 - loss: 4.3231 - acc: 0.435 - ETA: 2:47 - loss: 4.3269 - acc: 0.434 - ETA: 2:46 - loss: 4.3227 - acc: 0.435 - ETA: 2:45 - loss: 4.3181 - acc: 0.435 - ETA: 2:45 - loss: 4.3135 - acc: 0.435 - ETA: 2:44 - loss: 4.3139 - acc: 0.434 - ETA: 2:43 - loss: 4.3111 - acc: 0.435 - ETA: 2:42 - loss: 4.3070 - acc: 0.435 - ETA: 2:41 - loss: 4.3102 - acc: 0.434 - ETA: 2:40 - loss: 4.3089 - acc: 0.433 - ETA: 2:40 - loss: 4.3133 - acc: 0.433 - ETA: 2:38 - loss: 4.3127 - acc: 0.433 - ETA: 2:37 - loss: 4.3143 - acc: 0.432 - ETA: 2:36 - loss: 4.3117 - acc: 0.433 - ETA: 2:35 - loss: 4.3166 - acc: 0.433 - ETA: 2:34 - loss: 4.3169 - acc: 0.433 - ETA: 2:33 - loss: 4.3108 - acc: 0.433 - ETA: 2:33 - loss: 4.3118 - acc: 0.433 - ETA: 2:32 - loss: 4.3114 - acc: 0.433 - ETA: 2:31 - loss: 4.3118 - acc: 0.433 - ETA: 2:30 - loss: 4.3111 - acc: 0.432 - ETA: 2:29 - loss: 4.3111 - acc: 0.433 - ETA: 2:28 - loss: 4.3171 - acc: 0.433 - ETA: 2:27 - loss: 4.3166 - acc: 0.432 - ETA: 2:26 - loss: 4.3205 - acc: 0.432 - ETA: 2:25 - loss: 4.3177 - acc: 0.431 - ETA: 2:24 - loss: 4.3150 - acc: 0.431 - ETA: 2:23 - loss: 4.3196 - acc: 0.430 - ETA: 2:22 - loss: 4.3243 - acc: 0.430 - ETA: 2:21 - loss: 4.3203 - acc: 0.431 - ETA: 2:20 - loss: 4.3143 - acc: 0.431 - ETA: 2:19 - loss: 4.3085 - acc: 0.432 - ETA: 2:18 - loss: 4.3103 - acc: 0.431 - ETA: 2:17 - loss: 4.3090 - acc: 0.432 - ETA: 2:17 - loss: 4.3085 - acc: 0.431 - ETA: 2:16 - loss: 4.3034 - acc: 0.432 - ETA: 2:15 - loss: 4.3050 - acc: 0.432 - ETA: 2:14 - loss: 4.3056 - acc: 0.432 - ETA: 2:13 - loss: 4.3045 - acc: 0.431 - ETA: 2:12 - loss: 4.3070 - acc: 0.431 - ETA: 2:11 - loss: 4.3140 - acc: 0.431 - ETA: 2:10 - loss: 4.3143 - acc: 0.431 - ETA: 2:09 - loss: 4.3124 - acc: 0.431 - ETA: 2:08 - loss: 4.3150 - acc: 0.430 - ETA: 2:07 - loss: 4.3110 - acc: 0.431 - ETA: 2:06 - loss: 4.3120 - acc: 0.430 - ETA: 2:05 - loss: 4.3124 - acc: 0.430 - ETA: 2:04 - loss: 4.3158 - acc: 0.430 - ETA: 2:03 - loss: 4.3143 - acc: 0.430 - ETA: 2:02 - loss: 4.3141 - acc: 0.430 - ETA: 2:01 - loss: 4.3131 - acc: 0.430 - ETA: 2:00 - loss: 4.3114 - acc: 0.431 - ETA: 1:59 - loss: 4.3141 - acc: 0.430 - ETA: 1:58 - loss: 4.3089 - acc: 0.431 - ETA: 1:57 - loss: 4.3072 - acc: 0.431 - ETA: 1:56 - loss: 4.3072 - acc: 0.431 - ETA: 1:55 - loss: 4.3085 - acc: 0.432 - ETA: 1:54 - loss: 4.3133 - acc: 0.430 - ETA: 1:53 - loss: 4.3109 - acc: 0.430 - ETA: 1:52 - loss: 4.3105 - acc: 0.430 - ETA: 1:51 - loss: 4.3097 - acc: 0.430 - ETA: 1:50 - loss: 4.3119 - acc: 0.430 - ETA: 1:49 - loss: 4.3156 - acc: 0.430 - ETA: 1:48 - loss: 4.3138 - acc: 0.431 - ETA: 1:47 - loss: 4.3167 - acc: 0.431 - ETA: 1:46 - loss: 4.3235 - acc: 0.431 - ETA: 1:45 - loss: 4.3229 - acc: 0.431 - ETA: 1:44 - loss: 4.3213 - acc: 0.431 - ETA: 1:43 - loss: 4.3214 - acc: 0.4314"
          ],
          "name": "stdout"
        },
        {
          "output_type": "stream",
          "text": [
            "312/312 [==============================] - ETA: 1:42 - loss: 4.3244 - acc: 0.431 - ETA: 1:41 - loss: 4.3287 - acc: 0.431 - ETA: 1:40 - loss: 4.3292 - acc: 0.431 - ETA: 1:39 - loss: 4.3238 - acc: 0.432 - ETA: 1:38 - loss: 4.3245 - acc: 0.432 - ETA: 1:37 - loss: 4.3280 - acc: 0.432 - ETA: 1:36 - loss: 4.3346 - acc: 0.431 - ETA: 1:35 - loss: 4.3353 - acc: 0.431 - ETA: 1:34 - loss: 4.3347 - acc: 0.431 - ETA: 1:33 - loss: 4.3388 - acc: 0.431 - ETA: 1:32 - loss: 4.3465 - acc: 0.431 - ETA: 1:31 - loss: 4.3445 - acc: 0.431 - ETA: 1:30 - loss: 4.3501 - acc: 0.431 - ETA: 1:29 - loss: 4.3475 - acc: 0.431 - ETA: 1:28 - loss: 4.3537 - acc: 0.430 - ETA: 1:27 - loss: 4.3555 - acc: 0.430 - ETA: 1:26 - loss: 4.3530 - acc: 0.431 - ETA: 1:25 - loss: 4.3512 - acc: 0.431 - ETA: 1:24 - loss: 4.3548 - acc: 0.431 - ETA: 1:24 - loss: 4.3565 - acc: 0.431 - ETA: 1:23 - loss: 4.3546 - acc: 0.431 - ETA: 1:22 - loss: 4.3568 - acc: 0.431 - ETA: 1:21 - loss: 4.3571 - acc: 0.431 - ETA: 1:20 - loss: 4.3569 - acc: 0.431 - ETA: 1:19 - loss: 4.3544 - acc: 0.430 - ETA: 1:18 - loss: 4.3519 - acc: 0.431 - ETA: 1:17 - loss: 4.3509 - acc: 0.431 - ETA: 1:16 - loss: 4.3510 - acc: 0.431 - ETA: 1:15 - loss: 4.3477 - acc: 0.431 - ETA: 1:14 - loss: 4.3475 - acc: 0.431 - ETA: 1:13 - loss: 4.3439 - acc: 0.431 - ETA: 1:12 - loss: 4.3409 - acc: 0.432 - ETA: 1:11 - loss: 4.3398 - acc: 0.432 - ETA: 1:10 - loss: 4.3383 - acc: 0.432 - ETA: 1:09 - loss: 4.3396 - acc: 0.432 - ETA: 1:08 - loss: 4.3355 - acc: 0.433 - ETA: 1:07 - loss: 4.3350 - acc: 0.433 - ETA: 1:06 - loss: 4.3342 - acc: 0.433 - ETA: 1:05 - loss: 4.3319 - acc: 0.433 - ETA: 1:04 - loss: 4.3336 - acc: 0.433 - ETA: 1:03 - loss: 4.3363 - acc: 0.433 - ETA: 1:02 - loss: 4.3352 - acc: 0.433 - ETA: 1:01 - loss: 4.3319 - acc: 0.433 - ETA: 1:00 - loss: 4.3365 - acc: 0.432 - ETA: 1:00 - loss: 4.3354 - acc: 0.432 - ETA: 59s - loss: 4.3367 - acc: 0.432 - ETA: 58s - loss: 4.3379 - acc: 0.43 - ETA: 57s - loss: 4.3379 - acc: 0.43 - ETA: 56s - loss: 4.3375 - acc: 0.43 - ETA: 55s - loss: 4.3358 - acc: 0.43 - ETA: 54s - loss: 4.3336 - acc: 0.43 - ETA: 53s - loss: 4.3342 - acc: 0.43 - ETA: 52s - loss: 4.3338 - acc: 0.43 - ETA: 51s - loss: 4.3354 - acc: 0.43 - ETA: 50s - loss: 4.3315 - acc: 0.43 - ETA: 49s - loss: 4.3332 - acc: 0.43 - ETA: 48s - loss: 4.3334 - acc: 0.43 - ETA: 47s - loss: 4.3320 - acc: 0.43 - ETA: 46s - loss: 4.3345 - acc: 0.43 - ETA: 45s - loss: 4.3343 - acc: 0.43 - ETA: 44s - loss: 4.3326 - acc: 0.43 - ETA: 43s - loss: 4.3297 - acc: 0.43 - ETA: 42s - loss: 4.3267 - acc: 0.43 - ETA: 41s - loss: 4.3307 - acc: 0.43 - ETA: 40s - loss: 4.3301 - acc: 0.43 - ETA: 39s - loss: 4.3310 - acc: 0.43 - ETA: 38s - loss: 4.3302 - acc: 0.43 - ETA: 37s - loss: 4.3314 - acc: 0.43 - ETA: 36s - loss: 4.3316 - acc: 0.43 - ETA: 35s - loss: 4.3335 - acc: 0.43 - ETA: 35s - loss: 4.3331 - acc: 0.43 - ETA: 34s - loss: 4.3321 - acc: 0.43 - ETA: 33s - loss: 4.3333 - acc: 0.43 - ETA: 32s - loss: 4.3293 - acc: 0.43 - ETA: 31s - loss: 4.3270 - acc: 0.43 - ETA: 30s - loss: 4.3271 - acc: 0.43 - ETA: 29s - loss: 4.3228 - acc: 0.43 - ETA: 28s - loss: 4.3211 - acc: 0.43 - ETA: 27s - loss: 4.3179 - acc: 0.43 - ETA: 26s - loss: 4.3168 - acc: 0.43 - ETA: 25s - loss: 4.3145 - acc: 0.43 - ETA: 24s - loss: 4.3143 - acc: 0.43 - ETA: 23s - loss: 4.3173 - acc: 0.43 - ETA: 22s - loss: 4.3175 - acc: 0.43 - ETA: 21s - loss: 4.3186 - acc: 0.43 - ETA: 20s - loss: 4.3214 - acc: 0.43 - ETA: 19s - loss: 4.3207 - acc: 0.43 - ETA: 18s - loss: 4.3201 - acc: 0.43 - ETA: 18s - loss: 4.3201 - acc: 0.43 - ETA: 17s - loss: 4.3183 - acc: 0.43 - ETA: 16s - loss: 4.3188 - acc: 0.43 - ETA: 15s - loss: 4.3202 - acc: 0.43 - ETA: 14s - loss: 4.3221 - acc: 0.43 - ETA: 13s - loss: 4.3237 - acc: 0.43 - ETA: 12s - loss: 4.3269 - acc: 0.43 - ETA: 11s - loss: 4.3286 - acc: 0.43 - ETA: 10s - loss: 4.3270 - acc: 0.43 - ETA: 9s - loss: 4.3250 - acc: 0.4351 - ETA: 8s - loss: 4.3251 - acc: 0.435 - ETA: 7s - loss: 4.3271 - acc: 0.434 - ETA: 6s - loss: 4.3268 - acc: 0.434 - ETA: 5s - loss: 4.3253 - acc: 0.434 - ETA: 4s - loss: 4.3234 - acc: 0.434 - ETA: 3s - loss: 4.3213 - acc: 0.434 - ETA: 2s - loss: 4.3222 - acc: 0.434 - ETA: 1s - loss: 4.3248 - acc: 0.434 - ETA: 0s - loss: 4.3244 - acc: 0.434 - 296s 948ms/step - loss: 4.3236 - acc: 0.4346\n",
            "Epoch 14 start at time  2019-08-04 11:57:27.985265\n",
            "204/312 [==================>...........] - ETA: 5:32 - loss: 3.9557 - acc: 0.437 - ETA: 5:12 - loss: 3.8440 - acc: 0.453 - ETA: 5:15 - loss: 4.1419 - acc: 0.447 - ETA: 5:07 - loss: 4.2686 - acc: 0.398 - ETA: 5:15 - loss: 4.3727 - acc: 0.393 - ETA: 5:18 - loss: 4.3601 - acc: 0.427 - ETA: 5:16 - loss: 4.2564 - acc: 0.437 - ETA: 5:14 - loss: 4.2081 - acc: 0.445 - ETA: 5:15 - loss: 4.0920 - acc: 0.465 - ETA: 5:11 - loss: 4.0774 - acc: 0.456 - ETA: 5:10 - loss: 4.0331 - acc: 0.468 - ETA: 5:12 - loss: 4.0747 - acc: 0.468 - ETA: 5:13 - loss: 4.0749 - acc: 0.463 - ETA: 5:14 - loss: 4.0783 - acc: 0.466 - ETA: 5:16 - loss: 4.1173 - acc: 0.460 - ETA: 5:20 - loss: 4.1996 - acc: 0.455 - ETA: 5:21 - loss: 4.1777 - acc: 0.452 - ETA: 5:22 - loss: 4.1441 - acc: 0.454 - ETA: 5:25 - loss: 4.1242 - acc: 0.453 - ETA: 5:24 - loss: 4.0939 - acc: 0.459 - ETA: 5:25 - loss: 4.1520 - acc: 0.453 - ETA: 5:28 - loss: 4.1500 - acc: 0.451 - ETA: 5:28 - loss: 4.1795 - acc: 0.452 - ETA: 5:27 - loss: 4.1934 - acc: 0.454 - ETA: 5:28 - loss: 4.2128 - acc: 0.453 - ETA: 5:27 - loss: 4.2053 - acc: 0.456 - ETA: 5:27 - loss: 4.2125 - acc: 0.454 - ETA: 5:27 - loss: 4.2210 - acc: 0.455 - ETA: 5:27 - loss: 4.2442 - acc: 0.452 - ETA: 5:25 - loss: 4.2116 - acc: 0.458 - ETA: 5:24 - loss: 4.2160 - acc: 0.456 - ETA: 5:23 - loss: 4.2210 - acc: 0.455 - ETA: 5:23 - loss: 4.2265 - acc: 0.450 - ETA: 5:21 - loss: 4.2028 - acc: 0.451 - ETA: 5:21 - loss: 4.2008 - acc: 0.451 - ETA: 5:21 - loss: 4.1972 - acc: 0.451 - ETA: 5:19 - loss: 4.1742 - acc: 0.451 - ETA: 5:17 - loss: 4.1791 - acc: 0.448 - ETA: 5:15 - loss: 4.2014 - acc: 0.441 - ETA: 5:13 - loss: 4.1842 - acc: 0.445 - ETA: 5:10 - loss: 4.1686 - acc: 0.446 - ETA: 5:09 - loss: 4.1706 - acc: 0.444 - ETA: 5:07 - loss: 4.1732 - acc: 0.445 - ETA: 5:05 - loss: 4.1789 - acc: 0.445 - ETA: 5:04 - loss: 4.1757 - acc: 0.443 - ETA: 5:02 - loss: 4.1655 - acc: 0.445 - ETA: 5:02 - loss: 4.1629 - acc: 0.446 - ETA: 5:00 - loss: 4.1676 - acc: 0.446 - ETA: 4:59 - loss: 4.1639 - acc: 0.447 - ETA: 4:57 - loss: 4.1808 - acc: 0.445 - ETA: 4:55 - loss: 4.1680 - acc: 0.447 - ETA: 4:53 - loss: 4.1427 - acc: 0.449 - ETA: 4:52 - loss: 4.1484 - acc: 0.449 - ETA: 4:50 - loss: 4.1322 - acc: 0.450 - ETA: 4:49 - loss: 4.1200 - acc: 0.451 - ETA: 4:48 - loss: 4.1042 - acc: 0.452 - ETA: 4:47 - loss: 4.0972 - acc: 0.454 - ETA: 4:45 - loss: 4.0866 - acc: 0.453 - ETA: 4:44 - loss: 4.0959 - acc: 0.454 - ETA: 4:42 - loss: 4.1022 - acc: 0.453 - ETA: 4:40 - loss: 4.1314 - acc: 0.452 - ETA: 4:39 - loss: 4.1311 - acc: 0.454 - ETA: 4:37 - loss: 4.1183 - acc: 0.456 - ETA: 4:36 - loss: 4.1215 - acc: 0.455 - ETA: 4:35 - loss: 4.1175 - acc: 0.453 - ETA: 4:34 - loss: 4.1113 - acc: 0.451 - ETA: 4:32 - loss: 4.1209 - acc: 0.450 - ETA: 4:32 - loss: 4.1237 - acc: 0.450 - ETA: 4:30 - loss: 4.1330 - acc: 0.450 - ETA: 4:29 - loss: 4.1251 - acc: 0.450 - ETA: 4:27 - loss: 4.1318 - acc: 0.449 - ETA: 4:25 - loss: 4.1315 - acc: 0.449 - ETA: 4:24 - loss: 4.1216 - acc: 0.451 - ETA: 4:22 - loss: 4.1294 - acc: 0.450 - ETA: 4:21 - loss: 4.1324 - acc: 0.449 - ETA: 4:19 - loss: 4.1429 - acc: 0.449 - ETA: 4:18 - loss: 4.1679 - acc: 0.447 - ETA: 4:16 - loss: 4.1720 - acc: 0.447 - ETA: 4:15 - loss: 4.1669 - acc: 0.449 - ETA: 4:14 - loss: 4.1593 - acc: 0.449 - ETA: 4:13 - loss: 4.1533 - acc: 0.449 - ETA: 4:12 - loss: 4.1571 - acc: 0.448 - ETA: 4:10 - loss: 4.1533 - acc: 0.450 - ETA: 4:09 - loss: 4.1529 - acc: 0.449 - ETA: 4:08 - loss: 4.1491 - acc: 0.450 - ETA: 4:07 - loss: 4.1480 - acc: 0.451 - ETA: 4:06 - loss: 4.1557 - acc: 0.450 - ETA: 4:05 - loss: 4.1585 - acc: 0.452 - ETA: 4:04 - loss: 4.1551 - acc: 0.451 - ETA: 4:03 - loss: 4.1532 - acc: 0.451 - ETA: 4:02 - loss: 4.1538 - acc: 0.449 - ETA: 4:00 - loss: 4.1650 - acc: 0.450 - ETA: 3:59 - loss: 4.1654 - acc: 0.450 - ETA: 3:58 - loss: 4.1692 - acc: 0.450 - ETA: 3:57 - loss: 4.1695 - acc: 0.449 - ETA: 3:56 - loss: 4.1625 - acc: 0.450 - ETA: 3:55 - loss: 4.1719 - acc: 0.449 - ETA: 3:54 - loss: 4.1655 - acc: 0.450 - ETA: 3:53 - loss: 4.1690 - acc: 0.449 - ETA: 3:52 - loss: 4.1696 - acc: 0.450 - ETA: 3:51 - loss: 4.1722 - acc: 0.450 - ETA: 3:49 - loss: 4.1781 - acc: 0.449 - ETA: 3:48 - loss: 4.1799 - acc: 0.448 - ETA: 3:47 - loss: 4.1858 - acc: 0.448 - ETA: 3:46 - loss: 4.1814 - acc: 0.448 - ETA: 3:45 - loss: 4.1883 - acc: 0.448 - ETA: 3:44 - loss: 4.1895 - acc: 0.448 - ETA: 3:42 - loss: 4.1883 - acc: 0.447 - ETA: 3:41 - loss: 4.1877 - acc: 0.446 - ETA: 3:40 - loss: 4.1874 - acc: 0.445 - ETA: 3:39 - loss: 4.1831 - acc: 0.446 - ETA: 3:37 - loss: 4.1928 - acc: 0.445 - ETA: 3:36 - loss: 4.1964 - acc: 0.445 - ETA: 3:35 - loss: 4.1922 - acc: 0.446 - ETA: 3:34 - loss: 4.1906 - acc: 0.445 - ETA: 3:33 - loss: 4.1963 - acc: 0.444 - ETA: 3:32 - loss: 4.2011 - acc: 0.444 - ETA: 3:31 - loss: 4.2014 - acc: 0.443 - ETA: 3:29 - loss: 4.1981 - acc: 0.444 - ETA: 3:28 - loss: 4.1932 - acc: 0.445 - ETA: 3:27 - loss: 4.1913 - acc: 0.444 - ETA: 3:26 - loss: 4.1927 - acc: 0.444 - ETA: 3:24 - loss: 4.1892 - acc: 0.444 - ETA: 3:23 - loss: 4.1916 - acc: 0.444 - ETA: 3:22 - loss: 4.1916 - acc: 0.445 - ETA: 3:21 - loss: 4.1881 - acc: 0.445 - ETA: 3:20 - loss: 4.1921 - acc: 0.446 - ETA: 3:19 - loss: 4.1911 - acc: 0.445 - ETA: 3:18 - loss: 4.2013 - acc: 0.444 - ETA: 3:17 - loss: 4.2002 - acc: 0.444 - ETA: 3:15 - loss: 4.2085 - acc: 0.442 - ETA: 3:15 - loss: 4.2101 - acc: 0.442 - ETA: 3:13 - loss: 4.2081 - acc: 0.442 - ETA: 3:12 - loss: 4.2064 - acc: 0.442 - ETA: 3:11 - loss: 4.2123 - acc: 0.441 - ETA: 3:10 - loss: 4.2147 - acc: 0.441 - ETA: 3:09 - loss: 4.2189 - acc: 0.440 - ETA: 3:08 - loss: 4.2148 - acc: 0.441 - ETA: 3:07 - loss: 4.2097 - acc: 0.442 - ETA: 3:06 - loss: 4.2046 - acc: 0.442 - ETA: 3:05 - loss: 4.2050 - acc: 0.441 - ETA: 3:04 - loss: 4.2023 - acc: 0.442 - ETA: 3:02 - loss: 4.1974 - acc: 0.442 - ETA: 3:01 - loss: 4.2019 - acc: 0.440 - ETA: 3:00 - loss: 4.2005 - acc: 0.440 - ETA: 2:59 - loss: 4.2047 - acc: 0.440 - ETA: 2:58 - loss: 4.2054 - acc: 0.440 - ETA: 2:57 - loss: 4.2071 - acc: 0.439 - ETA: 2:56 - loss: 4.2042 - acc: 0.441 - ETA: 2:55 - loss: 4.2090 - acc: 0.441 - ETA: 2:53 - loss: 4.2089 - acc: 0.441 - ETA: 2:52 - loss: 4.2032 - acc: 0.442 - ETA: 2:51 - loss: 4.2041 - acc: 0.442 - ETA: 2:50 - loss: 4.2044 - acc: 0.442 - ETA: 2:49 - loss: 4.2049 - acc: 0.442 - ETA: 2:48 - loss: 4.2037 - acc: 0.442 - ETA: 2:47 - loss: 4.2036 - acc: 0.442 - ETA: 2:45 - loss: 4.2087 - acc: 0.441 - ETA: 2:44 - loss: 4.2084 - acc: 0.441 - ETA: 2:43 - loss: 4.2127 - acc: 0.441 - ETA: 2:42 - loss: 4.2095 - acc: 0.440 - ETA: 2:41 - loss: 4.2064 - acc: 0.440 - ETA: 2:40 - loss: 4.2112 - acc: 0.439 - ETA: 2:39 - loss: 4.2156 - acc: 0.439 - ETA: 2:38 - loss: 4.2121 - acc: 0.440 - ETA: 2:37 - loss: 4.2054 - acc: 0.441 - ETA: 2:35 - loss: 4.1988 - acc: 0.442 - ETA: 2:34 - loss: 4.2003 - acc: 0.441 - ETA: 2:33 - loss: 4.1984 - acc: 0.441 - ETA: 2:32 - loss: 4.1979 - acc: 0.441 - ETA: 2:31 - loss: 4.1930 - acc: 0.442 - ETA: 2:30 - loss: 4.1943 - acc: 0.442 - ETA: 2:29 - loss: 4.1925 - acc: 0.442 - ETA: 2:28 - loss: 4.1909 - acc: 0.443 - ETA: 2:27 - loss: 4.1928 - acc: 0.442 - ETA: 2:26 - loss: 4.1998 - acc: 0.442 - ETA: 2:25 - loss: 4.2004 - acc: 0.442 - ETA: 2:23 - loss: 4.1982 - acc: 0.442 - ETA: 2:22 - loss: 4.2013 - acc: 0.441 - ETA: 2:21 - loss: 4.1967 - acc: 0.442 - ETA: 2:20 - loss: 4.1979 - acc: 0.442 - ETA: 2:19 - loss: 4.2002 - acc: 0.441 - ETA: 2:18 - loss: 4.2033 - acc: 0.441 - ETA: 2:17 - loss: 4.2015 - acc: 0.441 - ETA: 2:16 - loss: 4.2019 - acc: 0.441 - ETA: 2:15 - loss: 4.2003 - acc: 0.442 - ETA: 2:14 - loss: 4.1983 - acc: 0.442 - ETA: 2:13 - loss: 4.2012 - acc: 0.442 - ETA: 2:12 - loss: 4.1961 - acc: 0.443 - ETA: 2:10 - loss: 4.1946 - acc: 0.443 - ETA: 2:09 - loss: 4.1944 - acc: 0.443 - ETA: 2:08 - loss: 4.1962 - acc: 0.443 - ETA: 2:07 - loss: 4.2009 - acc: 0.442 - ETA: 2:06 - loss: 4.1986 - acc: 0.442 - ETA: 2:05 - loss: 4.1990 - acc: 0.442 - ETA: 2:04 - loss: 4.1979 - acc: 0.442 - ETA: 2:03 - loss: 4.1999 - acc: 0.442 - ETA: 2:02 - loss: 4.2031 - acc: 0.442 - ETA: 2:01 - loss: 4.2006 - acc: 0.443 - ETA: 1:59 - loss: 4.2039 - acc: 0.443 - ETA: 1:58 - loss: 4.2102 - acc: 0.443 - ETA: 1:57 - loss: 4.2101 - acc: 0.443 - ETA: 1:56 - loss: 4.2086 - acc: 0.443 - ETA: 1:55 - loss: 4.2088 - acc: 0.4433312/312 [==============================] - ETA: 1:54 - loss: 4.2117 - acc: 0.443 - ETA: 1:53 - loss: 4.2166 - acc: 0.443 - ETA: 1:52 - loss: 4.2167 - acc: 0.443 - ETA: 1:51 - loss: 4.2112 - acc: 0.444 - ETA: 1:50 - loss: 4.2125 - acc: 0.443 - ETA: 1:49 - loss: 4.2161 - acc: 0.443 - ETA: 1:48 - loss: 4.2220 - acc: 0.443 - ETA: 1:47 - loss: 4.2224 - acc: 0.443 - ETA: 1:46 - loss: 4.2217 - acc: 0.443 - ETA: 1:45 - loss: 4.2252 - acc: 0.443 - ETA: 1:44 - loss: 4.2336 - acc: 0.443 - ETA: 1:42 - loss: 4.2319 - acc: 0.443 - ETA: 1:41 - loss: 4.2374 - acc: 0.442 - ETA: 1:40 - loss: 4.2339 - acc: 0.442 - ETA: 1:39 - loss: 4.2395 - acc: 0.442 - ETA: 1:38 - loss: 4.2414 - acc: 0.442 - ETA: 1:37 - loss: 4.2380 - acc: 0.443 - ETA: 1:36 - loss: 4.2360 - acc: 0.443 - ETA: 1:35 - loss: 4.2402 - acc: 0.442 - ETA: 1:34 - loss: 4.2422 - acc: 0.442 - ETA: 1:33 - loss: 4.2407 - acc: 0.442 - ETA: 1:32 - loss: 4.2431 - acc: 0.441 - ETA: 1:30 - loss: 4.2431 - acc: 0.441 - ETA: 1:29 - loss: 4.2433 - acc: 0.441 - ETA: 1:28 - loss: 4.2407 - acc: 0.441 - ETA: 1:27 - loss: 4.2390 - acc: 0.442 - ETA: 1:26 - loss: 4.2378 - acc: 0.442 - ETA: 1:25 - loss: 4.2384 - acc: 0.442 - ETA: 1:24 - loss: 4.2352 - acc: 0.442 - ETA: 1:23 - loss: 4.2350 - acc: 0.441 - ETA: 1:22 - loss: 4.2318 - acc: 0.442 - ETA: 1:21 - loss: 4.2289 - acc: 0.442 - ETA: 1:20 - loss: 4.2279 - acc: 0.443 - ETA: 1:19 - loss: 4.2258 - acc: 0.443 - ETA: 1:17 - loss: 4.2269 - acc: 0.442 - ETA: 1:16 - loss: 4.2227 - acc: 0.443 - ETA: 1:15 - loss: 4.2221 - acc: 0.443 - ETA: 1:14 - loss: 4.2218 - acc: 0.443 - ETA: 1:13 - loss: 4.2192 - acc: 0.443 - ETA: 1:12 - loss: 4.2202 - acc: 0.443 - ETA: 1:11 - loss: 4.2226 - acc: 0.443 - ETA: 1:10 - loss: 4.2213 - acc: 0.443 - ETA: 1:09 - loss: 4.2178 - acc: 0.444 - ETA: 1:08 - loss: 4.2220 - acc: 0.443 - ETA: 1:07 - loss: 4.2213 - acc: 0.443 - ETA: 1:06 - loss: 4.2224 - acc: 0.442 - ETA: 1:05 - loss: 4.2231 - acc: 0.442 - ETA: 1:03 - loss: 4.2230 - acc: 0.442 - ETA: 1:02 - loss: 4.2229 - acc: 0.442 - ETA: 1:01 - loss: 4.2213 - acc: 0.442 - ETA: 1:00 - loss: 4.2190 - acc: 0.443 - ETA: 59s - loss: 4.2193 - acc: 0.444 - ETA: 58s - loss: 4.2186 - acc: 0.44 - ETA: 57s - loss: 4.2207 - acc: 0.44 - ETA: 56s - loss: 4.2173 - acc: 0.44 - ETA: 55s - loss: 4.2186 - acc: 0.44 - ETA: 54s - loss: 4.2181 - acc: 0.44 - ETA: 53s - loss: 4.2161 - acc: 0.44 - ETA: 52s - loss: 4.2184 - acc: 0.44 - ETA: 51s - loss: 4.2185 - acc: 0.44 - ETA: 49s - loss: 4.2162 - acc: 0.44 - ETA: 48s - loss: 4.2134 - acc: 0.44 - ETA: 47s - loss: 4.2103 - acc: 0.44 - ETA: 46s - loss: 4.2148 - acc: 0.44 - ETA: 45s - loss: 4.2141 - acc: 0.44 - ETA: 44s - loss: 4.2155 - acc: 0.44 - ETA: 43s - loss: 4.2142 - acc: 0.44 - ETA: 42s - loss: 4.2155 - acc: 0.44 - ETA: 41s - loss: 4.2159 - acc: 0.44 - ETA: 40s - loss: 4.2175 - acc: 0.44 - ETA: 39s - loss: 4.2168 - acc: 0.44 - ETA: 38s - loss: 4.2159 - acc: 0.44 - ETA: 37s - loss: 4.2170 - acc: 0.44 - ETA: 36s - loss: 4.2128 - acc: 0.44 - ETA: 34s - loss: 4.2103 - acc: 0.44 - ETA: 33s - loss: 4.2102 - acc: 0.44 - ETA: 32s - loss: 4.2061 - acc: 0.44 - ETA: 31s - loss: 4.2037 - acc: 0.44 - ETA: 30s - loss: 4.2007 - acc: 0.44 - ETA: 29s - loss: 4.1990 - acc: 0.44 - ETA: 28s - loss: 4.1969 - acc: 0.44 - ETA: 27s - loss: 4.1974 - acc: 0.44 - ETA: 26s - loss: 4.2003 - acc: 0.44 - ETA: 25s - loss: 4.2011 - acc: 0.44 - ETA: 24s - loss: 4.2024 - acc: 0.44 - ETA: 23s - loss: 4.2055 - acc: 0.44 - ETA: 22s - loss: 4.2044 - acc: 0.44 - ETA: 21s - loss: 4.2039 - acc: 0.44 - ETA: 20s - loss: 4.2044 - acc: 0.44 - ETA: 19s - loss: 4.2027 - acc: 0.44 - ETA: 17s - loss: 4.2036 - acc: 0.44 - ETA: 16s - loss: 4.2048 - acc: 0.44 - ETA: 15s - loss: 4.2069 - acc: 0.44 - ETA: 14s - loss: 4.2086 - acc: 0.44 - ETA: 13s - loss: 4.2115 - acc: 0.44 - ETA: 12s - loss: 4.2131 - acc: 0.44 - ETA: 11s - loss: 4.2111 - acc: 0.44 - ETA: 10s - loss: 4.2093 - acc: 0.44 - ETA: 9s - loss: 4.2091 - acc: 0.4451 - ETA: 8s - loss: 4.2110 - acc: 0.444 - ETA: 7s - loss: 4.2104 - acc: 0.444 - ETA: 6s - loss: 4.2091 - acc: 0.445 - ETA: 5s - loss: 4.2076 - acc: 0.445 - ETA: 4s - loss: 4.2052 - acc: 0.445 - ETA: 3s - loss: 4.2060 - acc: 0.444 - ETA: 2s - loss: 4.2087 - acc: 0.444 - ETA: 1s - loss: 4.2086 - acc: 0.444 - 329s 1s/step - loss: 4.2079 - acc: 0.4448\n",
            "Epoch 15 start at time  2019-08-04 12:52:02.470259\n"
          ],
          "name": "stdout"
        },
        {
          "output_type": "stream",
          "text": [
            "204/312 [==================>...........] - ETA: 6:25 - loss: 3.7982 - acc: 0.406 - ETA: 5:57 - loss: 3.6529 - acc: 0.453 - ETA: 5:44 - loss: 3.9764 - acc: 0.458 - ETA: 5:21 - loss: 4.0874 - acc: 0.429 - ETA: 5:10 - loss: 4.1936 - acc: 0.431 - ETA: 5:03 - loss: 4.2159 - acc: 0.453 - ETA: 5:00 - loss: 4.1005 - acc: 0.464 - ETA: 4:53 - loss: 4.0585 - acc: 0.468 - ETA: 4:48 - loss: 3.9489 - acc: 0.482 - ETA: 4:45 - loss: 3.9398 - acc: 0.478 - ETA: 4:40 - loss: 3.9024 - acc: 0.485 - ETA: 4:39 - loss: 3.9532 - acc: 0.481 - ETA: 4:37 - loss: 3.9581 - acc: 0.478 - ETA: 4:35 - loss: 3.9645 - acc: 0.475 - ETA: 4:34 - loss: 4.0089 - acc: 0.470 - ETA: 4:31 - loss: 4.0883 - acc: 0.466 - ETA: 4:29 - loss: 4.0708 - acc: 0.463 - ETA: 4:27 - loss: 4.0411 - acc: 0.465 - ETA: 4:25 - loss: 4.0164 - acc: 0.468 - ETA: 4:23 - loss: 3.9775 - acc: 0.475 - ETA: 4:21 - loss: 4.0345 - acc: 0.471 - ETA: 4:21 - loss: 4.0339 - acc: 0.468 - ETA: 4:20 - loss: 4.0613 - acc: 0.468 - ETA: 4:20 - loss: 4.0776 - acc: 0.470 - ETA: 4:19 - loss: 4.0942 - acc: 0.470 - ETA: 4:18 - loss: 4.0968 - acc: 0.471 - ETA: 4:16 - loss: 4.1028 - acc: 0.469 - ETA: 4:16 - loss: 4.1080 - acc: 0.469 - ETA: 4:14 - loss: 4.1302 - acc: 0.466 - ETA: 4:13 - loss: 4.0971 - acc: 0.472 - ETA: 4:12 - loss: 4.1025 - acc: 0.468 - ETA: 4:12 - loss: 4.1101 - acc: 0.467 - ETA: 4:11 - loss: 4.1164 - acc: 0.463 - ETA: 4:10 - loss: 4.0929 - acc: 0.463 - ETA: 4:08 - loss: 4.0891 - acc: 0.464 - ETA: 4:07 - loss: 4.0883 - acc: 0.463 - ETA: 4:06 - loss: 4.0644 - acc: 0.463 - ETA: 4:06 - loss: 4.0706 - acc: 0.462 - ETA: 4:05 - loss: 4.0896 - acc: 0.457 - ETA: 4:04 - loss: 4.0731 - acc: 0.460 - ETA: 4:03 - loss: 4.0599 - acc: 0.461 - ETA: 4:02 - loss: 4.0632 - acc: 0.459 - ETA: 4:02 - loss: 4.0641 - acc: 0.460 - ETA: 4:01 - loss: 4.0710 - acc: 0.459 - ETA: 4:00 - loss: 4.0696 - acc: 0.457 - ETA: 3:59 - loss: 4.0585 - acc: 0.457 - ETA: 3:58 - loss: 4.0578 - acc: 0.460 - ETA: 3:57 - loss: 4.0624 - acc: 0.458 - ETA: 3:56 - loss: 4.0574 - acc: 0.459 - ETA: 3:55 - loss: 4.0704 - acc: 0.458 - ETA: 3:54 - loss: 4.0590 - acc: 0.460 - ETA: 3:53 - loss: 4.0348 - acc: 0.461 - ETA: 3:52 - loss: 4.0391 - acc: 0.461 - ETA: 3:51 - loss: 4.0240 - acc: 0.462 - ETA: 3:50 - loss: 4.0090 - acc: 0.464 - ETA: 3:50 - loss: 3.9940 - acc: 0.465 - ETA: 3:49 - loss: 3.9884 - acc: 0.467 - ETA: 3:48 - loss: 3.9768 - acc: 0.467 - ETA: 3:47 - loss: 3.9857 - acc: 0.466 - ETA: 3:46 - loss: 3.9931 - acc: 0.467 - ETA: 3:45 - loss: 4.0221 - acc: 0.465 - ETA: 3:44 - loss: 4.0212 - acc: 0.466 - ETA: 3:43 - loss: 4.0093 - acc: 0.467 - ETA: 3:42 - loss: 4.0114 - acc: 0.466 - ETA: 3:41 - loss: 4.0105 - acc: 0.464 - ETA: 3:41 - loss: 4.0066 - acc: 0.462 - ETA: 3:39 - loss: 4.0175 - acc: 0.461 - ETA: 3:38 - loss: 4.0198 - acc: 0.460 - ETA: 3:37 - loss: 4.0283 - acc: 0.460 - ETA: 3:37 - loss: 4.0222 - acc: 0.459 - ETA: 3:36 - loss: 4.0282 - acc: 0.459 - ETA: 3:35 - loss: 4.0272 - acc: 0.459 - ETA: 3:34 - loss: 4.0184 - acc: 0.460 - ETA: 3:33 - loss: 4.0248 - acc: 0.459 - ETA: 3:32 - loss: 4.0275 - acc: 0.459 - ETA: 3:31 - loss: 4.0360 - acc: 0.459 - ETA: 3:30 - loss: 4.0583 - acc: 0.457 - ETA: 3:30 - loss: 4.0628 - acc: 0.457 - ETA: 3:29 - loss: 4.0566 - acc: 0.458 - ETA: 3:28 - loss: 4.0492 - acc: 0.458 - ETA: 3:27 - loss: 4.0441 - acc: 0.458 - ETA: 3:27 - loss: 4.0473 - acc: 0.457 - ETA: 3:26 - loss: 4.0437 - acc: 0.459 - ETA: 3:25 - loss: 4.0443 - acc: 0.457 - ETA: 3:25 - loss: 4.0408 - acc: 0.459 - ETA: 3:24 - loss: 4.0409 - acc: 0.459 - ETA: 3:23 - loss: 4.0467 - acc: 0.459 - ETA: 3:22 - loss: 4.0503 - acc: 0.460 - ETA: 3:22 - loss: 4.0465 - acc: 0.459 - ETA: 3:21 - loss: 4.0439 - acc: 0.459 - ETA: 3:20 - loss: 4.0448 - acc: 0.458 - ETA: 3:20 - loss: 4.0558 - acc: 0.458 - ETA: 3:19 - loss: 4.0568 - acc: 0.459 - ETA: 3:18 - loss: 4.0616 - acc: 0.458 - ETA: 3:17 - loss: 4.0612 - acc: 0.456 - ETA: 3:17 - loss: 4.0541 - acc: 0.457 - ETA: 3:16 - loss: 4.0636 - acc: 0.456 - ETA: 3:15 - loss: 4.0574 - acc: 0.457 - ETA: 3:14 - loss: 4.0588 - acc: 0.457 - ETA: 3:13 - loss: 4.0593 - acc: 0.458 - ETA: 3:13 - loss: 4.0620 - acc: 0.458 - ETA: 3:12 - loss: 4.0683 - acc: 0.457 - ETA: 3:11 - loss: 4.0703 - acc: 0.457 - ETA: 3:10 - loss: 4.0755 - acc: 0.457 - ETA: 3:10 - loss: 4.0706 - acc: 0.457 - ETA: 3:09 - loss: 4.0783 - acc: 0.457 - ETA: 3:08 - loss: 4.0789 - acc: 0.457 - ETA: 3:07 - loss: 4.0784 - acc: 0.456 - ETA: 3:06 - loss: 4.0785 - acc: 0.455 - ETA: 3:06 - loss: 4.0775 - acc: 0.454 - ETA: 3:05 - loss: 4.0725 - acc: 0.455 - ETA: 3:04 - loss: 4.0825 - acc: 0.454 - ETA: 3:04 - loss: 4.0851 - acc: 0.453 - ETA: 3:03 - loss: 4.0812 - acc: 0.454 - ETA: 3:02 - loss: 4.0805 - acc: 0.454 - ETA: 3:01 - loss: 4.0851 - acc: 0.453 - ETA: 3:00 - loss: 4.0907 - acc: 0.453 - ETA: 2:59 - loss: 4.0909 - acc: 0.452 - ETA: 2:58 - loss: 4.0883 - acc: 0.453 - ETA: 2:57 - loss: 4.0831 - acc: 0.454 - ETA: 2:56 - loss: 4.0805 - acc: 0.453 - ETA: 2:56 - loss: 4.0808 - acc: 0.453 - ETA: 2:55 - loss: 4.0768 - acc: 0.454 - ETA: 2:54 - loss: 4.0784 - acc: 0.453 - ETA: 2:53 - loss: 4.0771 - acc: 0.454 - ETA: 2:52 - loss: 4.0729 - acc: 0.455 - ETA: 2:51 - loss: 4.0764 - acc: 0.455 - ETA: 2:50 - loss: 4.0750 - acc: 0.455 - ETA: 2:49 - loss: 4.0843 - acc: 0.454 - ETA: 2:48 - loss: 4.0840 - acc: 0.454 - ETA: 2:47 - loss: 4.0933 - acc: 0.453 - ETA: 2:46 - loss: 4.0942 - acc: 0.452 - ETA: 2:46 - loss: 4.0919 - acc: 0.452 - ETA: 2:45 - loss: 4.0901 - acc: 0.453 - ETA: 2:44 - loss: 4.0972 - acc: 0.451 - ETA: 2:43 - loss: 4.0992 - acc: 0.451 - ETA: 2:42 - loss: 4.1035 - acc: 0.451 - ETA: 2:41 - loss: 4.0998 - acc: 0.451 - ETA: 2:41 - loss: 4.0946 - acc: 0.451 - ETA: 2:40 - loss: 4.0890 - acc: 0.452 - ETA: 2:39 - loss: 4.0900 - acc: 0.452 - ETA: 2:38 - loss: 4.0877 - acc: 0.452 - ETA: 2:37 - loss: 4.0823 - acc: 0.453 - ETA: 2:36 - loss: 4.0869 - acc: 0.452 - ETA: 2:35 - loss: 4.0861 - acc: 0.451 - ETA: 2:35 - loss: 4.0908 - acc: 0.451 - ETA: 2:34 - loss: 4.0911 - acc: 0.450 - ETA: 2:33 - loss: 4.0930 - acc: 0.450 - ETA: 2:32 - loss: 4.0895 - acc: 0.451 - ETA: 2:31 - loss: 4.0940 - acc: 0.451 - ETA: 2:30 - loss: 4.0942 - acc: 0.451 - ETA: 2:29 - loss: 4.0876 - acc: 0.451 - ETA: 2:28 - loss: 4.0881 - acc: 0.451 - ETA: 2:27 - loss: 4.0882 - acc: 0.451 - ETA: 2:26 - loss: 4.0891 - acc: 0.452 - ETA: 2:25 - loss: 4.0876 - acc: 0.451 - ETA: 2:24 - loss: 4.0874 - acc: 0.452 - ETA: 2:23 - loss: 4.0925 - acc: 0.451 - ETA: 2:22 - loss: 4.0918 - acc: 0.451 - ETA: 2:21 - loss: 4.0959 - acc: 0.451 - ETA: 2:20 - loss: 4.0928 - acc: 0.451 - ETA: 2:19 - loss: 4.0892 - acc: 0.451 - ETA: 2:19 - loss: 4.0945 - acc: 0.450 - ETA: 2:18 - loss: 4.0990 - acc: 0.450 - ETA: 2:17 - loss: 4.0958 - acc: 0.450 - ETA: 2:16 - loss: 4.0896 - acc: 0.451 - ETA: 2:15 - loss: 4.0838 - acc: 0.451 - ETA: 2:14 - loss: 4.0858 - acc: 0.451 - ETA: 2:13 - loss: 4.0838 - acc: 0.452 - ETA: 2:12 - loss: 4.0834 - acc: 0.452 - ETA: 2:12 - loss: 4.0787 - acc: 0.453 - ETA: 2:11 - loss: 4.0805 - acc: 0.453 - ETA: 2:10 - loss: 4.0792 - acc: 0.453 - ETA: 2:09 - loss: 4.0770 - acc: 0.453 - ETA: 2:08 - loss: 4.0789 - acc: 0.453 - ETA: 2:07 - loss: 4.0863 - acc: 0.452 - ETA: 2:06 - loss: 4.0862 - acc: 0.452 - ETA: 2:05 - loss: 4.0837 - acc: 0.452 - ETA: 2:05 - loss: 4.0866 - acc: 0.452 - ETA: 2:04 - loss: 4.0826 - acc: 0.452 - ETA: 2:03 - loss: 4.0841 - acc: 0.452 - ETA: 2:02 - loss: 4.0856 - acc: 0.452 - ETA: 2:01 - loss: 4.0889 - acc: 0.451 - ETA: 2:00 - loss: 4.0870 - acc: 0.452 - ETA: 1:59 - loss: 4.0872 - acc: 0.452 - ETA: 1:58 - loss: 4.0855 - acc: 0.453 - ETA: 1:57 - loss: 4.0836 - acc: 0.453 - ETA: 1:56 - loss: 4.0865 - acc: 0.453 - ETA: 1:55 - loss: 4.0815 - acc: 0.453 - ETA: 1:55 - loss: 4.0802 - acc: 0.454 - ETA: 1:54 - loss: 4.0803 - acc: 0.453 - ETA: 1:53 - loss: 4.0823 - acc: 0.454 - ETA: 1:52 - loss: 4.0870 - acc: 0.452 - ETA: 1:51 - loss: 4.0848 - acc: 0.452 - ETA: 1:50 - loss: 4.0847 - acc: 0.452 - ETA: 1:49 - loss: 4.0839 - acc: 0.452 - ETA: 1:48 - loss: 4.0857 - acc: 0.452 - ETA: 1:47 - loss: 4.0890 - acc: 0.452 - ETA: 1:46 - loss: 4.0867 - acc: 0.453 - ETA: 1:45 - loss: 4.0895 - acc: 0.453 - ETA: 1:44 - loss: 4.0958 - acc: 0.453 - ETA: 1:43 - loss: 4.0963 - acc: 0.453 - ETA: 1:42 - loss: 4.0944 - acc: 0.454 - ETA: 1:41 - loss: 4.0951 - acc: 0.4537"
          ],
          "name": "stdout"
        },
        {
          "output_type": "stream",
          "text": [
            "312/312 [==============================] - ETA: 1:40 - loss: 4.0979 - acc: 0.453 - ETA: 1:40 - loss: 4.1026 - acc: 0.453 - ETA: 1:39 - loss: 4.1031 - acc: 0.453 - ETA: 1:38 - loss: 4.0975 - acc: 0.454 - ETA: 1:37 - loss: 4.0981 - acc: 0.453 - ETA: 1:36 - loss: 4.1015 - acc: 0.453 - ETA: 1:35 - loss: 4.1075 - acc: 0.453 - ETA: 1:34 - loss: 4.1078 - acc: 0.453 - ETA: 1:33 - loss: 4.1074 - acc: 0.453 - ETA: 1:32 - loss: 4.1108 - acc: 0.453 - ETA: 1:31 - loss: 4.1191 - acc: 0.452 - ETA: 1:30 - loss: 4.1170 - acc: 0.452 - ETA: 1:29 - loss: 4.1224 - acc: 0.451 - ETA: 1:28 - loss: 4.1192 - acc: 0.451 - ETA: 1:27 - loss: 4.1248 - acc: 0.451 - ETA: 1:26 - loss: 4.1264 - acc: 0.451 - ETA: 1:25 - loss: 4.1232 - acc: 0.452 - ETA: 1:24 - loss: 4.1218 - acc: 0.452 - ETA: 1:23 - loss: 4.1257 - acc: 0.451 - ETA: 1:22 - loss: 4.1273 - acc: 0.451 - ETA: 1:21 - loss: 4.1259 - acc: 0.451 - ETA: 1:21 - loss: 4.1285 - acc: 0.451 - ETA: 1:20 - loss: 4.1282 - acc: 0.451 - ETA: 1:19 - loss: 4.1284 - acc: 0.450 - ETA: 1:18 - loss: 4.1258 - acc: 0.450 - ETA: 1:17 - loss: 4.1242 - acc: 0.451 - ETA: 1:16 - loss: 4.1235 - acc: 0.451 - ETA: 1:15 - loss: 4.1241 - acc: 0.451 - ETA: 1:14 - loss: 4.1210 - acc: 0.452 - ETA: 1:13 - loss: 4.1210 - acc: 0.451 - ETA: 1:12 - loss: 4.1182 - acc: 0.452 - ETA: 1:11 - loss: 4.1151 - acc: 0.453 - ETA: 1:10 - loss: 4.1142 - acc: 0.453 - ETA: 1:09 - loss: 4.1120 - acc: 0.453 - ETA: 1:08 - loss: 4.1129 - acc: 0.453 - ETA: 1:07 - loss: 4.1091 - acc: 0.454 - ETA: 1:07 - loss: 4.1088 - acc: 0.454 - ETA: 1:06 - loss: 4.1083 - acc: 0.454 - ETA: 1:05 - loss: 4.1057 - acc: 0.454 - ETA: 1:04 - loss: 4.1074 - acc: 0.454 - ETA: 1:03 - loss: 4.1096 - acc: 0.453 - ETA: 1:02 - loss: 4.1089 - acc: 0.453 - ETA: 1:01 - loss: 4.1053 - acc: 0.454 - ETA: 1:00 - loss: 4.1097 - acc: 0.453 - ETA: 59s - loss: 4.1089 - acc: 0.453 - ETA: 58s - loss: 4.1099 - acc: 0.45 - ETA: 57s - loss: 4.1103 - acc: 0.45 - ETA: 56s - loss: 4.1103 - acc: 0.45 - ETA: 55s - loss: 4.1101 - acc: 0.45 - ETA: 54s - loss: 4.1086 - acc: 0.45 - ETA: 53s - loss: 4.1063 - acc: 0.45 - ETA: 52s - loss: 4.1069 - acc: 0.45 - ETA: 51s - loss: 4.1065 - acc: 0.45 - ETA: 50s - loss: 4.1088 - acc: 0.45 - ETA: 49s - loss: 4.1051 - acc: 0.45 - ETA: 49s - loss: 4.1067 - acc: 0.45 - ETA: 48s - loss: 4.1065 - acc: 0.45 - ETA: 47s - loss: 4.1046 - acc: 0.45 - ETA: 46s - loss: 4.1065 - acc: 0.45 - ETA: 45s - loss: 4.1063 - acc: 0.45 - ETA: 44s - loss: 4.1041 - acc: 0.45 - ETA: 43s - loss: 4.1011 - acc: 0.45 - ETA: 42s - loss: 4.0981 - acc: 0.45 - ETA: 41s - loss: 4.1023 - acc: 0.45 - ETA: 40s - loss: 4.1018 - acc: 0.45 - ETA: 39s - loss: 4.1033 - acc: 0.45 - ETA: 38s - loss: 4.1021 - acc: 0.45 - ETA: 37s - loss: 4.1031 - acc: 0.45 - ETA: 36s - loss: 4.1038 - acc: 0.45 - ETA: 36s - loss: 4.1052 - acc: 0.45 - ETA: 35s - loss: 4.1044 - acc: 0.45 - ETA: 34s - loss: 4.1033 - acc: 0.45 - ETA: 33s - loss: 4.1046 - acc: 0.45 - ETA: 32s - loss: 4.1008 - acc: 0.45 - ETA: 31s - loss: 4.0980 - acc: 0.45 - ETA: 30s - loss: 4.0978 - acc: 0.45 - ETA: 29s - loss: 4.0938 - acc: 0.45 - ETA: 28s - loss: 4.0917 - acc: 0.45 - ETA: 27s - loss: 4.0887 - acc: 0.45 - ETA: 26s - loss: 4.0872 - acc: 0.45 - ETA: 25s - loss: 4.0852 - acc: 0.45 - ETA: 24s - loss: 4.0853 - acc: 0.45 - ETA: 23s - loss: 4.0883 - acc: 0.45 - ETA: 22s - loss: 4.0889 - acc: 0.45 - ETA: 21s - loss: 4.0900 - acc: 0.45 - ETA: 20s - loss: 4.0924 - acc: 0.45 - ETA: 19s - loss: 4.0914 - acc: 0.45 - ETA: 19s - loss: 4.0911 - acc: 0.45 - ETA: 18s - loss: 4.0916 - acc: 0.45 - ETA: 17s - loss: 4.0900 - acc: 0.45 - ETA: 16s - loss: 4.0909 - acc: 0.45 - ETA: 15s - loss: 4.0919 - acc: 0.45 - ETA: 14s - loss: 4.0936 - acc: 0.45 - ETA: 13s - loss: 4.0950 - acc: 0.45 - ETA: 12s - loss: 4.0976 - acc: 0.45 - ETA: 11s - loss: 4.0994 - acc: 0.45 - ETA: 10s - loss: 4.0976 - acc: 0.45 - ETA: 9s - loss: 4.0961 - acc: 0.4548 - ETA: 8s - loss: 4.0960 - acc: 0.454 - ETA: 7s - loss: 4.0974 - acc: 0.454 - ETA: 6s - loss: 4.0971 - acc: 0.454 - ETA: 5s - loss: 4.0956 - acc: 0.455 - ETA: 4s - loss: 4.0945 - acc: 0.455 - ETA: 3s - loss: 4.0919 - acc: 0.455 - ETA: 2s - loss: 4.0926 - acc: 0.454 - ETA: 1s - loss: 4.0953 - acc: 0.454 - ETA: 0s - loss: 4.0953 - acc: 0.454 - 298s 955ms/step - loss: 4.0945 - acc: 0.4549\n",
            "Epoch 16 start at time  2019-08-04 13:44:30.796746\n",
            "204/312 [==================>...........] - ETA: 5:11 - loss: 3.7437 - acc: 0.531 - ETA: 5:10 - loss: 3.6109 - acc: 0.500 - ETA: 5:07 - loss: 3.8986 - acc: 0.468 - ETA: 5:09 - loss: 4.0377 - acc: 0.445 - ETA: 5:04 - loss: 4.1367 - acc: 0.437 - ETA: 5:07 - loss: 4.1621 - acc: 0.458 - ETA: 5:09 - loss: 4.0543 - acc: 0.459 - ETA: 5:06 - loss: 3.9992 - acc: 0.464 - ETA: 5:02 - loss: 3.8809 - acc: 0.479 - ETA: 5:00 - loss: 3.8676 - acc: 0.475 - ETA: 4:58 - loss: 3.8291 - acc: 0.485 - ETA: 4:55 - loss: 3.8685 - acc: 0.487 - ETA: 4:53 - loss: 3.8665 - acc: 0.485 - ETA: 4:52 - loss: 3.8676 - acc: 0.486 - ETA: 4:54 - loss: 3.9130 - acc: 0.479 - ETA: 4:52 - loss: 3.9960 - acc: 0.472 - ETA: 4:50 - loss: 3.9709 - acc: 0.468 - ETA: 4:48 - loss: 3.9406 - acc: 0.470 - ETA: 4:47 - loss: 3.9151 - acc: 0.473 - ETA: 4:47 - loss: 3.8820 - acc: 0.481 - ETA: 4:45 - loss: 3.9422 - acc: 0.476 - ETA: 4:43 - loss: 3.9452 - acc: 0.471 - ETA: 4:42 - loss: 3.9661 - acc: 0.472 - ETA: 4:41 - loss: 3.9794 - acc: 0.477 - ETA: 4:42 - loss: 4.0009 - acc: 0.477 - ETA: 4:41 - loss: 3.9964 - acc: 0.479 - ETA: 4:40 - loss: 4.0032 - acc: 0.476 - ETA: 4:39 - loss: 4.0078 - acc: 0.476 - ETA: 4:39 - loss: 4.0333 - acc: 0.474 - ETA: 4:38 - loss: 4.0002 - acc: 0.480 - ETA: 4:36 - loss: 4.0027 - acc: 0.479 - ETA: 4:35 - loss: 4.0097 - acc: 0.477 - ETA: 4:34 - loss: 4.0133 - acc: 0.474 - ETA: 4:33 - loss: 3.9915 - acc: 0.474 - ETA: 4:33 - loss: 3.9894 - acc: 0.475 - ETA: 4:33 - loss: 3.9862 - acc: 0.474 - ETA: 4:32 - loss: 3.9650 - acc: 0.476 - ETA: 4:31 - loss: 3.9690 - acc: 0.473 - ETA: 4:30 - loss: 3.9914 - acc: 0.467 - ETA: 4:29 - loss: 3.9748 - acc: 0.471 - ETA: 4:28 - loss: 3.9599 - acc: 0.474 - ETA: 4:27 - loss: 3.9617 - acc: 0.471 - ETA: 4:26 - loss: 3.9629 - acc: 0.470 - ETA: 4:26 - loss: 3.9691 - acc: 0.470 - ETA: 4:25 - loss: 3.9649 - acc: 0.469 - ETA: 4:24 - loss: 3.9528 - acc: 0.470 - ETA: 4:24 - loss: 3.9542 - acc: 0.471 - ETA: 4:23 - loss: 3.9580 - acc: 0.470 - ETA: 4:21 - loss: 3.9531 - acc: 0.472 - ETA: 4:20 - loss: 3.9667 - acc: 0.468 - ETA: 4:19 - loss: 3.9535 - acc: 0.470 - ETA: 4:18 - loss: 3.9286 - acc: 0.474 - ETA: 4:18 - loss: 3.9340 - acc: 0.473 - ETA: 4:17 - loss: 3.9205 - acc: 0.474 - ETA: 4:15 - loss: 3.9073 - acc: 0.475 - ETA: 4:14 - loss: 3.8943 - acc: 0.476 - ETA: 4:13 - loss: 3.8878 - acc: 0.478 - ETA: 4:12 - loss: 3.8780 - acc: 0.477 - ETA: 4:11 - loss: 3.8873 - acc: 0.477 - ETA: 4:10 - loss: 3.8933 - acc: 0.476 - ETA: 4:09 - loss: 3.9231 - acc: 0.474 - ETA: 4:08 - loss: 3.9234 - acc: 0.476 - ETA: 4:07 - loss: 3.9106 - acc: 0.478 - ETA: 4:06 - loss: 3.9109 - acc: 0.477 - ETA: 4:05 - loss: 3.9078 - acc: 0.475 - ETA: 4:04 - loss: 3.9049 - acc: 0.473 - ETA: 4:03 - loss: 3.9160 - acc: 0.472 - ETA: 4:02 - loss: 3.9191 - acc: 0.471 - ETA: 4:01 - loss: 3.9286 - acc: 0.471 - ETA: 4:00 - loss: 3.9247 - acc: 0.470 - ETA: 3:59 - loss: 3.9313 - acc: 0.470 - ETA: 3:58 - loss: 3.9322 - acc: 0.469 - ETA: 3:57 - loss: 3.9234 - acc: 0.470 - ETA: 3:56 - loss: 3.9310 - acc: 0.470 - ETA: 3:55 - loss: 3.9331 - acc: 0.470 - ETA: 3:54 - loss: 3.9433 - acc: 0.469 - ETA: 3:54 - loss: 3.9662 - acc: 0.467 - ETA: 3:53 - loss: 3.9716 - acc: 0.467 - ETA: 3:51 - loss: 3.9661 - acc: 0.468 - ETA: 3:50 - loss: 3.9615 - acc: 0.468 - ETA: 3:49 - loss: 3.9567 - acc: 0.468 - ETA: 3:48 - loss: 3.9622 - acc: 0.467 - ETA: 3:47 - loss: 3.9599 - acc: 0.468 - ETA: 3:46 - loss: 3.9606 - acc: 0.466 - ETA: 3:45 - loss: 3.9577 - acc: 0.468 - ETA: 3:44 - loss: 3.9583 - acc: 0.468 - ETA: 3:43 - loss: 3.9656 - acc: 0.468 - ETA: 3:42 - loss: 3.9690 - acc: 0.470 - ETA: 3:41 - loss: 3.9655 - acc: 0.469 - ETA: 3:40 - loss: 3.9618 - acc: 0.470 - ETA: 3:39 - loss: 3.9623 - acc: 0.468 - ETA: 3:38 - loss: 3.9730 - acc: 0.468 - ETA: 3:37 - loss: 3.9738 - acc: 0.468 - ETA: 3:36 - loss: 3.9775 - acc: 0.468 - ETA: 3:35 - loss: 3.9769 - acc: 0.467 - ETA: 3:35 - loss: 3.9698 - acc: 0.468 - ETA: 3:33 - loss: 3.9784 - acc: 0.466 - ETA: 3:32 - loss: 3.9728 - acc: 0.468 - ETA: 3:31 - loss: 3.9740 - acc: 0.467 - ETA: 3:30 - loss: 3.9754 - acc: 0.468 - ETA: 3:29 - loss: 3.9775 - acc: 0.468 - ETA: 3:28 - loss: 3.9826 - acc: 0.467 - ETA: 3:27 - loss: 3.9849 - acc: 0.468 - ETA: 3:26 - loss: 3.9910 - acc: 0.468 - ETA: 3:25 - loss: 3.9854 - acc: 0.467 - ETA: 3:24 - loss: 3.9928 - acc: 0.467 - ETA: 3:24 - loss: 3.9921 - acc: 0.467 - ETA: 3:23 - loss: 3.9906 - acc: 0.466 - ETA: 3:22 - loss: 3.9913 - acc: 0.465 - ETA: 3:21 - loss: 3.9897 - acc: 0.464 - ETA: 3:20 - loss: 3.9841 - acc: 0.465 - ETA: 3:19 - loss: 3.9943 - acc: 0.464 - ETA: 3:18 - loss: 3.9974 - acc: 0.464 - ETA: 3:17 - loss: 3.9942 - acc: 0.465 - ETA: 3:16 - loss: 3.9924 - acc: 0.464 - ETA: 3:15 - loss: 3.9980 - acc: 0.463 - ETA: 3:14 - loss: 4.0032 - acc: 0.462 - ETA: 3:13 - loss: 4.0029 - acc: 0.462 - ETA: 3:12 - loss: 4.0005 - acc: 0.464 - ETA: 3:11 - loss: 3.9964 - acc: 0.464 - ETA: 3:10 - loss: 3.9945 - acc: 0.463 - ETA: 3:09 - loss: 3.9954 - acc: 0.463 - ETA: 3:08 - loss: 3.9909 - acc: 0.463 - ETA: 3:07 - loss: 3.9921 - acc: 0.464 - ETA: 3:06 - loss: 3.9906 - acc: 0.464 - ETA: 3:05 - loss: 3.9871 - acc: 0.465 - ETA: 3:04 - loss: 3.9913 - acc: 0.465 - ETA: 3:03 - loss: 3.9894 - acc: 0.464 - ETA: 3:02 - loss: 3.9990 - acc: 0.463 - ETA: 3:01 - loss: 3.9978 - acc: 0.463 - ETA: 3:00 - loss: 4.0056 - acc: 0.462 - ETA: 2:59 - loss: 4.0067 - acc: 0.462 - ETA: 2:58 - loss: 4.0039 - acc: 0.462 - ETA: 2:57 - loss: 4.0020 - acc: 0.463 - ETA: 2:56 - loss: 4.0089 - acc: 0.462 - ETA: 2:55 - loss: 4.0104 - acc: 0.461 - ETA: 2:54 - loss: 4.0148 - acc: 0.461 - ETA: 2:53 - loss: 4.0108 - acc: 0.462 - ETA: 2:52 - loss: 4.0058 - acc: 0.462 - ETA: 2:51 - loss: 4.0005 - acc: 0.462 - ETA: 2:50 - loss: 4.0016 - acc: 0.462 - ETA: 2:49 - loss: 3.9988 - acc: 0.462 - ETA: 2:48 - loss: 3.9941 - acc: 0.462 - ETA: 2:47 - loss: 3.9995 - acc: 0.461 - ETA: 2:46 - loss: 3.9985 - acc: 0.460 - ETA: 2:45 - loss: 4.0032 - acc: 0.461 - ETA: 2:44 - loss: 4.0035 - acc: 0.460 - ETA: 2:43 - loss: 4.0046 - acc: 0.460 - ETA: 2:42 - loss: 4.0016 - acc: 0.461 - ETA: 2:41 - loss: 4.0064 - acc: 0.461 - ETA: 2:40 - loss: 4.0075 - acc: 0.461 - ETA: 2:39 - loss: 4.0015 - acc: 0.461 - ETA: 2:38 - loss: 4.0030 - acc: 0.461 - ETA: 2:37 - loss: 4.0033 - acc: 0.461 - ETA: 2:36 - loss: 4.0045 - acc: 0.461 - ETA: 2:35 - loss: 4.0024 - acc: 0.461 - ETA: 2:34 - loss: 4.0028 - acc: 0.461 - ETA: 2:33 - loss: 4.0074 - acc: 0.461 - ETA: 2:32 - loss: 4.0071 - acc: 0.461 - ETA: 2:31 - loss: 4.0110 - acc: 0.461 - ETA: 2:30 - loss: 4.0079 - acc: 0.461 - ETA: 2:29 - loss: 4.0050 - acc: 0.461 - ETA: 2:28 - loss: 4.0100 - acc: 0.460 - ETA: 2:27 - loss: 4.0146 - acc: 0.460 - ETA: 2:26 - loss: 4.0106 - acc: 0.461 - ETA: 2:25 - loss: 4.0045 - acc: 0.461 - ETA: 2:24 - loss: 3.9980 - acc: 0.462 - ETA: 2:23 - loss: 3.9995 - acc: 0.461 - ETA: 2:22 - loss: 3.9983 - acc: 0.462 - ETA: 2:21 - loss: 3.9973 - acc: 0.461 - ETA: 2:20 - loss: 3.9930 - acc: 0.462 - ETA: 2:19 - loss: 3.9947 - acc: 0.462 - ETA: 2:18 - loss: 3.9946 - acc: 0.461 - ETA: 2:17 - loss: 3.9926 - acc: 0.462 - ETA: 2:16 - loss: 3.9946 - acc: 0.462 - ETA: 2:15 - loss: 4.0018 - acc: 0.461 - ETA: 2:14 - loss: 4.0015 - acc: 0.461 - ETA: 2:13 - loss: 3.9999 - acc: 0.461 - ETA: 2:12 - loss: 4.0026 - acc: 0.460 - ETA: 2:11 - loss: 3.9982 - acc: 0.460 - ETA: 2:10 - loss: 3.9998 - acc: 0.460 - ETA: 2:09 - loss: 4.0011 - acc: 0.460 - ETA: 2:08 - loss: 4.0048 - acc: 0.459 - ETA: 2:07 - loss: 4.0034 - acc: 0.459 - ETA: 2:06 - loss: 4.0043 - acc: 0.460 - ETA: 2:05 - loss: 4.0032 - acc: 0.460 - ETA: 2:04 - loss: 4.0004 - acc: 0.460 - ETA: 2:03 - loss: 4.0032 - acc: 0.460 - ETA: 2:02 - loss: 3.9979 - acc: 0.461 - ETA: 2:01 - loss: 3.9967 - acc: 0.461 - ETA: 2:00 - loss: 3.9970 - acc: 0.461 - ETA: 1:59 - loss: 3.9990 - acc: 0.461 - ETA: 1:58 - loss: 4.0034 - acc: 0.459 - ETA: 1:57 - loss: 4.0015 - acc: 0.459 - ETA: 1:56 - loss: 4.0013 - acc: 0.459 - ETA: 1:55 - loss: 4.0004 - acc: 0.459 - ETA: 1:54 - loss: 4.0016 - acc: 0.459 - ETA: 1:53 - loss: 4.0048 - acc: 0.459 - ETA: 1:52 - loss: 4.0020 - acc: 0.460 - ETA: 1:51 - loss: 4.0050 - acc: 0.460 - ETA: 1:50 - loss: 4.0115 - acc: 0.460 - ETA: 1:49 - loss: 4.0107 - acc: 0.460 - ETA: 1:48 - loss: 4.0092 - acc: 0.460 - ETA: 1:47 - loss: 4.0098 - acc: 0.4602312/312 [==============================] - ETA: 1:46 - loss: 4.0125 - acc: 0.460 - ETA: 1:45 - loss: 4.0173 - acc: 0.460 - ETA: 1:44 - loss: 4.0185 - acc: 0.460 - ETA: 1:43 - loss: 4.0132 - acc: 0.460 - ETA: 1:42 - loss: 4.0136 - acc: 0.460 - ETA: 1:41 - loss: 4.0172 - acc: 0.460 - ETA: 1:40 - loss: 4.0231 - acc: 0.460 - ETA: 1:39 - loss: 4.0232 - acc: 0.460 - ETA: 1:38 - loss: 4.0225 - acc: 0.460 - ETA: 1:37 - loss: 4.0256 - acc: 0.460 - ETA: 1:36 - loss: 4.0340 - acc: 0.459 - ETA: 1:35 - loss: 4.0323 - acc: 0.459 - ETA: 1:34 - loss: 4.0380 - acc: 0.459 - ETA: 1:33 - loss: 4.0347 - acc: 0.459 - ETA: 1:32 - loss: 4.0403 - acc: 0.458 - ETA: 1:31 - loss: 4.0420 - acc: 0.458 - ETA: 1:30 - loss: 4.0392 - acc: 0.459 - ETA: 1:29 - loss: 4.0374 - acc: 0.459 - ETA: 1:28 - loss: 4.0411 - acc: 0.459 - ETA: 1:27 - loss: 4.0425 - acc: 0.459 - ETA: 1:26 - loss: 4.0406 - acc: 0.458 - ETA: 1:25 - loss: 4.0426 - acc: 0.458 - ETA: 1:24 - loss: 4.0425 - acc: 0.459 - ETA: 1:23 - loss: 4.0424 - acc: 0.458 - ETA: 1:22 - loss: 4.0401 - acc: 0.458 - ETA: 1:21 - loss: 4.0381 - acc: 0.459 - ETA: 1:20 - loss: 4.0375 - acc: 0.459 - ETA: 1:19 - loss: 4.0384 - acc: 0.458 - ETA: 1:18 - loss: 4.0352 - acc: 0.459 - ETA: 1:17 - loss: 4.0354 - acc: 0.458 - ETA: 1:16 - loss: 4.0325 - acc: 0.459 - ETA: 1:15 - loss: 4.0295 - acc: 0.459 - ETA: 1:14 - loss: 4.0285 - acc: 0.460 - ETA: 1:13 - loss: 4.0262 - acc: 0.460 - ETA: 1:12 - loss: 4.0278 - acc: 0.460 - ETA: 1:11 - loss: 4.0236 - acc: 0.461 - ETA: 1:10 - loss: 4.0227 - acc: 0.461 - ETA: 1:09 - loss: 4.0218 - acc: 0.461 - ETA: 1:08 - loss: 4.0193 - acc: 0.461 - ETA: 1:07 - loss: 4.0208 - acc: 0.460 - ETA: 1:06 - loss: 4.0232 - acc: 0.460 - ETA: 1:05 - loss: 4.0221 - acc: 0.461 - ETA: 1:04 - loss: 4.0190 - acc: 0.461 - ETA: 1:03 - loss: 4.0235 - acc: 0.460 - ETA: 1:02 - loss: 4.0226 - acc: 0.460 - ETA: 1:01 - loss: 4.0236 - acc: 0.459 - ETA: 1:00 - loss: 4.0239 - acc: 0.459 - ETA: 59s - loss: 4.0242 - acc: 0.459 - ETA: 58s - loss: 4.0238 - acc: 0.46 - ETA: 57s - loss: 4.0222 - acc: 0.46 - ETA: 56s - loss: 4.0200 - acc: 0.46 - ETA: 55s - loss: 4.0206 - acc: 0.46 - ETA: 54s - loss: 4.0201 - acc: 0.46 - ETA: 53s - loss: 4.0223 - acc: 0.46 - ETA: 52s - loss: 4.0187 - acc: 0.46 - ETA: 51s - loss: 4.0203 - acc: 0.46 - ETA: 50s - loss: 4.0199 - acc: 0.46 - ETA: 49s - loss: 4.0180 - acc: 0.46 - ETA: 48s - loss: 4.0197 - acc: 0.46 - ETA: 47s - loss: 4.0196 - acc: 0.46 - ETA: 46s - loss: 4.0172 - acc: 0.46 - ETA: 45s - loss: 4.0144 - acc: 0.46 - ETA: 44s - loss: 4.0117 - acc: 0.46 - ETA: 43s - loss: 4.0162 - acc: 0.46 - ETA: 42s - loss: 4.0158 - acc: 0.46 - ETA: 41s - loss: 4.0174 - acc: 0.46 - ETA: 40s - loss: 4.0161 - acc: 0.46 - ETA: 39s - loss: 4.0176 - acc: 0.46 - ETA: 38s - loss: 4.0180 - acc: 0.46 - ETA: 37s - loss: 4.0193 - acc: 0.46 - ETA: 36s - loss: 4.0185 - acc: 0.46 - ETA: 35s - loss: 4.0171 - acc: 0.46 - ETA: 34s - loss: 4.0183 - acc: 0.46 - ETA: 33s - loss: 4.0142 - acc: 0.46 - ETA: 32s - loss: 4.0114 - acc: 0.46 - ETA: 31s - loss: 4.0113 - acc: 0.46 - ETA: 30s - loss: 4.0070 - acc: 0.46 - ETA: 29s - loss: 4.0049 - acc: 0.46 - ETA: 28s - loss: 4.0016 - acc: 0.46 - ETA: 27s - loss: 4.0004 - acc: 0.46 - ETA: 26s - loss: 3.9983 - acc: 0.46 - ETA: 25s - loss: 3.9981 - acc: 0.46 - ETA: 24s - loss: 4.0012 - acc: 0.46 - ETA: 23s - loss: 4.0016 - acc: 0.46 - ETA: 22s - loss: 4.0026 - acc: 0.46 - ETA: 21s - loss: 4.0054 - acc: 0.46 - ETA: 20s - loss: 4.0047 - acc: 0.46 - ETA: 19s - loss: 4.0045 - acc: 0.46 - ETA: 18s - loss: 4.0047 - acc: 0.46 - ETA: 17s - loss: 4.0029 - acc: 0.46 - ETA: 16s - loss: 4.0033 - acc: 0.46 - ETA: 15s - loss: 4.0043 - acc: 0.46 - ETA: 14s - loss: 4.0065 - acc: 0.46 - ETA: 13s - loss: 4.0075 - acc: 0.46 - ETA: 12s - loss: 4.0102 - acc: 0.46 - ETA: 11s - loss: 4.0118 - acc: 0.46 - ETA: 10s - loss: 4.0099 - acc: 0.46 - ETA: 9s - loss: 4.0082 - acc: 0.4638 - ETA: 8s - loss: 4.0082 - acc: 0.463 - ETA: 7s - loss: 4.0099 - acc: 0.463 - ETA: 6s - loss: 4.0092 - acc: 0.463 - ETA: 5s - loss: 4.0080 - acc: 0.463 - ETA: 4s - loss: 4.0065 - acc: 0.463 - ETA: 3s - loss: 4.0038 - acc: 0.463 - ETA: 2s - loss: 4.0046 - acc: 0.463 - ETA: 1s - loss: 4.0071 - acc: 0.463 - ETA: 0s - loss: 4.0068 - acc: 0.463 - 312s 1000ms/step - loss: 4.0059 - acc: 0.4639\n",
            "Epoch 17 start at time  2019-08-04 14:37:38.830766\n"
          ],
          "name": "stdout"
        },
        {
          "output_type": "error",
          "ename": "KeyboardInterrupt",
          "evalue": "",
          "traceback": [
            "\u001b[1;31m---------------------------------------------------------------------------\u001b[0m",
            "\u001b[1;31mKeyboardInterrupt\u001b[0m                         Traceback (most recent call last)",
            "\u001b[1;32m<ipython-input-189-b9f99572e944>\u001b[0m in \u001b[0;36m<module>\u001b[1;34m\u001b[0m\n\u001b[0;32m      3\u001b[0m     \u001b[0mgenerator\u001b[0m \u001b[1;33m=\u001b[0m \u001b[0mgenerator_function\u001b[0m\u001b[1;33m(\u001b[0m\u001b[0mtrain_length\u001b[0m\u001b[1;33m,\u001b[0m\u001b[0mbatch_size\u001b[0m\u001b[1;33m)\u001b[0m\u001b[1;33m\u001b[0m\u001b[1;33m\u001b[0m\u001b[0m\n\u001b[0;32m      4\u001b[0m     \u001b[0mcv_generator\u001b[0m \u001b[1;33m=\u001b[0m \u001b[0mgenerator_function\u001b[0m\u001b[1;33m(\u001b[0m\u001b[0mcv_length\u001b[0m\u001b[1;33m,\u001b[0m\u001b[1;36m32\u001b[0m\u001b[1;33m,\u001b[0m\u001b[1;34m\"cv\"\u001b[0m\u001b[1;33m)\u001b[0m\u001b[1;33m\u001b[0m\u001b[1;33m\u001b[0m\u001b[0m\n\u001b[1;32m----> 5\u001b[1;33m     \u001b[0mmodel\u001b[0m\u001b[1;33m.\u001b[0m\u001b[0mfit_generator\u001b[0m\u001b[1;33m(\u001b[0m\u001b[0mgenerator\u001b[0m\u001b[1;33m,\u001b[0m \u001b[0mepochs\u001b[0m\u001b[1;33m=\u001b[0m\u001b[1;36m1\u001b[0m\u001b[1;33m,\u001b[0m \u001b[0msteps_per_epoch\u001b[0m\u001b[1;33m=\u001b[0m\u001b[0mtrain_steps\u001b[0m\u001b[1;33m,\u001b[0m\u001b[0mverbose\u001b[0m\u001b[1;33m=\u001b[0m\u001b[1;36m0\u001b[0m\u001b[1;33m,\u001b[0m\u001b[0mcallbacks\u001b[0m\u001b[1;33m=\u001b[0m\u001b[1;33m[\u001b[0m\u001b[0mtensorboard\u001b[0m\u001b[1;33m]\u001b[0m\u001b[1;33m,\u001b[0m\u001b[0mvalidation_data\u001b[0m\u001b[1;33m=\u001b[0m\u001b[0mcv_generator\u001b[0m\u001b[1;33m,\u001b[0m\u001b[0mvalidation_steps\u001b[0m\u001b[1;33m=\u001b[0m\u001b[0mcv_steps\u001b[0m\u001b[1;33m)\u001b[0m\u001b[1;33m\u001b[0m\u001b[1;33m\u001b[0m\u001b[0m\n\u001b[0m\u001b[0;32m      6\u001b[0m     \u001b[0mmodel\u001b[0m\u001b[1;33m.\u001b[0m\u001b[0msave_weights\u001b[0m\u001b[1;33m(\u001b[0m\u001b[1;34m\"model_epoch_{}.h5\"\u001b[0m\u001b[1;33m.\u001b[0m\u001b[0mformat\u001b[0m\u001b[1;33m(\u001b[0m\u001b[0mi\u001b[0m\u001b[1;33m)\u001b[0m\u001b[1;33m)\u001b[0m\u001b[1;33m\u001b[0m\u001b[1;33m\u001b[0m\u001b[0m\n",
            "\u001b[1;32m~\\AppData\\Local\\Continuum\\anaconda3\\lib\\site-packages\\tensorflow\\python\\keras\\engine\\training.py\u001b[0m in \u001b[0;36mfit_generator\u001b[1;34m(self, generator, steps_per_epoch, epochs, verbose, callbacks, validation_data, validation_steps, class_weight, max_queue_size, workers, use_multiprocessing, shuffle, initial_epoch)\u001b[0m\n\u001b[0;32m   1424\u001b[0m         \u001b[0muse_multiprocessing\u001b[0m\u001b[1;33m=\u001b[0m\u001b[0muse_multiprocessing\u001b[0m\u001b[1;33m,\u001b[0m\u001b[1;33m\u001b[0m\u001b[1;33m\u001b[0m\u001b[0m\n\u001b[0;32m   1425\u001b[0m         \u001b[0mshuffle\u001b[0m\u001b[1;33m=\u001b[0m\u001b[0mshuffle\u001b[0m\u001b[1;33m,\u001b[0m\u001b[1;33m\u001b[0m\u001b[1;33m\u001b[0m\u001b[0m\n\u001b[1;32m-> 1426\u001b[1;33m         initial_epoch=initial_epoch)\n\u001b[0m\u001b[0;32m   1427\u001b[0m \u001b[1;33m\u001b[0m\u001b[0m\n\u001b[0;32m   1428\u001b[0m   def evaluate_generator(self,\n",
            "\u001b[1;32m~\\AppData\\Local\\Continuum\\anaconda3\\lib\\site-packages\\tensorflow\\python\\keras\\engine\\training_generator.py\u001b[0m in \u001b[0;36mmodel_iteration\u001b[1;34m(model, data, steps_per_epoch, epochs, verbose, callbacks, validation_data, validation_steps, class_weight, max_queue_size, workers, use_multiprocessing, shuffle, initial_epoch, mode, batch_size, **kwargs)\u001b[0m\n\u001b[0;32m    189\u001b[0m       \u001b[0mprogbar\u001b[0m\u001b[1;33m.\u001b[0m\u001b[0mon_batch_begin\u001b[0m\u001b[1;33m(\u001b[0m\u001b[0mstep\u001b[0m\u001b[1;33m,\u001b[0m \u001b[0mbatch_logs\u001b[0m\u001b[1;33m)\u001b[0m\u001b[1;33m\u001b[0m\u001b[1;33m\u001b[0m\u001b[0m\n\u001b[0;32m    190\u001b[0m \u001b[1;33m\u001b[0m\u001b[0m\n\u001b[1;32m--> 191\u001b[1;33m       \u001b[0mbatch_outs\u001b[0m \u001b[1;33m=\u001b[0m \u001b[0mbatch_function\u001b[0m\u001b[1;33m(\u001b[0m\u001b[1;33m*\u001b[0m\u001b[0mbatch_data\u001b[0m\u001b[1;33m)\u001b[0m\u001b[1;33m\u001b[0m\u001b[1;33m\u001b[0m\u001b[0m\n\u001b[0m\u001b[0;32m    192\u001b[0m       \u001b[1;32mif\u001b[0m \u001b[1;32mnot\u001b[0m \u001b[0misinstance\u001b[0m\u001b[1;33m(\u001b[0m\u001b[0mbatch_outs\u001b[0m\u001b[1;33m,\u001b[0m \u001b[0mlist\u001b[0m\u001b[1;33m)\u001b[0m\u001b[1;33m:\u001b[0m\u001b[1;33m\u001b[0m\u001b[1;33m\u001b[0m\u001b[0m\n\u001b[0;32m    193\u001b[0m         \u001b[0mbatch_outs\u001b[0m \u001b[1;33m=\u001b[0m \u001b[1;33m[\u001b[0m\u001b[0mbatch_outs\u001b[0m\u001b[1;33m]\u001b[0m\u001b[1;33m\u001b[0m\u001b[1;33m\u001b[0m\u001b[0m\n",
            "\u001b[1;32m~\\AppData\\Local\\Continuum\\anaconda3\\lib\\site-packages\\tensorflow\\python\\keras\\engine\\training.py\u001b[0m in \u001b[0;36mtrain_on_batch\u001b[1;34m(self, x, y, sample_weight, class_weight, reset_metrics)\u001b[0m\n\u001b[0;32m   1189\u001b[0m       \u001b[1;32melse\u001b[0m\u001b[1;33m:\u001b[0m\u001b[1;33m\u001b[0m\u001b[1;33m\u001b[0m\u001b[0m\n\u001b[0;32m   1190\u001b[0m         \u001b[0mself\u001b[0m\u001b[1;33m.\u001b[0m\u001b[0m_make_fit_function\u001b[0m\u001b[1;33m(\u001b[0m\u001b[1;33m)\u001b[0m\u001b[1;33m\u001b[0m\u001b[1;33m\u001b[0m\u001b[0m\n\u001b[1;32m-> 1191\u001b[1;33m         \u001b[0moutputs\u001b[0m \u001b[1;33m=\u001b[0m \u001b[0mself\u001b[0m\u001b[1;33m.\u001b[0m\u001b[0m_fit_function\u001b[0m\u001b[1;33m(\u001b[0m\u001b[0mins\u001b[0m\u001b[1;33m)\u001b[0m  \u001b[1;31m# pylint: disable=not-callable\u001b[0m\u001b[1;33m\u001b[0m\u001b[1;33m\u001b[0m\u001b[0m\n\u001b[0m\u001b[0;32m   1192\u001b[0m \u001b[1;33m\u001b[0m\u001b[0m\n\u001b[0;32m   1193\u001b[0m     \u001b[1;32mif\u001b[0m \u001b[0mreset_metrics\u001b[0m\u001b[1;33m:\u001b[0m\u001b[1;33m\u001b[0m\u001b[1;33m\u001b[0m\u001b[0m\n",
            "\u001b[1;32m~\\AppData\\Local\\Continuum\\anaconda3\\lib\\site-packages\\tensorflow\\python\\keras\\backend.py\u001b[0m in \u001b[0;36m__call__\u001b[1;34m(self, inputs)\u001b[0m\n\u001b[0;32m   3074\u001b[0m \u001b[1;33m\u001b[0m\u001b[0m\n\u001b[0;32m   3075\u001b[0m     fetched = self._callable_fn(*array_vals,\n\u001b[1;32m-> 3076\u001b[1;33m                                 run_metadata=self.run_metadata)\n\u001b[0m\u001b[0;32m   3077\u001b[0m     \u001b[0mself\u001b[0m\u001b[1;33m.\u001b[0m\u001b[0m_call_fetch_callbacks\u001b[0m\u001b[1;33m(\u001b[0m\u001b[0mfetched\u001b[0m\u001b[1;33m[\u001b[0m\u001b[1;33m-\u001b[0m\u001b[0mlen\u001b[0m\u001b[1;33m(\u001b[0m\u001b[0mself\u001b[0m\u001b[1;33m.\u001b[0m\u001b[0m_fetches\u001b[0m\u001b[1;33m)\u001b[0m\u001b[1;33m:\u001b[0m\u001b[1;33m]\u001b[0m\u001b[1;33m)\u001b[0m\u001b[1;33m\u001b[0m\u001b[1;33m\u001b[0m\u001b[0m\n\u001b[0;32m   3078\u001b[0m     return nest.pack_sequence_as(self._outputs_structure,\n",
            "\u001b[1;32m~\\AppData\\Local\\Continuum\\anaconda3\\lib\\site-packages\\tensorflow\\python\\client\\session.py\u001b[0m in \u001b[0;36m__call__\u001b[1;34m(self, *args, **kwargs)\u001b[0m\n\u001b[0;32m   1437\u001b[0m           ret = tf_session.TF_SessionRunCallable(\n\u001b[0;32m   1438\u001b[0m               \u001b[0mself\u001b[0m\u001b[1;33m.\u001b[0m\u001b[0m_session\u001b[0m\u001b[1;33m.\u001b[0m\u001b[0m_session\u001b[0m\u001b[1;33m,\u001b[0m \u001b[0mself\u001b[0m\u001b[1;33m.\u001b[0m\u001b[0m_handle\u001b[0m\u001b[1;33m,\u001b[0m \u001b[0margs\u001b[0m\u001b[1;33m,\u001b[0m \u001b[0mstatus\u001b[0m\u001b[1;33m,\u001b[0m\u001b[1;33m\u001b[0m\u001b[1;33m\u001b[0m\u001b[0m\n\u001b[1;32m-> 1439\u001b[1;33m               run_metadata_ptr)\n\u001b[0m\u001b[0;32m   1440\u001b[0m         \u001b[1;32mif\u001b[0m \u001b[0mrun_metadata\u001b[0m\u001b[1;33m:\u001b[0m\u001b[1;33m\u001b[0m\u001b[1;33m\u001b[0m\u001b[0m\n\u001b[0;32m   1441\u001b[0m           \u001b[0mproto_data\u001b[0m \u001b[1;33m=\u001b[0m \u001b[0mtf_session\u001b[0m\u001b[1;33m.\u001b[0m\u001b[0mTF_GetBuffer\u001b[0m\u001b[1;33m(\u001b[0m\u001b[0mrun_metadata_ptr\u001b[0m\u001b[1;33m)\u001b[0m\u001b[1;33m\u001b[0m\u001b[1;33m\u001b[0m\u001b[0m\n",
            "\u001b[1;31mKeyboardInterrupt\u001b[0m: "
          ]
        }
      ]
    },
    {
      "cell_type": "markdown",
      "metadata": {
        "id": "O_l6IYNR1bdt"
      },
      "source": [
        "## 6. Evaluation"
      ]
    },
    {
      "cell_type": "code",
      "metadata": {
        "id": "ONTmpKWA1bdt",
        "outputId": "99065bff-18b6-4514-8d17-c52ca6dc5aad"
      },
      "source": [
        "dev_excat_lemma_ = np.array(dev_excat_lemma)\n",
        "dev_pos_tag_ = np.array(dev_pos_tag)\n",
        "dev_term_ = np.array(dev_term)\n",
        "\n",
        "for i in [dev_question_sequence,dev_context_sequence,dev_excat_lemma_,dev_pos_tag_,dev_term_]:\n",
        "    print(type(i),i.shape)"
      ],
      "execution_count": null,
      "outputs": [
        {
          "output_type": "stream",
          "text": [
            "<class 'numpy.ndarray'> (10000, 40)\n",
            "<class 'numpy.ndarray'> (10000, 680)\n",
            "<class 'numpy.ndarray'> (10000, 680, 2)\n",
            "<class 'numpy.ndarray'> (10000, 680, 37)\n",
            "<class 'numpy.ndarray'> (10000, 680, 1)\n"
          ],
          "name": "stdout"
        }
      ]
    },
    {
      "cell_type": "markdown",
      "metadata": {
        "id": "S0NG8Q9u1bdt"
      },
      "source": [
        "**Micro F1-Score and Accuracy**"
      ]
    },
    {
      "cell_type": "code",
      "metadata": {
        "id": "KTR7wynN1bdt"
      },
      "source": [
        "y_ = model.predict([dev_question_sequence,dev_context_sequence,dev_excat_lemma_,dev_pos_tag_,dev_term_])"
      ],
      "execution_count": null,
      "outputs": []
    },
    {
      "cell_type": "code",
      "metadata": {
        "id": "yjYhDhi91bdt",
        "outputId": "61454fde-beb3-4c5d-ca64-63fe18ac4674"
      },
      "source": [
        "y_.shape"
      ],
      "execution_count": null,
      "outputs": [
        {
          "output_type": "execute_result",
          "data": {
            "text/plain": [
              "(10000, 1360)"
            ]
          },
          "metadata": {
            "tags": []
          },
          "execution_count": 250
        }
      ]
    },
    {
      "cell_type": "code",
      "metadata": {
        "id": "d_7ztI9-1bdu"
      },
      "source": [
        "start_pred = []\n",
        "end_pred = []\n",
        "for i in range(10000):\n",
        "    start_pred.append(np.argmax(y_[i,:CON_LEN]))\n",
        "    end_pred.append(np.argmax(y_[i,CON_LEN:]))\n",
        "    \n",
        "start = []\n",
        "end = []\n",
        "for i in range(10000):\n",
        "    start.append(np.argmax(y_dev[i,:CON_LEN]))\n",
        "    end.append(np.argmax(y_dev[i,CON_LEN:]))"
      ],
      "execution_count": null,
      "outputs": []
    },
    {
      "cell_type": "markdown",
      "metadata": {
        "id": "THrPcvrJ1bdu"
      },
      "source": [
        "**Lets check how much it matches with original**"
      ]
    },
    {
      "cell_type": "code",
      "metadata": {
        "id": "RdKZF6lb1bdu",
        "outputId": "bf5435cd-e4b7-4d7d-cea3-25c195f44af0"
      },
      "source": [
        "print(start_pred[100:120])\n",
        "print(end_pred[100:120])"
      ],
      "execution_count": null,
      "outputs": [
        {
          "output_type": "stream",
          "text": [
            "[11, 46, 20, 69, 0, 6, 7, 38, 33, 19, 0, 1, 123, 123, 67, 23, 31, 59, 95, 18]\n",
            "[13, 46, 20, 73, 1, 6, 7, 39, 33, 21, 0, 1, 124, 124, 67, 25, 31, 59, 95, 19]\n"
          ],
          "name": "stdout"
        }
      ]
    },
    {
      "cell_type": "code",
      "metadata": {
        "id": "7CwvGrVM1bdu",
        "outputId": "333cdf2f-aa9f-4e11-fe67-b421f9d29ed0"
      },
      "source": [
        "print(start[100:120])\n",
        "print(end[100:120])"
      ],
      "execution_count": null,
      "outputs": [
        {
          "output_type": "stream",
          "text": [
            "[11, 46, 20, 69, 0, 34, 4, 33, 51, 19, 0, 196, 145, 124, 67, 27, 34, 51, 95, 4]\n",
            "[11, 46, 21, 73, 1, 34, 4, 34, 52, 22, 0, 196, 146, 124, 68, 28, 34, 56, 95, 5]\n"
          ],
          "name": "stdout"
        }
      ]
    },
    {
      "cell_type": "code",
      "metadata": {
        "id": "mTJ2lUx91bdu"
      },
      "source": [
        "y_predicted = np.zeros((10000,680))\n",
        "for i in range(10000):\n",
        "    y_predicted[i,start_pred[i]:end_pred[i]+1] = 1\n",
        "    \n",
        "y_test = np.zeros((10000,680))\n",
        "for i in range(10000):\n",
        "    y_test[i,start[i]:end[i]+1] = 1"
      ],
      "execution_count": null,
      "outputs": []
    },
    {
      "cell_type": "code",
      "metadata": {
        "id": "4t44bKn-1bdu",
        "outputId": "10bcecae-f23b-4490-f1e3-2694f89a953c"
      },
      "source": [
        "warnings.filterwarnings(\"ignore\")\n",
        "from sklearn.metrics import f1_score,accuracy_score,precision_score\n",
        "print(\"Micro f1-score on test data is \",f1_score(y_test,y_predicted,average=\"micro\"))\n",
        "print(\"Macro f1-score on test data is \",f1_score(y_test,y_predicted,average=\"macro\"))\n",
        "print(\"Accuracy on test data is \",accuracy_score(y_test,y_predicted))"
      ],
      "execution_count": null,
      "outputs": [
        {
          "output_type": "stream",
          "text": [
            "Micro f1-score on test data is  0.4033550243615317\n",
            "Macro f1-score on test data is  0.30633713774622445\n",
            "Accuracy on test data is  0.2868\n"
          ],
          "name": "stdout"
        }
      ]
    }
  ]
}